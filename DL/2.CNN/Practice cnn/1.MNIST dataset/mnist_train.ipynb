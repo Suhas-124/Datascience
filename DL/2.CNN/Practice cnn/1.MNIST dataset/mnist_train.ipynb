{
 "cells": [
  {
   "cell_type": "code",
   "execution_count": 19,
   "metadata": {},
   "outputs": [],
   "source": [
    "import tensorflow as tf\n",
    "from tensorflow.keras.models import Sequential\n",
    "from tensorflow.keras.layers import Conv2D,BatchNormalization,MaxPool2D,Dropout,Flatten,Dense\n",
    "from tensorflow.keras.regularizers import l2\n",
    "import matplotlib.pyplot as plt\n",
    "import numpy as np\n",
    "from tensorflow.keras.datasets import mnist\n",
    "from tensorflow.keras.callbacks import EarlyStopping"
   ]
  },
  {
   "cell_type": "code",
   "execution_count": 20,
   "metadata": {},
   "outputs": [],
   "source": [
    "(X_train,y_train),(X_test,y_test) = mnist.load_data()"
   ]
  },
  {
   "cell_type": "code",
   "execution_count": 21,
   "metadata": {},
   "outputs": [
    {
     "data": {
      "text/plain": [
       "(60000, 28, 28)"
      ]
     },
     "execution_count": 21,
     "metadata": {},
     "output_type": "execute_result"
    }
   ],
   "source": [
    "X_train.shape"
   ]
  },
  {
   "cell_type": "code",
   "execution_count": 22,
   "metadata": {},
   "outputs": [
    {
     "data": {
      "text/plain": [
       "array([[  0,   0,   0,   0,   0,   0,   0,   0,   0,   0,   0,   0,   0,\n",
       "          0,   0,   0,   0,   0,   0,   0,   0,   0,   0,   0,   0,   0,\n",
       "          0,   0],\n",
       "       [  0,   0,   0,   0,   0,   0,   0,   0,   0,   0,   0,   0,   0,\n",
       "          0,   0,   0,   0,   0,   0,   0,   0,   0,   0,   0,   0,   0,\n",
       "          0,   0],\n",
       "       [  0,   0,   0,   0,   0,   0,   0,   0,   0,   0,   0,   0,   0,\n",
       "          0,   0,   0,   0,   0,   0,   0,   0,   0,   0,   0,   0,   0,\n",
       "          0,   0],\n",
       "       [  0,   0,   0,   0,   0,   0,   0,   0,   0,   0,   0,   0,   0,\n",
       "          0,   0,   0,   0,   0,   0,   0,   0,   0,   0,   0,   0,   0,\n",
       "          0,   0],\n",
       "       [  0,   0,   0,   0,   0,   0,   0,   0,   0,   0,   0,   0,   0,\n",
       "          0,   0,   0,   0,   0,   0,   0,   0,   0,   0,   0,   0,   0,\n",
       "          0,   0],\n",
       "       [  0,   0,   0,   0,   0,   0,   0,   0,   0,   0,   0,   0,   3,\n",
       "         18,  18,  18, 126, 136, 175,  26, 166, 255, 247, 127,   0,   0,\n",
       "          0,   0],\n",
       "       [  0,   0,   0,   0,   0,   0,   0,   0,  30,  36,  94, 154, 170,\n",
       "        253, 253, 253, 253, 253, 225, 172, 253, 242, 195,  64,   0,   0,\n",
       "          0,   0],\n",
       "       [  0,   0,   0,   0,   0,   0,   0,  49, 238, 253, 253, 253, 253,\n",
       "        253, 253, 253, 253, 251,  93,  82,  82,  56,  39,   0,   0,   0,\n",
       "          0,   0],\n",
       "       [  0,   0,   0,   0,   0,   0,   0,  18, 219, 253, 253, 253, 253,\n",
       "        253, 198, 182, 247, 241,   0,   0,   0,   0,   0,   0,   0,   0,\n",
       "          0,   0],\n",
       "       [  0,   0,   0,   0,   0,   0,   0,   0,  80, 156, 107, 253, 253,\n",
       "        205,  11,   0,  43, 154,   0,   0,   0,   0,   0,   0,   0,   0,\n",
       "          0,   0],\n",
       "       [  0,   0,   0,   0,   0,   0,   0,   0,   0,  14,   1, 154, 253,\n",
       "         90,   0,   0,   0,   0,   0,   0,   0,   0,   0,   0,   0,   0,\n",
       "          0,   0],\n",
       "       [  0,   0,   0,   0,   0,   0,   0,   0,   0,   0,   0, 139, 253,\n",
       "        190,   2,   0,   0,   0,   0,   0,   0,   0,   0,   0,   0,   0,\n",
       "          0,   0],\n",
       "       [  0,   0,   0,   0,   0,   0,   0,   0,   0,   0,   0,  11, 190,\n",
       "        253,  70,   0,   0,   0,   0,   0,   0,   0,   0,   0,   0,   0,\n",
       "          0,   0],\n",
       "       [  0,   0,   0,   0,   0,   0,   0,   0,   0,   0,   0,   0,  35,\n",
       "        241, 225, 160, 108,   1,   0,   0,   0,   0,   0,   0,   0,   0,\n",
       "          0,   0],\n",
       "       [  0,   0,   0,   0,   0,   0,   0,   0,   0,   0,   0,   0,   0,\n",
       "         81, 240, 253, 253, 119,  25,   0,   0,   0,   0,   0,   0,   0,\n",
       "          0,   0],\n",
       "       [  0,   0,   0,   0,   0,   0,   0,   0,   0,   0,   0,   0,   0,\n",
       "          0,  45, 186, 253, 253, 150,  27,   0,   0,   0,   0,   0,   0,\n",
       "          0,   0],\n",
       "       [  0,   0,   0,   0,   0,   0,   0,   0,   0,   0,   0,   0,   0,\n",
       "          0,   0,  16,  93, 252, 253, 187,   0,   0,   0,   0,   0,   0,\n",
       "          0,   0],\n",
       "       [  0,   0,   0,   0,   0,   0,   0,   0,   0,   0,   0,   0,   0,\n",
       "          0,   0,   0,   0, 249, 253, 249,  64,   0,   0,   0,   0,   0,\n",
       "          0,   0],\n",
       "       [  0,   0,   0,   0,   0,   0,   0,   0,   0,   0,   0,   0,   0,\n",
       "          0,  46, 130, 183, 253, 253, 207,   2,   0,   0,   0,   0,   0,\n",
       "          0,   0],\n",
       "       [  0,   0,   0,   0,   0,   0,   0,   0,   0,   0,   0,   0,  39,\n",
       "        148, 229, 253, 253, 253, 250, 182,   0,   0,   0,   0,   0,   0,\n",
       "          0,   0],\n",
       "       [  0,   0,   0,   0,   0,   0,   0,   0,   0,   0,  24, 114, 221,\n",
       "        253, 253, 253, 253, 201,  78,   0,   0,   0,   0,   0,   0,   0,\n",
       "          0,   0],\n",
       "       [  0,   0,   0,   0,   0,   0,   0,   0,  23,  66, 213, 253, 253,\n",
       "        253, 253, 198,  81,   2,   0,   0,   0,   0,   0,   0,   0,   0,\n",
       "          0,   0],\n",
       "       [  0,   0,   0,   0,   0,   0,  18, 171, 219, 253, 253, 253, 253,\n",
       "        195,  80,   9,   0,   0,   0,   0,   0,   0,   0,   0,   0,   0,\n",
       "          0,   0],\n",
       "       [  0,   0,   0,   0,  55, 172, 226, 253, 253, 253, 253, 244, 133,\n",
       "         11,   0,   0,   0,   0,   0,   0,   0,   0,   0,   0,   0,   0,\n",
       "          0,   0],\n",
       "       [  0,   0,   0,   0, 136, 253, 253, 253, 212, 135, 132,  16,   0,\n",
       "          0,   0,   0,   0,   0,   0,   0,   0,   0,   0,   0,   0,   0,\n",
       "          0,   0],\n",
       "       [  0,   0,   0,   0,   0,   0,   0,   0,   0,   0,   0,   0,   0,\n",
       "          0,   0,   0,   0,   0,   0,   0,   0,   0,   0,   0,   0,   0,\n",
       "          0,   0],\n",
       "       [  0,   0,   0,   0,   0,   0,   0,   0,   0,   0,   0,   0,   0,\n",
       "          0,   0,   0,   0,   0,   0,   0,   0,   0,   0,   0,   0,   0,\n",
       "          0,   0],\n",
       "       [  0,   0,   0,   0,   0,   0,   0,   0,   0,   0,   0,   0,   0,\n",
       "          0,   0,   0,   0,   0,   0,   0,   0,   0,   0,   0,   0,   0,\n",
       "          0,   0]], dtype=uint8)"
      ]
     },
     "execution_count": 22,
     "metadata": {},
     "output_type": "execute_result"
    }
   ],
   "source": [
    "X_train[0]"
   ]
  },
  {
   "cell_type": "code",
   "execution_count": 23,
   "metadata": {},
   "outputs": [],
   "source": [
    "X_train,X_test = X_train/255.0 , X_test/255.0"
   ]
  },
  {
   "cell_type": "code",
   "execution_count": 24,
   "metadata": {},
   "outputs": [],
   "source": [
    "X_train = X_train.reshape(-1,28,28,1)\n",
    "X_test = X_test.reshape(-1,28,28,1)"
   ]
  },
  {
   "cell_type": "code",
   "execution_count": 25,
   "metadata": {},
   "outputs": [],
   "source": [
    "model = Sequential([\n",
    "    Conv2D(32,(3,3),activation='relu',kernel_regularizer=l2(0.001),input_shape=(28,28,1)),\n",
    "    BatchNormalization(),\n",
    "    MaxPool2D((2,2)),\n",
    "    Dropout(0.25),\n",
    "\n",
    "    Conv2D(64,(3,3),activation='relu',kernel_regularizer=l2(0.001)),\n",
    "    BatchNormalization(),\n",
    "    MaxPool2D((2,2)),\n",
    "    Dropout(0.25),\n",
    "\n",
    "    Conv2D(128,(3,3),activation='relu',kernel_regularizer=l2(0.001)),\n",
    "    BatchNormalization(),\n",
    "    Dropout(0.4),\n",
    "\n",
    "    Flatten(),\n",
    "    Dense(128,activation='relu',kernel_regularizer=l2(0.001)),\n",
    "    BatchNormalization(),\n",
    "    Dropout(0.4),\n",
    "\n",
    "    Dense(10,activation='softmax')\n",
    "\n",
    "    \n",
    "])"
   ]
  },
  {
   "cell_type": "code",
   "execution_count": 26,
   "metadata": {},
   "outputs": [
    {
     "name": "stdout",
     "output_type": "stream",
     "text": [
      "Model: \"sequential_1\"\n",
      "_________________________________________________________________\n",
      "Layer (type)                 Output Shape              Param #   \n",
      "=================================================================\n",
      "conv2d_3 (Conv2D)            (None, 26, 26, 32)        320       \n",
      "_________________________________________________________________\n",
      "batch_normalization_4 (Batch (None, 26, 26, 32)        128       \n",
      "_________________________________________________________________\n",
      "max_pooling2d_2 (MaxPooling2 (None, 13, 13, 32)        0         \n",
      "_________________________________________________________________\n",
      "dropout_4 (Dropout)          (None, 13, 13, 32)        0         \n",
      "_________________________________________________________________\n",
      "conv2d_4 (Conv2D)            (None, 11, 11, 64)        18496     \n",
      "_________________________________________________________________\n",
      "batch_normalization_5 (Batch (None, 11, 11, 64)        256       \n",
      "_________________________________________________________________\n",
      "max_pooling2d_3 (MaxPooling2 (None, 5, 5, 64)          0         \n",
      "_________________________________________________________________\n",
      "dropout_5 (Dropout)          (None, 5, 5, 64)          0         \n",
      "_________________________________________________________________\n",
      "conv2d_5 (Conv2D)            (None, 3, 3, 128)         73856     \n",
      "_________________________________________________________________\n",
      "batch_normalization_6 (Batch (None, 3, 3, 128)         512       \n",
      "_________________________________________________________________\n",
      "dropout_6 (Dropout)          (None, 3, 3, 128)         0         \n",
      "_________________________________________________________________\n",
      "flatten_1 (Flatten)          (None, 1152)              0         \n",
      "_________________________________________________________________\n",
      "dense_2 (Dense)              (None, 128)               147584    \n",
      "_________________________________________________________________\n",
      "batch_normalization_7 (Batch (None, 128)               512       \n",
      "_________________________________________________________________\n",
      "dropout_7 (Dropout)          (None, 128)               0         \n",
      "_________________________________________________________________\n",
      "dense_3 (Dense)              (None, 10)                1290      \n",
      "=================================================================\n",
      "Total params: 242,954\n",
      "Trainable params: 242,250\n",
      "Non-trainable params: 704\n",
      "_________________________________________________________________\n"
     ]
    }
   ],
   "source": [
    "model.summary()"
   ]
  },
  {
   "cell_type": "code",
   "execution_count": 27,
   "metadata": {},
   "outputs": [],
   "source": [
    "model.compile(optimizer='adam',loss='sparse_categorical_crossentropy',metrics=['accuracy'])"
   ]
  },
  {
   "cell_type": "code",
   "execution_count": 28,
   "metadata": {},
   "outputs": [],
   "source": [
    "early_stopping = EarlyStopping(monitor='val_loss',patience=5,restore_best_weights=True)"
   ]
  },
  {
   "cell_type": "code",
   "execution_count": 29,
   "metadata": {},
   "outputs": [
    {
     "name": "stderr",
     "output_type": "stream",
     "text": [
      "/home/suhas/master_dataklout/venv/lib/python3.6/importlib/_bootstrap.py:219: RuntimeWarning: numpy.ufunc size changed, may indicate binary incompatibility. Expected 192 from C header, got 216 from PyObject\n",
      "  return f(*args, **kwds)\n"
     ]
    },
    {
     "name": "stdout",
     "output_type": "stream",
     "text": [
      "Epoch 1/50\n",
      "938/938 [==============================] - 44s 46ms/step - loss: 0.5424 - accuracy: 0.9287 - val_loss: 0.2974 - val_accuracy: 0.9814\n",
      "Epoch 2/50\n",
      "938/938 [==============================] - 46s 48ms/step - loss: 0.2792 - accuracy: 0.9735 - val_loss: 0.2094 - val_accuracy: 0.9822\n",
      "Epoch 3/50\n",
      "938/938 [==============================] - 39s 41ms/step - loss: 0.2211 - accuracy: 0.9752 - val_loss: 0.1807 - val_accuracy: 0.9843\n",
      "Epoch 4/50\n",
      "938/938 [==============================] - 39s 41ms/step - loss: 0.2000 - accuracy: 0.9780 - val_loss: 0.1578 - val_accuracy: 0.9906\n",
      "Epoch 5/50\n",
      "938/938 [==============================] - 34s 36ms/step - loss: 0.1961 - accuracy: 0.9783 - val_loss: 0.1721 - val_accuracy: 0.9876\n",
      "Epoch 6/50\n",
      "938/938 [==============================] - 34s 36ms/step - loss: 0.1960 - accuracy: 0.9792 - val_loss: 0.1684 - val_accuracy: 0.9880\n",
      "Epoch 7/50\n",
      "938/938 [==============================] - 34s 36ms/step - loss: 0.1998 - accuracy: 0.9790 - val_loss: 0.1666 - val_accuracy: 0.9879\n",
      "Epoch 8/50\n",
      "938/938 [==============================] - 34s 36ms/step - loss: 0.1914 - accuracy: 0.9806 - val_loss: 0.1612 - val_accuracy: 0.9902\n",
      "Epoch 9/50\n",
      "938/938 [==============================] - 34s 36ms/step - loss: 0.1971 - accuracy: 0.9793 - val_loss: 0.1593 - val_accuracy: 0.9895\n"
     ]
    }
   ],
   "source": [
    "history = model.fit(X_train,y_train,epochs=50,batch_size=64,validation_data=(X_test,y_test),callbacks=[early_stopping])"
   ]
  },
  {
   "cell_type": "code",
   "execution_count": 30,
   "metadata": {},
   "outputs": [
    {
     "name": "stdout",
     "output_type": "stream",
     "text": [
      "313/313 - 2s - loss: 0.1578 - accuracy: 0.9906\n",
      "Test Accuracy:0.9905999898910522\n"
     ]
    }
   ],
   "source": [
    "test_loss,test_acc = model.evaluate(X_test,y_test,verbose=2)\n",
    "print(f\"Test Accuracy:{test_acc}\")"
   ]
  },
  {
   "cell_type": "code",
   "execution_count": 31,
   "metadata": {},
   "outputs": [
    {
     "data": {
      "image/png": "[encoded data removed]",
      "text/plain": [
       "<Figure size 432x288 with 1 Axes>"
      ]
     },
     "metadata": {
      "needs_background": "light"
     },
     "output_type": "display_data"
    }
   ],
   "source": [
    "plt.plot(history.history['loss'], label='Training Loss')\n",
    "plt.plot(history.history['val_loss'], label='Validation Loss')\n",
    "plt.xlabel('Epochs')\n",
    "plt.ylabel('Loss')\n",
    "plt.legend()\n",
    "plt.title('Loss Curve')\n",
    "plt.show()"
   ]
  },
  {
   "cell_type": "code",
   "execution_count": 32,
   "metadata": {},
   "outputs": [
    {
     "data": {
      "image/png": "[encoded data removed]",
      "text/plain": [
       "<Figure size 432x288 with 1 Axes>"
      ]
     },
     "metadata": {
      "needs_background": "light"
     },
     "output_type": "display_data"
    }
   ],
   "source": [
    "plt.plot(history.history['accuracy'], label='Training Accuracy')\n",
    "plt.plot(history.history['val_accuracy'], label='Validation Accuracy')\n",
    "plt.xlabel('Epochs')\n",
    "plt.ylabel('Accuracy')\n",
    "plt.legend()\n",
    "plt.title('Accuracy Curve')\n",
    "plt.show()\n"
   ]
  },
  {
   "cell_type": "markdown",
   "metadata": {},
   "source": [
    "## Prediction"
   ]
  },
  {
   "cell_type": "code",
   "execution_count": 37,
   "metadata": {},
   "outputs": [
    {
     "name": "stdout",
     "output_type": "stream",
     "text": [
      "7\n"
     ]
    }
   ],
   "source": [
    "\n",
    "single_img = X_test[0].reshape(28, 28, 1)  # (28, 28, 1)\n",
    "single_img = np.expand_dims(single_img, axis=0)  # (1, 28, 28, 1)\n",
    "\n",
    "single_predic = model.predict(single_img)\n",
    "predicted_class = np.argmax(single_predic)\n",
    "\n",
    "print(predicted_class)\n"
   ]
  },
  {
   "cell_type": "code",
   "execution_count": 35,
   "metadata": {},
   "outputs": [
    {
     "data": {
      "text/plain": [
       "<matplotlib.image.AxesImage at 0x7f48ca408b70>"
      ]
     },
     "execution_count": 35,
     "metadata": {},
     "output_type": "execute_result"
    },
    {
     "data": {
      "image/png": "[encoded data removed]",
      "text/plain": [
       "<Figure size 432x288 with 1 Axes>"
      ]
     },
     "metadata": {
      "needs_background": "light"
     },
     "output_type": "display_data"
    }
   ],
   "source": [
    "plt.imshow(X_test[0],cmap='gray')"
   ]
  },
  {
   "cell_type": "markdown",
   "metadata": {},
   "source": [
    "### **Why Do We Reshape to (28, 28, 1) for CNN?**  \n",
    "CNNs (Convolutional Neural Networks) expect input data in a specific shape:  \n",
    "**(height, width, channels)**  \n",
    "where:  \n",
    "- **Height** = `28` (number of rows in the image)  \n",
    "- **Width** = `28` (number of columns in the image)  \n",
    "- **Channels** = `1` (since MNIST is grayscale, only 1 color channel)  \n",
    "\n",
    "\n",
    "\n",
    "### **1️⃣ What Was the Original Shape?**  \n",
    "Before reshaping, `X_train` and `X_test` are usually stored in **2D format** (flattened).  \n",
    "- Example: `(60000, 784)` → This means **60,000 images**, each having **784 pixels** (flattened).  \n",
    "- But CNNs **expect 3D images** (height × width × channels), not a single long vector.  \n",
    "\n",
    "\n",
    "\n",
    "### **2️⃣ Why Do We Reshape?**\n",
    "Since each MNIST image is **28×28 pixels**, we **convert** the flattened 784-pixel format back to its original **(28, 28, 1)** shape using:  \n",
    "```python\n",
    "X_train = X_train.reshape(-1, 28, 28, 1)\n",
    "X_test = X_test.reshape(-1, 28, 28, 1)\n",
    "```\n",
    "✅ **`-1` means \"let NumPy figure out the batch size.\"**  \n",
    "✅ **`(28, 28, 1)` restores the original image dimensions.**  \n",
    "\n",
    "\n",
    "\n",
    "### **3️⃣ What Happens If We Don’t Reshape?**  \n",
    "If we don’t reshape, the CNN **won’t recognize the image structure** because it expects input in **(height, width, channels)** format. Instead, it will treat the input as a **1D vector**, losing spatial information, which is crucial for CNNs.  \n",
    "\n",
    "\n",
    "\n",
    "### **4️⃣ Why `1` in (28, 28, 1)?**\n",
    "- For **grayscale images (like MNIST)**, we have only **1 color channel** (`1`).\n",
    "- If it were **RGB images** (like CIFAR-10), we would have `3` channels (`(32, 32, 3) for CIFAR-10`).\n",
    "\n",
    "\n",
    "\n",
    "### **🔹 Summary**  \n",
    "✔ **Before Reshape:** `(60000, 784)` → **Flattened pixels (not suitable for CNNs)**  \n",
    "✔ **After Reshape:** `(60000, 28, 28, 1)` → **Correct 3D shape for CNNs**  \n",
    "✔ **Why?** CNNs need height, width, and channels to process spatial patterns.  \n",
    "\n",
    "---"
   ]
  },
  {
   "cell_type": "markdown",
   "metadata": {},
   "source": [
    "### **Why Use (2,2) Max Pooling?**  \n",
    "\n",
    "In CNNs, **MaxPooling2D** is used to **reduce the spatial dimensions** of the feature maps while keeping the most important features.  \n",
    "\n",
    "Your code:  \n",
    "```python\n",
    "layers.MaxPooling2D((2, 2))\n",
    "```\n",
    "- This **(2,2) pooling** means that we take a **2×2** window and pick the **maximum** value from that region.  \n",
    "- This effectively **reduces the image size by half** (downsampling), while keeping the most important features.\n",
    "\n",
    "### **Why Choose (2,2) Instead of Other Sizes?**  \n",
    "\n",
    "| Pool Size | Effect |\n",
    "|-----------|--------|\n",
    "| **(1,1)** | No pooling (does nothing). |\n",
    "| **(2,2) ✅** | Standard choice. Reduces size **by half**, keeps important features. |\n",
    "| **(3,3)** | More aggressive pooling (can lose too much information). |\n",
    "| **(4,4)** | Too much downsampling, may lose fine details. |\n",
    "\n",
    "- **(2,2) is the most common choice** because:  \n",
    "  1️⃣ **Reduces computation** while preserving important features.  \n",
    "  2️⃣ **Avoids losing too much information** (larger pools like (3,3) can be too aggressive).  \n",
    "  3️⃣ **Prepares data for deeper layers efficiently** (smaller input = faster training).  \n",
    "\n",
    "\n",
    "\n",
    "### **What Happens During (2,2) Max Pooling?**\n",
    "Consider a **4×4 feature map**:\n",
    "\n",
    "```\n",
    "[ 1, 3, 2, 4 ]\n",
    "[ 5, 6, 1, 2 ]\n",
    "[ 2, 8, 3, 1 ]\n",
    "[ 4, 7, 6, 5 ]\n",
    "```\n",
    "\n",
    "- A **(2,2) Max Pooling** will take the **maximum value** from each **2×2** block:\n",
    "\n",
    "```\n",
    "[ 6, 4 ]\n",
    "[ 8, 6 ]\n",
    "```\n",
    "\n",
    "Now, the output is **2×2 instead of 4×4**, reducing the size while keeping the strongest features.\n",
    "\n",
    "\n",
    "\n",
    "### **Conclusion**  \n",
    "✅ **(2,2) pooling is the best balance** between **reducing computation** and **keeping important details**.  \n",
    "If we used **(3,3) or (4,4)**, too much information would be lost.  \n",
    "\n",
    "---"
   ]
  },
  {
   "cell_type": "markdown",
   "metadata": {},
   "source": [
    "### **Why No `input_shape` in the Second `Conv2D` Layer?**  \n",
    "\n",
    "When defining the first convolutional layer in a **Keras Sequential model**, you must specify the **input shape**:\n",
    "```python\n",
    "layers.Conv2D(32, (3, 3), activation='relu', kernel_regularizer=regularizers.l2(0.001), input_shape=(28, 28, 1))\n",
    "```\n",
    "This tells the model that the input images are **28×28 pixels** with **1 channel (grayscale)**.\n",
    "\n",
    "\n",
    "\n",
    "### **Why Don't We Need `input_shape` in the Second `Conv2D` Layer?**  \n",
    "\n",
    "After the **first Conv2D layer**, the output shape is automatically computed and passed to the next layer. You don’t need to define it again.\n",
    "\n",
    "#### **What Happens Internally?**\n",
    "- The first convolution layer takes an **input image of (28,28,1)**.\n",
    "- It applies **32 filters of size (3,3)**, producing an output of **(26,26,32)** (because a **3×3 filter reduces dimensions** by 1 on each side if `padding='valid'`).\n",
    "- The **MaxPooling (2,2)** reduces this further to **(13,13,32)**.\n",
    "- Now, the **second Conv2D** layer takes this **(13,13,32) input automatically**.\n",
    "\n",
    "\n",
    "\n",
    "### **Key Reason**\n",
    "✅ The second convolutional layer **does not need `input_shape` because it gets the output of the first layer automatically**.  \n",
    "\n",
    "If we explicitly added `input_shape=(13,13,32)` to the second layer, it would be redundant. Keras takes care of this internally.\n",
    "\n",
    "---"
   ]
  },
  {
   "cell_type": "markdown",
   "metadata": {},
   "source": [
    "### **Why No MaxPooling After the Third `Conv2D` Layer?**  \n",
    "\n",
    "The decision to **skip max pooling after the third convolutional layer** is often a design choice based on **preserving spatial information** while still reducing the number of parameters. Let’s break it down.\n",
    "\n",
    "\n",
    "\n",
    "### **Understanding MaxPooling**  \n",
    "MaxPooling **(2,2)** reduces the spatial dimensions of the feature maps.  \n",
    "- The first **MaxPooling (2,2)** reduces the feature map from **(26,26)** → **(13,13)**.  \n",
    "- The second **MaxPooling (2,2)** reduces the feature map from **(13,13)** → **(6,6)**.  \n",
    "\n",
    "If we apply **another MaxPooling (2,2)** after the third convolutional layer, the feature map would shrink **too much** (to **(3,3)** or smaller). This might **lose too much spatial information**, making it harder for the model to learn meaningful patterns.\n",
    "\n",
    "\n",
    "\n",
    "### **Why Skip MaxPooling in the Third Conv Block?**  \n",
    "1. **Preserve More Spatial Features**  \n",
    "   - By the time we reach the third convolutional layer, the feature maps are already small.  \n",
    "   - Skipping max pooling helps retain more spatial information for better feature extraction.\n",
    "\n",
    "2. **Compensating with Dropout**  \n",
    "   - Instead of downsampling with pooling, we apply **Dropout (0.4)** to prevent overfitting.  \n",
    "   - This helps in regularization while still allowing the model to learn complex features.\n",
    "\n",
    "3. **Progressive Downsampling**  \n",
    "   - The earlier **two MaxPooling layers** have already reduced the dimensions significantly.\n",
    "   - Further reducing would **leave very few pixels**, which is not ideal for capturing patterns.\n",
    "\n",
    "\n",
    "\n",
    "### **Alternative Approach**  \n",
    "- If your dataset is **large and complex**, you could add a **third MaxPooling (2,2)** to further reduce dimensionality before flattening.\n",
    "- If you want to **retain more details**, you can **skip pooling** (as done here) and let **Flatten() handle the transition**.\n",
    "\n",
    "\n",
    "\n",
    "### **Final Thought**  \n",
    "✅ **Skipping max pooling after the third Conv2D layer allows the network to retain more spatial information while preventing excessive shrinking of feature maps.** Instead, dropout is used to avoid overfitting.\n",
    "\n",
    "---"
   ]
  },
  {
   "cell_type": "markdown",
   "metadata": {},
   "source": [
    "### **Why Do We Use `Flatten()` in the Fourth Layer?**  \n",
    "\n",
    "The **`Flatten()`** layer is used to **convert the 2D feature maps into a 1D vector** before passing it to the fully connected (dense) layers. Let's break it down:\n",
    "\n",
    "\n",
    "\n",
    "### **1. Understanding Convolutional Layers**  \n",
    "- The `Conv2D` layers extract features from the input image by applying filters.  \n",
    "- `MaxPooling2D` progressively reduces the spatial dimensions (height & width) while keeping important features.  \n",
    "- However, after multiple convolutions and pooling, we still have a **multi-dimensional feature map**.\n",
    "\n",
    "For example, after the last **Conv2D(128, (3,3))** layer, the feature map might be of shape **(X, X, 128)** (depends on the input size and pooling operations).\n",
    "\n",
    "\n",
    "\n",
    "### **2. Why Do We Need `Flatten()`?**  \n",
    "1. **Transition from CNN to Dense Layers**  \n",
    "   - Fully connected (Dense) layers expect a **1D input vector**, but CNN outputs **multi-dimensional feature maps**.  \n",
    "   - `Flatten()` **converts** the final feature maps into a **single vector**, making it compatible with the Dense layers.\n",
    "\n",
    "2. **Extract Meaningful Features for Classification**  \n",
    "   - Convolutional layers act as **feature extractors** by learning spatial patterns.\n",
    "   - Fully connected layers act as **classifiers**, taking the extracted features and making predictions.\n",
    "   - `Flatten()` bridges these two parts by converting spatial features into a form that the Dense layer can process.\n",
    "\n",
    "\n",
    "\n",
    "### **3. What Happens Without `Flatten()`?**  \n",
    "- If you remove `Flatten()`, the Dense layers **won’t receive the correct input shape**, leading to an error.  \n",
    "- CNNs work with **multi-dimensional feature maps**, but Dense layers require **1D input**.  \n",
    "\n",
    "\n",
    "\n",
    "### **Example: Before & After Flattening**\n",
    "Imagine the output of the last `Conv2D` layer is a **(3,3,128) tensor** (height=3, width=3, channels=128).  \n",
    "- Before Flattening: **(3,3,128) → A 3D tensor**  \n",
    "- After Flattening: **(1152,) → A 1D vector of size 1152 (3×3×128)**  \n",
    "\n",
    "Now, this **1D vector** can be used as input to the Dense layers for classification.\n",
    "\n",
    "\n",
    "\n",
    "### **4. What Happens After `Flatten()`?**  \n",
    "After flattening, the next layers are:  \n",
    "```python\n",
    "layers.Dense(128, activation='relu', kernel_regularizer=regularizers.l2(0.001)),\n",
    "layers.BatchNormalization(),\n",
    "layers.Dropout(0.4),\n",
    "```\n",
    "- The **Dense(128)** layer learns complex relationships between features.  \n",
    "- **BatchNormalization** helps stabilize training.  \n",
    "- **Dropout(0.4)** prevents overfitting.\n",
    "\n",
    "\n",
    "\n",
    "### **Conclusion**  \n",
    "✅ `Flatten()` is **necessary** to transition from convolutional feature maps to a fully connected layer. It converts the **multi-dimensional feature map** into a **1D vector**, making it possible to pass information to Dense layers for final classification. 🚀\n",
    "\n",
    "---"
   ]
  },
  {
   "cell_type": "code",
   "execution_count": null,
   "metadata": {},
   "outputs": [],
   "source": []
  }
 ],
 "metadata": {
  "kernelspec": {
   "display_name": "venv",
   "language": "python",
   "name": "python3"
  },
  "language_info": {
   "codemirror_mode": {
    "name": "ipython",
    "version": 3
   },
   "file_extension": ".py",
   "mimetype": "text/x-python",
   "name": "python",
   "nbconvert_exporter": "python",
   "pygments_lexer": "ipython3",
   "version": "3.6.9"
  }
 },
 "nbformat": 4,
 "nbformat_minor": 2
}
