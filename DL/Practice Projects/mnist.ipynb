{
 "cells": [
  {
   "cell_type": "code",
   "execution_count": 29,
   "metadata": {},
   "outputs": [],
   "source": [
    "import tensorflow as tf\n",
    "from tensorflow import keras\n",
    "import numpy as np\n",
    "import matplotlib.pyplot as plt"
   ]
  },
  {
   "cell_type": "code",
   "execution_count": 30,
   "metadata": {},
   "outputs": [],
   "source": [
    "(X_train,y_train),(X_test,y_test) = keras.datasets.mnist.load_data()"
   ]
  },
  {
   "cell_type": "code",
   "execution_count": 31,
   "metadata": {},
   "outputs": [
    {
     "data": {
      "text/plain": [
       "(60000, 28, 28)"
      ]
     },
     "execution_count": 31,
     "metadata": {},
     "output_type": "execute_result"
    }
   ],
   "source": [
    "X_train.shape"
   ]
  },
  {
   "cell_type": "code",
   "execution_count": 32,
   "metadata": {},
   "outputs": [],
   "source": [
    "X_train,X_test = X_train/255.0,X_test/255.0"
   ]
  },
  {
   "cell_type": "code",
   "execution_count": 33,
   "metadata": {},
   "outputs": [],
   "source": [
    "#Define the neural network model\n",
    "from tensorflow.keras import Sequential\n",
    "from tensorflow.keras.layers import Dense,Flatten,Dropout\n",
    "\n",
    "model = Sequential([\n",
    "    Flatten(input_shape=(28,28)),\n",
    "    Dropout(0.5),\n",
    "    Dense(128,activation='relu'),\n",
    "    Dropout(0.5),\n",
    "    Dense(10,activation='softmax')\n",
    "\n",
    "])\n"
   ]
  },
  {
   "cell_type": "code",
   "execution_count": 34,
   "metadata": {},
   "outputs": [
    {
     "name": "stdout",
     "output_type": "stream",
     "text": [
      "Model: \"sequential_3\"\n",
      "_________________________________________________________________\n",
      "Layer (type)                 Output Shape              Param #   \n",
      "=================================================================\n",
      "flatten_3 (Flatten)          (None, 784)               0         \n",
      "_________________________________________________________________\n",
      "dropout_6 (Dropout)          (None, 784)               0         \n",
      "_________________________________________________________________\n",
      "dense_6 (Dense)              (None, 128)               100480    \n",
      "_________________________________________________________________\n",
      "dropout_7 (Dropout)          (None, 128)               0         \n",
      "_________________________________________________________________\n",
      "dense_7 (Dense)              (None, 10)                1290      \n",
      "=================================================================\n",
      "Total params: 101,770\n",
      "Trainable params: 101,770\n",
      "Non-trainable params: 0\n",
      "_________________________________________________________________\n"
     ]
    }
   ],
   "source": [
    "model.summary()"
   ]
  },
  {
   "cell_type": "code",
   "execution_count": 35,
   "metadata": {},
   "outputs": [],
   "source": [
    "#compile the model\n",
    "from tensorflow.keras.optimizers import Adam\n",
    "\n",
    "model.compile(\n",
    "    optimizer=Adam(learning_rate=0.001),\n",
    "    loss = 'sparse_categorical_crossentropy',\n",
    "    metrics = ['accuracy']\n",
    ")"
   ]
  },
  {
   "cell_type": "code",
   "execution_count": 36,
   "metadata": {},
   "outputs": [],
   "source": [
    "from tensorflow.keras.callbacks import EarlyStopping\n",
    "\n",
    "early_stop = EarlyStopping(monitor='val_loss',patience=5,restore_best_weights=True)"
   ]
  },
  {
   "cell_type": "code",
   "execution_count": 37,
   "metadata": {},
   "outputs": [
    {
     "name": "stdout",
     "output_type": "stream",
     "text": [
      "Epoch 1/50\n",
      "1875/1875 [==============================] - 4s 2ms/step - loss: 0.6088 - accuracy: 0.8076 - val_loss: 0.2166 - val_accuracy: 0.9389\n",
      "Epoch 2/50\n",
      "1875/1875 [==============================] - 3s 2ms/step - loss: 0.3849 - accuracy: 0.8804 - val_loss: 0.1652 - val_accuracy: 0.9505\n",
      "Epoch 3/50\n",
      "1875/1875 [==============================] - 3s 2ms/step - loss: 0.3375 - accuracy: 0.8954 - val_loss: 0.1422 - val_accuracy: 0.9581\n",
      "Epoch 4/50\n",
      "1875/1875 [==============================] - 3s 2ms/step - loss: 0.3097 - accuracy: 0.9059 - val_loss: 0.1331 - val_accuracy: 0.9597\n",
      "Epoch 5/50\n",
      "1875/1875 [==============================] - 3s 2ms/step - loss: 0.2980 - accuracy: 0.9082 - val_loss: 0.1208 - val_accuracy: 0.9632\n",
      "Epoch 6/50\n",
      "1875/1875 [==============================] - 5s 2ms/step - loss: 0.2865 - accuracy: 0.9109 - val_loss: 0.1189 - val_accuracy: 0.9632\n",
      "Epoch 7/50\n",
      "1875/1875 [==============================] - 4s 2ms/step - loss: 0.2818 - accuracy: 0.9119 - val_loss: 0.1165 - val_accuracy: 0.9630\n",
      "Epoch 8/50\n",
      "1875/1875 [==============================] - 4s 2ms/step - loss: 0.2753 - accuracy: 0.9146 - val_loss: 0.1163 - val_accuracy: 0.9644\n",
      "Epoch 9/50\n",
      "1875/1875 [==============================] - 4s 2ms/step - loss: 0.2676 - accuracy: 0.9181 - val_loss: 0.1122 - val_accuracy: 0.9646\n",
      "Epoch 10/50\n",
      "1875/1875 [==============================] - 5s 2ms/step - loss: 0.2681 - accuracy: 0.9171 - val_loss: 0.1085 - val_accuracy: 0.9645\n",
      "Epoch 11/50\n",
      "1875/1875 [==============================] - 5s 2ms/step - loss: 0.2652 - accuracy: 0.9170 - val_loss: 0.1076 - val_accuracy: 0.9659\n",
      "Epoch 12/50\n",
      "1875/1875 [==============================] - 5s 2ms/step - loss: 0.2598 - accuracy: 0.9192 - val_loss: 0.1054 - val_accuracy: 0.9665\n",
      "Epoch 13/50\n",
      "1875/1875 [==============================] - 5s 2ms/step - loss: 0.2595 - accuracy: 0.9203 - val_loss: 0.1068 - val_accuracy: 0.9672\n",
      "Epoch 14/50\n",
      "1875/1875 [==============================] - 6s 3ms/step - loss: 0.2534 - accuracy: 0.9209 - val_loss: 0.1058 - val_accuracy: 0.9663\n",
      "Epoch 15/50\n",
      "1875/1875 [==============================] - 5s 3ms/step - loss: 0.2545 - accuracy: 0.9211 - val_loss: 0.1032 - val_accuracy: 0.9661\n",
      "Epoch 16/50\n",
      "1875/1875 [==============================] - 4s 2ms/step - loss: 0.2530 - accuracy: 0.9210 - val_loss: 0.1016 - val_accuracy: 0.9693\n",
      "Epoch 17/50\n",
      "1875/1875 [==============================] - 5s 3ms/step - loss: 0.2485 - accuracy: 0.9228 - val_loss: 0.1005 - val_accuracy: 0.9697\n",
      "Epoch 18/50\n",
      "1875/1875 [==============================] - 4s 2ms/step - loss: 0.2464 - accuracy: 0.9232 - val_loss: 0.0992 - val_accuracy: 0.9711\n",
      "Epoch 19/50\n",
      "1875/1875 [==============================] - 5s 3ms/step - loss: 0.2445 - accuracy: 0.9240 - val_loss: 0.0981 - val_accuracy: 0.9696\n",
      "Epoch 20/50\n",
      "1875/1875 [==============================] - 4s 2ms/step - loss: 0.2437 - accuracy: 0.9244 - val_loss: 0.0942 - val_accuracy: 0.9720\n",
      "Epoch 21/50\n",
      "1875/1875 [==============================] - 4s 2ms/step - loss: 0.2405 - accuracy: 0.9265 - val_loss: 0.0996 - val_accuracy: 0.9694\n",
      "Epoch 22/50\n",
      "1875/1875 [==============================] - 4s 2ms/step - loss: 0.2419 - accuracy: 0.9252 - val_loss: 0.0987 - val_accuracy: 0.9690\n",
      "Epoch 23/50\n",
      "1875/1875 [==============================] - 4s 2ms/step - loss: 0.2352 - accuracy: 0.9280 - val_loss: 0.0976 - val_accuracy: 0.9721\n",
      "Epoch 24/50\n",
      "1875/1875 [==============================] - 4s 2ms/step - loss: 0.2377 - accuracy: 0.9263 - val_loss: 0.0978 - val_accuracy: 0.9712\n",
      "Epoch 25/50\n",
      "1875/1875 [==============================] - 4s 2ms/step - loss: 0.2394 - accuracy: 0.9248 - val_loss: 0.0978 - val_accuracy: 0.9725\n"
     ]
    }
   ],
   "source": [
    "history = model.fit(\n",
    "    X_train,y_train,\n",
    "    epochs= 50,\n",
    "    validation_data = (X_test,y_test),\n",
    "    callbacks = [early_stop]\n",
    ")"
   ]
  },
  {
   "cell_type": "code",
   "execution_count": 38,
   "metadata": {},
   "outputs": [
    {
     "data": {
      "image/png": "[encoded data removed]",
      "text/plain": [
       "<Figure size 432x288 with 1 Axes>"
      ]
     },
     "metadata": {
      "needs_background": "light"
     },
     "output_type": "display_data"
    }
   ],
   "source": [
    "#plot training and validation loss over epochs\n",
    "\n",
    "plt.plot(history.history['loss'],label='Training Loss')\n",
    "plt.plot(history.history['val_loss'],label='Validation Loss')\n",
    "plt.legend()\n",
    "plt.xlabel('Epochs')\n",
    "plt.ylabel('Loss')\n",
    "plt.title('Early stopping effect')\n",
    "plt.show()"
   ]
  },
  {
   "cell_type": "code",
   "execution_count": null,
   "metadata": {},
   "outputs": [],
   "source": []
  }
 ],
 "metadata": {
  "kernelspec": {
   "display_name": "venv",
   "language": "python",
   "name": "python3"
  },
  "language_info": {
   "codemirror_mode": {
    "name": "ipython",
    "version": 3
   },
   "file_extension": ".py",
   "mimetype": "text/x-python",
   "name": "python",
   "nbconvert_exporter": "python",
   "pygments_lexer": "ipython3",
   "version": "3.6.9"
  }
 },
 "nbformat": 4,
 "nbformat_minor": 2
}
