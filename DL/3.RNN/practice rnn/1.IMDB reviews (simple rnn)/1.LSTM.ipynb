{
 "cells": [
  {
   "cell_type": "code",
   "execution_count": null,
   "metadata": {},
   "outputs": [
    {
     "name": "stdout",
     "output_type": "stream",
     "text": [
      "Epoch 1/5\n",
      "782/782 [==============================] - 83s 104ms/step - loss: 0.6854 - accuracy: 0.5403 - val_loss: 0.6127 - val_accuracy: 0.6942\n",
      "Epoch 2/5\n",
      "782/782 [==============================] - 81s 103ms/step - loss: 0.6572 - accuracy: 0.6111 - val_loss: 0.6713 - val_accuracy: 0.5722\n",
      "Epoch 3/5\n",
      "782/782 [==============================] - 70s 90ms/step - loss: 0.6549 - accuracy: 0.6085 - val_loss: 0.6543 - val_accuracy: 0.6111\n",
      "Epoch 4/5\n",
      "782/782 [==============================] - 68s 87ms/step - loss: 0.6415 - accuracy: 0.6202 - val_loss: 0.6893 - val_accuracy: 0.5216\n",
      "Epoch 5/5\n",
      "782/782 [==============================] - 69s 88ms/step - loss: 0.5646 - accuracy: 0.7122 - val_loss: 0.6335 - val_accuracy: 0.6571\n",
      "782/782 [==============================] - 14s 18ms/step - loss: 0.6335 - accuracy: 0.6571\n",
      "Test Accuracy: 0.6571\n"
     ]
    },
    {
     "data": {
      "image/png": "[encoded data removed]",
      "text/plain": [
       "<Figure size 432x288 with 1 Axes>"
      ]
     },
     "metadata": {
      "needs_background": "light"
     },
     "output_type": "display_data"
    },
    {
     "name": "stdout",
     "output_type": "stream",
     "text": [
      "Predicted Sentiment: Negative (score: 0.2996)\n"
     ]
    },
    {
     "data": {
      "text/plain": [
       "'Negative'"
      ]
     },
     "execution_count": 1,
     "metadata": {},
     "output_type": "execute_result"
    }
   ],
   "source": [
    "import tensorflow as tf\n",
    "from tensorflow.keras.datasets import imdb\n",
    "from tensorflow.keras.preprocessing.sequence import pad_sequences\n",
    "from tensorflow.keras.preprocessing.text import Tokenizer\n",
    "from tensorflow.keras.models import Sequential\n",
    "from tensorflow.keras.layers import Embedding, LSTM, Dense\n",
    "import matplotlib.pyplot as plt\n",
    "import numpy as np\n",
    "\n",
    "# Hyperparameters\n",
    "vocab_size = 10000  # Vocabulary size\n",
    "max_length = 200  # Maximum length of review\n",
    "embedding_dim = 32  # Word embedding dimension\n",
    "lstm_units = 64  # Number of LSTM units (controls model capacity)\n",
    "batch_size = 32  # Batch size\n",
    "num_epochs = 5  # Number of training epochs\n",
    "\n",
    "# Load the IMDB dataset\n",
    "(x_train, y_train), (x_test, y_test) = imdb.load_data(num_words=vocab_size)\n",
    "\n",
    "# Pad sequences to ensure uniform input size\n",
    "x_train = pad_sequences(x_train, maxlen=max_length, padding='post', truncating='post')\n",
    "x_test = pad_sequences(x_test, maxlen=max_length, padding='post', truncating='post')\n",
    "\n",
    "# Build the LSTM model\n",
    "model = Sequential([\n",
    "    Embedding(vocab_size, embedding_dim, input_length=max_length),  # Word embeddings\n",
    "    LSTM(lstm_units, activation='tanh'),  # LSTM layer (replaces SimpleRNN)\n",
    "    Dense(1, activation='sigmoid')  # Output layer for binary classification\n",
    "])\n",
    "\n",
    "# Compile the model\n",
    "model.compile(loss='binary_crossentropy', optimizer='adam', metrics=['accuracy'])\n",
    "\n",
    "# Train the model\n",
    "history = model.fit(x_train, y_train, epochs=num_epochs, batch_size=batch_size, validation_data=(x_test, y_test))\n",
    "\n",
    "# Evaluate the model\n",
    "loss, accuracy = model.evaluate(x_test, y_test)\n",
    "print(f'Test Accuracy: {accuracy:.4f}')\n",
    "\n",
    "# Plot training history\n",
    "plt.plot(history.history['accuracy'], label='Train Accuracy')\n",
    "plt.plot(history.history['val_accuracy'], label='Validation Accuracy')\n",
    "plt.xlabel('Epochs')\n",
    "plt.ylabel('Accuracy')\n",
    "plt.legend()\n",
    "plt.title('LSTM Model Accuracy on IMDB Dataset')\n",
    "plt.show()\n",
    "\n",
    "\n"
   ]
  },
  {
   "cell_type": "code",
   "execution_count": null,
   "metadata": {},
   "outputs": [
    {
     "name": "stdout",
     "output_type": "stream",
     "text": [
      "Predicted Sentiment: Negative (score: 0.2996)\n"
     ]
    },
    {
     "data": {
      "text/plain": [
       "'Negative'"
      ]
     },
     "execution_count": 3,
     "metadata": {},
     "output_type": "execute_result"
    }
   ],
   "source": [
    "# Function to preprocess and predict sentiment\n",
    "def predicted_sentiment(text, model):\n",
    "    tokenizer = Tokenizer(num_words=vocab_size)\n",
    "    sequence = tokenizer.texts_to_sequences([text])  # Convert text to sequence\n",
    "    padding_sequence = pad_sequences(sequence, maxlen=max_length, padding='post', truncating='post')  # Pad sequence\n",
    "    prediction = model.predict(padding_sequence)[0][0]  # Get model prediction\n",
    "    sentiment = 'Positive' if prediction >= 0.5 else 'Negative'\n",
    "    print(f\"Predicted Sentiment: {sentiment} (score: {prediction:.4f})\")\n",
    "    return sentiment\n",
    "\n",
    "# Example usage\n",
    "input_text = \"This movie was very bad!\"\n",
    "predicted_sentiment(input_text, model)"
   ]
  },
  {
   "cell_type": "code",
   "execution_count": null,
   "metadata": {},
   "outputs": [],
   "source": []
  }
 ],
 "metadata": {
  "kernelspec": {
   "display_name": "venv",
   "language": "python",
   "name": "python3"
  },
  "language_info": {
   "codemirror_mode": {
    "name": "ipython",
    "version": 3
   },
   "file_extension": ".py",
   "mimetype": "text/x-python",
   "name": "python",
   "nbconvert_exporter": "python",
   "pygments_lexer": "ipython3",
   "version": "3.6.9"
  }
 },
 "nbformat": 4,
 "nbformat_minor": 2
}
