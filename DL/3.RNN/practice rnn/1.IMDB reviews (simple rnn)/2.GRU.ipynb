{
 "cells": [
  {
   "cell_type": "code",
   "execution_count": 2,
   "metadata": {},
   "outputs": [
    {
     "name": "stdout",
     "output_type": "stream",
     "text": [
      "Epoch 1/5\n",
      "782/782 [==============================] - 62s 77ms/step - loss: 0.6902 - accuracy: 0.5241 - val_loss: 0.6064 - val_accuracy: 0.7000\n",
      "Epoch 2/5\n",
      "782/782 [==============================] - 61s 77ms/step - loss: 0.4589 - accuracy: 0.7807 - val_loss: 0.3261 - val_accuracy: 0.8612\n",
      "Epoch 3/5\n",
      "782/782 [==============================] - 59s 76ms/step - loss: 0.2336 - accuracy: 0.9090 - val_loss: 0.3226 - val_accuracy: 0.8656\n",
      "Epoch 4/5\n",
      "782/782 [==============================] - 55s 71ms/step - loss: 0.1625 - accuracy: 0.9416 - val_loss: 0.3688 - val_accuracy: 0.8534\n",
      "Epoch 5/5\n",
      "782/782 [==============================] - 56s 71ms/step - loss: 0.1124 - accuracy: 0.9634 - val_loss: 0.4347 - val_accuracy: 0.8486\n"
     ]
    }
   ],
   "source": [
    "import tensorflow as tf\n",
    "from tensorflow.keras.datasets import imdb\n",
    "from tensorflow.keras.preprocessing.sequence import pad_sequences\n",
    "from tensorflow.keras.preprocessing.text import Tokenizer\n",
    "from tensorflow.keras.models import Sequential\n",
    "from tensorflow.keras.layers import Embedding, GRU, Dense\n",
    "import matplotlib.pyplot as plt\n",
    "import numpy as np\n",
    "\n",
    "# Hyperparameters\n",
    "vocab_size = 10000  # Vocabulary size\n",
    "max_length = 200  # Maximum length of review\n",
    "embedding_dim = 32  # Word embedding dimension\n",
    "gru_units = 64  # Number of GRU units (controls model capacity)\n",
    "batch_size = 32  # Batch size\n",
    "num_epochs = 5  # Number of training epochs\n",
    "\n",
    "# Load the IMDB dataset\n",
    "(x_train, y_train), (x_test, y_test) = imdb.load_data(num_words=vocab_size)\n",
    "\n",
    "# Pad sequences to ensure uniform input size\n",
    "x_train = pad_sequences(x_train, maxlen=max_length, padding='post', truncating='post')\n",
    "x_test = pad_sequences(x_test, maxlen=max_length, padding='post', truncating='post')\n",
    "\n",
    "# Build the GRU model\n",
    "model = Sequential([\n",
    "    Embedding(vocab_size, embedding_dim, input_length=max_length),  # Word embeddings\n",
    "    GRU(gru_units, activation='tanh'),  # GRU layer (replaces SimpleRNN/LSTM)\n",
    "    Dense(1, activation='sigmoid')  # Output layer for binary classification\n",
    "])\n",
    "\n",
    "# Compile the model\n",
    "model.compile(loss='binary_crossentropy', optimizer='adam', metrics=['accuracy'])\n",
    "\n",
    "# Train the model\n",
    "history = model.fit(x_train, y_train, epochs=num_epochs, batch_size=batch_size, validation_data=(x_test, y_test))\n"
   ]
  },
  {
   "cell_type": "code",
   "execution_count": 3,
   "metadata": {},
   "outputs": [
    {
     "name": "stdout",
     "output_type": "stream",
     "text": [
      "782/782 [==============================] - 11s 14ms/step - loss: 0.4347 - accuracy: 0.8486\n",
      "Test Accuracy: 0.8486\n"
     ]
    },
    {
     "data": {
      "image/png": "[encoded data removed]",
      "text/plain": [
       "<Figure size 432x288 with 1 Axes>"
      ]
     },
     "metadata": {
      "needs_background": "light"
     },
     "output_type": "display_data"
    }
   ],
   "source": [
    "# Evaluate the model\n",
    "loss, accuracy = model.evaluate(x_test, y_test)\n",
    "print(f'Test Accuracy: {accuracy:.4f}')\n",
    "\n",
    "# Plot training history\n",
    "plt.plot(history.history['accuracy'], label='Train Accuracy')\n",
    "plt.plot(history.history['val_accuracy'], label='Validation Accuracy')\n",
    "plt.xlabel('Epochs')\n",
    "plt.ylabel('Accuracy')\n",
    "plt.legend()\n",
    "plt.title('GRU Model Accuracy on IMDB Dataset')\n",
    "plt.show()\n"
   ]
  },
  {
   "cell_type": "code",
   "execution_count": 4,
   "metadata": {},
   "outputs": [
    {
     "name": "stdout",
     "output_type": "stream",
     "text": [
      "Predicted Sentiment: Positive (score: 0.8855)\n"
     ]
    },
    {
     "data": {
      "text/plain": [
       "'Positive'"
      ]
     },
     "execution_count": 4,
     "metadata": {},
     "output_type": "execute_result"
    }
   ],
   "source": [
    "# Function to preprocess and predict sentiment\n",
    "def predicted_sentiment(text, model):\n",
    "    tokenizer = Tokenizer(num_words=vocab_size)\n",
    "    sequence = tokenizer.texts_to_sequences([text])  # Convert text to sequence\n",
    "    padding_sequence = pad_sequences(sequence, maxlen=max_length, padding='post', truncating='post')  # Pad sequence\n",
    "    prediction = model.predict(padding_sequence)[0][0]  # Get model prediction\n",
    "    sentiment = 'Positive' if prediction >= 0.5 else 'Negative'\n",
    "    print(f\"Predicted Sentiment: {sentiment} (score: {prediction:.4f})\")\n",
    "    return sentiment\n",
    "\n",
    "# Example usage\n",
    "input_text = \"This movie was very bad.\"\n",
    "predicted_sentiment(input_text, model)"
   ]
  }
 ],
 "metadata": {
  "kernelspec": {
   "display_name": "venv",
   "language": "python",
   "name": "python3"
  },
  "language_info": {
   "codemirror_mode": {
    "name": "ipython",
    "version": 3
   },
   "file_extension": ".py",
   "mimetype": "text/x-python",
   "name": "python",
   "nbconvert_exporter": "python",
   "pygments_lexer": "ipython3",
   "version": "3.6.9"
  }
 },
 "nbformat": 4,
 "nbformat_minor": 2
}
