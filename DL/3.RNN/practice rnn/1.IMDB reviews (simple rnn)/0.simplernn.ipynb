{
 "cells": [
  {
   "cell_type": "code",
   "execution_count": 27,
   "metadata": {},
   "outputs": [],
   "source": [
    "import tensorflow as tf\n",
    "from tensorflow.keras.datasets import imdb\n",
    "from tensorflow.keras.preprocessing.sequence import pad_sequences\n",
    "from tensorflow.keras.models import Sequential\n",
    "from tensorflow.keras.layers import Embedding,SimpleRNN,Dense\n",
    "import matplotlib.pyplot as plt\n",
    "import numpy as np"
   ]
  },
  {
   "cell_type": "code",
   "execution_count": 28,
   "metadata": {},
   "outputs": [],
   "source": [
    "# Hyperparameters (These values are chosen based on common practices and experimentation)\n",
    "vocab_size = 10000  # Number of words to keep in vocabulary (commonly used for IMDB dataset)\n",
    "max_length = 200  # Maximum review length (ensures uniform input size, balancing information and training efficiency)\n",
    "embedding_dim = 32  # Word embedding dimension (higher values capture more semantic meaning but increase model complexity)\n",
    "rnn_units = 64  # Number of RNN units (controls model capacity, larger values can learn more complex patterns)\n",
    "batch_size = 32  # Number of samples per training batch (common batch size for stable training)\n",
    "num_epochs = 5  # Number of times the model sees the full dataset (higher values improve learning but risk overfitting)"
   ]
  },
  {
   "cell_type": "code",
   "execution_count": 29,
   "metadata": {},
   "outputs": [],
   "source": [
    "# Load the IMDB dataset\n",
    "\n",
    "(X_train,y_train),(X_test,y_test) = imdb.load_data(num_words=vocab_size)"
   ]
  },
  {
   "cell_type": "code",
   "execution_count": null,
   "metadata": {},
   "outputs": [],
   "source": [
    "# Find the maximum review length\n",
    "max_length = max(len(review) for review in X_train + X_test)\n",
    "\n",
    "print(\"Maximum review length:\", max_length)"
   ]
  },
  {
   "cell_type": "code",
   "execution_count": 30,
   "metadata": {},
   "outputs": [
    {
     "data": {
      "text/plain": [
       "(25000,)"
      ]
     },
     "execution_count": 30,
     "metadata": {},
     "output_type": "execute_result"
    }
   ],
   "source": [
    "X_train.shape"
   ]
  },
  {
   "cell_type": "code",
   "execution_count": 31,
   "metadata": {},
   "outputs": [
    {
     "data": {
      "text/plain": [
       "[1,\n",
       " 14,\n",
       " 22,\n",
       " 16,\n",
       " 43,\n",
       " 530,\n",
       " 973,\n",
       " 1622,\n",
       " 1385,\n",
       " 65,\n",
       " 458,\n",
       " 4468,\n",
       " 66,\n",
       " 3941,\n",
       " 4,\n",
       " 173,\n",
       " 36,\n",
       " 256,\n",
       " 5,\n",
       " 25,\n",
       " 100,\n",
       " 43,\n",
       " 838,\n",
       " 112,\n",
       " 50,\n",
       " 670,\n",
       " 2,\n",
       " 9,\n",
       " 35,\n",
       " 480,\n",
       " 284,\n",
       " 5,\n",
       " 150,\n",
       " 4,\n",
       " 172,\n",
       " 112,\n",
       " 167,\n",
       " 2,\n",
       " 336,\n",
       " 385,\n",
       " 39,\n",
       " 4,\n",
       " 172,\n",
       " 4536,\n",
       " 1111,\n",
       " 17,\n",
       " 546,\n",
       " 38,\n",
       " 13,\n",
       " 447,\n",
       " 4,\n",
       " 192,\n",
       " 50,\n",
       " 16,\n",
       " 6,\n",
       " 147,\n",
       " 2025,\n",
       " 19,\n",
       " 14,\n",
       " 22,\n",
       " 4,\n",
       " 1920,\n",
       " 4613,\n",
       " 469,\n",
       " 4,\n",
       " 22,\n",
       " 71,\n",
       " 87,\n",
       " 12,\n",
       " 16,\n",
       " 43,\n",
       " 530,\n",
       " 38,\n",
       " 76,\n",
       " 15,\n",
       " 13,\n",
       " 1247,\n",
       " 4,\n",
       " 22,\n",
       " 17,\n",
       " 515,\n",
       " 17,\n",
       " 12,\n",
       " 16,\n",
       " 626,\n",
       " 18,\n",
       " 2,\n",
       " 5,\n",
       " 62,\n",
       " 386,\n",
       " 12,\n",
       " 8,\n",
       " 316,\n",
       " 8,\n",
       " 106,\n",
       " 5,\n",
       " 4,\n",
       " 2223,\n",
       " 5244,\n",
       " 16,\n",
       " 480,\n",
       " 66,\n",
       " 3785,\n",
       " 33,\n",
       " 4,\n",
       " 130,\n",
       " 12,\n",
       " 16,\n",
       " 38,\n",
       " 619,\n",
       " 5,\n",
       " 25,\n",
       " 124,\n",
       " 51,\n",
       " 36,\n",
       " 135,\n",
       " 48,\n",
       " 25,\n",
       " 1415,\n",
       " 33,\n",
       " 6,\n",
       " 22,\n",
       " 12,\n",
       " 215,\n",
       " 28,\n",
       " 77,\n",
       " 52,\n",
       " 5,\n",
       " 14,\n",
       " 407,\n",
       " 16,\n",
       " 82,\n",
       " 2,\n",
       " 8,\n",
       " 4,\n",
       " 107,\n",
       " 117,\n",
       " 5952,\n",
       " 15,\n",
       " 256,\n",
       " 4,\n",
       " 2,\n",
       " 7,\n",
       " 3766,\n",
       " 5,\n",
       " 723,\n",
       " 36,\n",
       " 71,\n",
       " 43,\n",
       " 530,\n",
       " 476,\n",
       " 26,\n",
       " 400,\n",
       " 317,\n",
       " 46,\n",
       " 7,\n",
       " 4,\n",
       " 2,\n",
       " 1029,\n",
       " 13,\n",
       " 104,\n",
       " 88,\n",
       " 4,\n",
       " 381,\n",
       " 15,\n",
       " 297,\n",
       " 98,\n",
       " 32,\n",
       " 2071,\n",
       " 56,\n",
       " 26,\n",
       " 141,\n",
       " 6,\n",
       " 194,\n",
       " 7486,\n",
       " 18,\n",
       " 4,\n",
       " 226,\n",
       " 22,\n",
       " 21,\n",
       " 134,\n",
       " 476,\n",
       " 26,\n",
       " 480,\n",
       " 5,\n",
       " 144,\n",
       " 30,\n",
       " 5535,\n",
       " 18,\n",
       " 51,\n",
       " 36,\n",
       " 28,\n",
       " 224,\n",
       " 92,\n",
       " 25,\n",
       " 104,\n",
       " 4,\n",
       " 226,\n",
       " 65,\n",
       " 16,\n",
       " 38,\n",
       " 1334,\n",
       " 88,\n",
       " 12,\n",
       " 16,\n",
       " 283,\n",
       " 5,\n",
       " 16,\n",
       " 4472,\n",
       " 113,\n",
       " 103,\n",
       " 32,\n",
       " 15,\n",
       " 16,\n",
       " 5345,\n",
       " 19,\n",
       " 178,\n",
       " 32]"
      ]
     },
     "execution_count": 31,
     "metadata": {},
     "output_type": "execute_result"
    }
   ],
   "source": [
    "X_train[0]"
   ]
  },
  {
   "cell_type": "code",
   "execution_count": 32,
   "metadata": {},
   "outputs": [],
   "source": [
    "# pad sequences to ensure uniform input size\n",
    "\n",
    "X_train = pad_sequences(X_train,maxlen=max_length,padding='post',truncating='post')\n",
    "X_test = pad_sequences(X_test,maxlen=max_length,padding='post',truncating='post')"
   ]
  },
  {
   "cell_type": "code",
   "execution_count": 33,
   "metadata": {},
   "outputs": [
    {
     "data": {
      "text/plain": [
       "array([   1,   14,   22,   16,   43,  530,  973, 1622, 1385,   65,  458,\n",
       "       4468,   66, 3941,    4,  173,   36,  256,    5,   25,  100,   43,\n",
       "        838,  112,   50,  670,    2,    9,   35,  480,  284,    5,  150,\n",
       "          4,  172,  112,  167,    2,  336,  385,   39,    4,  172, 4536,\n",
       "       1111,   17,  546,   38,   13,  447,    4,  192,   50,   16,    6,\n",
       "        147, 2025,   19,   14,   22,    4, 1920, 4613,  469,    4,   22,\n",
       "         71,   87,   12,   16,   43,  530,   38,   76,   15,   13, 1247,\n",
       "          4,   22,   17,  515,   17,   12,   16,  626,   18,    2,    5,\n",
       "         62,  386,   12,    8,  316,    8,  106,    5,    4, 2223, 5244,\n",
       "         16,  480,   66, 3785,   33,    4,  130,   12,   16,   38,  619,\n",
       "          5,   25,  124,   51,   36,  135,   48,   25, 1415,   33,    6,\n",
       "         22,   12,  215,   28,   77,   52,    5,   14,  407,   16,   82,\n",
       "          2,    8,    4,  107,  117, 5952,   15,  256,    4,    2,    7,\n",
       "       3766,    5,  723,   36,   71,   43,  530,  476,   26,  400,  317,\n",
       "         46,    7,    4,    2, 1029,   13,  104,   88,    4,  381,   15,\n",
       "        297,   98,   32, 2071,   56,   26,  141,    6,  194, 7486,   18,\n",
       "          4,  226,   22,   21,  134,  476,   26,  480,    5,  144,   30,\n",
       "       5535,   18,   51,   36,   28,  224,   92,   25,  104,    4,  226,\n",
       "         65,   16], dtype=int32)"
      ]
     },
     "execution_count": 33,
     "metadata": {},
     "output_type": "execute_result"
    }
   ],
   "source": [
    "X_train[0]"
   ]
  },
  {
   "cell_type": "code",
   "execution_count": null,
   "metadata": {},
   "outputs": [],
   "source": [
    "#Build a RNN Model\n",
    "\n",
    "model = Sequential([\n",
    "    Embedding(vocab_size,embedding_dim,input_length=max_length), # Embedding(input_dim, output_dim, input_length=None)\n",
    "    SimpleRNN(rnn_units,activation='tanh'), # units,activation\n",
    "    Dense(1,activation='sigmoid') #units\n",
    "    \n",
    "])"
   ]
  },
  {
   "cell_type": "code",
   "execution_count": 35,
   "metadata": {},
   "outputs": [],
   "source": [
    "# Comile the model\n",
    "model.compile(loss='binary_crossentropy',optimizer='adam',metrics=['accuracy'])"
   ]
  },
  {
   "cell_type": "code",
   "execution_count": 36,
   "metadata": {},
   "outputs": [
    {
     "name": "stderr",
     "output_type": "stream",
     "text": [
      "/home/suhas/master_dataklout/venv/lib/python3.6/importlib/_bootstrap.py:219: RuntimeWarning: numpy.ufunc size changed, may indicate binary incompatibility. Expected 192 from C header, got 216 from PyObject\n",
      "  return f(*args, **kwds)\n"
     ]
    },
    {
     "name": "stdout",
     "output_type": "stream",
     "text": [
      "Epoch 1/5\n",
      "782/782 [==============================] - 38s 47ms/step - loss: 0.6965 - accuracy: 0.4995 - val_loss: 0.6932 - val_accuracy: 0.5031\n",
      "Epoch 2/5\n",
      "782/782 [==============================] - 38s 49ms/step - loss: 0.6900 - accuracy: 0.5310 - val_loss: 0.6929 - val_accuracy: 0.5078\n",
      "Epoch 3/5\n",
      "782/782 [==============================] - 33s 42ms/step - loss: 0.6729 - accuracy: 0.5704 - val_loss: 0.6952 - val_accuracy: 0.5226\n",
      "Epoch 4/5\n",
      "782/782 [==============================] - 30s 38ms/step - loss: 0.6231 - accuracy: 0.6190 - val_loss: 0.6979 - val_accuracy: 0.5307\n",
      "Epoch 5/5\n",
      "782/782 [==============================] - 29s 38ms/step - loss: 0.5921 - accuracy: 0.6535 - val_loss: 0.7007 - val_accuracy: 0.5395\n"
     ]
    }
   ],
   "source": [
    "# Train the model\n",
    "\n",
    "history = model.fit(X_train,y_train,epochs=num_epochs,batch_size=batch_size,validation_data=(X_test,y_test))"
   ]
  },
  {
   "cell_type": "code",
   "execution_count": 37,
   "metadata": {},
   "outputs": [
    {
     "name": "stdout",
     "output_type": "stream",
     "text": [
      "782/782 [==============================] - 6s 7ms/step - loss: 0.7007 - accuracy: 0.5395\n",
      "Test Accuracy:0.5395\n"
     ]
    }
   ],
   "source": [
    "#Evaluate the model\n",
    "\n",
    "loss ,accuracy = model.evaluate(X_test,y_test)\n",
    "print(f\"Test Accuracy:{accuracy:.4f}\")\n"
   ]
  },
  {
   "cell_type": "code",
   "execution_count": 38,
   "metadata": {},
   "outputs": [
    {
     "data": {
      "image/png": "[encoded data removed]",
      "text/plain": [
       "<Figure size 432x288 with 1 Axes>"
      ]
     },
     "metadata": {
      "needs_background": "light"
     },
     "output_type": "display_data"
    }
   ],
   "source": [
    "# Plot training history\n",
    "plt.plot(history.history['accuracy'], label='Train Accuracy')\n",
    "plt.plot(history.history['val_accuracy'], label='Validation Accuracy')\n",
    "plt.xlabel('Epochs')\n",
    "plt.ylabel('Accuracy')\n",
    "plt.legend()\n",
    "plt.title('RNN Model Accuracy on IMDB Dataset')\n",
    "plt.show()"
   ]
  },
  {
   "cell_type": "markdown",
   "metadata": {},
   "source": [
    "## Predictions"
   ]
  },
  {
   "cell_type": "code",
   "execution_count": 44,
   "metadata": {},
   "outputs": [
    {
     "name": "stdout",
     "output_type": "stream",
     "text": [
      "Predicted Sentiment: Positive (score: 0.6024)\n"
     ]
    },
    {
     "data": {
      "text/plain": [
       "'Positive'"
      ]
     },
     "execution_count": 44,
     "metadata": {},
     "output_type": "execute_result"
    }
   ],
   "source": [
    "from tensorflow.keras.preprocessing.text import Tokenizer\n",
    "\n",
    "# Function to preprocess and predict sentiment\n",
    "def predicted_sentiment(text, model):\n",
    "    tokenizer = Tokenizer(num_words=vocab_size)\n",
    "    sequence = tokenizer.texts_to_sequences([text])  # Convert text to sequence\n",
    "    padding_sequence = pad_sequences(sequence, maxlen=max_length, padding='post', truncating='post')  # Pad sequence\n",
    "    prediction = model.predict(padding_sequence)[0][0]  # Get model prediction\n",
    "    sentiment = 'Positive' if prediction >= 0.5 else 'Negative'\n",
    "    print(f\"Predicted Sentiment: {sentiment} (score: {prediction:.4f})\")\n",
    "    return sentiment\n",
    "\n",
    "# Example usage\n",
    "input_text = \"This movie was very bad.\"\n",
    "predicted_sentiment(input_text, model)\n"
   ]
  },
  {
   "cell_type": "markdown",
   "metadata": {},
   "source": [
    "When working with the **IMDB dataset**, which consists of movie reviews of varying lengths, we need to ensure that all input sequences have a **uniform size** before feeding them into a deep learning model (e.g., an LSTM or Transformer model). This is where `pad_sequences` comes in.\n",
    "\n",
    "### **Why do we need to pad sequences?**\n",
    "1. **Neural Networks Require Fixed Input Sizes**  \n",
    "   - Deep learning models, especially **RNNs, LSTMs, and Transformers**, expect input tensors of a fixed shape.\n",
    "   - Since reviews have different lengths, we need to **pad shorter reviews** to match the longest review length.\n",
    "\n",
    "2. **Maintaining Batch Consistency**  \n",
    "   - When training with mini-batches, each batch must have the **same shape**.\n",
    "   - Padding ensures that all reviews in a batch have the same number of tokens.\n",
    "\n",
    "3. **Handling Truncation for Long Sequences**  \n",
    "   - If a review is **too long**, we truncate it to `max_length` to avoid excessive computation.\n",
    "   - This ensures we don't waste memory on unnecessarily long sequences.\n",
    "\n",
    "### **Understanding the Parameters**\n",
    "```python\n",
    "X_train = pad_sequences(X_train, maxlen=max_length, padding='post', truncating='post')\n",
    "X_test = pad_sequences(X_test, maxlen=max_length, padding='post', truncating='post')\n",
    "```\n",
    "- **`maxlen=max_length`** → Sets the maximum sequence length. Longer reviews are truncated, and shorter ones are padded.\n",
    "- **`padding='post'`** → Adds padding **at the end** of shorter reviews.\n",
    "- **`truncating='post'`** → Truncates longer reviews **from the end**.\n",
    "\n",
    "### **Example Before and After Padding**\n",
    "#### **Before Padding**\n",
    "```\n",
    "Review 1: [23, 45, 123, 678]  (Length = 4)\n",
    "Review 2: [12, 34, 567]       (Length = 3)\n",
    "Review 3: [89, 345, 678, 23, 45, 123, 678] (Length = 7)\n",
    "```\n",
    "#### **After Padding (`maxlen=6, padding='post'`)**\n",
    "```\n",
    "Review 1: [23, 45, 123, 678, 0, 0]\n",
    "Review 2: [12, 34, 567, 0, 0, 0]\n",
    "Review 3: [89, 345, 678, 23, 45, 123] (Truncated)\n",
    "```\n",
    "\n",
    "This ensures all sequences are of the same length, allowing them to be efficiently processed by neural networks.\n",
    "\n",
    "Would you like a code example to visualize this better? 😊"
   ]
  },
  {
   "cell_type": "markdown",
   "metadata": {},
   "source": []
  }
 ],
 "metadata": {
  "kernelspec": {
   "display_name": "venv",
   "language": "python",
   "name": "python3"
  },
  "language_info": {
   "codemirror_mode": {
    "name": "ipython",
    "version": 3
   },
   "file_extension": ".py",
   "mimetype": "text/x-python",
   "name": "python",
   "nbconvert_exporter": "python",
   "pygments_lexer": "ipython3",
   "version": "3.6.9"
  }
 },
 "nbformat": 4,
 "nbformat_minor": 2
}
