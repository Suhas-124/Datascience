{
 "cells": [
  {
   "cell_type": "code",
   "execution_count": null,
   "metadata": {},
   "outputs": [
    {
     "name": "stdout",
     "output_type": "stream",
     "text": [
      "Sentiment: Negative, Probability: 0.9880631268024445\n"
     ]
    }
   ],
   "source": [
    "import re\n",
    "import pickle\n",
    "from tensorflow.keras.models import load_model\n",
    "from tensorflow.keras.preprocessing.sequence import pad_sequences\n",
    "\n",
    "# Define the preprocessing function (must be identical to training preprocessing)\n",
    "def preprocess(tweet):\n",
    "    # Remove mentions (@user) and URLs\n",
    "    tweet = re.sub(r'@\\w+httpS+|www\\S+', '', tweet)\n",
    "    # Remove special characters and numbers, keep only letters and spaces\n",
    "    tweet = re.sub(r'[^a-zA-Z\\s]', '', tweet)\n",
    "    # Convert to lowercase\n",
    "    tweet = tweet.lower()\n",
    "    # Remove extra spaces\n",
    "    tweet = re.sub(r'\\s+', ' ', tweet).strip()\n",
    "    return tweet\n",
    "\n",
    "# Prediction function using the loaded tokenizer and model\n",
    "def predict_sentiment(tweet, tokenizer, model, max_length=50):\n",
    "    # Step 1: Preprocess the tweet\n",
    "    cleaned_tweet = preprocess(tweet)\n",
    "    \n",
    "    # Step 2: Convert the cleaned tweet to a sequence of integers\n",
    "    sequence = tokenizer.texts_to_sequences([cleaned_tweet])\n",
    "    \n",
    "    # Step 3: Pad the sequence to match the model's expected input length\n",
    "    pad_sequence = pad_sequences(sequence, maxlen=max_length, padding='post', truncating='post')\n",
    "    \n",
    "    # Step 4: Make the prediction using the trained model\n",
    "    prediction = model.predict(pad_sequence)[0][0]\n",
    "    \n",
    "    # Interpret the prediction: if prediction >= 0.5, it's positive, otherwise negative\n",
    "    sentiment = \"Positive\" if prediction >= 0.5 else \"Negative\"\n",
    "    probability = prediction if sentiment == \"Positive\" else 1 - prediction\n",
    "    \n",
    "    return sentiment, probability\n",
    "\n",
    "# Main function to load the artifacts and run a prediction\n",
    "if __name__ == \"__main__\":\n",
    "    # Load the saved model\n",
    "    model = load_model(\"twitter_sentiment_train.h5\")\n",
    "    \n",
    "    # Load the saved tokenizer\n",
    "    with open(\"tokenizer.pickle\", \"rb\") as handle:\n",
    "        tokenizer = pickle.load(handle)\n",
    "    \n",
    "    # Example tweet for prediction\n",
    "    new_tweet = \"This is a wonderful day\"\n",
    "    sentiment, probability = predict_sentiment(new_tweet, tokenizer, model)\n",
    "    \n",
    "    print(f\"Sentiment: {sentiment}, Probability: {probability}\")\n"
   ]
  },
  {
   "cell_type": "markdown",
   "metadata": {},
   "source": [
    "## Using Hugging face model"
   ]
  },
  {
   "cell_type": "code",
   "execution_count": 3,
   "metadata": {},
   "outputs": [
    {
     "name": "stderr",
     "output_type": "stream",
     "text": [
      "/home/suhas/master_dataklout/venv/lib/python3.6/site-packages/tqdm/auto.py:22: TqdmWarning: IProgress not found. Please update jupyter and ipywidgets. See https://ipywidgets.readthedocs.io/en/stable/user_install.html\n",
      "  from .autonotebook import tqdm as notebook_tqdm\n",
      "No model was supplied, defaulted to distilbert-base-uncased-finetuned-sst-2-english (https://huggingface.co/distilbert-base-uncased-finetuned-sst-2-english)\n"
     ]
    },
    {
     "name": "stdout",
     "output_type": "stream",
     "text": [
      "The quality is terrible, and the customer support was unhelpful.\n",
      "NEGATIVE:(score:1.000)\n",
      "Sentence: 'I like this guy very much!'\n",
      "Sentiment: POSITIVE (Score: 0.9999)\n",
      "\n",
      "Sentence: 'This was a very bad experience.'\n",
      "Sentiment: NEGATIVE (Score: 0.9998)\n",
      "\n"
     ]
    }
   ],
   "source": [
    "from transformers import pipeline\n",
    "\n",
    "sentiment_analyzer = pipeline('sentiment-analysis')\n",
    "\n",
    "sentence = \"The quality is terrible, and the customer support was unhelpful.\"\n",
    "\n",
    "result = sentiment_analyzer(sentence)[0]\n",
    "\n",
    "print(sentence)\n",
    "print(f\"{result['label']}:(score:{result['score']:.3f})\")\n",
    "\n",
    "# Example usage\n",
    "sentences = [\n",
    "    \"I like this guy very much!\",\n",
    "    \"This was a very bad experience.\"\n",
    "]\n",
    "\n",
    "for sentence in sentences:\n",
    "    result = sentiment_analyzer(sentence)[0]\n",
    "    print(f\"Sentence: '{sentence}'\")\n",
    "    print(f\"Sentiment: {result['label']} (Score: {result['score']:.4f})\\n\")\n"
   ]
  },
  {
   "cell_type": "code",
   "execution_count": null,
   "metadata": {},
   "outputs": [],
   "source": []
  }
 ],
 "metadata": {
  "kernelspec": {
   "display_name": "venv",
   "language": "python",
   "name": "python3"
  },
  "language_info": {
   "codemirror_mode": {
    "name": "ipython",
    "version": 3
   },
   "file_extension": ".py",
   "mimetype": "text/x-python",
   "name": "python",
   "nbconvert_exporter": "python",
   "pygments_lexer": "ipython3",
   "version": "3.6.9"
  }
 },
 "nbformat": 4,
 "nbformat_minor": 2
}
