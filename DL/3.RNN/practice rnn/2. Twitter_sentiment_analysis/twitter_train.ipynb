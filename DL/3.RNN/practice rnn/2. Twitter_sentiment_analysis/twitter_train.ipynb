{
 "cells": [
  {
   "cell_type": "code",
   "execution_count": 229,
   "metadata": {},
   "outputs": [],
   "source": [
    "import pandas as pd\n",
    "import numpy as np\n",
    "import matplotlib.pyplot as plt\n",
    "from sklearn.model_selection import train_test_split\n",
    "from tensorflow.keras.preprocessing.text import Tokenizer\n",
    "from tensorflow.keras.preprocessing.sequence import pad_sequences\n",
    "from tensorflow.keras.models import Sequential\n",
    "from tensorflow.keras.layers import Embedding,Bidirectional,LSTM,Dense,Dropout\n",
    "import re\n",
    "from tensorflow.keras.regularizers import l2"
   ]
  },
  {
   "cell_type": "code",
   "execution_count": 230,
   "metadata": {},
   "outputs": [],
   "source": [
    "df = pd.read_csv('/home/suhas/Desktop/office/Data Science/Notes/Data Analysis/Data/twitter sentiment analysis/twitter_train.csv')"
   ]
  },
  {
   "cell_type": "code",
   "execution_count": 231,
   "metadata": {},
   "outputs": [
    {
     "data": {
      "text/html": [
       "<div>\n",
       "<style scoped>\n",
       "    .dataframe tbody tr th:only-of-type {\n",
       "        vertical-align: middle;\n",
       "    }\n",
       "\n",
       "    .dataframe tbody tr th {\n",
       "        vertical-align: top;\n",
       "    }\n",
       "\n",
       "    .dataframe thead th {\n",
       "        text-align: right;\n",
       "    }\n",
       "</style>\n",
       "<table border=\"1\" class=\"dataframe\">\n",
       "  <thead>\n",
       "    <tr style=\"text-align: right;\">\n",
       "      <th></th>\n",
       "      <th>id</th>\n",
       "      <th>label</th>\n",
       "      <th>tweet</th>\n",
       "    </tr>\n",
       "  </thead>\n",
       "  <tbody>\n",
       "    <tr>\n",
       "      <th>0</th>\n",
       "      <td>1</td>\n",
       "      <td>0</td>\n",
       "      <td>@user when a father is dysfunctional and is s...</td>\n",
       "    </tr>\n",
       "    <tr>\n",
       "      <th>1</th>\n",
       "      <td>2</td>\n",
       "      <td>0</td>\n",
       "      <td>@user @user thanks for #lyft credit i can't us...</td>\n",
       "    </tr>\n",
       "    <tr>\n",
       "      <th>2</th>\n",
       "      <td>3</td>\n",
       "      <td>0</td>\n",
       "      <td>bihday your majesty</td>\n",
       "    </tr>\n",
       "    <tr>\n",
       "      <th>3</th>\n",
       "      <td>4</td>\n",
       "      <td>0</td>\n",
       "      <td>#model   i love u take with u all the time in ...</td>\n",
       "    </tr>\n",
       "    <tr>\n",
       "      <th>4</th>\n",
       "      <td>5</td>\n",
       "      <td>0</td>\n",
       "      <td>factsguide: society now    #motivation</td>\n",
       "    </tr>\n",
       "  </tbody>\n",
       "</table>\n",
       "</div>"
      ],
      "text/plain": [
       "   id  label                                              tweet\n",
       "0   1      0   @user when a father is dysfunctional and is s...\n",
       "1   2      0  @user @user thanks for #lyft credit i can't us...\n",
       "2   3      0                                bihday your majesty\n",
       "3   4      0  #model   i love u take with u all the time in ...\n",
       "4   5      0             factsguide: society now    #motivation"
      ]
     },
     "execution_count": 231,
     "metadata": {},
     "output_type": "execute_result"
    }
   ],
   "source": [
    "df.head()"
   ]
  },
  {
   "cell_type": "code",
   "execution_count": 232,
   "metadata": {},
   "outputs": [
    {
     "data": {
      "text/plain": [
       "(31962, 3)"
      ]
     },
     "execution_count": 232,
     "metadata": {},
     "output_type": "execute_result"
    }
   ],
   "source": [
    "df.shape"
   ]
  },
  {
   "cell_type": "code",
   "execution_count": null,
   "metadata": {},
   "outputs": [],
   "source": [
    "# Preprocess the text\n",
    "from nltk.tokenize import word_tokenize\n",
    "\n",
    "def preprocess(text):\n",
    "    #Remove mentions (@user) and urls\n",
    "    text = re.sub(r'@\\w+https+|www\\S+','',text)\n",
    "    #Remove special characters and numbers,keep only letters and spaces\n",
    "    text = re.sub(r'[^a-zA-Z\\s]','',text)\n",
    "    #convert to lowercase\n",
    "    text = text.lower()\n",
    "    # Remove extra spaces\n",
    "    text = re.sub(r'\\s+',' ',text).strip()\n",
    "    return text\n",
    "\n",
    "\n",
    "\n",
    "\n",
    "#using nltk\n",
    "\n",
    "# text = \"Hello @user, visit http://example.com!\"\n",
    "# def preprocess(text):\n",
    "    \n",
    "#     tokens = word_tokenize(text)\n",
    "#     cleaned_tokens = [token.lower() for token in tokens if token.isalpha()]\n",
    "#     cleaned_text = ' '.join(cleaned_tokens)\n",
    "#     return cleaned_text\n",
    "\n",
    "# preprocess(text)\n",
    "\n"
   ]
  },
  {
   "cell_type": "code",
   "execution_count": 234,
   "metadata": {},
   "outputs": [],
   "source": [
    "df['cleaned_tweet'] = df['tweet'].apply(preprocess)"
   ]
  },
  {
   "cell_type": "code",
   "execution_count": 235,
   "metadata": {},
   "outputs": [
    {
     "data": {
      "text/html": [
       "<div>\n",
       "<style scoped>\n",
       "    .dataframe tbody tr th:only-of-type {\n",
       "        vertical-align: middle;\n",
       "    }\n",
       "\n",
       "    .dataframe tbody tr th {\n",
       "        vertical-align: top;\n",
       "    }\n",
       "\n",
       "    .dataframe thead th {\n",
       "        text-align: right;\n",
       "    }\n",
       "</style>\n",
       "<table border=\"1\" class=\"dataframe\">\n",
       "  <thead>\n",
       "    <tr style=\"text-align: right;\">\n",
       "      <th></th>\n",
       "      <th>id</th>\n",
       "      <th>label</th>\n",
       "      <th>tweet</th>\n",
       "      <th>cleaned_tweet</th>\n",
       "    </tr>\n",
       "  </thead>\n",
       "  <tbody>\n",
       "    <tr>\n",
       "      <th>0</th>\n",
       "      <td>1</td>\n",
       "      <td>0</td>\n",
       "      <td>@user when a father is dysfunctional and is s...</td>\n",
       "      <td>user when a father is dysfunctional and is so ...</td>\n",
       "    </tr>\n",
       "    <tr>\n",
       "      <th>1</th>\n",
       "      <td>2</td>\n",
       "      <td>0</td>\n",
       "      <td>@user @user thanks for #lyft credit i can't us...</td>\n",
       "      <td>user user thanks for lyft credit i cant use ca...</td>\n",
       "    </tr>\n",
       "    <tr>\n",
       "      <th>2</th>\n",
       "      <td>3</td>\n",
       "      <td>0</td>\n",
       "      <td>bihday your majesty</td>\n",
       "      <td>bihday your majesty</td>\n",
       "    </tr>\n",
       "    <tr>\n",
       "      <th>3</th>\n",
       "      <td>4</td>\n",
       "      <td>0</td>\n",
       "      <td>#model   i love u take with u all the time in ...</td>\n",
       "      <td>model i love u take with u all the time in ur</td>\n",
       "    </tr>\n",
       "    <tr>\n",
       "      <th>4</th>\n",
       "      <td>5</td>\n",
       "      <td>0</td>\n",
       "      <td>factsguide: society now    #motivation</td>\n",
       "      <td>factsguide society now motivation</td>\n",
       "    </tr>\n",
       "  </tbody>\n",
       "</table>\n",
       "</div>"
      ],
      "text/plain": [
       "   id  label                                              tweet  \\\n",
       "0   1      0   @user when a father is dysfunctional and is s...   \n",
       "1   2      0  @user @user thanks for #lyft credit i can't us...   \n",
       "2   3      0                                bihday your majesty   \n",
       "3   4      0  #model   i love u take with u all the time in ...   \n",
       "4   5      0             factsguide: society now    #motivation   \n",
       "\n",
       "                                       cleaned_tweet  \n",
       "0  user when a father is dysfunctional and is so ...  \n",
       "1  user user thanks for lyft credit i cant use ca...  \n",
       "2                                bihday your majesty  \n",
       "3      model i love u take with u all the time in ur  \n",
       "4                  factsguide society now motivation  "
      ]
     },
     "execution_count": 235,
     "metadata": {},
     "output_type": "execute_result"
    }
   ],
   "source": [
    "df.head()"
   ]
  },
  {
   "cell_type": "code",
   "execution_count": 236,
   "metadata": {},
   "outputs": [
    {
     "data": {
      "text/plain": [
       "'user user thanks for lyft credit i cant use cause they dont offer wheelchair vans in pdx disapointed getthanked'"
      ]
     },
     "execution_count": 236,
     "metadata": {},
     "output_type": "execute_result"
    }
   ],
   "source": [
    "\n",
    "df['cleaned_tweet'][1]"
   ]
  },
  {
   "cell_type": "code",
   "execution_count": null,
   "metadata": {},
   "outputs": [],
   "source": [
    "# Tokenize and pad the sequences\n",
    "\n",
    "vocab_size = 5000\n",
    "max_length = 50\n",
    "\n",
    "# Initialize and fit the tokenizer\n",
    "#fit_on_texts() → Learns the vocabulary and assigns unique numbers to words.\n",
    "\n",
    "tokenizer = Tokenizer(num_words=vocab_size)\n",
    "tokenizer.fit_on_texts(df['cleaned_tweet'])"
   ]
  },
  {
   "cell_type": "code",
   "execution_count": null,
   "metadata": {},
   "outputs": [],
   "source": [
    "# Convert text to sequences of integers : \n",
    "# texts_to_sequences() → Converts text into sequences of numbers.\n",
    "\n",
    "sequences = tokenizer.texts_to_sequences(df['cleaned_tweet'])"
   ]
  },
  {
   "cell_type": "code",
   "execution_count": 239,
   "metadata": {},
   "outputs": [],
   "source": [
    "# Pad sequences to ensure uniform length\n",
    "padd_sequences = pad_sequences(sequences,maxlen=max_length,padding='post',truncating='post')"
   ]
  },
  {
   "cell_type": "code",
   "execution_count": 240,
   "metadata": {},
   "outputs": [],
   "source": [
    "X = padd_sequences\n",
    "y = df['label'].values"
   ]
  },
  {
   "cell_type": "code",
   "execution_count": 241,
   "metadata": {},
   "outputs": [
    {
     "data": {
      "text/plain": [
       "array([[   1,   34,    4, ...,    0,    0,    0],\n",
       "       [   1,    1,  169, ...,    0,    0,    0],\n",
       "       [  59,   25, 3200, ...,    0,    0,    0],\n",
       "       ...,\n",
       "       [1052,    3,  123, ...,    0,    0,    0],\n",
       "       [   1, 1509, 1283, ...,    0,    0,    0],\n",
       "       [ 167,    6,    1, ...,    0,    0,    0]], dtype=int32)"
      ]
     },
     "execution_count": 241,
     "metadata": {},
     "output_type": "execute_result"
    }
   ],
   "source": [
    "X"
   ]
  },
  {
   "cell_type": "code",
   "execution_count": 242,
   "metadata": {},
   "outputs": [
    {
     "data": {
      "text/plain": [
       "array([0, 0, 0, ..., 0, 1, 0])"
      ]
     },
     "execution_count": 242,
     "metadata": {},
     "output_type": "execute_result"
    }
   ],
   "source": [
    "y"
   ]
  },
  {
   "cell_type": "code",
   "execution_count": 243,
   "metadata": {},
   "outputs": [],
   "source": [
    "X_train,X_test,y_train,y_test = train_test_split(X,y,test_size=0.2,random_state=42)"
   ]
  },
  {
   "cell_type": "code",
   "execution_count": 244,
   "metadata": {},
   "outputs": [
    {
     "data": {
      "text/plain": [
       "array([[   1,    1,    1, ...,    0,    0,    0],\n",
       "       [   1, 1624,   27, ...,    0,    0,    0],\n",
       "       [  90,   90,  173, ...,    0,    0,    0],\n",
       "       ...,\n",
       "       [ 204,  174,   56, ...,    0,    0,    0],\n",
       "       [  10, 1664,  490, ...,    0,    0,    0],\n",
       "       [  43,  174,   57, ...,    0,    0,    0]], dtype=int32)"
      ]
     },
     "execution_count": 244,
     "metadata": {},
     "output_type": "execute_result"
    }
   ],
   "source": [
    "X_train"
   ]
  },
  {
   "cell_type": "code",
   "execution_count": 245,
   "metadata": {},
   "outputs": [],
   "source": [
    "model = Sequential([\n",
    "    Embedding(input_dim=vocab_size,output_dim=100,input_length=max_length),\n",
    "    Bidirectional(LSTM(64)),\n",
    "    Dropout(0.6),\n",
    "    Dense(64,activation='relu',kernel_regularizer=l2(0.001)),\n",
    "    Dropout(0.6),\n",
    "    Dense(1,activation='sigmoid')\n",
    "    \n",
    "])"
   ]
  },
  {
   "cell_type": "code",
   "execution_count": 246,
   "metadata": {},
   "outputs": [
    {
     "name": "stdout",
     "output_type": "stream",
     "text": [
      "Model: \"sequential_6\"\n",
      "_________________________________________________________________\n",
      "Layer (type)                 Output Shape              Param #   \n",
      "=================================================================\n",
      "embedding_6 (Embedding)      (None, 50, 100)           500000    \n",
      "_________________________________________________________________\n",
      "bidirectional_6 (Bidirection (None, 128)               84480     \n",
      "_________________________________________________________________\n",
      "dropout_12 (Dropout)         (None, 128)               0         \n",
      "_________________________________________________________________\n",
      "dense_12 (Dense)             (None, 64)                8256      \n",
      "_________________________________________________________________\n",
      "dropout_13 (Dropout)         (None, 64)                0         \n",
      "_________________________________________________________________\n",
      "dense_13 (Dense)             (None, 1)                 65        \n",
      "=================================================================\n",
      "Total params: 592,801\n",
      "Trainable params: 592,801\n",
      "Non-trainable params: 0\n",
      "_________________________________________________________________\n"
     ]
    }
   ],
   "source": [
    "model.summary()"
   ]
  },
  {
   "cell_type": "code",
   "execution_count": 247,
   "metadata": {},
   "outputs": [],
   "source": [
    "#Compile the model\n",
    "model.compile(loss='binary_crossentropy',optimizer='adam',metrics=['accuracy'])"
   ]
  },
  {
   "cell_type": "code",
   "execution_count": 248,
   "metadata": {},
   "outputs": [],
   "source": [
    "from tensorflow.keras.callbacks import EarlyStopping\n",
    "\n",
    "early_stopping = EarlyStopping(monitor='val_loss',patience=2,restore_best_weights=True)"
   ]
  },
  {
   "cell_type": "code",
   "execution_count": 249,
   "metadata": {},
   "outputs": [
    {
     "name": "stdout",
     "output_type": "stream",
     "text": [
      "Epoch 1/15\n",
      "800/800 [==============================] - 41s 48ms/step - loss: 0.2224 - accuracy: 0.9447 - val_loss: 0.1542 - val_accuracy: 0.9528\n",
      "Epoch 2/15\n",
      "800/800 [==============================] - 32s 40ms/step - loss: 0.1106 - accuracy: 0.9675 - val_loss: 0.1274 - val_accuracy: 0.9579\n",
      "Epoch 3/15\n",
      "800/800 [==============================] - 36s 45ms/step - loss: 0.0802 - accuracy: 0.9741 - val_loss: 0.1547 - val_accuracy: 0.9564\n",
      "Epoch 4/15\n",
      "800/800 [==============================] - 32s 40ms/step - loss: 0.0596 - accuracy: 0.9821 - val_loss: 0.1680 - val_accuracy: 0.9550\n"
     ]
    }
   ],
   "source": [
    "history = model.fit(X_train,y_train,epochs=15,batch_size=32,validation_data=(X_test,y_test),callbacks=[early_stopping])"
   ]
  },
  {
   "cell_type": "code",
   "execution_count": 250,
   "metadata": {},
   "outputs": [
    {
     "name": "stdout",
     "output_type": "stream",
     "text": [
      "200/200 [==============================] - 2s 10ms/step - loss: 0.1274 - accuracy: 0.9579\n",
      "Validation Accuracy:0.9579227566719055\n"
     ]
    }
   ],
   "source": [
    "loss,accuracy = model.evaluate(X_test,y_test)\n",
    "print(f\"Validation Accuracy:{accuracy}\")"
   ]
  },
  {
   "cell_type": "code",
   "execution_count": 251,
   "metadata": {},
   "outputs": [],
   "source": [
    "# Save the trained model as an H5 file\n",
    "model.save(\"twitter_sentiment_train.h5\")"
   ]
  },
  {
   "cell_type": "code",
   "execution_count": 252,
   "metadata": {},
   "outputs": [],
   "source": [
    "import pickle\n",
    "# Save the tokenizer for later use\n",
    "with open(\"tokenizer.pickle\", \"wb\") as handle:\n",
    "    pickle.dump(tokenizer, handle, protocol=pickle.HIGHEST_PROTOCOL)"
   ]
  },
  {
   "cell_type": "code",
   "execution_count": 253,
   "metadata": {},
   "outputs": [
    {
     "data": {
      "image/png": "[encoded data removed]",
      "text/plain": [
       "<Figure size 864x288 with 2 Axes>"
      ]
     },
     "metadata": {
      "needs_background": "light"
     },
     "output_type": "display_data"
    }
   ],
   "source": [
    "# Visualize training history\n",
    "plt.figure(figsize=(12, 4))\n",
    "\n",
    "# Plot accuracy\n",
    "plt.subplot(1, 2, 1)\n",
    "plt.plot(history.history['accuracy'], label='Training Accuracy')\n",
    "plt.plot(history.history['val_accuracy'], label='Validation Accuracy')\n",
    "plt.title('Model Accuracy')\n",
    "plt.xlabel('Epoch')\n",
    "plt.ylabel('Accuracy')\n",
    "plt.legend()\n",
    "\n",
    "# Plot loss\n",
    "plt.subplot(1, 2, 2)\n",
    "plt.plot(history.history['loss'], label='Training Loss')\n",
    "plt.plot(history.history['val_loss'], label='Validation Loss')\n",
    "plt.title('Model Loss')\n",
    "plt.xlabel('Epoch')\n",
    "plt.ylabel('Loss')\n",
    "plt.legend()\n",
    "\n",
    "plt.tight_layout()\n",
    "plt.show()"
   ]
  },
  {
   "cell_type": "markdown",
   "metadata": {},
   "source": [
    "## Prediction"
   ]
  },
  {
   "cell_type": "code",
   "execution_count": 254,
   "metadata": {},
   "outputs": [
    {
     "name": "stdout",
     "output_type": "stream",
     "text": [
      "Sentiment:Negaitve,Probability:0.9864911139011383\n"
     ]
    }
   ],
   "source": [
    "def predict_sentiment(tweet,tokenizer,model,max_length=50):\n",
    "    # Step 1: Preprocess the tweet using the same preprocess function\n",
    "    cleaned_tweet = preprocess(tweet)\n",
    "\n",
    "    # Step 2: Convert the cleaned tweet to a sequence of integers\n",
    "    sequence = tokenizer.texts_to_sequences([cleaned_tweet])\n",
    "\n",
    "    # Step 3: Pad the sequence to match the model's expected input length\n",
    "    pad_sequence = pad_sequences(sequence,maxlen=max_length,padding='post',truncating='post')\n",
    "\n",
    "    # Step 4: Make the prediction using the trained model\n",
    "    prediction = model.predict(pad_sequence)[0][0]\n",
    "\n",
    "    # Interpret the prediction\n",
    "    sentiment = \"Positive\" if prediction >= 0.5 else \"Negaitve\"\n",
    "    probability = prediction if sentiment == 'Postive' else 1 - prediction\n",
    "\n",
    "\n",
    "    return sentiment,probability\n",
    "\n",
    "new_tweet = \"This is the wonderful day\"\n",
    "sentiment,probability = predict_sentiment(new_tweet,tokenizer,model)\n",
    "\n",
    "print(f\"Sentiment:{sentiment},Probability:{probability}\")"
   ]
  },
  {
   "cell_type": "markdown",
   "metadata": {},
   "source": [
    "## Using Hugging face models"
   ]
  },
  {
   "cell_type": "code",
   "execution_count": 255,
   "metadata": {},
   "outputs": [
    {
     "name": "stderr",
     "output_type": "stream",
     "text": [
      "No model was supplied, defaulted to distilbert-base-uncased-finetuned-sst-2-english (https://huggingface.co/distilbert-base-uncased-finetuned-sst-2-english)\n"
     ]
    },
    {
     "name": "stdout",
     "output_type": "stream",
     "text": [
      "The quality is terrible, and the customer support was unhelpful.\n",
      "NEGATIVE:(score:1.000)\n",
      "Sentence: 'I like this guy very much!'\n",
      "Sentiment: POSITIVE (Score: 0.9999)\n",
      "\n",
      "Sentence: 'This was a very bad experience.'\n",
      "Sentiment: NEGATIVE (Score: 0.9998)\n",
      "\n"
     ]
    }
   ],
   "source": [
    "from transformers import pipeline\n",
    "\n",
    "sentiment_analyzer = pipeline('sentiment-analysis')\n",
    "\n",
    "sentence = \"The quality is terrible, and the customer support was unhelpful.\"\n",
    "\n",
    "result = sentiment_analyzer(sentence)[0]\n",
    "\n",
    "print(sentence)\n",
    "print(f\"{result['label']}:(score:{result['score']:.3f})\")\n",
    "\n",
    "# Example usage\n",
    "sentences = [\n",
    "    \"I like this guy very much!\",\n",
    "    \"This was a very bad experience.\"\n",
    "]\n",
    "\n",
    "for sentence in sentences:\n",
    "    result = sentiment_analyzer(sentence)[0]\n",
    "    print(f\"Sentence: '{sentence}'\")\n",
    "    print(f\"Sentiment: {result['label']} (Score: {result['score']:.4f})\\n\")\n"
   ]
  },
  {
   "cell_type": "code",
   "execution_count": null,
   "metadata": {},
   "outputs": [],
   "source": []
  }
 ],
 "metadata": {
  "kernelspec": {
   "display_name": "venv",
   "language": "python",
   "name": "python3"
  },
  "language_info": {
   "codemirror_mode": {
    "name": "ipython",
    "version": 3
   },
   "file_extension": ".py",
   "mimetype": "text/x-python",
   "name": "python",
   "nbconvert_exporter": "python",
   "pygments_lexer": "ipython3",
   "version": "3.6.9"
  }
 },
 "nbformat": 4,
 "nbformat_minor": 2
}
