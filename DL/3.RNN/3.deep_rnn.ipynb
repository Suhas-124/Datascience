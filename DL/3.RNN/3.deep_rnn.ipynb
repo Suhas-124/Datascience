{
 "cells": [
  {
   "cell_type": "code",
   "execution_count": 2,
   "metadata": {},
   "outputs": [],
   "source": [
    "import tensorflow as tf\n",
    "from tensorflow.keras.datasets import imdb\n",
    "from tensorflow.keras.preprocessing.sequence import pad_sequences\n",
    "from tensorflow.keras.models import Sequential\n",
    "from tensorflow.keras.layers import Embedding,SimpleRNN,Dense,LSTM,GRU"
   ]
  },
  {
   "cell_type": "code",
   "execution_count": null,
   "metadata": {},
   "outputs": [],
   "source": [
    "#Load the IMDB dataset\n",
    "(X_train,y_train),(X_test,y_test) = imdb.load_data(num_words=10000)\n",
    "\n",
    "#pad sequences to have the same length\n",
    "X_train = pad_sequences(X_train,maxlen=100)\n",
    "X_test = pad_sequences(X_test,maxlen=100)\n"
   ]
  },
  {
   "cell_type": "code",
   "execution_count": 4,
   "metadata": {},
   "outputs": [
    {
     "name": "stdout",
     "output_type": "stream",
     "text": [
      "Model: \"sequential\"\n",
      "_________________________________________________________________\n",
      "Layer (type)                 Output Shape              Param #   \n",
      "=================================================================\n",
      "embedding (Embedding)        (None, 100, 32)           320000    \n",
      "_________________________________________________________________\n",
      "simple_rnn (SimpleRNN)       (None, 100, 5)            190       \n",
      "_________________________________________________________________\n",
      "simple_rnn_1 (SimpleRNN)     (None, 5)                 55        \n",
      "_________________________________________________________________\n",
      "dense (Dense)                (None, 1)                 6         \n",
      "=================================================================\n",
      "Total params: 320,251\n",
      "Trainable params: 320,251\n",
      "Non-trainable params: 0\n",
      "_________________________________________________________________\n"
     ]
    }
   ],
   "source": [
    "# Define the RNN Model\n",
    "\n",
    "model = Sequential([\n",
    "    Embedding(10000,32,input_length=100), # Embedding layer to convert words to vectors\n",
    "    SimpleRNN(5,return_sequences=True), # RNN layer with 5 units\n",
    "    SimpleRNN(5),  # Another RNN layer with 5 units\n",
    "    Dense(1,activation='sigmoid') # Output layer for binary classification\n",
    "\n",
    "\n",
    "        \n",
    "    ]\n",
    ")\n",
    "\n",
    "model.summary()"
   ]
  },
  {
   "cell_type": "code",
   "execution_count": 5,
   "metadata": {},
   "outputs": [
    {
     "name": "stdout",
     "output_type": "stream",
     "text": [
      "Model: \"sequential_1\"\n",
      "_________________________________________________________________\n",
      "Layer (type)                 Output Shape              Param #   \n",
      "=================================================================\n",
      "embedding_1 (Embedding)      (None, 100, 32)           320000    \n",
      "_________________________________________________________________\n",
      "lstm (LSTM)                  (None, 100, 5)            760       \n",
      "_________________________________________________________________\n",
      "lstm_1 (LSTM)                (None, 5)                 220       \n",
      "_________________________________________________________________\n",
      "dense_1 (Dense)              (None, 1)                 6         \n",
      "=================================================================\n",
      "Total params: 320,986\n",
      "Trainable params: 320,986\n",
      "Non-trainable params: 0\n",
      "_________________________________________________________________\n"
     ]
    }
   ],
   "source": [
    "# Define the LSTM model\n",
    "\n",
    "model = Sequential([\n",
    "    Embedding(10000,32,input_length=100),\n",
    "    LSTM(5,return_sequences=True),\n",
    "    LSTM(5),\n",
    "    Dense(1,activation='sigmoid')\n",
    "\n",
    "])\n",
    "\n",
    "model.summary()"
   ]
  },
  {
   "cell_type": "code",
   "execution_count": 6,
   "metadata": {},
   "outputs": [
    {
     "name": "stdout",
     "output_type": "stream",
     "text": [
      "Model: \"sequential_2\"\n",
      "_________________________________________________________________\n",
      "Layer (type)                 Output Shape              Param #   \n",
      "=================================================================\n",
      "embedding_2 (Embedding)      (None, 100, 32)           320000    \n",
      "_________________________________________________________________\n",
      "gru (GRU)                    (None, 100, 5)            585       \n",
      "_________________________________________________________________\n",
      "gru_1 (GRU)                  (None, 5)                 180       \n",
      "_________________________________________________________________\n",
      "dense_2 (Dense)              (None, 1)                 6         \n",
      "=================================================================\n",
      "Total params: 320,771\n",
      "Trainable params: 320,771\n",
      "Non-trainable params: 0\n",
      "_________________________________________________________________\n"
     ]
    }
   ],
   "source": [
    "# Define the GRU model\n",
    "model = Sequential([\n",
    "    Embedding(10000, 32, input_length=100),\n",
    "    GRU(5, return_sequences=True),\n",
    "    GRU(5),\n",
    "    Dense(1, activation='sigmoid')\n",
    "])\n",
    "\n",
    "model.summary()"
   ]
  },
  {
   "cell_type": "code",
   "execution_count": 7,
   "metadata": {},
   "outputs": [],
   "source": [
    "# Compile the model\n",
    "model.compile(optimizer='adam', loss='binary_crossentropy', metrics=['accuracy'])"
   ]
  },
  {
   "cell_type": "code",
   "execution_count": 8,
   "metadata": {},
   "outputs": [
    {
     "name": "stdout",
     "output_type": "stream",
     "text": [
      "Epoch 1/5\n",
      "625/625 [==============================] - 36s 55ms/step - loss: 0.4900 - accuracy: 0.7528 - val_loss: 0.4083 - val_accuracy: 0.8100\n",
      "Epoch 2/5\n",
      "625/625 [==============================] - 38s 61ms/step - loss: 0.2825 - accuracy: 0.8875 - val_loss: 0.3640 - val_accuracy: 0.8438\n",
      "Epoch 3/5\n",
      "625/625 [==============================] - 44s 70ms/step - loss: 0.2144 - accuracy: 0.9212 - val_loss: 0.3927 - val_accuracy: 0.8392\n",
      "Epoch 4/5\n",
      "625/625 [==============================] - 40s 65ms/step - loss: 0.1658 - accuracy: 0.9416 - val_loss: 0.4175 - val_accuracy: 0.8424\n",
      "Epoch 5/5\n",
      "625/625 [==============================] - 44s 71ms/step - loss: 0.1320 - accuracy: 0.9559 - val_loss: 0.4847 - val_accuracy: 0.8290\n"
     ]
    }
   ],
   "source": [
    "# Train the model\n",
    "history = model.fit(X_train, y_train, epochs=5, batch_size=32, validation_split=0.2)"
   ]
  },
  {
   "cell_type": "code",
   "execution_count": null,
   "metadata": {},
   "outputs": [],
   "source": []
  }
 ],
 "metadata": {
  "kernelspec": {
   "display_name": "venv",
   "language": "python",
   "name": "python3"
  },
  "language_info": {
   "codemirror_mode": {
    "name": "ipython",
    "version": 3
   },
   "file_extension": ".py",
   "mimetype": "text/x-python",
   "name": "python",
   "nbconvert_exporter": "python",
   "pygments_lexer": "ipython3",
   "version": "3.6.9"
  }
 },
 "nbformat": 4,
 "nbformat_minor": 2
}
