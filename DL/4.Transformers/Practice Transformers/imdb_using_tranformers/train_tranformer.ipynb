{
 "cells": [
  {
   "cell_type": "code",
   "execution_count": 36,
   "metadata": {},
   "outputs": [],
   "source": [
    "import tensorflow as tf\n",
    "from tensorflow.keras.datasets import imdb\n",
    "from tensorflow.keras.preprocessing.sequence import pad_sequences\n",
    "from tensorflow.keras.models import Sequential\n",
    "from tensorflow.keras.layers import Dense,GlobalAveragePooling1D,LayerNormalization,Dropout"
   ]
  },
  {
   "cell_type": "code",
   "execution_count": 37,
   "metadata": {},
   "outputs": [],
   "source": [
    "#settings\n",
    "vocab_size = 10000\n",
    "max_length = 100\n",
    "embedding_dim = 64\n",
    "num_heads = 2 \n",
    "dff = 128\n",
    "batch_size = 32\n",
    "epochs = 5"
   ]
  },
  {
   "cell_type": "code",
   "execution_count": 38,
   "metadata": {},
   "outputs": [],
   "source": [
    "#Step 1: Load and prepare the IMDb data\n",
    "\n",
    "(X_train,y_train),(X_test,y_test) = imdb.load_data(num_words=vocab_size)\n",
    "X_train = pad_sequences(X_train,maxlen=max_length,padding='post')\n",
    "X_test = pad_sequences(X_test,maxlen=max_length,padding='post')"
   ]
  },
  {
   "cell_type": "code",
   "execution_count": 39,
   "metadata": {},
   "outputs": [
    {
     "data": {
      "text/plain": [
       "array([1415,   33,    6,   22,   12,  215,   28,   77,   52,    5,   14,\n",
       "        407,   16,   82,    2,    8,    4,  107,  117, 5952,   15,  256,\n",
       "          4,    2,    7, 3766,    5,  723,   36,   71,   43,  530,  476,\n",
       "         26,  400,  317,   46,    7,    4,    2, 1029,   13,  104,   88,\n",
       "          4,  381,   15,  297,   98,   32, 2071,   56,   26,  141,    6,\n",
       "        194, 7486,   18,    4,  226,   22,   21,  134,  476,   26,  480,\n",
       "          5,  144,   30, 5535,   18,   51,   36,   28,  224,   92,   25,\n",
       "        104,    4,  226,   65,   16,   38, 1334,   88,   12,   16,  283,\n",
       "          5,   16, 4472,  113,  103,   32,   15,   16, 5345,   19,  178,\n",
       "         32], dtype=int32)"
      ]
     },
     "execution_count": 39,
     "metadata": {},
     "output_type": "execute_result"
    }
   ],
   "source": [
    "X_train[0]"
   ]
  },
  {
   "cell_type": "code",
   "execution_count": 40,
   "metadata": {},
   "outputs": [],
   "source": [
    "# Adds position info to word vectors\n",
    "\n",
    "class PostionalEncoding(tf.keras.layers.Layer):\n",
    "    def __init__(self,max_length,d_model):\n",
    "        super(PostionalEncoding,self).__init__()\n",
    "        self.pos_encoding = self.postional_encoding(max_length,d_model)\n",
    "\n",
    "    def postional_encoding(self,max_length,d_model):\n",
    "        pos = tf.range(max_length,dtype=tf.float32)[:,tf.newaxis]\n",
    "        i = tf.range(d_model,dtype=tf.float32)[tf.newaxis,:]\n",
    "        angle_rates = 1 / tf.pow(10000,(2 * (i//2) / tf.cast(d_model,tf.float32)))\n",
    "        angles = pos * angle_rates\n",
    "        sines = tf.math.sin(angles[:,0::2])\n",
    "        cosines = tf.math.cos(angles[:,1::2])\n",
    "        pos_enc = tf.concat([sines,cosines],axis=1)\n",
    "        return pos_enc[tf.newaxis,...]\n",
    "    \n",
    "    def call(self,x):\n",
    "        seq_len = tf.shape(x)[1]\n",
    "        return x + self.pos_encoding[:,:seq_len,:]\n",
    "\n",
    "# The Transformer encoder layer\n",
    "class TransformerEncoderLayer(tf.keras.layers.Layer):\n",
    "    def __init__(self,num_heads,d_model,dff,rate=0.1):\n",
    "        super(TransformerEncoderLayer,self).__init__()\n",
    "        self.mha = tf.keras.layers.MultiHeadAttention(num_heads=num_heads,key_dim=d_model // num_heads)\n",
    "        self.ffn = tf.keras.Sequential([\n",
    "            Dense(dff,activation='relu'),\n",
    "            Dense(d_model)\n",
    "        ])\n",
    "        self.layernorm1 = LayerNormalization(epsilon=1e-6)\n",
    "        self.layernorm2 = LayerNormalization(epsilon=1e-6)\n",
    "        self.dropout1 = Dropout(rate)\n",
    "        self.dropout2 = Dropout(rate)\n",
    "\n",
    "    def call(self,x,training):\n",
    "        attn_output = self.mha(x,x,x)\n",
    "        attn_output = self.dropout1(attn_output,training=training)\n",
    "        out1 = self.layernorm1(x + attn_output)\n",
    "        ffn_output = self.ffn(out1)\n",
    "        ffn_output = self.dropout2(ffn_output,training=training)\n",
    "        return self.layernorm2(out1+ffn_output)\n"
   ]
  },
  {
   "cell_type": "code",
   "execution_count": 41,
   "metadata": {},
   "outputs": [],
   "source": [
    "#Build the model\n",
    "\n",
    "model = Sequential([\n",
    "    tf.keras.layers.Embedding(vocab_size,embedding_dim,input_length=max_length),\n",
    "    PostionalEncoding(max_length,embedding_dim),\n",
    "    TransformerEncoderLayer(num_heads,embedding_dim,dff),\n",
    "    GlobalAveragePooling1D(),\n",
    "    Dense(1,activation='sigmoid')\n",
    "])"
   ]
  },
  {
   "cell_type": "code",
   "execution_count": 42,
   "metadata": {},
   "outputs": [
    {
     "name": "stdout",
     "output_type": "stream",
     "text": [
      "Epoch 1/5\n",
      "625/625 [==============================] - 28s 44ms/step - loss: 0.4800 - accuracy: 0.7394 - val_loss: 0.3348 - val_accuracy: 0.8500\n",
      "Epoch 2/5\n",
      "625/625 [==============================] - 24s 39ms/step - loss: 0.2615 - accuracy: 0.8935 - val_loss: 0.3514 - val_accuracy: 0.8508\n",
      "Epoch 3/5\n",
      "625/625 [==============================] - 25s 41ms/step - loss: 0.1868 - accuracy: 0.9284 - val_loss: 0.4339 - val_accuracy: 0.8276\n",
      "Epoch 4/5\n",
      "625/625 [==============================] - 25s 40ms/step - loss: 0.1266 - accuracy: 0.9549 - val_loss: 0.4888 - val_accuracy: 0.8312\n",
      "Epoch 5/5\n",
      "625/625 [==============================] - 28s 44ms/step - loss: 0.0854 - accuracy: 0.9708 - val_loss: 0.6133 - val_accuracy: 0.8188\n"
     ]
    },
    {
     "data": {
      "text/plain": [
       "<keras.callbacks.History at 0x7f0765f43be0>"
      ]
     },
     "execution_count": 42,
     "metadata": {},
     "output_type": "execute_result"
    }
   ],
   "source": [
    "# Step 3: Compile and train\n",
    "\n",
    "model.compile(optimizer='adam',loss='binary_crossentropy',metrics=['accuracy'])\n",
    "model.fit(X_train,y_train,epochs=epochs,batch_size=batch_size,validation_split=0.2)"
   ]
  },
  {
   "cell_type": "code",
   "execution_count": 46,
   "metadata": {},
   "outputs": [
    {
     "name": "stdout",
     "output_type": "stream",
     "text": [
      "Sentence: 'very great experience!'\n",
      "Predicted sentiment: Negative (Probability: 0.0340)\n"
     ]
    }
   ],
   "source": [
    "# NEW: Prediction function for a custom sentence\n",
    "def predict_sentiment(sentence, model, max_length, vocab_size):\n",
    "    # Get the IMDb word index\n",
    "    word_index = imdb.get_word_index()\n",
    "    \n",
    "    # Preprocess the sentence\n",
    "    # Convert to lowercase and split into words\n",
    "    words = sentence.lower().split()\n",
    "    \n",
    "    # Map words to their indices (unknown words get index 0)\n",
    "    sequence = [word_index.get(word, 0) for word in words if word_index.get(word, 0) < vocab_size]\n",
    "    \n",
    "    # Pad the sequence to match model's input length\n",
    "    padded_sequence = pad_sequences([sequence], maxlen=max_length, padding='post')\n",
    "    \n",
    "    # Predict\n",
    "    pred_prob = model.predict(padded_sequence, verbose=0)[0][0]  # Probability output\n",
    "    pred_label = 1 if pred_prob > 0.5 else 0  # Threshold at 0.5\n",
    "    return 'Positive' if pred_label == 1 else 'Negative', pred_prob\n",
    "\n",
    "# Example usage\n",
    "custom_sentence = \"very great experience!\"\n",
    "sentiment, probability = predict_sentiment(custom_sentence, model, max_length, vocab_size)\n",
    "print(f\"Sentence: '{custom_sentence}'\")\n",
    "print(f\"Predicted sentiment: {sentiment} (Probability: {probability:.4f})\")\n",
    "\n",
    "# # Another example\n",
    "# another_sentence = \"This was a bad experience.\"\n",
    "# sentiment, probability = predict_sentiment(another_sentence, model, max_length, vocab_size)\n",
    "# print(f\"Sentence: '{another_sentence}'\")\n",
    "# print(f\"Predicted sentiment: {sentiment} (Probability: {probability:.4f})\")"
   ]
  },
  {
   "cell_type": "code",
   "execution_count": null,
   "metadata": {},
   "outputs": [],
   "source": []
  }
 ],
 "metadata": {
  "kernelspec": {
   "display_name": "venv",
   "language": "python",
   "name": "python3"
  },
  "language_info": {
   "codemirror_mode": {
    "name": "ipython",
    "version": 3
   },
   "file_extension": ".py",
   "mimetype": "text/x-python",
   "name": "python",
   "nbconvert_exporter": "python",
   "pygments_lexer": "ipython3",
   "version": "3.6.9"
  }
 },
 "nbformat": 4,
 "nbformat_minor": 2
}
