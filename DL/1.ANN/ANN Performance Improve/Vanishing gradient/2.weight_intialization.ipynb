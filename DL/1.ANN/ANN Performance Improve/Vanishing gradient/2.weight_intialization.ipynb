{
 "cells": [
  {
   "cell_type": "code",
   "execution_count": 1,
   "metadata": {},
   "outputs": [
    {
     "name": "stdout",
     "output_type": "stream",
     "text": [
      "\n",
      "🔹 Training with <keras.initializers.initializers_v2.GlorotUniform object at 0x7f8c4db656a0> Initialization\n",
      "Epoch 1/3\n",
      "938/938 [==============================] - 2s 2ms/step - loss: 0.2779 - accuracy: 0.9200 - val_loss: 0.1363 - val_accuracy: 0.9589\n",
      "Epoch 2/3\n",
      "938/938 [==============================] - 1s 1ms/step - loss: 0.1153 - accuracy: 0.9654 - val_loss: 0.1042 - val_accuracy: 0.9684\n",
      "Epoch 3/3\n",
      "938/938 [==============================] - 1s 2ms/step - loss: 0.0789 - accuracy: 0.9757 - val_loss: 0.0832 - val_accuracy: 0.9742\n",
      "\n",
      "🔹 Training with <keras.initializers.initializers_v2.HeNormal object at 0x7f8c44117f98> Initialization\n",
      "Epoch 1/3\n",
      "938/938 [==============================] - 2s 1ms/step - loss: 0.2649 - accuracy: 0.9231 - val_loss: 0.1544 - val_accuracy: 0.9509\n",
      "Epoch 2/3\n",
      "938/938 [==============================] - 2s 2ms/step - loss: 0.1126 - accuracy: 0.9664 - val_loss: 0.1110 - val_accuracy: 0.9666\n",
      "Epoch 3/3\n",
      "938/938 [==============================] - 2s 2ms/step - loss: 0.0775 - accuracy: 0.9764 - val_loss: 0.0895 - val_accuracy: 0.9703\n",
      "\n",
      "🔹 Training with <keras.initializers.initializers_v2.LecunNormal object at 0x7f8b7512c668> Initialization\n",
      "Epoch 1/3\n",
      "938/938 [==============================] - 2s 2ms/step - loss: 0.2976 - accuracy: 0.9153 - val_loss: 0.1396 - val_accuracy: 0.9578\n",
      "Epoch 2/3\n",
      "938/938 [==============================] - 1s 2ms/step - loss: 0.1219 - accuracy: 0.9633 - val_loss: 0.1133 - val_accuracy: 0.9639\n",
      "Epoch 3/3\n",
      "938/938 [==============================] - 1s 2ms/step - loss: 0.0845 - accuracy: 0.9745 - val_loss: 0.0824 - val_accuracy: 0.9737\n",
      "\n",
      "📊 Accuracy Comparison:\n",
      "🔹 Xavier (Glorot) Initialization: 0.9742\n",
      "🔹 He Initialization: 0.9703\n",
      "🔹 Lecun Initialization: 0.9737\n"
     ]
    }
   ],
   "source": [
    "import tensorflow as tf\n",
    "from tensorflow import keras\n",
    "from tensorflow.keras import layers, initializers\n",
    "import numpy as np\n",
    "\n",
    "# Load MNIST dataset\n",
    "(x_train, y_train), (x_test, y_test) = keras.datasets.mnist.load_data()\n",
    "x_train, x_test = x_train / 255.0, x_test / 255.0  # Normalize\n",
    "\n",
    "# Function to create a model with different initializations\n",
    "def create_model(init_type=\"glorot_uniform\"):\n",
    "    model = keras.Sequential([\n",
    "        layers.Flatten(input_shape=(28, 28)),  # Flatten images\n",
    "        layers.Dense(128, activation='relu', kernel_initializer=init_type),  \n",
    "        layers.Dense(64, activation='relu', kernel_initializer=init_type),\n",
    "        layers.Dense(10, activation='softmax', kernel_initializer=init_type)  # Output layer\n",
    "    ])\n",
    "    \n",
    "    model.compile(optimizer='adam', loss='sparse_categorical_crossentropy', metrics=['accuracy'])\n",
    "    return model\n",
    "\n",
    "# Training function\n",
    "def train_model(init_type):\n",
    "    print(f\"\\n🔹 Training with {init_type} Initialization\")\n",
    "    model = create_model(init_type)\n",
    "    history = model.fit(x_train, y_train, epochs=3, batch_size=64, validation_data=(x_test, y_test), verbose=1)\n",
    "    return history.history['val_accuracy'][-1]\n",
    "\n",
    "# Train with different initializations\n",
    "xavier_acc = train_model(initializers.GlorotUniform())  # Xavier\n",
    "he_acc = train_model(initializers.HeNormal())  # He Initialization\n",
    "lecun_acc = train_model(initializers.LecunNormal())  # Lecun\n",
    "\n",
    "# Print Final Results\n",
    "print(f\"\\n📊 Accuracy Comparison:\")\n",
    "print(f\"🔹 Xavier (Glorot) Initialization: {xavier_acc:.4f}\")\n",
    "print(f\"🔹 He Initialization: {he_acc:.4f}\")\n",
    "print(f\"🔹 Lecun Initialization: {lecun_acc:.4f}\")\n"
   ]
  },
  {
   "cell_type": "code",
   "execution_count": null,
   "metadata": {},
   "outputs": [],
   "source": []
  }
 ],
 "metadata": {
  "kernelspec": {
   "display_name": "venv",
   "language": "python",
   "name": "python3"
  },
  "language_info": {
   "codemirror_mode": {
    "name": "ipython",
    "version": 3
   },
   "file_extension": ".py",
   "mimetype": "text/x-python",
   "name": "python",
   "nbconvert_exporter": "python",
   "pygments_lexer": "ipython3",
   "version": "3.6.9"
  }
 },
 "nbformat": 4,
 "nbformat_minor": 2
}
