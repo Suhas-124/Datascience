{
 "cells": [
  {
   "cell_type": "code",
   "execution_count": 12,
   "metadata": {},
   "outputs": [],
   "source": [
    "import tensorflow as tf\n",
    "from tensorflow.keras.models import Sequential\n",
    "from tensorflow.keras.layers import Dense,Dropout\n",
    "from tensorflow.keras.datasets import mnist\n",
    "from tensorflow.keras.utils import to_categorical"
   ]
  },
  {
   "cell_type": "code",
   "execution_count": 13,
   "metadata": {},
   "outputs": [],
   "source": [
    "# Load MNIST dataset\n",
    "\n",
    "(X_train,y_train),(X_test,y_test) = mnist.load_data()\n",
    "\n",
    "#Normalize pixel values to [0,1]\n",
    "X_train,X_test = X_train/255.0 , X_test /255.0\n",
    "\n",
    "#Flatten images (28x28 to 784)\n",
    "X_train = X_train.reshape(-1,784)\n",
    "X_test = X_test.reshape(-1,784)\n",
    "\n",
    "# one-hot encode labels\n",
    "y_train = to_categorical(y_train,10)\n",
    "y_test = to_categorical(y_test,10)"
   ]
  },
  {
   "cell_type": "code",
   "execution_count": 14,
   "metadata": {},
   "outputs": [
    {
     "name": "stdout",
     "output_type": "stream",
     "text": [
      "Epoch 1/10\n",
      "469/469 [==============================] - 2s 3ms/step - loss: 0.2695 - accuracy: 0.9219 - val_loss: 0.1265 - val_accuracy: 0.9615\n",
      "Epoch 2/10\n",
      "469/469 [==============================] - 1s 3ms/step - loss: 0.0977 - accuracy: 0.9703 - val_loss: 0.0880 - val_accuracy: 0.9717\n",
      "Epoch 3/10\n",
      "469/469 [==============================] - 1s 3ms/step - loss: 0.0665 - accuracy: 0.9795 - val_loss: 0.0681 - val_accuracy: 0.9772\n",
      "Epoch 4/10\n",
      "469/469 [==============================] - 1s 3ms/step - loss: 0.0488 - accuracy: 0.9849 - val_loss: 0.0693 - val_accuracy: 0.9784\n",
      "Epoch 5/10\n",
      "469/469 [==============================] - 1s 3ms/step - loss: 0.0362 - accuracy: 0.9886 - val_loss: 0.0852 - val_accuracy: 0.9751\n",
      "Epoch 6/10\n",
      "469/469 [==============================] - 1s 3ms/step - loss: 0.0275 - accuracy: 0.9912 - val_loss: 0.0714 - val_accuracy: 0.9789\n",
      "Epoch 7/10\n",
      "469/469 [==============================] - 1s 3ms/step - loss: 0.0220 - accuracy: 0.9929 - val_loss: 0.0678 - val_accuracy: 0.9793\n",
      "Epoch 8/10\n",
      "469/469 [==============================] - 1s 3ms/step - loss: 0.0175 - accuracy: 0.9943 - val_loss: 0.0785 - val_accuracy: 0.9788\n",
      "Epoch 9/10\n",
      "469/469 [==============================] - 1s 3ms/step - loss: 0.0156 - accuracy: 0.9953 - val_loss: 0.0782 - val_accuracy: 0.9794\n",
      "Epoch 10/10\n",
      "469/469 [==============================] - 1s 3ms/step - loss: 0.0132 - accuracy: 0.9957 - val_loss: 0.0882 - val_accuracy: 0.9788\n"
     ]
    }
   ],
   "source": [
    "# model without dropout\n",
    "model = Sequential([\n",
    "    Dense(256,activation='relu',input_shape=(784,)),\n",
    "    Dense(128,activation='relu'),\n",
    "    Dense(10,activation='softmax')\n",
    "])\n",
    "\n",
    "\n",
    "model.compile(optimizer='adam',loss='categorical_crossentropy',metrics=['accuracy'])\n",
    "history = model.fit(X_train,y_train,epochs=10,batch_size=128,validation_data=(X_test,y_test))\n"
   ]
  },
  {
   "cell_type": "code",
   "execution_count": 15,
   "metadata": {},
   "outputs": [
    {
     "name": "stdout",
     "output_type": "stream",
     "text": [
      "Epoch 1/10\n",
      "469/469 [==============================] - 2s 3ms/step - loss: 2.3017 - accuracy: 0.1123 - val_loss: 2.3011 - val_accuracy: 0.1135\n",
      "Epoch 2/10\n",
      "469/469 [==============================] - 1s 3ms/step - loss: 2.3013 - accuracy: 0.1124 - val_loss: 2.3010 - val_accuracy: 0.1135\n",
      "Epoch 3/10\n",
      "469/469 [==============================] - 1s 3ms/step - loss: 2.3013 - accuracy: 0.1124 - val_loss: 2.3010 - val_accuracy: 0.1135\n",
      "Epoch 4/10\n",
      "469/469 [==============================] - 1s 3ms/step - loss: 2.3013 - accuracy: 0.1124 - val_loss: 2.3011 - val_accuracy: 0.1135\n",
      "Epoch 5/10\n",
      "469/469 [==============================] - 1s 3ms/step - loss: 2.3013 - accuracy: 0.1124 - val_loss: 2.3010 - val_accuracy: 0.1135\n",
      "Epoch 6/10\n",
      "469/469 [==============================] - 1s 3ms/step - loss: 2.3013 - accuracy: 0.1124 - val_loss: 2.3010 - val_accuracy: 0.1135\n",
      "Epoch 7/10\n",
      "469/469 [==============================] - 1s 3ms/step - loss: 2.3013 - accuracy: 0.1124 - val_loss: 2.3010 - val_accuracy: 0.1135\n",
      "Epoch 8/10\n",
      "469/469 [==============================] - 1s 3ms/step - loss: 2.3013 - accuracy: 0.1124 - val_loss: 2.3010 - val_accuracy: 0.1135\n",
      "Epoch 9/10\n",
      "469/469 [==============================] - 1s 3ms/step - loss: 2.3013 - accuracy: 0.1124 - val_loss: 2.3010 - val_accuracy: 0.1135\n",
      "Epoch 10/10\n",
      "469/469 [==============================] - 1s 3ms/step - loss: 2.3013 - accuracy: 0.1124 - val_loss: 2.3010 - val_accuracy: 0.1135\n",
      "313/313 [==============================] - 0s 993us/step - loss: 0.0882 - accuracy: 0.9788\n",
      "313/313 [==============================] - 0s 973us/step - loss: 2.3010 - accuracy: 0.1135\n",
      "🎯 Accuracy WITHOUT Dropout: 0.9788\n",
      "🔥 Accuracy WITH Dropout: 0.1135\n"
     ]
    }
   ],
   "source": [
    "model_d = Sequential([\n",
    "    Dense(256,activation='relu',input_shape=(784,)),\n",
    "    Dense(0.5), #Dropout 50% neurons\n",
    "    Dense(128,activation='relu'),\n",
    "    Dropout(0.3), # Drop 30% neurons\n",
    "    Dense(10,activation='softmax')\n",
    "])\n",
    "\n",
    "model_d.compile(optimizer='adam',loss='categorical_crossentropy',metrics=['accuracy'])\n",
    "history_d = model_d.fit(X_train,y_train,epochs=10,batch_size=128,validation_data=(X_test,y_test))\n",
    "\n",
    "# compare test accuacy\n",
    "accuracy = model.evaluate(X_test,y_test)[1]\n",
    "accuracy_d = model_d.evaluate(X_test,y_test)[1]\n",
    "\n",
    "print(f\"🎯 Accuracy WITHOUT Dropout: {accuracy:.4f}\")\n",
    "print(f\"🔥 Accuracy WITH Dropout: {accuracy_d:.4f}\")\n"
   ]
  }
 ],
 "metadata": {
  "kernelspec": {
   "display_name": "venv",
   "language": "python",
   "name": "python3"
  },
  "language_info": {
   "codemirror_mode": {
    "name": "ipython",
    "version": 3
   },
   "file_extension": ".py",
   "mimetype": "text/x-python",
   "name": "python",
   "nbconvert_exporter": "python",
   "pygments_lexer": "ipython3",
   "version": "3.6.9"
  }
 },
 "nbformat": 4,
 "nbformat_minor": 2
}
