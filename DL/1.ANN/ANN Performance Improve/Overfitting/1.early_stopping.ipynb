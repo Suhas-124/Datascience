{
 "cells": [
  {
   "cell_type": "code",
   "execution_count": 21,
   "metadata": {},
   "outputs": [],
   "source": [
    "import tensorflow as tf\n",
    "import numpy as np\n",
    "import matplotlib.pyplot as plt\n",
    "from tensorflow.keras.callbacks import EarlyStopping"
   ]
  },
  {
   "cell_type": "code",
   "execution_count": 22,
   "metadata": {},
   "outputs": [],
   "source": [
    "#Load Fashion Minst dataset\n",
    "(X_train,y_train),(X_test,y_test) = tf.keras.datasets.fashion_mnist.load_data()\n",
    "\n",
    "# Normalize the pixel values to [0,1] range(important for neural networks)\n",
    "X_train,X_test = X_train/255.0 , X_test/255.0\n",
    "\n",
    "X_train,X_val = X_train[:54000],X_train[54000:]\n",
    "y_train,y_val = y_train[:54000],y_train[54000:]"
   ]
  },
  {
   "cell_type": "code",
   "execution_count": 23,
   "metadata": {},
   "outputs": [
    {
     "data": {
      "text/plain": [
       "(54000, 28, 28)"
      ]
     },
     "execution_count": 23,
     "metadata": {},
     "output_type": "execute_result"
    }
   ],
   "source": [
    "X_train.shape"
   ]
  },
  {
   "cell_type": "code",
   "execution_count": 24,
   "metadata": {},
   "outputs": [],
   "source": [
    "# Define a simple neural network\n",
    "model = tf.keras.models.Sequential([\n",
    "    tf.keras.layers.Flatten(input_shape=(28,28)), #Flatten 28x28 images\n",
    "    tf.keras.layers.Dense(128,activation='relu'),\n",
    "    tf.keras.layers.Dropout(0.3), # Dropout to prevent overfitting\n",
    "    tf.keras.layers.Dense(10,activation='softmax') # output layer (10 classes)\n",
    "])\n",
    "\n",
    "#compile the model\n",
    "model.compile(optimizer='adam',\n",
    "              loss='sparse_categorical_crossentropy',\n",
    "              metrics=['accuracy'])\n"
   ]
  },
  {
   "cell_type": "code",
   "execution_count": 25,
   "metadata": {},
   "outputs": [
    {
     "name": "stdout",
     "output_type": "stream",
     "text": [
      "Epoch 1/50\n",
      "1688/1688 [==============================] - 3s 2ms/step - loss: 0.5602 - accuracy: 0.8034 - val_loss: 0.4200 - val_accuracy: 0.8398\n",
      "Epoch 2/50\n",
      "1688/1688 [==============================] - 2s 1ms/step - loss: 0.4248 - accuracy: 0.8467 - val_loss: 0.3744 - val_accuracy: 0.8632\n",
      "Epoch 3/50\n",
      "1688/1688 [==============================] - 2s 1ms/step - loss: 0.3893 - accuracy: 0.8584 - val_loss: 0.3581 - val_accuracy: 0.8693\n",
      "Epoch 4/50\n",
      "1688/1688 [==============================] - 2s 1ms/step - loss: 0.3680 - accuracy: 0.8656 - val_loss: 0.3391 - val_accuracy: 0.8740\n",
      "Epoch 5/50\n",
      "1688/1688 [==============================] - 2s 1ms/step - loss: 0.3537 - accuracy: 0.8697 - val_loss: 0.3421 - val_accuracy: 0.8693\n",
      "Epoch 6/50\n",
      "1688/1688 [==============================] - 2s 1ms/step - loss: 0.3394 - accuracy: 0.8744 - val_loss: 0.3392 - val_accuracy: 0.8737\n",
      "Epoch 7/50\n",
      "1688/1688 [==============================] - 2s 1ms/step - loss: 0.3304 - accuracy: 0.8774 - val_loss: 0.3363 - val_accuracy: 0.8725\n",
      "Epoch 8/50\n",
      "1688/1688 [==============================] - 2s 1ms/step - loss: 0.3214 - accuracy: 0.8803 - val_loss: 0.3282 - val_accuracy: 0.8803\n",
      "Epoch 9/50\n",
      "1688/1688 [==============================] - 2s 1ms/step - loss: 0.3124 - accuracy: 0.8826 - val_loss: 0.3281 - val_accuracy: 0.8785\n",
      "Epoch 10/50\n",
      "1688/1688 [==============================] - 2s 1ms/step - loss: 0.3038 - accuracy: 0.8874 - val_loss: 0.3140 - val_accuracy: 0.8823\n",
      "Epoch 11/50\n",
      "1688/1688 [==============================] - 2s 1ms/step - loss: 0.2993 - accuracy: 0.8868 - val_loss: 0.3266 - val_accuracy: 0.8780\n",
      "Epoch 12/50\n",
      "1688/1688 [==============================] - 2s 1ms/step - loss: 0.2942 - accuracy: 0.8919 - val_loss: 0.3209 - val_accuracy: 0.8832\n",
      "Epoch 13/50\n",
      "1688/1688 [==============================] - 3s 2ms/step - loss: 0.2891 - accuracy: 0.8915 - val_loss: 0.3223 - val_accuracy: 0.8827\n",
      "Epoch 14/50\n",
      "1688/1688 [==============================] - 3s 2ms/step - loss: 0.2829 - accuracy: 0.8943 - val_loss: 0.3178 - val_accuracy: 0.8853\n",
      "Epoch 15/50\n",
      "1688/1688 [==============================] - 3s 1ms/step - loss: 0.2806 - accuracy: 0.8945 - val_loss: 0.3197 - val_accuracy: 0.8823\n"
     ]
    }
   ],
   "source": [
    "# Define Early stopping callback\n",
    "\n",
    "early_stopping = EarlyStopping(\n",
    "    monitor='val_loss', # Stop training if validation loss increases\n",
    "    patience= 5, # Wait for 5 epochs before stopping\n",
    "    restore_best_weights= True #Restore best weights\n",
    ") \n",
    "\n",
    "\n",
    "#Train the model with the early stopping\n",
    "\n",
    "history = model.fit(\n",
    "    X_train,y_train,\n",
    "    validation_data = (X_val,y_val),\n",
    "    epochs = 50,    # Train for up to 50 epochs\n",
    "    batch_size = 32,\n",
    "    callbacks = [early_stopping] # Apply early stopping\n",
    ")"
   ]
  },
  {
   "cell_type": "code",
   "execution_count": 26,
   "metadata": {},
   "outputs": [
    {
     "data": {
      "image/png": "[encoded data removed]",
      "text/plain": [
       "<Figure size 432x288 with 1 Axes>"
      ]
     },
     "metadata": {
      "needs_background": "light"
     },
     "output_type": "display_data"
    }
   ],
   "source": [
    "# Plot training & validation loss over epochs\n",
    "plt.plot(history.history['loss'], label='Training Loss')\n",
    "plt.plot(history.history['val_loss'], label='Validation Loss')\n",
    "plt.legend()\n",
    "plt.xlabel('Epochs')\n",
    "plt.ylabel('Loss')\n",
    "plt.title('Early Stopping Effect')\n",
    "plt.show()\n"
   ]
  },
  {
   "cell_type": "code",
   "execution_count": 27,
   "metadata": {},
   "outputs": [
    {
     "name": "stdout",
     "output_type": "stream",
     "text": [
      "313/313 - 0s - loss: 0.3380 - accuracy: 0.8803\n",
      "Test Accuracy: 0.8803\n"
     ]
    }
   ],
   "source": [
    "# Evaluate on the test set\n",
    "test_loss, test_acc = model.evaluate(X_test, y_test, verbose=2)\n",
    "print(f\"Test Accuracy: {test_acc:.4f}\")\n"
   ]
  },
  {
   "cell_type": "code",
   "execution_count": null,
   "metadata": {},
   "outputs": [],
   "source": []
  }
 ],
 "metadata": {
  "kernelspec": {
   "display_name": "venv",
   "language": "python",
   "name": "python3"
  },
  "language_info": {
   "codemirror_mode": {
    "name": "ipython",
    "version": 3
   },
   "file_extension": ".py",
   "mimetype": "text/x-python",
   "name": "python",
   "nbconvert_exporter": "python",
   "pygments_lexer": "ipython3",
   "version": "3.6.9"
  }
 },
 "nbformat": 4,
 "nbformat_minor": 2
}
