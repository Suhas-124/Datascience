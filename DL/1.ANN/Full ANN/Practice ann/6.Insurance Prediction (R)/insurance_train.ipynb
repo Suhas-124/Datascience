{
 "cells": [
  {
   "cell_type": "code",
   "execution_count": 81,
   "metadata": {},
   "outputs": [],
   "source": [
    "import seaborn as sns\n",
    "import numpy as np\n",
    "import pandas as pd\n",
    "import matplotlib.pyplot as plt\n",
    "from sklearn.model_selection import train_test_split\n",
    "import tensorflow as tf"
   ]
  },
  {
   "cell_type": "code",
   "execution_count": 82,
   "metadata": {},
   "outputs": [],
   "source": [
    "df = pd.read_csv('/home/suhas/Desktop/office/Data Science/Notes/Data Analysis/Data/insurance.csv')"
   ]
  },
  {
   "cell_type": "code",
   "execution_count": 83,
   "metadata": {},
   "outputs": [
    {
     "data": {
      "text/plain": [
       "(1338, 7)"
      ]
     },
     "execution_count": 83,
     "metadata": {},
     "output_type": "execute_result"
    }
   ],
   "source": [
    "df.shape"
   ]
  },
  {
   "cell_type": "code",
   "execution_count": 84,
   "metadata": {},
   "outputs": [
    {
     "name": "stdout",
     "output_type": "stream",
     "text": [
      "<class 'pandas.core.frame.DataFrame'>\n",
      "RangeIndex: 1338 entries, 0 to 1337\n",
      "Data columns (total 7 columns):\n",
      " #   Column    Non-Null Count  Dtype  \n",
      "---  ------    --------------  -----  \n",
      " 0   age       1338 non-null   int64  \n",
      " 1   sex       1338 non-null   object \n",
      " 2   bmi       1338 non-null   float64\n",
      " 3   children  1338 non-null   int64  \n",
      " 4   smoker    1338 non-null   object \n",
      " 5   region    1338 non-null   object \n",
      " 6   charges   1338 non-null   float64\n",
      "dtypes: float64(2), int64(2), object(3)\n",
      "memory usage: 73.3+ KB\n"
     ]
    }
   ],
   "source": [
    "df.info()"
   ]
  },
  {
   "cell_type": "code",
   "execution_count": 85,
   "metadata": {},
   "outputs": [
    {
     "data": {
      "text/html": [
       "<div>\n",
       "<style scoped>\n",
       "    .dataframe tbody tr th:only-of-type {\n",
       "        vertical-align: middle;\n",
       "    }\n",
       "\n",
       "    .dataframe tbody tr th {\n",
       "        vertical-align: top;\n",
       "    }\n",
       "\n",
       "    .dataframe thead th {\n",
       "        text-align: right;\n",
       "    }\n",
       "</style>\n",
       "<table border=\"1\" class=\"dataframe\">\n",
       "  <thead>\n",
       "    <tr style=\"text-align: right;\">\n",
       "      <th></th>\n",
       "      <th>age</th>\n",
       "      <th>bmi</th>\n",
       "      <th>children</th>\n",
       "      <th>charges</th>\n",
       "    </tr>\n",
       "  </thead>\n",
       "  <tbody>\n",
       "    <tr>\n",
       "      <th>count</th>\n",
       "      <td>1338.000000</td>\n",
       "      <td>1338.000000</td>\n",
       "      <td>1338.000000</td>\n",
       "      <td>1338.000000</td>\n",
       "    </tr>\n",
       "    <tr>\n",
       "      <th>mean</th>\n",
       "      <td>39.207025</td>\n",
       "      <td>30.663397</td>\n",
       "      <td>1.094918</td>\n",
       "      <td>13270.422265</td>\n",
       "    </tr>\n",
       "    <tr>\n",
       "      <th>std</th>\n",
       "      <td>14.049960</td>\n",
       "      <td>6.098187</td>\n",
       "      <td>1.205493</td>\n",
       "      <td>12110.011237</td>\n",
       "    </tr>\n",
       "    <tr>\n",
       "      <th>min</th>\n",
       "      <td>18.000000</td>\n",
       "      <td>15.960000</td>\n",
       "      <td>0.000000</td>\n",
       "      <td>1121.873900</td>\n",
       "    </tr>\n",
       "    <tr>\n",
       "      <th>25%</th>\n",
       "      <td>27.000000</td>\n",
       "      <td>26.296250</td>\n",
       "      <td>0.000000</td>\n",
       "      <td>4740.287150</td>\n",
       "    </tr>\n",
       "    <tr>\n",
       "      <th>50%</th>\n",
       "      <td>39.000000</td>\n",
       "      <td>30.400000</td>\n",
       "      <td>1.000000</td>\n",
       "      <td>9382.033000</td>\n",
       "    </tr>\n",
       "    <tr>\n",
       "      <th>75%</th>\n",
       "      <td>51.000000</td>\n",
       "      <td>34.693750</td>\n",
       "      <td>2.000000</td>\n",
       "      <td>16639.912515</td>\n",
       "    </tr>\n",
       "    <tr>\n",
       "      <th>max</th>\n",
       "      <td>64.000000</td>\n",
       "      <td>53.130000</td>\n",
       "      <td>5.000000</td>\n",
       "      <td>63770.428010</td>\n",
       "    </tr>\n",
       "  </tbody>\n",
       "</table>\n",
       "</div>"
      ],
      "text/plain": [
       "               age          bmi     children       charges\n",
       "count  1338.000000  1338.000000  1338.000000   1338.000000\n",
       "mean     39.207025    30.663397     1.094918  13270.422265\n",
       "std      14.049960     6.098187     1.205493  12110.011237\n",
       "min      18.000000    15.960000     0.000000   1121.873900\n",
       "25%      27.000000    26.296250     0.000000   4740.287150\n",
       "50%      39.000000    30.400000     1.000000   9382.033000\n",
       "75%      51.000000    34.693750     2.000000  16639.912515\n",
       "max      64.000000    53.130000     5.000000  63770.428010"
      ]
     },
     "execution_count": 85,
     "metadata": {},
     "output_type": "execute_result"
    }
   ],
   "source": [
    "df.describe()"
   ]
  },
  {
   "cell_type": "code",
   "execution_count": 86,
   "metadata": {},
   "outputs": [
    {
     "data": {
      "text/html": [
       "<div>\n",
       "<style scoped>\n",
       "    .dataframe tbody tr th:only-of-type {\n",
       "        vertical-align: middle;\n",
       "    }\n",
       "\n",
       "    .dataframe tbody tr th {\n",
       "        vertical-align: top;\n",
       "    }\n",
       "\n",
       "    .dataframe thead th {\n",
       "        text-align: right;\n",
       "    }\n",
       "</style>\n",
       "<table border=\"1\" class=\"dataframe\">\n",
       "  <thead>\n",
       "    <tr style=\"text-align: right;\">\n",
       "      <th></th>\n",
       "      <th>age</th>\n",
       "      <th>sex</th>\n",
       "      <th>bmi</th>\n",
       "      <th>children</th>\n",
       "      <th>smoker</th>\n",
       "      <th>region</th>\n",
       "      <th>charges</th>\n",
       "    </tr>\n",
       "  </thead>\n",
       "  <tbody>\n",
       "    <tr>\n",
       "      <th>0</th>\n",
       "      <td>19</td>\n",
       "      <td>female</td>\n",
       "      <td>27.900</td>\n",
       "      <td>0</td>\n",
       "      <td>yes</td>\n",
       "      <td>southwest</td>\n",
       "      <td>16884.92400</td>\n",
       "    </tr>\n",
       "    <tr>\n",
       "      <th>1</th>\n",
       "      <td>18</td>\n",
       "      <td>male</td>\n",
       "      <td>33.770</td>\n",
       "      <td>1</td>\n",
       "      <td>no</td>\n",
       "      <td>southeast</td>\n",
       "      <td>1725.55230</td>\n",
       "    </tr>\n",
       "    <tr>\n",
       "      <th>2</th>\n",
       "      <td>28</td>\n",
       "      <td>male</td>\n",
       "      <td>33.000</td>\n",
       "      <td>3</td>\n",
       "      <td>no</td>\n",
       "      <td>southeast</td>\n",
       "      <td>4449.46200</td>\n",
       "    </tr>\n",
       "    <tr>\n",
       "      <th>3</th>\n",
       "      <td>33</td>\n",
       "      <td>male</td>\n",
       "      <td>22.705</td>\n",
       "      <td>0</td>\n",
       "      <td>no</td>\n",
       "      <td>northwest</td>\n",
       "      <td>21984.47061</td>\n",
       "    </tr>\n",
       "    <tr>\n",
       "      <th>4</th>\n",
       "      <td>32</td>\n",
       "      <td>male</td>\n",
       "      <td>28.880</td>\n",
       "      <td>0</td>\n",
       "      <td>no</td>\n",
       "      <td>northwest</td>\n",
       "      <td>3866.85520</td>\n",
       "    </tr>\n",
       "  </tbody>\n",
       "</table>\n",
       "</div>"
      ],
      "text/plain": [
       "   age     sex     bmi  children smoker     region      charges\n",
       "0   19  female  27.900         0    yes  southwest  16884.92400\n",
       "1   18    male  33.770         1     no  southeast   1725.55230\n",
       "2   28    male  33.000         3     no  southeast   4449.46200\n",
       "3   33    male  22.705         0     no  northwest  21984.47061\n",
       "4   32    male  28.880         0     no  northwest   3866.85520"
      ]
     },
     "execution_count": 86,
     "metadata": {},
     "output_type": "execute_result"
    }
   ],
   "source": [
    "df.head()"
   ]
  },
  {
   "cell_type": "code",
   "execution_count": 87,
   "metadata": {},
   "outputs": [
    {
     "data": {
      "text/plain": [
       "age         0\n",
       "sex         0\n",
       "bmi         0\n",
       "children    0\n",
       "smoker      0\n",
       "region      0\n",
       "charges     0\n",
       "dtype: int64"
      ]
     },
     "execution_count": 87,
     "metadata": {},
     "output_type": "execute_result"
    }
   ],
   "source": [
    "df.isnull().sum()"
   ]
  },
  {
   "cell_type": "code",
   "execution_count": 88,
   "metadata": {},
   "outputs": [
    {
     "data": {
      "text/plain": [
       "Index(['sex', 'smoker', 'region'], dtype='object')"
      ]
     },
     "execution_count": 88,
     "metadata": {},
     "output_type": "execute_result"
    }
   ],
   "source": [
    "df.select_dtypes(exclude='number').columns"
   ]
  },
  {
   "cell_type": "code",
   "execution_count": 89,
   "metadata": {},
   "outputs": [],
   "source": [
    "numerical_columns = ['age', 'bmi', 'children','charges']\n",
    "categorical_columns = ['sex', 'smoker', 'region']"
   ]
  },
  {
   "cell_type": "code",
   "execution_count": 90,
   "metadata": {},
   "outputs": [
    {
     "data": {
      "image/png": "[encoded data removed]",
      "text/plain": [
       "<Figure size 432x288 with 1 Axes>"
      ]
     },
     "metadata": {
      "needs_background": "light"
     },
     "output_type": "display_data"
    },
    {
     "data": {
      "image/png": "[encoded data removed]",
      "text/plain": [
       "<Figure size 432x288 with 1 Axes>"
      ]
     },
     "metadata": {
      "needs_background": "light"
     },
     "output_type": "display_data"
    },
    {
     "data": {
      "image/png": "[encoded data removed]",
      "text/plain": [
       "<Figure size 432x288 with 1 Axes>"
      ]
     },
     "metadata": {
      "needs_background": "light"
     },
     "output_type": "display_data"
    },
    {
     "data": {
      "image/png": "[encoded data removed]",
      "text/plain": [
       "<Figure size 432x288 with 1 Axes>"
      ]
     },
     "metadata": {
      "needs_background": "light"
     },
     "output_type": "display_data"
    },
    {
     "name": "stdout",
     "output_type": "stream",
     "text": [
      "--------------------------------------------------\n"
     ]
    },
    {
     "data": {
      "image/png": "[encoded data removed]",
      "text/plain": [
       "<Figure size 432x288 with 1 Axes>"
      ]
     },
     "metadata": {
      "needs_background": "light"
     },
     "output_type": "display_data"
    },
    {
     "data": {
      "image/png": "[encoded data removed]",
      "text/plain": [
       "<Figure size 432x288 with 1 Axes>"
      ]
     },
     "metadata": {
      "needs_background": "light"
     },
     "output_type": "display_data"
    },
    {
     "data": {
      "image/png": "[encoded data removed]",
      "text/plain": [
       "<Figure size 432x288 with 1 Axes>"
      ]
     },
     "metadata": {
      "needs_background": "light"
     },
     "output_type": "display_data"
    },
    {
     "data": {
      "image/png": "[encoded data removed]",
      "text/plain": [
       "<Figure size 432x288 with 1 Axes>"
      ]
     },
     "metadata": {
      "needs_background": "light"
     },
     "output_type": "display_data"
    },
    {
     "name": "stdout",
     "output_type": "stream",
     "text": [
      "--------------------------------------------------\n"
     ]
    },
    {
     "data": {
      "image/png": "[encoded data removed]",
      "text/plain": [
       "<Figure size 432x288 with 1 Axes>"
      ]
     },
     "metadata": {
      "needs_background": "light"
     },
     "output_type": "display_data"
    },
    {
     "data": {
      "image/png": "[encoded data removed]",
      "text/plain": [
       "<Figure size 432x288 with 1 Axes>"
      ]
     },
     "metadata": {
      "needs_background": "light"
     },
     "output_type": "display_data"
    },
    {
     "data": {
      "image/png": "[encoded data removed]",
      "text/plain": [
       "<Figure size 432x288 with 1 Axes>"
      ]
     },
     "metadata": {
      "needs_background": "light"
     },
     "output_type": "display_data"
    },
    {
     "name": "stdout",
     "output_type": "stream",
     "text": [
      "--------------------------------------------------\n"
     ]
    }
   ],
   "source": [
    "for col in numerical_columns:\n",
    "    sns.histplot(data=df,x=col,kde=True)\n",
    "    plt.title(f\"Hist plot for {col}\")\n",
    "    plt.show()\n",
    "\n",
    "print('-'*50)\n",
    "\n",
    "for col in numerical_columns:\n",
    "    sns.boxplot(data=df,x=col)\n",
    "    plt.title(f\"Box Plot for {col}\")\n",
    "    plt.show()\n",
    "\n",
    "print('-'*50)\n",
    "\n",
    "for col in categorical_columns:\n",
    "    sns.countplot(data=df,x=col)\n",
    "    plt.title(f\"CountPlot for {col}\")\n",
    "    plt.show()\n",
    "\n",
    "print('-'*50)\n"
   ]
  },
  {
   "cell_type": "code",
   "execution_count": 91,
   "metadata": {},
   "outputs": [
    {
     "data": {
      "text/plain": [
       "<AxesSubplot:>"
      ]
     },
     "execution_count": 91,
     "metadata": {},
     "output_type": "execute_result"
    },
    {
     "data": {
      "image/png": "[encoded data removed]",
      "text/plain": [
       "<Figure size 432x288 with 2 Axes>"
      ]
     },
     "metadata": {
      "needs_background": "light"
     },
     "output_type": "display_data"
    }
   ],
   "source": [
    "corr = df.corr()\n",
    "\n",
    "sns.heatmap(corr,annot=True,fmt='.2f')"
   ]
  },
  {
   "cell_type": "code",
   "execution_count": 92,
   "metadata": {},
   "outputs": [],
   "source": [
    "X = df.drop(columns='charges')\n",
    "y = df['charges']"
   ]
  },
  {
   "cell_type": "code",
   "execution_count": 93,
   "metadata": {},
   "outputs": [
    {
     "data": {
      "text/html": [
       "<div>\n",
       "<style scoped>\n",
       "    .dataframe tbody tr th:only-of-type {\n",
       "        vertical-align: middle;\n",
       "    }\n",
       "\n",
       "    .dataframe tbody tr th {\n",
       "        vertical-align: top;\n",
       "    }\n",
       "\n",
       "    .dataframe thead th {\n",
       "        text-align: right;\n",
       "    }\n",
       "</style>\n",
       "<table border=\"1\" class=\"dataframe\">\n",
       "  <thead>\n",
       "    <tr style=\"text-align: right;\">\n",
       "      <th></th>\n",
       "      <th>age</th>\n",
       "      <th>sex</th>\n",
       "      <th>bmi</th>\n",
       "      <th>children</th>\n",
       "      <th>smoker</th>\n",
       "      <th>region</th>\n",
       "    </tr>\n",
       "  </thead>\n",
       "  <tbody>\n",
       "    <tr>\n",
       "      <th>0</th>\n",
       "      <td>19</td>\n",
       "      <td>female</td>\n",
       "      <td>27.900</td>\n",
       "      <td>0</td>\n",
       "      <td>yes</td>\n",
       "      <td>southwest</td>\n",
       "    </tr>\n",
       "    <tr>\n",
       "      <th>1</th>\n",
       "      <td>18</td>\n",
       "      <td>male</td>\n",
       "      <td>33.770</td>\n",
       "      <td>1</td>\n",
       "      <td>no</td>\n",
       "      <td>southeast</td>\n",
       "    </tr>\n",
       "    <tr>\n",
       "      <th>2</th>\n",
       "      <td>28</td>\n",
       "      <td>male</td>\n",
       "      <td>33.000</td>\n",
       "      <td>3</td>\n",
       "      <td>no</td>\n",
       "      <td>southeast</td>\n",
       "    </tr>\n",
       "    <tr>\n",
       "      <th>3</th>\n",
       "      <td>33</td>\n",
       "      <td>male</td>\n",
       "      <td>22.705</td>\n",
       "      <td>0</td>\n",
       "      <td>no</td>\n",
       "      <td>northwest</td>\n",
       "    </tr>\n",
       "    <tr>\n",
       "      <th>4</th>\n",
       "      <td>32</td>\n",
       "      <td>male</td>\n",
       "      <td>28.880</td>\n",
       "      <td>0</td>\n",
       "      <td>no</td>\n",
       "      <td>northwest</td>\n",
       "    </tr>\n",
       "  </tbody>\n",
       "</table>\n",
       "</div>"
      ],
      "text/plain": [
       "   age     sex     bmi  children smoker     region\n",
       "0   19  female  27.900         0    yes  southwest\n",
       "1   18    male  33.770         1     no  southeast\n",
       "2   28    male  33.000         3     no  southeast\n",
       "3   33    male  22.705         0     no  northwest\n",
       "4   32    male  28.880         0     no  northwest"
      ]
     },
     "execution_count": 93,
     "metadata": {},
     "output_type": "execute_result"
    }
   ],
   "source": [
    "X.head()"
   ]
  },
  {
   "cell_type": "code",
   "execution_count": 94,
   "metadata": {},
   "outputs": [
    {
     "data": {
      "text/plain": [
       "(1338,)"
      ]
     },
     "execution_count": 94,
     "metadata": {},
     "output_type": "execute_result"
    }
   ],
   "source": [
    "y.shape"
   ]
  },
  {
   "cell_type": "code",
   "execution_count": 95,
   "metadata": {},
   "outputs": [],
   "source": [
    "# from sklearn.preprocessing import StandardScaler\n",
    "\n",
    "# scale = StandardScaler()\n",
    "# y = scale.fit_transform(y.values.reshape(-1,1))\n",
    "\n",
    "from sklearn.preprocessing import FunctionTransformer\n",
    "\n",
    "func_tranform = FunctionTransformer(np.log1p)\n",
    "y = func_tranform.fit_transform(y)"
   ]
  },
  {
   "cell_type": "code",
   "execution_count": 96,
   "metadata": {},
   "outputs": [
    {
     "data": {
      "text/plain": [
       "0        9.734236\n",
       "1        7.453882\n",
       "2        8.400763\n",
       "3        9.998137\n",
       "4        8.260455\n",
       "          ...    \n",
       "1333     9.268755\n",
       "1334     7.699381\n",
       "1335     7.396847\n",
       "1336     7.605365\n",
       "1337    10.279948\n",
       "Name: charges, Length: 1338, dtype: float64"
      ]
     },
     "execution_count": 96,
     "metadata": {},
     "output_type": "execute_result"
    }
   ],
   "source": [
    "y"
   ]
  },
  {
   "cell_type": "code",
   "execution_count": 97,
   "metadata": {},
   "outputs": [
    {
     "name": "stdout",
     "output_type": "stream",
     "text": [
      "age-F 515.9048,p_value=0.0000\n",
      "bmi-F 23.9396,p_value=0.0000\n",
      "children-F 35.6957,p_value=0.0000\n",
      "dict_keys(['age', 'bmi', 'children'])\n"
     ]
    }
   ],
   "source": [
    "updated_num = ['age', 'bmi', 'children',]\n",
    "\n",
    "from sklearn.feature_selection import f_regression\n",
    "\n",
    "significant_columns = {}\n",
    "\n",
    "for col in updated_num:\n",
    "    X_feature = df[[col]]\n",
    "    F,p_value = f_regression(X_feature,y)\n",
    "\n",
    "    if p_value < 0.05:\n",
    "        significant_columns[col] = {\n",
    "            'f': F,\n",
    "            'p_val': p_value\n",
    "        }\n",
    "\n",
    "    print(f\"{col}-F {F[0]:.4f},p_value={p_value[0]:.4f}\")\n",
    "\n",
    "print(significant_columns.keys())\n"
   ]
  },
  {
   "cell_type": "code",
   "execution_count": 98,
   "metadata": {},
   "outputs": [
    {
     "name": "stdout",
     "output_type": "stream",
     "text": [
      "age - Spearman Correlation: 0.5344, p_value: 0.0000\n",
      "bmi - Spearman Correlation: 0.1194, p_value: 0.0000\n",
      "children - Spearman Correlation: 0.1333, p_value: 0.0000\n"
     ]
    }
   ],
   "source": [
    "from scipy.stats import spearmanr\n",
    "for col in updated_num:\n",
    "    corr, p_value = spearmanr(df[col], y)\n",
    "    print(f\"{col} - Spearman Correlation: {corr:.4f}, p_value: {p_value:.4f}\")"
   ]
  },
  {
   "cell_type": "code",
   "execution_count": 99,
   "metadata": {},
   "outputs": [
    {
     "name": "stdout",
     "output_type": "stream",
     "text": [
      "sex- F:4.3997,p_value:0.0361\n",
      "smoker- F:2177.6149,p_value:0.0000\n",
      "region- F:2.9696,p_value:0.0309\n",
      "dict_keys(['sex', 'smoker', 'region'])\n"
     ]
    }
   ],
   "source": [
    "from scipy.stats import f_oneway\n",
    "significant_cat_columns = {}\n",
    "\n",
    "for col in categorical_columns:\n",
    "    groups = [df[df[col]== category]['charges'] for category in df[col].unique()]\n",
    "\n",
    "    F,p_value = f_oneway(*groups)\n",
    "\n",
    "    print(f\"{col}- F:{F:.4f},p_value:{p_value:.4f}\")\n",
    "\n",
    "    if p_value < 0.05:\n",
    "        significant_cat_columns[col] = {\n",
    "            'F': F,\n",
    "            'p_value':p_value\n",
    "        }\n",
    "\n",
    "print(significant_cat_columns.keys())\n"
   ]
  },
  {
   "cell_type": "code",
   "execution_count": 100,
   "metadata": {},
   "outputs": [],
   "source": [
    "X = df[updated_num+categorical_columns]"
   ]
  },
  {
   "cell_type": "code",
   "execution_count": 101,
   "metadata": {},
   "outputs": [
    {
     "data": {
      "text/html": [
       "<div>\n",
       "<style scoped>\n",
       "    .dataframe tbody tr th:only-of-type {\n",
       "        vertical-align: middle;\n",
       "    }\n",
       "\n",
       "    .dataframe tbody tr th {\n",
       "        vertical-align: top;\n",
       "    }\n",
       "\n",
       "    .dataframe thead th {\n",
       "        text-align: right;\n",
       "    }\n",
       "</style>\n",
       "<table border=\"1\" class=\"dataframe\">\n",
       "  <thead>\n",
       "    <tr style=\"text-align: right;\">\n",
       "      <th></th>\n",
       "      <th>age</th>\n",
       "      <th>bmi</th>\n",
       "      <th>children</th>\n",
       "      <th>sex</th>\n",
       "      <th>smoker</th>\n",
       "      <th>region</th>\n",
       "    </tr>\n",
       "  </thead>\n",
       "  <tbody>\n",
       "    <tr>\n",
       "      <th>0</th>\n",
       "      <td>19</td>\n",
       "      <td>27.900</td>\n",
       "      <td>0</td>\n",
       "      <td>female</td>\n",
       "      <td>yes</td>\n",
       "      <td>southwest</td>\n",
       "    </tr>\n",
       "    <tr>\n",
       "      <th>1</th>\n",
       "      <td>18</td>\n",
       "      <td>33.770</td>\n",
       "      <td>1</td>\n",
       "      <td>male</td>\n",
       "      <td>no</td>\n",
       "      <td>southeast</td>\n",
       "    </tr>\n",
       "    <tr>\n",
       "      <th>2</th>\n",
       "      <td>28</td>\n",
       "      <td>33.000</td>\n",
       "      <td>3</td>\n",
       "      <td>male</td>\n",
       "      <td>no</td>\n",
       "      <td>southeast</td>\n",
       "    </tr>\n",
       "    <tr>\n",
       "      <th>3</th>\n",
       "      <td>33</td>\n",
       "      <td>22.705</td>\n",
       "      <td>0</td>\n",
       "      <td>male</td>\n",
       "      <td>no</td>\n",
       "      <td>northwest</td>\n",
       "    </tr>\n",
       "    <tr>\n",
       "      <th>4</th>\n",
       "      <td>32</td>\n",
       "      <td>28.880</td>\n",
       "      <td>0</td>\n",
       "      <td>male</td>\n",
       "      <td>no</td>\n",
       "      <td>northwest</td>\n",
       "    </tr>\n",
       "  </tbody>\n",
       "</table>\n",
       "</div>"
      ],
      "text/plain": [
       "   age     bmi  children     sex smoker     region\n",
       "0   19  27.900         0  female    yes  southwest\n",
       "1   18  33.770         1    male     no  southeast\n",
       "2   28  33.000         3    male     no  southeast\n",
       "3   33  22.705         0    male     no  northwest\n",
       "4   32  28.880         0    male     no  northwest"
      ]
     },
     "execution_count": 101,
     "metadata": {},
     "output_type": "execute_result"
    }
   ],
   "source": [
    "X.head()"
   ]
  },
  {
   "cell_type": "code",
   "execution_count": 102,
   "metadata": {},
   "outputs": [],
   "source": [
    "X_train,X_test,y_train,y_test = train_test_split(X,y,test_size=0.2,random_state=42)"
   ]
  },
  {
   "cell_type": "code",
   "execution_count": 103,
   "metadata": {},
   "outputs": [
    {
     "data": {
      "text/html": [
       "<div>\n",
       "<style scoped>\n",
       "    .dataframe tbody tr th:only-of-type {\n",
       "        vertical-align: middle;\n",
       "    }\n",
       "\n",
       "    .dataframe tbody tr th {\n",
       "        vertical-align: top;\n",
       "    }\n",
       "\n",
       "    .dataframe thead th {\n",
       "        text-align: right;\n",
       "    }\n",
       "</style>\n",
       "<table border=\"1\" class=\"dataframe\">\n",
       "  <thead>\n",
       "    <tr style=\"text-align: right;\">\n",
       "      <th></th>\n",
       "      <th>age</th>\n",
       "      <th>bmi</th>\n",
       "      <th>children</th>\n",
       "      <th>sex</th>\n",
       "      <th>smoker</th>\n",
       "      <th>region</th>\n",
       "    </tr>\n",
       "  </thead>\n",
       "  <tbody>\n",
       "    <tr>\n",
       "      <th>560</th>\n",
       "      <td>46</td>\n",
       "      <td>19.95</td>\n",
       "      <td>2</td>\n",
       "      <td>female</td>\n",
       "      <td>no</td>\n",
       "      <td>northwest</td>\n",
       "    </tr>\n",
       "    <tr>\n",
       "      <th>1285</th>\n",
       "      <td>47</td>\n",
       "      <td>24.32</td>\n",
       "      <td>0</td>\n",
       "      <td>female</td>\n",
       "      <td>no</td>\n",
       "      <td>northeast</td>\n",
       "    </tr>\n",
       "    <tr>\n",
       "      <th>1142</th>\n",
       "      <td>52</td>\n",
       "      <td>24.86</td>\n",
       "      <td>0</td>\n",
       "      <td>female</td>\n",
       "      <td>no</td>\n",
       "      <td>southeast</td>\n",
       "    </tr>\n",
       "    <tr>\n",
       "      <th>969</th>\n",
       "      <td>39</td>\n",
       "      <td>34.32</td>\n",
       "      <td>5</td>\n",
       "      <td>female</td>\n",
       "      <td>no</td>\n",
       "      <td>southeast</td>\n",
       "    </tr>\n",
       "    <tr>\n",
       "      <th>486</th>\n",
       "      <td>54</td>\n",
       "      <td>21.47</td>\n",
       "      <td>3</td>\n",
       "      <td>female</td>\n",
       "      <td>no</td>\n",
       "      <td>northwest</td>\n",
       "    </tr>\n",
       "  </tbody>\n",
       "</table>\n",
       "</div>"
      ],
      "text/plain": [
       "      age    bmi  children     sex smoker     region\n",
       "560    46  19.95         2  female     no  northwest\n",
       "1285   47  24.32         0  female     no  northeast\n",
       "1142   52  24.86         0  female     no  southeast\n",
       "969    39  34.32         5  female     no  southeast\n",
       "486    54  21.47         3  female     no  northwest"
      ]
     },
     "execution_count": 103,
     "metadata": {},
     "output_type": "execute_result"
    }
   ],
   "source": [
    "X_train.head()"
   ]
  },
  {
   "cell_type": "code",
   "execution_count": 104,
   "metadata": {},
   "outputs": [],
   "source": [
    "from sklearn.pipeline import Pipeline\n",
    "from sklearn.preprocessing import RobustScaler,StandardScaler,OneHotEncoder\n",
    "from sklearn.impute import SimpleImputer\n",
    "\n",
    "\n",
    "num_pipeline = Pipeline([\n",
    "    ('num_robuse',RobustScaler()),\n",
    "    ('stadard',StandardScaler()),\n",
    "    ('impute',SimpleImputer(strategy='median')),\n",
    "])\n",
    "\n",
    "\n",
    "cat_pipeline = Pipeline([\n",
    "    ('cat_impute',SimpleImputer(strategy='most_frequent')),\n",
    "    ('ohe',OneHotEncoder(drop='first',sparse=False))\n",
    "\n",
    "])"
   ]
  },
  {
   "cell_type": "code",
   "execution_count": 105,
   "metadata": {},
   "outputs": [],
   "source": [
    "from sklearn.compose import ColumnTransformer\n",
    "\n",
    "preprocess_columns = ColumnTransformer([\n",
    "    ('num_preprocess',num_pipeline,updated_num),\n",
    "    ('cat_preprocess',cat_pipeline,categorical_columns),\n",
    "\n",
    "])"
   ]
  },
  {
   "cell_type": "code",
   "execution_count": 106,
   "metadata": {},
   "outputs": [],
   "source": [
    "X_train_preprocessed = preprocess_columns.fit_transform(X_train)\n",
    "X_test_preprocessed = preprocess_columns.transform(X_test)"
   ]
  },
  {
   "cell_type": "code",
   "execution_count": 107,
   "metadata": {},
   "outputs": [
    {
     "data": {
      "text/plain": [
       "8"
      ]
     },
     "execution_count": 107,
     "metadata": {},
     "output_type": "execute_result"
    }
   ],
   "source": [
    "X_train_preprocessed.shape[1]"
   ]
  },
  {
   "cell_type": "code",
   "execution_count": 108,
   "metadata": {},
   "outputs": [],
   "source": [
    "input_shape = X_train_preprocessed.shape[1]"
   ]
  },
  {
   "cell_type": "code",
   "execution_count": 109,
   "metadata": {},
   "outputs": [],
   "source": [
    "from tensorflow.keras.models import Sequential\n",
    "from tensorflow.keras.layers import Dense,Dropout\n",
    "\n",
    "model = Sequential([\n",
    "    Dense(64,activation='relu',input_shape=(input_shape,)),\n",
    "    Dropout(0.2),\n",
    "    Dense(32,activation='relu'),\n",
    "    Dropout(0.2),\n",
    "    Dense(1)\n",
    "\n",
    "])"
   ]
  },
  {
   "cell_type": "code",
   "execution_count": 110,
   "metadata": {},
   "outputs": [
    {
     "name": "stdout",
     "output_type": "stream",
     "text": [
      "Model: \"sequential_2\"\n",
      "_________________________________________________________________\n",
      "Layer (type)                 Output Shape              Param #   \n",
      "=================================================================\n",
      "dense_6 (Dense)              (None, 64)                576       \n",
      "_________________________________________________________________\n",
      "dropout_4 (Dropout)          (None, 64)                0         \n",
      "_________________________________________________________________\n",
      "dense_7 (Dense)              (None, 32)                2080      \n",
      "_________________________________________________________________\n",
      "dropout_5 (Dropout)          (None, 32)                0         \n",
      "_________________________________________________________________\n",
      "dense_8 (Dense)              (None, 1)                 33        \n",
      "=================================================================\n",
      "Total params: 2,689\n",
      "Trainable params: 2,689\n",
      "Non-trainable params: 0\n",
      "_________________________________________________________________\n"
     ]
    }
   ],
   "source": [
    "model.summary()"
   ]
  },
  {
   "cell_type": "code",
   "execution_count": 111,
   "metadata": {},
   "outputs": [],
   "source": [
    "model.compile(optimizer='adam',loss='mean_squared_error',metrics=['mse'])"
   ]
  },
  {
   "cell_type": "code",
   "execution_count": 112,
   "metadata": {},
   "outputs": [],
   "source": [
    "from tensorflow.keras.callbacks import EarlyStopping\n",
    "\n",
    "early_stopping = EarlyStopping(monitor='val_loss',patience=5,restore_best_weights=True)"
   ]
  },
  {
   "cell_type": "code",
   "execution_count": 113,
   "metadata": {},
   "outputs": [
    {
     "name": "stdout",
     "output_type": "stream",
     "text": [
      "Epoch 1/100\n",
      "27/27 [==============================] - 1s 6ms/step - loss: 73.5209 - mse: 73.5209 - val_loss: 59.3562 - val_mse: 59.3562\n",
      "Epoch 2/100\n",
      "27/27 [==============================] - 0s 1ms/step - loss: 47.3297 - mse: 47.3297 - val_loss: 30.2222 - val_mse: 30.2222\n",
      "Epoch 3/100\n",
      "27/27 [==============================] - 0s 1ms/step - loss: 18.7553 - mse: 18.7553 - val_loss: 6.7624 - val_mse: 6.7624\n",
      "Epoch 4/100\n",
      "27/27 [==============================] - 0s 2ms/step - loss: 6.4977 - mse: 6.4977 - val_loss: 2.9406 - val_mse: 2.9406\n",
      "Epoch 5/100\n",
      "27/27 [==============================] - 0s 2ms/step - loss: 5.9913 - mse: 5.9913 - val_loss: 2.8147 - val_mse: 2.8147\n",
      "Epoch 6/100\n",
      "27/27 [==============================] - 0s 2ms/step - loss: 5.5792 - mse: 5.5792 - val_loss: 2.6987 - val_mse: 2.6987\n",
      "Epoch 7/100\n",
      "27/27 [==============================] - 0s 2ms/step - loss: 5.3729 - mse: 5.3729 - val_loss: 2.4831 - val_mse: 2.4831\n",
      "Epoch 8/100\n",
      "27/27 [==============================] - 0s 1ms/step - loss: 5.3895 - mse: 5.3895 - val_loss: 2.4312 - val_mse: 2.4312\n",
      "Epoch 9/100\n",
      "27/27 [==============================] - 0s 1ms/step - loss: 4.8365 - mse: 4.8365 - val_loss: 2.1894 - val_mse: 2.1894\n",
      "Epoch 10/100\n",
      "27/27 [==============================] - 0s 1ms/step - loss: 4.8026 - mse: 4.8026 - val_loss: 2.1597 - val_mse: 2.1597\n",
      "Epoch 11/100\n",
      "27/27 [==============================] - 0s 1ms/step - loss: 4.5115 - mse: 4.5115 - val_loss: 1.9168 - val_mse: 1.9168\n",
      "Epoch 12/100\n",
      "27/27 [==============================] - 0s 1ms/step - loss: 4.1612 - mse: 4.1612 - val_loss: 1.7704 - val_mse: 1.7704\n",
      "Epoch 13/100\n",
      "27/27 [==============================] - 0s 1ms/step - loss: 3.9698 - mse: 3.9698 - val_loss: 1.6245 - val_mse: 1.6245\n",
      "Epoch 14/100\n",
      "27/27 [==============================] - 0s 1ms/step - loss: 4.1517 - mse: 4.1517 - val_loss: 1.5548 - val_mse: 1.5548\n",
      "Epoch 15/100\n",
      "27/27 [==============================] - 0s 1ms/step - loss: 3.8770 - mse: 3.8770 - val_loss: 1.4120 - val_mse: 1.4120\n",
      "Epoch 16/100\n",
      "27/27 [==============================] - 0s 1ms/step - loss: 3.4799 - mse: 3.4799 - val_loss: 1.2813 - val_mse: 1.2813\n",
      "Epoch 17/100\n",
      "27/27 [==============================] - 0s 1ms/step - loss: 3.6854 - mse: 3.6854 - val_loss: 1.1069 - val_mse: 1.1069\n",
      "Epoch 18/100\n",
      "27/27 [==============================] - 0s 1ms/step - loss: 3.1505 - mse: 3.1505 - val_loss: 1.0555 - val_mse: 1.0555\n",
      "Epoch 19/100\n",
      "27/27 [==============================] - 0s 1ms/step - loss: 3.4566 - mse: 3.4566 - val_loss: 0.9890 - val_mse: 0.9890\n",
      "Epoch 20/100\n",
      "27/27 [==============================] - 0s 1ms/step - loss: 3.1452 - mse: 3.1452 - val_loss: 0.8366 - val_mse: 0.8366\n",
      "Epoch 21/100\n",
      "27/27 [==============================] - 0s 1ms/step - loss: 2.9067 - mse: 2.9067 - val_loss: 0.8063 - val_mse: 0.8063\n",
      "Epoch 22/100\n",
      "27/27 [==============================] - 0s 1ms/step - loss: 2.9138 - mse: 2.9138 - val_loss: 0.7406 - val_mse: 0.7406\n",
      "Epoch 23/100\n",
      "27/27 [==============================] - 0s 1ms/step - loss: 2.7374 - mse: 2.7374 - val_loss: 0.6624 - val_mse: 0.6624\n",
      "Epoch 24/100\n",
      "27/27 [==============================] - 0s 1ms/step - loss: 2.7588 - mse: 2.7588 - val_loss: 0.6390 - val_mse: 0.6390\n",
      "Epoch 25/100\n",
      "27/27 [==============================] - 0s 1ms/step - loss: 2.5648 - mse: 2.5648 - val_loss: 0.5931 - val_mse: 0.5931\n",
      "Epoch 26/100\n",
      "27/27 [==============================] - 0s 1ms/step - loss: 2.4735 - mse: 2.4735 - val_loss: 0.5651 - val_mse: 0.5651\n",
      "Epoch 27/100\n",
      "27/27 [==============================] - 0s 1ms/step - loss: 2.1843 - mse: 2.1843 - val_loss: 0.4961 - val_mse: 0.4961\n",
      "Epoch 28/100\n",
      "27/27 [==============================] - 0s 1ms/step - loss: 2.2780 - mse: 2.2780 - val_loss: 0.4757 - val_mse: 0.4757\n",
      "Epoch 29/100\n",
      "27/27 [==============================] - 0s 1ms/step - loss: 2.4568 - mse: 2.4568 - val_loss: 0.4986 - val_mse: 0.4986\n",
      "Epoch 30/100\n",
      "27/27 [==============================] - 0s 1ms/step - loss: 2.5106 - mse: 2.5106 - val_loss: 0.5099 - val_mse: 0.5099\n",
      "Epoch 31/100\n",
      "27/27 [==============================] - 0s 2ms/step - loss: 2.3407 - mse: 2.3407 - val_loss: 0.3990 - val_mse: 0.3990\n",
      "Epoch 32/100\n",
      "27/27 [==============================] - 0s 2ms/step - loss: 2.2532 - mse: 2.2532 - val_loss: 0.3813 - val_mse: 0.3813\n",
      "Epoch 33/100\n",
      "27/27 [==============================] - 0s 2ms/step - loss: 2.1994 - mse: 2.1994 - val_loss: 0.4445 - val_mse: 0.4445\n",
      "Epoch 34/100\n",
      "27/27 [==============================] - 0s 2ms/step - loss: 2.1854 - mse: 2.1854 - val_loss: 0.3862 - val_mse: 0.3862\n",
      "Epoch 35/100\n",
      "27/27 [==============================] - 0s 2ms/step - loss: 2.1615 - mse: 2.1615 - val_loss: 0.3372 - val_mse: 0.3372\n",
      "Epoch 36/100\n",
      "27/27 [==============================] - 0s 2ms/step - loss: 2.1891 - mse: 2.1891 - val_loss: 0.3937 - val_mse: 0.3937\n",
      "Epoch 37/100\n",
      "27/27 [==============================] - 0s 2ms/step - loss: 2.0235 - mse: 2.0235 - val_loss: 0.3830 - val_mse: 0.3830\n",
      "Epoch 38/100\n",
      "27/27 [==============================] - 0s 2ms/step - loss: 2.0803 - mse: 2.0803 - val_loss: 0.3520 - val_mse: 0.3520\n",
      "Epoch 39/100\n",
      "27/27 [==============================] - 0s 2ms/step - loss: 2.0270 - mse: 2.0270 - val_loss: 0.3229 - val_mse: 0.3229\n",
      "Epoch 40/100\n",
      "27/27 [==============================] - 0s 2ms/step - loss: 2.1947 - mse: 2.1947 - val_loss: 0.2910 - val_mse: 0.2910\n",
      "Epoch 41/100\n",
      "27/27 [==============================] - 0s 1ms/step - loss: 1.9482 - mse: 1.9482 - val_loss: 0.2905 - val_mse: 0.2905\n",
      "Epoch 42/100\n",
      "27/27 [==============================] - 0s 2ms/step - loss: 1.8427 - mse: 1.8427 - val_loss: 0.2909 - val_mse: 0.2909\n",
      "Epoch 43/100\n",
      "27/27 [==============================] - 0s 2ms/step - loss: 1.8719 - mse: 1.8719 - val_loss: 0.3074 - val_mse: 0.3074\n",
      "Epoch 44/100\n",
      "27/27 [==============================] - 0s 2ms/step - loss: 2.0549 - mse: 2.0549 - val_loss: 0.2782 - val_mse: 0.2782\n",
      "Epoch 45/100\n",
      "27/27 [==============================] - 0s 2ms/step - loss: 1.8861 - mse: 1.8861 - val_loss: 0.2897 - val_mse: 0.2897\n",
      "Epoch 46/100\n",
      "27/27 [==============================] - 0s 1ms/step - loss: 1.9405 - mse: 1.9405 - val_loss: 0.2863 - val_mse: 0.2863\n",
      "Epoch 47/100\n",
      "27/27 [==============================] - 0s 1ms/step - loss: 1.9699 - mse: 1.9699 - val_loss: 0.2530 - val_mse: 0.2530\n",
      "Epoch 48/100\n",
      "27/27 [==============================] - 0s 1ms/step - loss: 2.0259 - mse: 2.0259 - val_loss: 0.2822 - val_mse: 0.2822\n",
      "Epoch 49/100\n",
      "27/27 [==============================] - 0s 1ms/step - loss: 1.8990 - mse: 1.8990 - val_loss: 0.3798 - val_mse: 0.3798\n",
      "Epoch 50/100\n",
      "27/27 [==============================] - 0s 1ms/step - loss: 1.9007 - mse: 1.9007 - val_loss: 0.2678 - val_mse: 0.2678\n",
      "Epoch 51/100\n",
      "27/27 [==============================] - 0s 1ms/step - loss: 1.9163 - mse: 1.9163 - val_loss: 0.3534 - val_mse: 0.3534\n",
      "Epoch 52/100\n",
      "27/27 [==============================] - 0s 1ms/step - loss: 1.8670 - mse: 1.8670 - val_loss: 0.2550 - val_mse: 0.2550\n"
     ]
    }
   ],
   "source": [
    "history = model.fit(\n",
    "    X_train_preprocessed,y_train,\n",
    "    epochs=100,\n",
    "    batch_size=32,\n",
    "    validation_split=0.2,\n",
    "    callbacks=[early_stopping],\n",
    "    verbose=1\n",
    "    )"
   ]
  },
  {
   "cell_type": "code",
   "execution_count": 114,
   "metadata": {},
   "outputs": [
    {
     "name": "stdout",
     "output_type": "stream",
     "text": [
      "9/9 [==============================] - 0s 622us/step - loss: 0.2398 - mse: 0.2398\n",
      "Test Loss (MSE on log-transformed y): 0.23984743654727936\n",
      "Test MSE: 0.23984743654727936\n"
     ]
    }
   ],
   "source": [
    "# Evaluate on scaled data\n",
    "\n",
    "test_loss, test_mse = model.evaluate(X_test_preprocessed, y_test)\n",
    "print(f\"Test Loss (MSE on log-transformed y): {test_loss}\")\n",
    "print(f\"Test MSE: {test_mse}\")"
   ]
  },
  {
   "cell_type": "code",
   "execution_count": 115,
   "metadata": {},
   "outputs": [
    {
     "name": "stdout",
     "output_type": "stream",
     "text": [
      "R² Score: 0.7332\n"
     ]
    }
   ],
   "source": [
    "from sklearn.metrics import r2_score\n",
    "\n",
    "# Generate predictions on the test set\n",
    "y_pred = model.predict(X_test_preprocessed)\n",
    "\n",
    "# Calculate R² score\n",
    "r2 = r2_score(y_test, y_pred)\n",
    "print(f\"R² Score: {r2:.4f}\")\n"
   ]
  },
  {
   "cell_type": "code",
   "execution_count": 116,
   "metadata": {},
   "outputs": [
    {
     "data": {
      "text/plain": [
       "['preprocess_pipeline.pkl']"
      ]
     },
     "execution_count": 116,
     "metadata": {},
     "output_type": "execute_result"
    }
   ],
   "source": [
    "import joblib\n",
    "# Save the model and preprocessing pipeline\n",
    "model.save('insurance_model.h5')\n",
    "joblib.dump(preprocess_columns, 'preprocess_pipeline.pkl')"
   ]
  },
  {
   "cell_type": "code",
   "execution_count": 117,
   "metadata": {},
   "outputs": [
    {
     "data": {
      "image/png": "[encoded data removed]",
      "text/plain": [
       "<Figure size 864x288 with 2 Axes>"
      ]
     },
     "metadata": {
      "needs_background": "light"
     },
     "output_type": "display_data"
    }
   ],
   "source": [
    "# Visualize training history\n",
    "plt.figure(figsize=(12, 4))\n",
    "\n",
    "# Plot mse\n",
    "plt.subplot(1, 2, 1)\n",
    "plt.plot(history.history['mse'], label='Training mse')\n",
    "plt.plot(history.history['val_mse'], label='Validation mse')\n",
    "plt.title('Model mse')\n",
    "plt.xlabel('Epoch')\n",
    "plt.ylabel('mse')\n",
    "plt.legend()\n",
    "\n",
    "# Plot loss\n",
    "plt.subplot(1, 2, 2)\n",
    "plt.plot(history.history['loss'], label='Training Loss')\n",
    "plt.plot(history.history['val_loss'], label='Validation Loss')\n",
    "plt.title('Model Loss')\n",
    "plt.xlabel('Epoch')\n",
    "plt.ylabel('Loss')\n",
    "plt.legend()\n",
    "\n",
    "plt.tight_layout()\n",
    "plt.show()"
   ]
  },
  {
   "cell_type": "markdown",
   "metadata": {},
   "source": [
    "## Prediction"
   ]
  },
  {
   "cell_type": "code",
   "execution_count": 118,
   "metadata": {},
   "outputs": [
    {
     "name": "stdout",
     "output_type": "stream",
     "text": [
      "3302.3633\n"
     ]
    }
   ],
   "source": [
    "import pandas as pd\n",
    "import numpy as np\n",
    "import joblib\n",
    "from tensorflow.keras.models import load_model\n",
    "\n",
    "model = load_model('insurance_model.h5')\n",
    "preprocess_pipeline = joblib.load('preprocess_pipeline.pkl')\n",
    "\n",
    "\n",
    "# data = {\n",
    "#     'age': [19, 18, 28, 33, 32],\n",
    "#     'bmi': [27.9, 33.77, 33.0, 22.705, 28.88],\n",
    "#     'children': [0, 1, 3, 0, 0],\n",
    "#     'sex': ['female', 'male', 'male', 'male', 'male'],\n",
    "#     'smoker': ['yes', 'no', 'no', 'no', 'no'],\n",
    "#     'region': ['southwest', 'southeast', 'southeast', 'northwest', 'northwest']\n",
    "# }\n",
    "\n",
    "data = {\n",
    "    'age': [28],\n",
    "    'bmi': [33.0],\n",
    "    'children': [2],\n",
    "    'sex': ['male'],\n",
    "    'smoker': ['no'],\n",
    "    'region': ['southeast']\n",
    "}\n",
    "\n",
    "df_sample = pd.DataFrame(data)\n",
    "\n",
    "X_sample_preprocessed = preprocess_pipeline.transform(df_sample)\n",
    "\n",
    "predictions_log = model.predict(X_sample_preprocessed)\n",
    "\n",
    "predictions = np.expm1(predictions_log)\n",
    "\n",
    "print(predictions[0][0])\n",
    "\n"
   ]
  },
  {
   "cell_type": "markdown",
   "metadata": {},
   "source": [
    "## Alternative method"
   ]
  },
  {
   "cell_type": "code",
   "execution_count": 122,
   "metadata": {},
   "outputs": [
    {
     "name": "stdout",
     "output_type": "stream",
     "text": [
      "R² Scores for each fold: [0.75243743 0.51807493 0.77963722 0.62671868 0.59966898]\n",
      "Average R² Score: 0.6553074471233453\n"
     ]
    }
   ],
   "source": [
    "import numpy as np\n",
    "import pandas as pd\n",
    "from sklearn.pipeline import Pipeline\n",
    "from sklearn.compose import ColumnTransformer\n",
    "from sklearn.preprocessing import RobustScaler, StandardScaler, OneHotEncoder\n",
    "from sklearn.impute import SimpleImputer\n",
    "from sklearn.model_selection import cross_val_score\n",
    "from sklearn.metrics import make_scorer, r2_score\n",
    "from scikeras.wrappers import KerasRegressor  # pip install scikeras\n",
    "from tensorflow.keras.models import Sequential\n",
    "from tensorflow.keras.layers import Dense, Dropout\n",
    "from tensorflow.keras.callbacks import EarlyStopping\n",
    "\n",
    "# Assume df is already loaded as in your code:\n",
    "df = pd.read_csv('/home/suhas/Desktop/office/Data Science/Notes/Data Analysis/Data/insurance.csv')\n",
    "\n",
    "# Define your feature and target columns:\n",
    "updated_num = ['age', 'bmi', 'children']  # Only numerical features (exclude target 'charges')\n",
    "categorical_columns = ['sex', 'smoker', 'region']\n",
    "\n",
    "# Create X and y (apply log1p to target)\n",
    "X = df[updated_num + categorical_columns]\n",
    "y = df['charges']\n",
    "y = np.log1p(y)\n",
    "\n",
    "# Build the preprocessing pipeline\n",
    "num_pipeline = Pipeline([\n",
    "    ('num_robust', RobustScaler()),\n",
    "    ('standard', StandardScaler()),\n",
    "    ('impute', SimpleImputer(strategy='median')),\n",
    "])\n",
    "\n",
    "cat_pipeline = Pipeline([\n",
    "    ('cat_impute', SimpleImputer(strategy='most_frequent')),\n",
    "    ('ohe', OneHotEncoder(drop='first', sparse=False))\n",
    "])\n",
    "\n",
    "preprocess_columns = ColumnTransformer([\n",
    "    ('num_preprocess', num_pipeline, updated_num),\n",
    "    ('cat_preprocess', cat_pipeline, categorical_columns),\n",
    "])\n",
    "\n",
    "# Define a function to build the Keras model\n",
    "def build_model(input_shape):\n",
    "    model = Sequential([\n",
    "        Dense(64, activation='relu', input_shape=(input_shape,)),\n",
    "        Dropout(0.2),\n",
    "        Dense(32, activation='relu'),\n",
    "        Dropout(0.2),\n",
    "        Dense(1)\n",
    "    ])\n",
    "    model.compile(optimizer='adam', loss='mean_squared_error', metrics=['mse'])\n",
    "    return model\n",
    "\n",
    "# Since we know from our preprocessing pipeline, the number of features is:\n",
    "#  - updated_num: 3 features\n",
    "#  - categorical: for example, if 'sex' and 'smoker' have 2 categories each -> 1 dummy each (drop='first'),\n",
    "#                 and 'region' has 4 unique values -> 3 dummies.\n",
    "# Total features = 3 + 1 + 1 + 3 = 8.\n",
    "input_shape_value = 8\n",
    "\n",
    "# Wrap the model using scikeras\n",
    "keras_reg = KerasRegressor(\n",
    "    model=build_model,\n",
    "    model__input_shape=input_shape_value,  # Pass the input shape to the model builder\n",
    "    epochs=100,\n",
    "    batch_size=32,\n",
    "    callbacks=[EarlyStopping(monitor='loss', patience=5, restore_best_weights=True)],\n",
    "    verbose=0\n",
    ")\n",
    "\n",
    "# Create a complete pipeline combining preprocessing and the Keras model\n",
    "pipeline = Pipeline([\n",
    "    ('preprocess', preprocess_columns),\n",
    "    ('model', keras_reg)\n",
    "])\n",
    "\n",
    "# Now perform 5-fold cross-validation using R² score as the metric.\n",
    "# We use the r2_score directly via the scoring parameter.\n",
    "scores = cross_val_score(pipeline, X, y, cv=5, scoring='r2')\n",
    "\n",
    "print(\"R² Scores for each fold:\", scores)\n",
    "print(\"Average R² Score:\", np.mean(scores))\n"
   ]
  },
  {
   "cell_type": "code",
   "execution_count": null,
   "metadata": {},
   "outputs": [],
   "source": []
  }
 ],
 "metadata": {
  "kernelspec": {
   "display_name": "venv",
   "language": "python",
   "name": "python3"
  },
  "language_info": {
   "codemirror_mode": {
    "name": "ipython",
    "version": 3
   },
   "file_extension": ".py",
   "mimetype": "text/x-python",
   "name": "python",
   "nbconvert_exporter": "python",
   "pygments_lexer": "ipython3",
   "version": "3.6.9"
  }
 },
 "nbformat": 4,
 "nbformat_minor": 2
}
