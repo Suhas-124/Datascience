{
 "cells": [
  {
   "cell_type": "markdown",
   "metadata": {},
   "source": [
    "### 1. Find Minimum and Maximum of 3 Numbers"
   ]
  },
  {
   "cell_type": "code",
   "execution_count": 9,
   "metadata": {},
   "outputs": [
    {
     "name": "stdout",
     "output_type": "stream",
     "text": [
      "Minimum number is: 5\n"
     ]
    }
   ],
   "source": [
    "def nminimum(n1, n2, n3):\n",
    "    return min(n1, n2, n3)\n",
    "    \n",
    "n1 = int(input(\"Enter 1st number: \"))\n",
    "n2 = int(input(\"Enter 2nd number: \"))\n",
    "n3 = int(input(\"Enter 3rd number: \"))\n",
    "\n",
    "result = nminimum(n1, n2, n3)  # Fixed variable name\n",
    "\n",
    "print(\"Minimum number is:\", result)\n"
   ]
  },
  {
   "cell_type": "markdown",
   "metadata": {},
   "source": [
    "### 2.Write a program to access each character of string in forward and backward direction by using while loop or for loop.\n"
   ]
  },
  {
   "cell_type": "code",
   "execution_count": null,
   "metadata": {},
   "outputs": [
    {
     "name": "stdout",
     "output_type": "stream",
     "text": [
      "Forward string\n",
      "work hard suhas\n",
      "Backward String\n",
      "sahus drah krow\n"
     ]
    }
   ],
   "source": [
    "def charcter(n):\n",
    "    print(\"Forward string\")\n",
    "    for ch in n:\n",
    "        print(ch,end='')\n",
    "    print()   \n",
    "\n",
    "    print(\"Backward String\")\n",
    "    for ch in reversed(n):\n",
    "        print(ch,end='')\n",
    "    print()     \n",
    "        \n",
    "        \n",
    "chr = input(\"Enter the string:\")\n",
    "charcter(chr)"
   ]
  },
  {
   "cell_type": "markdown",
   "metadata": {},
   "source": [
    "## 3.Write a program to accept some string from the keyboard and display its characters by index wise(both positive and negative index)"
   ]
  },
  {
   "cell_type": "code",
   "execution_count": null,
   "metadata": {},
   "outputs": [
    {
     "name": "stdout",
     "output_type": "stream",
     "text": [
      "Character in +ve direction: s:0 and Character in -ve direction: s:-5\n",
      "Character in +ve direction: u:1 and Character in -ve direction: u:-4\n",
      "Character in +ve direction: h:2 and Character in -ve direction: h:-3\n",
      "Character in +ve direction: a:3 and Character in -ve direction: a:-2\n",
      "Character in +ve direction: s:4 and Character in -ve direction: s:-1\n"
     ]
    }
   ],
   "source": [
    "def character_string(n):\n",
    "    for i, ch in enumerate(n):\n",
    "        print(f\"Character in +ve direction: {ch}:{i} and Character in -ve direction: {ch}:{i - len(n)}\")\n",
    "\n",
    "# Accept input from the user\n",
    "string_input = input(\"Enter the string: \")\n",
    "character_string(string_input)\n"
   ]
  },
  {
   "cell_type": "markdown",
   "metadata": {},
   "source": [
    "## 4.Write a Program to reverse the order of Words in a String.\n",
    "### input: Learning Python is very Easy\n",
    "### output: Easy Very is Python Learning\n"
   ]
  },
  {
   "cell_type": "code",
   "execution_count": null,
   "metadata": {},
   "outputs": [
    {
     "name": "stdout",
     "output_type": "stream",
     "text": [
      "engineer ai a am i\n"
     ]
    }
   ],
   "source": [
    "def reverse_string(n):\n",
    "    s = n.split()\n",
    "    print(' '.join(s[::-1]))\n",
    "\n",
    "chr = input(\"Enter the string:\")\n",
    "print(chr)\n",
    "reverse_string(chr)"
   ]
  },
  {
   "cell_type": "markdown",
   "metadata": {},
   "source": [
    "## 5.Program to reverse internal content of each word.  \n",
    "### input: Durga Software Solutions  \n",
    "### output: agruD erawtfoS snoituloS  "
   ]
  },
  {
   "cell_type": "code",
   "execution_count": null,
   "metadata": {},
   "outputs": [
    {
     "name": "stdout",
     "output_type": "stream",
     "text": [
      "sahus krow drah\n"
     ]
    }
   ],
   "source": [
    "def reverse_internal_string(n):\n",
    "    s = n.split()\n",
    "    rev = []\n",
    "    for ch in s:\n",
    "        rev.append(ch[::-1])\n",
    "    jn = ' '.join(rev)\n",
    "    print(jn)\n",
    "\n",
    "chr = input(\"Enter string:\")\n",
    "reverse_internal_string(chr)"
   ]
  },
  {
   "cell_type": "markdown",
   "metadata": {},
   "source": [
    "## 6. Write a program to print characters at odd position and even position for the given String?"
   ]
  },
  {
   "cell_type": "code",
   "execution_count": null,
   "metadata": {},
   "outputs": [
    {
     "name": "stdout",
     "output_type": "stream",
     "text": [
      "suhaswork\n",
      "Even Position:uawr \n",
      "Odd Position shsok\n"
     ]
    }
   ],
   "source": [
    "s=input(\"Enter String:\")\n",
    "print(s)\n",
    "\n",
    "def position_string(s):\n",
    "    print(f\"Even Position:{s[1::2]} \\nOdd Position {s[0::2]}\")\n",
    "\n",
    "position_string(s)"
   ]
  },
  {
   "cell_type": "markdown",
   "metadata": {},
   "source": [
    "## 7.Write a Program to merge characters of 2 strings into a single string by taking characters alternatively.\n",
    "### s1=\"ravi\"\n",
    "### s2=\"reja\"\n",
    "### output=”rraevjia”"
   ]
  },
  {
   "cell_type": "code",
   "execution_count": null,
   "metadata": {},
   "outputs": [
    {
     "data": {
      "text/plain": [
       "'rraevjiat'"
      ]
     },
     "execution_count": 23,
     "metadata": {},
     "output_type": "execute_result"
    }
   ],
   "source": [
    "s1 = \"ravi\"\n",
    "s2 = \"rejat\"\n",
    "\n",
    "\n",
    "\n",
    "# zipped = ''.join([a+b for a,b in zip(s1,s2)])\n",
    "\n",
    "# zipped += s1[len(s2):] + s2[len(s1):]\n",
    "\n",
    "# print(zipped)\n",
    "\n",
    "\n",
    "def merge_string(s1,s2):\n",
    "    zipped = ''.join([a+b for a,b in zip(s1,s2)])\n",
    "    zipped += s1[len(s2):] + s2[len(s1):]\n",
    "    return zipped\n",
    "\n",
    "merge_string(s1,s2)"
   ]
  },
  {
   "cell_type": "markdown",
   "metadata": {},
   "source": [
    "## 8.Write a program to perform the following activity\n",
    "### input: a4k3b2\n",
    "### output: aeknbd"
   ]
  },
  {
   "cell_type": "code",
   "execution_count": null,
   "metadata": {},
   "outputs": [
    {
     "data": {
      "text/plain": [
       "'aeknbd'"
      ]
     },
     "execution_count": 3,
     "metadata": {},
     "output_type": "execute_result"
    }
   ],
   "source": [
    "s = \"a4k3b2\"\n",
    "\n",
    "# print(chr(97))\n",
    "# print(ord(\"a\"))\n",
    "\n",
    "# output = \"\"\n",
    "def char_next(s):\n",
    "    output = \"\"\n",
    "    for ch in s:\n",
    "        if ch.isalpha():\n",
    "            x = ch\n",
    "            output = output + ch\n",
    "        else:\n",
    "            d = int(ch)\n",
    "            newc = chr(ord(x)+d)\n",
    "            output = output + newc    \n",
    "    return output\n",
    "\n",
    "char_next(s)  "
   ]
  },
  {
   "cell_type": "markdown",
   "metadata": {},
   "source": [
    "## 9.Write a program to sort the characters of the string and first alphabet symbols followed by numeric values.\n",
    "### input: B4A1D3\n",
    "### Output: ABD134\n"
   ]
  },
  {
   "cell_type": "code",
   "execution_count": 7,
   "metadata": {},
   "outputs": [
    {
     "data": {
      "text/plain": [
       "'ABDZ149'"
      ]
     },
     "execution_count": 7,
     "metadata": {},
     "output_type": "execute_result"
    }
   ],
   "source": [
    "s = \"B4A1D9Z\"\n",
    "\n",
    "def char_place(s):\n",
    "    d = []\n",
    "    chr = []\n",
    "    for ch in s:\n",
    "        if ch.isalpha():\n",
    "            chr.append(ch)\n",
    "        else:\n",
    "            d.append(ch)\n",
    "    t = sorted(chr) + sorted(d)\n",
    "    jn = ''.join(t)\n",
    "    return jn\n",
    "\n",
    "char_place(s)       \n",
    "            "
   ]
  },
  {
   "cell_type": "markdown",
   "metadata": {},
   "source": [
    "## 10.Write a program for the following requirement:\n",
    "## input: a4b3c2\n",
    "## output: aaaabbbcc\n"
   ]
  },
  {
   "cell_type": "code",
   "execution_count": 10,
   "metadata": {},
   "outputs": [
    {
     "data": {
      "text/plain": [
       "'aaaabbbcc'"
      ]
     },
     "execution_count": 10,
     "metadata": {},
     "output_type": "execute_result"
    }
   ],
   "source": [
    "s = \"a4b3c2\"\n",
    "\n",
    "def char_mult(s):\n",
    "    output = \"\"\n",
    "    for ch in s:\n",
    "        if ch.isalpha():\n",
    "            x= ch\n",
    "        else:\n",
    "            d = int(ch)\n",
    "            output = output + x *d\n",
    "    return output\n",
    "\n",
    "char_mult(s)            \n"
   ]
  },
  {
   "cell_type": "code",
   "execution_count": null,
   "metadata": {},
   "outputs": [],
   "source": []
  }
 ],
 "metadata": {
  "kernelspec": {
   "display_name": "venv",
   "language": "python",
   "name": "python3"
  },
  "language_info": {
   "codemirror_mode": {
    "name": "ipython",
    "version": 3
   },
   "file_extension": ".py",
   "mimetype": "text/x-python",
   "name": "python",
   "nbconvert_exporter": "python",
   "pygments_lexer": "ipython3",
   "version": "3.6.9"
  }
 },
 "nbformat": 4,
 "nbformat_minor": 2
}
