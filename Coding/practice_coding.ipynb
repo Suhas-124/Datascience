{
 "cells": [
  {
   "cell_type": "markdown",
   "metadata": {},
   "source": [
    "## 4.Write a Program to reverse the order of Words in a String.\n",
    "### input: Learning Python is very Easy\n",
    "### output: Easy Very is Python Learning\n"
   ]
  },
  {
   "cell_type": "code",
   "execution_count": 3,
   "metadata": {},
   "outputs": [
    {
     "data": {
      "text/plain": [
       "'yourself in believe suhas'"
      ]
     },
     "execution_count": 3,
     "metadata": {},
     "output_type": "execute_result"
    }
   ],
   "source": [
    "s = \"suhas believe in yourself\"\n",
    "def reverse_string(s):\n",
    "    d = s.split()\n",
    "    jn = ' '.join(d[::-1])\n",
    "    return jn\n",
    "\n",
    "reverse_string(s)\n"
   ]
  },
  {
   "cell_type": "markdown",
   "metadata": {},
   "source": [
    "## 5.Program to reverse internal content of each word.  \n",
    "### input: Durga Software Solutions  \n",
    "### output: agruD erawtfoS snoituloS  "
   ]
  },
  {
   "cell_type": "code",
   "execution_count": 6,
   "metadata": {},
   "outputs": [
    {
     "data": {
      "text/plain": [
       "'sahus eveileb ni flesruoy'"
      ]
     },
     "execution_count": 6,
     "metadata": {},
     "output_type": "execute_result"
    }
   ],
   "source": [
    "s = \"suhas believe in yourself\"\n",
    "\n",
    "def internal_content(s):\n",
    "    d = s.split()\n",
    "    l = []\n",
    "    for ch in d:\n",
    "        l.append(ch[::-1])\n",
    "    jn = ' '.join(l)    \n",
    "    return jn\n",
    "\n",
    "internal_content(s)"
   ]
  },
  {
   "cell_type": "markdown",
   "metadata": {},
   "source": [
    "## 6. Write a program to print characters at odd position and even position for the given String?"
   ]
  },
  {
   "cell_type": "code",
   "execution_count": 8,
   "metadata": {},
   "outputs": [
    {
     "name": "stdout",
     "output_type": "stream",
     "text": [
      "chr in even positon:uhas\n",
      "chr in odd position:shs\n"
     ]
    }
   ],
   "source": [
    "s = \"suhas\"\n",
    "\n",
    "def chr_postion(s):\n",
    "    print(f\"chr in even positon:{s[1:]}\")\n",
    "    print(f\"chr in odd position:{s[0::2]}\")\n",
    "\n",
    "chr_postion(s)\n",
    "\n"
   ]
  },
  {
   "cell_type": "markdown",
   "metadata": {},
   "source": [
    "## 7.Write a Program to merge characters of 2 strings into a single string by taking characters alternatively.\n",
    "### s1=\"ravi\"\n",
    "### s2=\"reja\"\n",
    "### output=”rraevjia”"
   ]
  },
  {
   "cell_type": "code",
   "execution_count": 12,
   "metadata": {},
   "outputs": [
    {
     "data": {
      "text/plain": [
       "'rraavjiua'"
      ]
     },
     "execution_count": 12,
     "metadata": {},
     "output_type": "execute_result"
    }
   ],
   "source": [
    "s1=\"ravi\"\n",
    "s2 = \"rajua\"\n",
    "\n",
    "def alternate_string(s1,s2):\n",
    "    d = [a+b for a,b in zip(s1,s2)]\n",
    "    d += s1[len(s2):] + s2[len(s1):]\n",
    "    jn = ''.join(d)\n",
    "    return jn\n",
    "\n",
    "alternate_string(s1,s2)\n"
   ]
  },
  {
   "cell_type": "code",
   "execution_count": null,
   "metadata": {},
   "outputs": [],
   "source": []
  }
 ],
 "metadata": {
  "kernelspec": {
   "display_name": "venv",
   "language": "python",
   "name": "python3"
  },
  "language_info": {
   "codemirror_mode": {
    "name": "ipython",
    "version": 3
   },
   "file_extension": ".py",
   "mimetype": "text/x-python",
   "name": "python",
   "nbconvert_exporter": "python",
   "pygments_lexer": "ipython3",
   "version": "3.6.9"
  }
 },
 "nbformat": 4,
 "nbformat_minor": 2
}
