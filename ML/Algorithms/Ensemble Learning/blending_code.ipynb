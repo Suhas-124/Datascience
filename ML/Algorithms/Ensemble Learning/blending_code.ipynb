{
 "cells": [
  {
   "cell_type": "code",
   "execution_count": 14,
   "metadata": {},
   "outputs": [],
   "source": [
    "import numpy as np\n",
    "from sklearn.datasets import load_iris\n",
    "from sklearn.model_selection import train_test_split\n",
    "from sklearn.ensemble import RandomForestClassifier,GradientBoostingClassifier\n",
    "from sklearn.linear_model import LogisticRegression\n",
    "from sklearn.metrics import accuracy_score"
   ]
  },
  {
   "cell_type": "code",
   "execution_count": 15,
   "metadata": {},
   "outputs": [],
   "source": [
    "iris = load_iris()\n",
    "X,y = iris.data,iris.target"
   ]
  },
  {
   "cell_type": "code",
   "execution_count": 16,
   "metadata": {},
   "outputs": [],
   "source": [
    "X_train,X_test,y_train,y_test = train_test_split(X,y,test_size=0.2,random_state=42)"
   ]
  },
  {
   "cell_type": "code",
   "execution_count": 17,
   "metadata": {},
   "outputs": [],
   "source": [
    "# Base Models\n",
    "\n",
    "model1 = RandomForestClassifier(random_state=42)\n",
    "model2 = GradientBoostingClassifier(random_state=42)"
   ]
  },
  {
   "cell_type": "code",
   "execution_count": 18,
   "metadata": {},
   "outputs": [
    {
     "data": {
      "text/plain": [
       "GradientBoostingClassifier(random_state=42)"
      ]
     },
     "execution_count": 18,
     "metadata": {},
     "output_type": "execute_result"
    }
   ],
   "source": [
    "# Train base Models\n",
    "\n",
    "model1.fit(X_train,y_train)\n",
    "model2.fit(X_train,y_train)"
   ]
  },
  {
   "cell_type": "code",
   "execution_count": 19,
   "metadata": {},
   "outputs": [],
   "source": [
    "# Predict on validation set\n",
    "pred1 = model1.predict_proba(X_test)\n",
    "pred2 = model2.predict_proba(X_test)\n"
   ]
  },
  {
   "cell_type": "code",
   "execution_count": 20,
   "metadata": {},
   "outputs": [],
   "source": [
    "# Combine predictions for the blender model\n",
    "\n",
    "X_blend = np.hstack((pred1,pred2))"
   ]
  },
  {
   "cell_type": "code",
   "execution_count": 21,
   "metadata": {},
   "outputs": [
    {
     "data": {
      "text/plain": [
       "array([[0.00000000e+00, 9.90000000e-01, 1.00000000e-02, 4.69239155e-05,\n",
       "        9.99638773e-01, 3.14303460e-04],\n",
       "       [1.00000000e+00, 0.00000000e+00, 0.00000000e+00, 9.99896344e-01,\n",
       "        1.00321652e-04, 3.33481369e-06],\n",
       "       [0.00000000e+00, 3.00000000e-02, 9.70000000e-01, 4.67562320e-06,\n",
       "        6.64565256e-05, 9.99928868e-01],\n",
       "       [0.00000000e+00, 1.00000000e+00, 0.00000000e+00, 3.20987084e-05,\n",
       "        9.99615808e-01, 3.52093261e-04],\n",
       "       [0.00000000e+00, 8.70000000e-01, 1.30000000e-01, 2.17486609e-05,\n",
       "        9.99840567e-01, 1.37684804e-04],\n",
       "       [1.00000000e+00, 0.00000000e+00, 0.00000000e+00, 9.99932186e-01,\n",
       "        6.44760200e-05, 3.33764138e-06],\n",
       "       [0.00000000e+00, 1.00000000e+00, 0.00000000e+00, 3.46879744e-05,\n",
       "        9.99772950e-01, 1.92361785e-04],\n",
       "       [0.00000000e+00, 8.00000000e-02, 9.20000000e-01, 4.63333168e-06,\n",
       "        6.82158757e-04, 9.99313208e-01],\n",
       "       [0.00000000e+00, 8.60000000e-01, 1.40000000e-01, 1.37190972e-04,\n",
       "        9.96970029e-01, 2.89277963e-03],\n",
       "       [0.00000000e+00, 1.00000000e+00, 0.00000000e+00, 1.98315891e-05,\n",
       "        9.99866562e-01, 1.13606542e-04],\n",
       "       [0.00000000e+00, 5.00000000e-02, 9.50000000e-01, 7.45661219e-06,\n",
       "        1.19458629e-03, 9.98797957e-01],\n",
       "       [1.00000000e+00, 0.00000000e+00, 0.00000000e+00, 9.99954793e-01,\n",
       "        4.16965783e-05, 3.51037460e-06],\n",
       "       [9.40000000e-01, 6.00000000e-02, 0.00000000e+00, 9.99896344e-01,\n",
       "        1.00321652e-04, 3.33481369e-06],\n",
       "       [1.00000000e+00, 0.00000000e+00, 0.00000000e+00, 9.99954975e-01,\n",
       "        4.16965859e-05, 3.32857266e-06],\n",
       "       [1.00000000e+00, 0.00000000e+00, 0.00000000e+00, 9.99950069e-01,\n",
       "        4.65925400e-05, 3.33865708e-06],\n",
       "       [0.00000000e+00, 9.80000000e-01, 2.00000000e-02, 2.17603298e-05,\n",
       "        9.99858560e-01, 1.19679603e-04],\n",
       "       [0.00000000e+00, 0.00000000e+00, 1.00000000e+00, 1.69881609e-06,\n",
       "        1.84895264e-05, 9.99979812e-01],\n",
       "       [0.00000000e+00, 1.00000000e+00, 0.00000000e+00, 1.98315891e-05,\n",
       "        9.99866562e-01, 1.13606542e-04],\n",
       "       [0.00000000e+00, 1.00000000e+00, 0.00000000e+00, 5.07021156e-05,\n",
       "        9.99658848e-01, 2.90450350e-04],\n",
       "       [0.00000000e+00, 1.00000000e-02, 9.90000000e-01, 1.69865184e-06,\n",
       "        1.40375086e-05, 9.99984264e-01],\n",
       "       [1.00000000e+00, 0.00000000e+00, 0.00000000e+00, 9.99954975e-01,\n",
       "        4.16965859e-05, 3.32857266e-06],\n",
       "       [0.00000000e+00, 8.00000000e-02, 9.20000000e-01, 3.23406798e-06,\n",
       "        9.51649770e-04, 9.99045116e-01],\n",
       "       [1.00000000e+00, 0.00000000e+00, 0.00000000e+00, 9.99950069e-01,\n",
       "        4.65925400e-05, 3.33865708e-06],\n",
       "       [0.00000000e+00, 1.00000000e-02, 9.90000000e-01, 1.69865184e-06,\n",
       "        1.40375086e-05, 9.99984264e-01],\n",
       "       [0.00000000e+00, 0.00000000e+00, 1.00000000e+00, 1.78092891e-06,\n",
       "        2.76934027e-05, 9.99970526e-01],\n",
       "       [0.00000000e+00, 4.00000000e-02, 9.60000000e-01, 1.73347730e-06,\n",
       "        1.88575058e-05, 9.99979409e-01],\n",
       "       [0.00000000e+00, 6.00000000e-02, 9.40000000e-01, 4.31463654e-06,\n",
       "        7.10590491e-05, 9.99924626e-01],\n",
       "       [0.00000000e+00, 0.00000000e+00, 1.00000000e+00, 2.62901392e-06,\n",
       "        4.84767662e-05, 9.99948894e-01],\n",
       "       [1.00000000e+00, 0.00000000e+00, 0.00000000e+00, 9.99954793e-01,\n",
       "        4.16965783e-05, 3.51037460e-06],\n",
       "       [1.00000000e+00, 0.00000000e+00, 0.00000000e+00, 9.99954975e-01,\n",
       "        4.16965859e-05, 3.32857266e-06]])"
      ]
     },
     "execution_count": 21,
     "metadata": {},
     "output_type": "execute_result"
    }
   ],
   "source": [
    "X_blend"
   ]
  },
  {
   "cell_type": "code",
   "execution_count": 22,
   "metadata": {},
   "outputs": [
    {
     "data": {
      "text/plain": [
       "LogisticRegression()"
      ]
     },
     "execution_count": 22,
     "metadata": {},
     "output_type": "execute_result"
    }
   ],
   "source": [
    "# Train the blender model\n",
    "\n",
    "blender = LogisticRegression()\n",
    "blender.fit(X_blend,y_test)"
   ]
  },
  {
   "cell_type": "code",
   "execution_count": 23,
   "metadata": {},
   "outputs": [],
   "source": [
    "final_pred = blender.predict(X_blend)"
   ]
  },
  {
   "cell_type": "code",
   "execution_count": 24,
   "metadata": {},
   "outputs": [
    {
     "data": {
      "text/plain": [
       "array([1, 0, 2, 1, 1, 0, 1, 2, 1, 1, 2, 0, 0, 0, 0, 1, 2, 1, 1, 2, 0, 2,\n",
       "       0, 2, 2, 2, 2, 2, 0, 0])"
      ]
     },
     "execution_count": 24,
     "metadata": {},
     "output_type": "execute_result"
    }
   ],
   "source": [
    "final_pred"
   ]
  },
  {
   "cell_type": "code",
   "execution_count": 25,
   "metadata": {},
   "outputs": [
    {
     "data": {
      "text/plain": [
       "1.0"
      ]
     },
     "execution_count": 25,
     "metadata": {},
     "output_type": "execute_result"
    }
   ],
   "source": [
    "accuracy_score(y_test,final_pred)"
   ]
  },
  {
   "cell_type": "code",
   "execution_count": null,
   "metadata": {},
   "outputs": [],
   "source": []
  }
 ],
 "metadata": {
  "kernelspec": {
   "display_name": "Python 3",
   "language": "python",
   "name": "python3"
  },
  "language_info": {
   "codemirror_mode": {
    "name": "ipython",
    "version": 3
   },
   "file_extension": ".py",
   "mimetype": "text/x-python",
   "name": "python",
   "nbconvert_exporter": "python",
   "pygments_lexer": "ipython3",
   "version": "3.6.9"
  }
 },
 "nbformat": 4,
 "nbformat_minor": 2
}
