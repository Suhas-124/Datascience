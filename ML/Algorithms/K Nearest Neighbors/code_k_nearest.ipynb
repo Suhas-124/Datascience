{
 "cells": [
  {
   "cell_type": "code",
   "execution_count": 2,
   "metadata": {},
   "outputs": [],
   "source": [
    "import pandas as pd\n",
    "import numpy as np\n",
    "import matplotlib.pyplot as plt"
   ]
  },
  {
   "cell_type": "code",
   "execution_count": 3,
   "metadata": {},
   "outputs": [],
   "source": [
    "df = pd.read_csv('/home/suhas/Desktop/office/Data Science/Notes/Data Analysis/Data/Social_Network_Ads.csv')"
   ]
  },
  {
   "cell_type": "code",
   "execution_count": 4,
   "metadata": {},
   "outputs": [
    {
     "data": {
      "text/html": [
       "<div>\n",
       "<style scoped>\n",
       "    .dataframe tbody tr th:only-of-type {\n",
       "        vertical-align: middle;\n",
       "    }\n",
       "\n",
       "    .dataframe tbody tr th {\n",
       "        vertical-align: top;\n",
       "    }\n",
       "\n",
       "    .dataframe thead th {\n",
       "        text-align: right;\n",
       "    }\n",
       "</style>\n",
       "<table border=\"1\" class=\"dataframe\">\n",
       "  <thead>\n",
       "    <tr style=\"text-align: right;\">\n",
       "      <th></th>\n",
       "      <th>User ID</th>\n",
       "      <th>Gender</th>\n",
       "      <th>Age</th>\n",
       "      <th>EstimatedSalary</th>\n",
       "      <th>Purchased</th>\n",
       "    </tr>\n",
       "  </thead>\n",
       "  <tbody>\n",
       "    <tr>\n",
       "      <th>0</th>\n",
       "      <td>15624510</td>\n",
       "      <td>Male</td>\n",
       "      <td>19</td>\n",
       "      <td>19000</td>\n",
       "      <td>0</td>\n",
       "    </tr>\n",
       "    <tr>\n",
       "      <th>1</th>\n",
       "      <td>15810944</td>\n",
       "      <td>Male</td>\n",
       "      <td>35</td>\n",
       "      <td>20000</td>\n",
       "      <td>0</td>\n",
       "    </tr>\n",
       "    <tr>\n",
       "      <th>2</th>\n",
       "      <td>15668575</td>\n",
       "      <td>Female</td>\n",
       "      <td>26</td>\n",
       "      <td>43000</td>\n",
       "      <td>0</td>\n",
       "    </tr>\n",
       "    <tr>\n",
       "      <th>3</th>\n",
       "      <td>15603246</td>\n",
       "      <td>Female</td>\n",
       "      <td>27</td>\n",
       "      <td>57000</td>\n",
       "      <td>0</td>\n",
       "    </tr>\n",
       "    <tr>\n",
       "      <th>4</th>\n",
       "      <td>15804002</td>\n",
       "      <td>Male</td>\n",
       "      <td>19</td>\n",
       "      <td>76000</td>\n",
       "      <td>0</td>\n",
       "    </tr>\n",
       "  </tbody>\n",
       "</table>\n",
       "</div>"
      ],
      "text/plain": [
       "    User ID  Gender  Age  EstimatedSalary  Purchased\n",
       "0  15624510    Male   19            19000          0\n",
       "1  15810944    Male   35            20000          0\n",
       "2  15668575  Female   26            43000          0\n",
       "3  15603246  Female   27            57000          0\n",
       "4  15804002    Male   19            76000          0"
      ]
     },
     "execution_count": 4,
     "metadata": {},
     "output_type": "execute_result"
    }
   ],
   "source": [
    "df.head()"
   ]
  },
  {
   "cell_type": "code",
   "execution_count": 5,
   "metadata": {},
   "outputs": [
    {
     "data": {
      "text/plain": [
       "(400, 5)"
      ]
     },
     "execution_count": 5,
     "metadata": {},
     "output_type": "execute_result"
    }
   ],
   "source": [
    "df.shape"
   ]
  },
  {
   "cell_type": "code",
   "execution_count": 6,
   "metadata": {},
   "outputs": [],
   "source": [
    "X = df.iloc[:,2:-1]\n",
    "y = df.iloc[:,-1]"
   ]
  },
  {
   "cell_type": "code",
   "execution_count": 7,
   "metadata": {},
   "outputs": [
    {
     "data": {
      "text/plain": [
       "(400, 2)"
      ]
     },
     "execution_count": 7,
     "metadata": {},
     "output_type": "execute_result"
    }
   ],
   "source": [
    "X.shape"
   ]
  },
  {
   "cell_type": "code",
   "execution_count": 8,
   "metadata": {},
   "outputs": [
    {
     "data": {
      "text/plain": [
       "(400,)"
      ]
     },
     "execution_count": 8,
     "metadata": {},
     "output_type": "execute_result"
    }
   ],
   "source": [
    "y.shape"
   ]
  },
  {
   "cell_type": "code",
   "execution_count": 9,
   "metadata": {},
   "outputs": [],
   "source": [
    "from sklearn.model_selection import train_test_split\n",
    "\n",
    "X_train,X_test,y_train,y_test =  train_test_split(X,y,test_size=0.20,random_state=42)"
   ]
  },
  {
   "cell_type": "code",
   "execution_count": 10,
   "metadata": {},
   "outputs": [
    {
     "data": {
      "text/plain": [
       "(320, 2)"
      ]
     },
     "execution_count": 10,
     "metadata": {},
     "output_type": "execute_result"
    }
   ],
   "source": [
    "X_train.shape"
   ]
  },
  {
   "cell_type": "code",
   "execution_count": 11,
   "metadata": {},
   "outputs": [],
   "source": [
    "from sklearn.preprocessing import StandardScaler\n",
    "\n",
    "scaler = StandardScaler()"
   ]
  },
  {
   "cell_type": "code",
   "execution_count": 12,
   "metadata": {},
   "outputs": [],
   "source": [
    "X_train = scaler.fit_transform(X_train)\n"
   ]
  },
  {
   "cell_type": "code",
   "execution_count": 13,
   "metadata": {},
   "outputs": [
    {
     "data": {
      "text/plain": [
       "array([[-1.06675246, -0.38634438],\n",
       "       [ 0.79753468, -1.22993871],\n",
       "       [ 0.11069205,  1.853544  ],\n",
       "       [ 0.60129393, -0.90995465],\n",
       "       [ 1.87685881, -1.28811763],\n",
       "       [-0.57615058,  1.44629156],\n",
       "       [ 0.3069328 , -0.53179168],\n",
       "       [ 0.99377543,  0.10817643],\n",
       "       [-1.16487283,  0.45724994],\n",
       "       [-1.55735433,  0.31180264],\n",
       "       [ 1.0918958 ,  0.45724994],\n",
       "       [-0.18366908, -0.47361276],\n",
       "       [ 0.20881242, -0.32816546],\n",
       "       [ 0.3069328 ,  0.28271318],\n",
       "       [-1.16487283, -1.57901222],\n",
       "       [ 0.11069205,  0.25362372],\n",
       "       [ 2.07309956,  1.73718616],\n",
       "       [ 0.40505317, -0.18271817],\n",
       "       [ 1.4843773 ,  2.11534913],\n",
       "       [-0.37990983,  1.21357589],\n",
       "       [ 1.87685881,  1.50447048],\n",
       "       [ 0.11069205,  0.02090805],\n",
       "       [ 0.89565505, -1.31720709],\n",
       "       [-1.36111358, -1.49174384],\n",
       "       [-0.18366908, -0.5899706 ],\n",
       "       [-0.57615058,  2.31897535],\n",
       "       [ 0.99377543, -1.20084925],\n",
       "       [-0.77239133,  1.06812859],\n",
       "       [ 2.17121993, -1.05540195],\n",
       "       [ 0.01257167, -0.26998655],\n",
       "       [-0.4780302 , -1.14267033],\n",
       "       [ 0.11069205,  0.02090805],\n",
       "       [ 1.68061805, -0.90995465],\n",
       "       [ 1.0918958 , -0.90995465],\n",
       "       [ 0.50317355,  1.21357589],\n",
       "       [-1.06675246, -1.46265438],\n",
       "       [-1.16487283, -1.54992276],\n",
       "       [-0.0855487 ,  0.66087616],\n",
       "       [ 0.40505317, -0.47361276],\n",
       "       [-0.28178945, -0.26998655],\n",
       "       [-0.87051171,  0.13726589],\n",
       "       [ 0.01257167,  0.28271318],\n",
       "       [ 0.6994143 , -1.28811763],\n",
       "       [ 1.58249768,  1.09721805],\n",
       "       [ 0.79753468, -1.37538601],\n",
       "       [-1.45923396, -1.22993871],\n",
       "       [-0.0855487 ,  0.13726589],\n",
       "       [ 0.40505317, -0.15362871],\n",
       "       [-0.28178945,  0.02090805],\n",
       "       [ 1.28813655,  2.20261751],\n",
       "       [ 0.11069205,  0.74814454],\n",
       "       [-1.36111358,  0.54451832],\n",
       "       [ 1.97497918,  0.71905508],\n",
       "       [-1.26299321, -1.40447546],\n",
       "       [ 0.3069328 , -0.32816546],\n",
       "       [-0.96863208,  0.54451832],\n",
       "       [ 0.40505317,  0.28271318],\n",
       "       [ 0.40505317,  1.09721805],\n",
       "       [ 0.79753468,  0.74814454],\n",
       "       [ 0.89565505,  1.24266535],\n",
       "       [-0.4780302 , -1.22993871],\n",
       "       [-1.85171546, -1.31720709],\n",
       "       [ 1.0918958 ,  0.54451832],\n",
       "       [-0.67427095, -1.60810168],\n",
       "       [-0.77239133,  0.25362372],\n",
       "       [ 0.99377543,  2.05717021],\n",
       "       [-0.57615058,  1.35902318],\n",
       "       [-0.0855487 ,  0.02090805],\n",
       "       [-1.94983583,  0.45724994],\n",
       "       [ 0.40505317,  0.25362372],\n",
       "       [-1.06675246,  0.39907102],\n",
       "       [ 0.20881242, -0.15362871],\n",
       "       [ 1.87685881,  0.10817643],\n",
       "       [-1.16487283, -1.60810168],\n",
       "       [-1.16487283,  0.28271318],\n",
       "       [-0.87051171, -0.79359682],\n",
       "       [-0.4780302 ,  2.28988589],\n",
       "       [ 0.11069205, -0.82268628],\n",
       "       [ 1.58249768,  0.98086021],\n",
       "       [-0.18366908, -1.08449141],\n",
       "       [ 0.79753468, -1.11358087],\n",
       "       [ 0.20881242,  2.08625967],\n",
       "       [-0.0855487 , -0.24089709],\n",
       "       [-0.87051171,  2.26079643],\n",
       "       [-0.0855487 , -0.38634438],\n",
       "       [-0.28178945, -0.5899706 ],\n",
       "       [ 0.40505317, -0.50270222],\n",
       "       [-0.28178945, -0.93904411],\n",
       "       [ 0.3069328 , -1.17175979],\n",
       "       [ 0.20881242,  0.04999751],\n",
       "       [-1.16487283, -1.60810168],\n",
       "       [-0.67427095, -0.06636033],\n",
       "       [-0.28178945, -0.50270222],\n",
       "       [-0.28178945, -1.31720709],\n",
       "       [-0.77239133,  0.54451832],\n",
       "       [ 0.3069328 ,  0.04999751],\n",
       "       [-0.96863208,  1.53355994],\n",
       "       [ 0.79753468,  0.3408921 ],\n",
       "       [-1.55735433, -0.21180763],\n",
       "       [ 0.6994143 , -1.40447546],\n",
       "       [-0.77239133, -0.61906006],\n",
       "       [-0.37990983, -1.31720709],\n",
       "       [ 0.20881242,  0.13726589],\n",
       "       [-0.57615058,  1.35902318],\n",
       "       [-1.45923396,  0.3408921 ],\n",
       "       [-1.16487283,  0.28271318],\n",
       "       [ 0.99377543,  1.76627562],\n",
       "       [ 2.07309956,  2.11534913],\n",
       "       [-0.28178945, -0.4445233 ],\n",
       "       [-0.37990983, -0.79359682],\n",
       "       [ 0.11069205, -0.26998655],\n",
       "       [-1.06675246,  0.74814454],\n",
       "       [ 2.17121993,  0.36998156],\n",
       "       [-1.36111358, -0.4445233 ],\n",
       "       [ 1.97497918,  2.14443859],\n",
       "       [ 1.4843773 ,  0.98086021],\n",
       "       [-0.28178945,  0.25362372],\n",
       "       [-0.18366908,  0.83541291],\n",
       "       [ 1.87685881, -0.29907601],\n",
       "       [-0.0855487 ,  1.94081237],\n",
       "       [-0.4780302 , -0.79359682],\n",
       "       [ 0.3069328 ,  0.02090805],\n",
       "       [ 1.38625693, -1.43356492],\n",
       "       [ 1.38625693,  2.31897535],\n",
       "       [-0.0855487 , -0.00818141],\n",
       "       [-1.16487283,  0.39907102],\n",
       "       [-1.16487283,  0.04999751],\n",
       "       [-1.16487283, -0.53179168],\n",
       "       [ 0.3069328 , -0.29907601],\n",
       "       [-0.67427095, -0.12453925],\n",
       "       [-0.0855487 ,  2.14443859],\n",
       "       [ 0.01257167, -0.26998655],\n",
       "       [-0.67427095, -1.05540195],\n",
       "       [ 0.40505317,  0.13726589],\n",
       "       [ 0.79753468,  1.35902318],\n",
       "       [-0.18366908, -0.53179168],\n",
       "       [ 0.01257167,  0.02090805],\n",
       "       [ 1.0918958 ,  0.51542886],\n",
       "       [ 1.87685881, -1.08449141],\n",
       "       [ 0.99377543,  1.96990183],\n",
       "       [ 0.89565505, -0.5899706 ],\n",
       "       [-0.4780302 , -0.03727087],\n",
       "       [-0.0855487 ,  2.20261751],\n",
       "       [-1.75359508,  0.3408921 ],\n",
       "       [ 0.20881242, -0.67723898],\n",
       "       [-0.28178945, -1.40447546],\n",
       "       [-1.75359508, -0.99722303],\n",
       "       [ 0.6994143 , -0.7354179 ],\n",
       "       [-1.16487283, -0.79359682],\n",
       "       [ 1.97497918,  0.89359183],\n",
       "       [ 0.20881242, -0.38634438],\n",
       "       [ 0.01257167,  1.21357589],\n",
       "       [-0.0855487 ,  0.28271318],\n",
       "       [ 1.0918958 , -1.22993871],\n",
       "       [-0.18366908,  0.13726589],\n",
       "       [ 0.3069328 ,  0.04999751],\n",
       "       [-0.28178945, -0.29907601],\n",
       "       [ 0.50317355,  1.7080967 ],\n",
       "       [ 0.3069328 ,  0.4863394 ],\n",
       "       [ 0.01257167,  1.24266535],\n",
       "       [ 1.97497918, -1.37538601],\n",
       "       [-1.16487283, -1.11358087],\n",
       "       [-0.57615058, -1.5208333 ],\n",
       "       [ 0.3069328 , -0.53179168],\n",
       "       [-0.67427095, -1.5208333 ],\n",
       "       [-0.28178945,  0.51542886],\n",
       "       [ 0.99377543, -1.02631249],\n",
       "       [-1.06675246,  0.54451832],\n",
       "       [-0.28178945,  0.777234  ],\n",
       "       [ 0.40505317,  0.07908697],\n",
       "       [-1.65547471, -0.06636033],\n",
       "       [ 0.3069328 ,  0.04999751],\n",
       "       [-0.4780302 , -0.29907601],\n",
       "       [ 0.11069205,  1.853544  ],\n",
       "       [-0.96863208,  0.39907102],\n",
       "       [ 0.79753468,  0.51542886],\n",
       "       [-1.36111358, -0.35725492],\n",
       "       [-0.67427095,  1.38811264],\n",
       "       [ 1.19001618,  0.51542886],\n",
       "       [-1.75359508,  0.3408921 ],\n",
       "       [-0.57615058,  1.88263345],\n",
       "       [-1.75359508,  0.45724994],\n",
       "       [-0.28178945, -1.25902817],\n",
       "       [-0.87051171, -0.79359682],\n",
       "       [-1.65547471,  0.51542886],\n",
       "       [-0.28178945, -0.32816546],\n",
       "       [ 0.6994143 , -1.11358087],\n",
       "       [ 2.17121993, -0.82268628],\n",
       "       [-0.28178945,  0.60269724],\n",
       "       [-0.28178945, -0.76450736],\n",
       "       [-1.94983583, -0.76450736],\n",
       "       [ 0.40505317,  2.28988589],\n",
       "       [ 0.6994143 ,  0.25362372],\n",
       "       [ 0.20881242, -0.29907601],\n",
       "       [-1.36111358, -1.37538601],\n",
       "       [-0.4780302 , -0.56088114],\n",
       "       [ 0.40505317, -0.00818141],\n",
       "       [ 1.68061805,  1.73718616],\n",
       "       [ 1.19001618, -0.76450736],\n",
       "       [ 0.99377543,  1.4172021 ],\n",
       "       [-1.85171546,  0.16635535],\n",
       "       [ 0.3069328 ,  0.04999751],\n",
       "       [ 0.20881242,  0.02090805],\n",
       "       [-1.06675246,  0.51542886],\n",
       "       [-0.18366908,  1.62082832],\n",
       "       [-0.28178945,  0.13726589],\n",
       "       [-0.28178945, -0.35725492],\n",
       "       [-0.37990983,  1.30084427],\n",
       "       [-0.28178945,  0.07908697],\n",
       "       [ 2.17121993,  1.09721805],\n",
       "       [-1.26299321,  0.4863394 ],\n",
       "       [-1.06675246, -0.47361276],\n",
       "       [-1.65547471, -1.57901222],\n",
       "       [-0.0855487 ,  0.10817643],\n",
       "       [-0.28178945, -0.90995465],\n",
       "       [ 1.58249768, -0.00818141],\n",
       "       [ 0.89565505, -1.17175979],\n",
       "       [ 0.01257167, -0.5899706 ],\n",
       "       [-0.28178945,  2.23170697],\n",
       "       [-0.28178945,  0.19544481],\n",
       "       [ 0.3069328 ,  0.25362372],\n",
       "       [-0.0855487 , -1.08449141],\n",
       "       [ 2.17121993, -0.70632844],\n",
       "       [-0.96863208, -0.32816546],\n",
       "       [-1.45923396, -0.12453925],\n",
       "       [-1.45923396, -0.21180763],\n",
       "       [-0.77239133, -1.54992276],\n",
       "       [-1.26299321, -1.08449141],\n",
       "       [ 2.07309956,  0.36998156],\n",
       "       [ 1.97497918, -0.93904411],\n",
       "       [-1.94983583,  0.3408921 ],\n",
       "       [ 0.79753468, -0.32816546],\n",
       "       [-1.06675246, -1.54992276],\n",
       "       [ 1.97497918, -0.67723898],\n",
       "       [ 0.99377543, -1.17175979],\n",
       "       [ 1.0918958 , -0.15362871],\n",
       "       [ 1.19001618, -0.99722303],\n",
       "       [ 1.4843773 ,  0.04999751],\n",
       "       [ 0.20881242, -0.38634438],\n",
       "       [ 1.38625693,  1.27175481],\n",
       "       [ 2.07309956, -0.82268628],\n",
       "       [-0.18366908, -0.21180763],\n",
       "       [ 0.40505317,  0.98086021],\n",
       "       [-0.0855487 , -0.53179168],\n",
       "       [ 0.99377543, -1.08449141],\n",
       "       [ 2.07309956, -1.20084925],\n",
       "       [-0.0855487 ,  0.25362372],\n",
       "       [ 0.20881242, -0.26998655],\n",
       "       [ 1.0918958 ,  0.10817643],\n",
       "       [-1.26299321,  0.57360778],\n",
       "       [-0.77239133, -1.60810168],\n",
       "       [ 0.20881242,  0.22453427],\n",
       "       [-1.36111358,  0.39907102],\n",
       "       [ 0.01257167, -0.5899706 ],\n",
       "       [ 0.6994143 ,  1.76627562],\n",
       "       [-1.65547471,  0.04999751],\n",
       "       [-0.28178945, -1.37538601],\n",
       "       [-0.28178945, -1.46265438],\n",
       "       [-0.67427095,  0.54451832],\n",
       "       [-0.77239133,  0.28271318],\n",
       "       [ 0.89565505, -0.67723898],\n",
       "       [-1.06675246,  0.57360778],\n",
       "       [-0.28178945,  0.04999751],\n",
       "       [-0.77239133,  1.32993372],\n",
       "       [ 0.11069205,  1.50447048],\n",
       "       [-0.87051171,  0.36998156],\n",
       "       [ 0.3069328 , -0.21180763],\n",
       "       [ 0.99377543,  0.57360778],\n",
       "       [ 0.01257167, -0.32816546],\n",
       "       [-0.57615058, -1.5208333 ],\n",
       "       [ 0.11069205,  0.13726589],\n",
       "       [-1.16487283,  0.31180264],\n",
       "       [ 0.11069205,  1.03903913],\n",
       "       [-1.55735433, -0.4445233 ],\n",
       "       [-0.18366908,  1.38811264],\n",
       "       [ 2.17121993, -0.82268628],\n",
       "       [-0.96863208, -0.4445233 ],\n",
       "       [ 1.28813655,  1.853544  ],\n",
       "       [ 1.0918958 , -1.22993871],\n",
       "       [-0.18366908, -0.29907601],\n",
       "       [ 1.77873843,  0.98086021],\n",
       "       [-1.06675246, -0.35725492],\n",
       "       [-1.36111358, -1.11358087],\n",
       "       [-0.37990983,  0.04999751],\n",
       "       [-0.96863208, -1.11358087],\n",
       "       [ 1.19001618, -1.46265438],\n",
       "       [-0.4780302 , -0.85177573],\n",
       "       [-0.87051171, -0.67723898],\n",
       "       [-1.55735433, -1.5208333 ],\n",
       "       [-0.77239133,  1.88263345],\n",
       "       [ 0.89565505,  1.00994967],\n",
       "       [ 0.79753468,  0.25362372],\n",
       "       [ 0.99377543,  1.853544  ],\n",
       "       [ 0.89565505, -0.61906006],\n",
       "       [ 1.0918958 ,  2.05717021],\n",
       "       [-0.57615058,  0.86450237],\n",
       "       [ 0.01257167,  0.02090805],\n",
       "       [-1.85171546, -1.28811763],\n",
       "       [-0.0855487 ,  0.19544481],\n",
       "       [ 0.89565505, -0.56088114],\n",
       "       [ 0.20881242, -0.38634438],\n",
       "       [-0.18366908,  1.59173886],\n",
       "       [-1.75359508,  0.10817643],\n",
       "       [-0.67427095, -0.35725492],\n",
       "       [ 0.3069328 , -0.7354179 ],\n",
       "       [ 0.40505317, -0.47361276],\n",
       "       [-0.96863208, -0.96813357],\n",
       "       [ 0.11069205,  0.07908697],\n",
       "       [-0.96863208,  0.42816048],\n",
       "       [ 0.01257167, -0.56088114],\n",
       "       [ 0.89565505, -0.79359682],\n",
       "       [-0.0855487 ,  0.04999751],\n",
       "       [ 1.0918958 , -0.99722303],\n",
       "       [ 0.6994143 , -1.40447546],\n",
       "       [-0.28178945,  0.04999751],\n",
       "       [-1.36111358, -1.25902817],\n",
       "       [-1.16487283, -1.02631249],\n",
       "       [ 0.50317355,  1.82445454],\n",
       "       [ 0.11069205,  0.19544481],\n",
       "       [-0.57615058,  0.45724994]])"
      ]
     },
     "execution_count": 13,
     "metadata": {},
     "output_type": "execute_result"
    }
   ],
   "source": [
    "X_train"
   ]
  },
  {
   "cell_type": "code",
   "execution_count": 14,
   "metadata": {},
   "outputs": [
    {
     "data": {
      "text/plain": [
       "array([[ 0.80285749, -1.39649711],\n",
       "       [ 1.93579072,  0.62530293],\n",
       "       [-0.76581929, -0.72256376],\n",
       "       [ 0.97715491,  0.8703696 ],\n",
       "       [-0.67867058, -1.21269711],\n",
       "       [-0.59152187, -0.17116375],\n",
       "       [ 0.8900062 ,  1.20733627],\n",
       "       [-0.67867058,  0.47213626],\n",
       "       [ 0.27996523,  0.22706959],\n",
       "       [ 0.45426265, -0.07926375],\n",
       "       [-0.15577832, -0.07926375],\n",
       "       [ 1.41289846, -1.0288971 ],\n",
       "       [-1.20156284, -0.60003043],\n",
       "       [-1.46300897, -1.36586378],\n",
       "       [-0.59152187,  0.5946696 ],\n",
       "       [-0.15577832,  1.23796961],\n",
       "       [ 1.32574975, -0.90636377],\n",
       "       [ 0.80285749,  0.19643625],\n",
       "       [ 0.19281652, -0.78383043],\n",
       "       [ 1.67434459, -0.23243042],\n",
       "       [-1.28871155, -1.24333044],\n",
       "       [-0.67867058,  0.38023626],\n",
       "       [ 0.8900062 , -1.36586378],\n",
       "       [ 1.93579072,  0.25770292],\n",
       "       [-1.55015768, -1.48839711],\n",
       "       [ 1.23860104, -1.36586378],\n",
       "       [ 0.45426265,  0.38023626],\n",
       "       [ 0.0185191 , -0.44686376],\n",
       "       [ 1.58719588,  1.75873629],\n",
       "       [-1.55015768, -1.42713045],\n",
       "       [ 0.80285749, -0.81446377],\n",
       "       [-1.55015768,  0.07390292],\n",
       "       [-0.06862961,  2.34076963],\n",
       "       [-0.76581929,  0.34960292],\n",
       "       [ 0.27996523,  1.20733627],\n",
       "       [-0.15577832,  0.22706959],\n",
       "       [ 0.0185191 , -0.38559709],\n",
       "       [ 0.10566781, -0.07926375],\n",
       "       [-0.94011671, -1.15143044],\n",
       "       [-1.63730639,  0.01263625],\n",
       "       [ 0.97715491, -1.05953044],\n",
       "       [-1.11441413, -0.38559709],\n",
       "       [-1.63730639, -0.47749709],\n",
       "       [ 0.8900062 , -1.45776378],\n",
       "       [-1.46300897, -0.56939709],\n",
       "       [ 0.62856007,  2.18760296],\n",
       "       [-0.67867058, -0.20179709],\n",
       "       [-0.50437316,  0.10453625],\n",
       "       [ 0.97715491, -0.81446377],\n",
       "       [-0.24292703, -0.7531971 ],\n",
       "       [-1.02726542,  0.34960292],\n",
       "       [ 1.41289846,  0.44150293],\n",
       "       [ 0.10566781, -0.38559709],\n",
       "       [-1.02726542,  0.38023626],\n",
       "       [ 0.0185191 ,  0.38023626],\n",
       "       [-0.852968  , -1.12079711],\n",
       "       [ 2.02293943,  1.0541696 ],\n",
       "       [-0.94011671,  1.54430295],\n",
       "       [-0.50437316,  0.19643625],\n",
       "       [-0.50437316,  0.25770292],\n",
       "       [ 0.36711394, -0.50813043],\n",
       "       [-0.15577832, -0.32433042],\n",
       "       [ 1.32574975,  0.6865696 ],\n",
       "       [-0.76581929,  0.5946696 ],\n",
       "       [-0.76581929, -0.26306376],\n",
       "       [-0.852968  ,  2.12633629],\n",
       "       [ 0.45426265,  0.6865696 ],\n",
       "       [ 0.8900062 ,  2.34076963],\n",
       "       [ 0.19281652, -0.26306376],\n",
       "       [-0.33007574,  1.39113628],\n",
       "       [ 1.32574975,  2.15696963],\n",
       "       [-1.55015768,  0.53340293],\n",
       "       [-0.852968  , -0.29369709],\n",
       "       [-1.20156284, -1.45776378],\n",
       "       [ 0.8900062 , -1.0288971 ],\n",
       "       [-0.15577832, -0.53876376],\n",
       "       [ 1.67434459,  2.00380296],\n",
       "       [ 1.50004717, -1.27396378],\n",
       "       [-0.15577832, -0.63066376],\n",
       "       [ 0.0185191 ,  0.31896959]])"
      ]
     },
     "execution_count": 14,
     "metadata": {},
     "output_type": "execute_result"
    }
   ],
   "source": [
    "X_test = scaler.fit_transform(X_test)\n",
    "X_test"
   ]
  },
  {
   "cell_type": "code",
   "execution_count": 15,
   "metadata": {},
   "outputs": [
    {
     "data": {
      "text/plain": [
       "17.88854381999832"
      ]
     },
     "execution_count": 15,
     "metadata": {},
     "output_type": "execute_result"
    }
   ],
   "source": [
    "# 1st method\n",
    "\n",
    "np.sqrt(X_train.shape[0])"
   ]
  },
  {
   "cell_type": "code",
   "execution_count": 16,
   "metadata": {},
   "outputs": [],
   "source": [
    "k=17"
   ]
  },
  {
   "cell_type": "code",
   "execution_count": 17,
   "metadata": {},
   "outputs": [],
   "source": [
    "from sklearn.neighbors import KNeighborsClassifier\n",
    "\n",
    "knn = KNeighborsClassifier(n_neighbors=k)"
   ]
  },
  {
   "cell_type": "code",
   "execution_count": 18,
   "metadata": {},
   "outputs": [
    {
     "data": {
      "text/plain": [
       "KNeighborsClassifier(n_neighbors=17)"
      ]
     },
     "execution_count": 18,
     "metadata": {},
     "output_type": "execute_result"
    }
   ],
   "source": [
    "knn.fit(X_train,y_train)"
   ]
  },
  {
   "cell_type": "code",
   "execution_count": 19,
   "metadata": {},
   "outputs": [],
   "source": [
    "y_pred = knn.predict(X_test)"
   ]
  },
  {
   "cell_type": "code",
   "execution_count": 20,
   "metadata": {},
   "outputs": [
    {
     "data": {
      "text/plain": [
       "array([1, 1, 0, 1, 0, 0, 1, 0, 0, 0, 0, 1, 0, 0, 0, 1, 1, 1, 0, 1, 0, 0,\n",
       "       1, 1, 0, 1, 0, 0, 1, 0, 1, 0, 1, 0, 1, 0, 0, 0, 0, 0, 1, 0, 0, 1,\n",
       "       0, 1, 0, 0, 1, 0, 0, 1, 0, 0, 0, 0, 1, 1, 0, 0, 0, 0, 1, 0, 0, 1,\n",
       "       1, 1, 0, 1, 1, 0, 0, 0, 1, 0, 1, 1, 0, 0])"
      ]
     },
     "execution_count": 20,
     "metadata": {},
     "output_type": "execute_result"
    }
   ],
   "source": [
    "y_pred"
   ]
  },
  {
   "cell_type": "code",
   "execution_count": null,
   "metadata": {},
   "outputs": [
    {
     "data": {
      "text/plain": [
       "0.925"
      ]
     },
     "execution_count": 21,
     "metadata": {},
     "output_type": "execute_result"
    }
   ],
   "source": [
    "from sklearn.metrics import accuracy_score\n",
    "\n",
    "accuracy_score(y_test,y_pred)"
   ]
  },
  {
   "cell_type": "code",
   "execution_count": 22,
   "metadata": {},
   "outputs": [
    {
     "data": {
      "text/plain": [
       "0.7625"
      ]
     },
     "execution_count": 22,
     "metadata": {},
     "output_type": "execute_result"
    }
   ],
   "source": [
    "from sklearn.model_selection import cross_val_score\n",
    "\n",
    "np.mean(cross_val_score(knn,X,y,scoring='accuracy',cv=10))"
   ]
  },
  {
   "cell_type": "code",
   "execution_count": 23,
   "metadata": {},
   "outputs": [
    {
     "data": {
      "text/plain": [
       "array([[47,  5],\n",
       "       [ 1, 27]])"
      ]
     },
     "execution_count": 23,
     "metadata": {},
     "output_type": "execute_result"
    }
   ],
   "source": [
    "from sklearn.metrics import confusion_matrix\n",
    "\n",
    "confusion_matrix(y_test,y_pred)"
   ]
  },
  {
   "cell_type": "code",
   "execution_count": 24,
   "metadata": {},
   "outputs": [],
   "source": [
    "scores = []\n",
    "\n",
    "for i in range(1,16):\n",
    "    knn = KNeighborsClassifier(n_neighbors=i)\n",
    "    knn.fit(X_train,y_train)\n",
    "    y_pred = knn.predict(X_test)\n",
    "    scores.append(accuracy_score(y_test,y_pred))"
   ]
  },
  {
   "cell_type": "code",
   "execution_count": 25,
   "metadata": {},
   "outputs": [
    {
     "data": {
      "text/plain": [
       "[0.8625,\n",
       " 0.8625,\n",
       " 0.9,\n",
       " 0.9,\n",
       " 0.925,\n",
       " 0.925,\n",
       " 0.925,\n",
       " 0.9375,\n",
       " 0.9375,\n",
       " 0.9375,\n",
       " 0.925,\n",
       " 0.925,\n",
       " 0.925,\n",
       " 0.9125,\n",
       " 0.925]"
      ]
     },
     "execution_count": 25,
     "metadata": {},
     "output_type": "execute_result"
    }
   ],
   "source": [
    "scores"
   ]
  },
  {
   "cell_type": "code",
   "execution_count": 26,
   "metadata": {},
   "outputs": [
    {
     "data": {
      "text/plain": [
       "[<matplotlib.lines.Line2D at 0x7f67a662cf60>]"
      ]
     },
     "execution_count": 26,
     "metadata": {},
     "output_type": "execute_result"
    },
    {
     "data": {
      "image/png": "[encoded data removed]",
      "text/plain": [
       "<Figure size 432x288 with 1 Axes>"
      ]
     },
     "metadata": {
      "needs_background": "light"
     },
     "output_type": "display_data"
    }
   ],
   "source": [
    "import matplotlib.pyplot as plt\n",
    "\n",
    "plt.plot(range(1,16),scores)"
   ]
  },
  {
   "cell_type": "code",
   "execution_count": null,
   "metadata": {},
   "outputs": [],
   "source": []
  }
 ],
 "metadata": {
  "kernelspec": {
   "display_name": "Python 3",
   "language": "python",
   "name": "python3"
  },
  "language_info": {
   "codemirror_mode": {
    "name": "ipython",
    "version": 3
   },
   "file_extension": ".py",
   "mimetype": "text/x-python",
   "name": "python",
   "nbconvert_exporter": "python",
   "pygments_lexer": "ipython3",
   "version": "3.6.9"
  }
 },
 "nbformat": 4,
 "nbformat_minor": 2
}
