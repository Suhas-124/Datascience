{
 "cells": [
  {
   "cell_type": "code",
   "execution_count": null,
   "metadata": {},
   "outputs": [
    {
     "name": "stdout",
     "output_type": "stream",
     "text": [
      "[0 0 0 0 1]\n"
     ]
    }
   ],
   "source": [
    "import pandas as pd\n",
    "import numpy as np\n",
    "import seaborn as sns\n",
    "import matplotlib.pyplot as plt\n",
    "import joblib\n",
    "\n",
    "model = joblib.load('xgb.pkl')\n",
    "\n",
    "new_data = {\n",
    "    'Age': [29, 45, 35, 42,None],\n",
    "    'DailyRate': [1100, 1300, 900, 1500, 1200],\n",
    "    'DistanceFromHome': [5, 12, 7, 3, 10],\n",
    "    'JobLevel': [2, 4, 3, 5, 1],\n",
    "    'MonthlyIncome': [4000, 9000, 6500, 12000, 3500],\n",
    "    'TotalWorkingYears': [6, 20, 10, 18, 4],\n",
    "    'TrainingTimesLastYear': [3, 2, 4, 1, 5],\n",
    "    'YearsAtCompany': [4, 15, 7, 10, 2],\n",
    "    'YearsInCurrentRole': [3, 10, 5, 8, 1],\n",
    "    'YearsWithCurrManager': [2, 8, 4, 7, 1],\n",
    "    'BusinessTravel': ['Travel_Rarely', np.nan, 'Travel_Rarely', 'Non-Travel', 'Travel_Rarely'],\n",
    "    'Department': ['Sales', 'Research & Development', 'Human Resources', 'Sales', 'Research & Development'],\n",
    "    'EducationField': ['Life Sciences', 'Medical', 'Marketing', 'Technical Degree', 'Life Sciences'],\n",
    "    'JobInvolvement': [3, 4, 2, 4, 3],\n",
    "    'JobRole': ['Sales Executive', 'Research Scientist', 'Human Resources', 'Manager', 'Laboratory Technician'],\n",
    "    'MaritalStatus': ['Single', 'Married', 'Divorced', 'Married', 'Single'],\n",
    "    'OverTime': ['Yes', 'No', 'No', 'Yes', 'No'],\n",
    "    'EnvironmentSatisfaction': [2, 4, 3, 4, 1],\n",
    "    'JobSatisfaction': [3, 4, 2, 4, 3],\n",
    "    'WorkLifeBalance': [3, 2, 4, 3, 2],\n",
    "    'StockOptionLevel': [1, 3, 2, 3, 0]\n",
    "}\n",
    "\n",
    "\n",
    "raw_data = pd.DataFrame(new_data)\n",
    "\n",
    "columns = ['Age', 'DailyRate', 'DistanceFromHome', 'JobLevel', 'MonthlyIncome',\n",
    "       'TotalWorkingYears', 'TrainingTimesLastYear', 'YearsAtCompany',\n",
    "       'YearsInCurrentRole', 'YearsWithCurrManager', 'BusinessTravel',\n",
    "       'Department', 'EducationField', 'JobInvolvement', 'JobRole',\n",
    "       'MaritalStatus', 'OverTime', 'EnvironmentSatisfaction',\n",
    "       'JobSatisfaction', 'WorkLifeBalance', 'StockOptionLevel']\n",
    "\n",
    "\n",
    "raw_data = pd.DataFrame(new_data,columns=columns)\n",
    "\n",
    "\n",
    "prediction = model.predict(raw_data)\n",
    "\n",
    "\n",
    "print(prediction)"
   ]
  },
  {
   "cell_type": "code",
   "execution_count": null,
   "metadata": {},
   "outputs": [],
   "source": []
  }
 ],
 "metadata": {
  "kernelspec": {
   "display_name": "venv",
   "language": "python",
   "name": "python3"
  },
  "language_info": {
   "codemirror_mode": {
    "name": "ipython",
    "version": 3
   },
   "file_extension": ".py",
   "mimetype": "text/x-python",
   "name": "python",
   "nbconvert_exporter": "python",
   "pygments_lexer": "ipython3",
   "version": "3.6.9"
  }
 },
 "nbformat": 4,
 "nbformat_minor": 2
}
