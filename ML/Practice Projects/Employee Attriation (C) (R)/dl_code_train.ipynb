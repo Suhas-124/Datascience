{
 "cells": [
  {
   "cell_type": "code",
   "execution_count": 67,
   "metadata": {},
   "outputs": [],
   "source": [
    "import numpy as np\n",
    "import pandas as pd\n",
    "import seaborn as sns\n",
    "from sklearn.model_selection import train_test_split\n",
    "from sklearn.preprocessing import LabelEncoder,RobustScaler,StandardScaler,OneHotEncoder\n",
    "from sklearn.impute import SimpleImputer\n",
    "from sklearn.compose import ColumnTransformer\n",
    "from sklearn.pipeline import Pipeline\n",
    "from sklearn.metrics import accuracy_score,confusion_matrix,classification_report\n",
    "import tensorflow as tf\n",
    "from tensorflow.keras.models import Sequential\n",
    "from tensorflow.keras.layers import Dense,Dropout\n",
    "from tensorflow.keras.callbacks import EarlyStopping\n",
    "import joblib\n",
    "import matplotlib.pyplot as plt"
   ]
  },
  {
   "cell_type": "code",
   "execution_count": 68,
   "metadata": {},
   "outputs": [],
   "source": [
    "# Load the dataset\n",
    "df = pd.read_csv('/home/suhas/Desktop/office/Data Science/Notes/Data Analysis/Data/HR-Employee-Attrition.csv')"
   ]
  },
  {
   "cell_type": "code",
   "execution_count": 69,
   "metadata": {},
   "outputs": [],
   "source": [
    "# Define significant numerical and categorical features\n",
    "updated_num = ['Age', 'DailyRate', 'DistanceFromHome', 'EnvironmentSatisfaction', \n",
    "               'JobInvolvement', 'JobLevel', 'JobSatisfaction', 'MonthlyIncome', \n",
    "               'StockOptionLevel', 'TotalWorkingYears', 'TrainingTimesLastYear', \n",
    "               'WorkLifeBalance', 'YearsAtCompany', 'YearsInCurrentRole', \n",
    "               'YearsWithCurrManager']\n",
    "updated_cat = ['BusinessTravel', 'Department', 'EducationField', 'JobRole', \n",
    "               'MaritalStatus', 'OverTime']"
   ]
  },
  {
   "cell_type": "code",
   "execution_count": 70,
   "metadata": {},
   "outputs": [],
   "source": [
    "# Select features (X) and target (y)\n",
    "X = df[updated_num + updated_cat]\n",
    "y = df['Attrition']"
   ]
  },
  {
   "cell_type": "code",
   "execution_count": 71,
   "metadata": {},
   "outputs": [],
   "source": [
    "# Encode the target variable ('Yes' -> 1, 'No' -> 0)\n",
    "label_encoder = LabelEncoder()\n",
    "y = label_encoder.fit_transform(y)"
   ]
  },
  {
   "cell_type": "code",
   "execution_count": 72,
   "metadata": {},
   "outputs": [],
   "source": [
    "# Define preprocessing pipelines\n",
    "# Numerical pipeline: impute missing values, apply robust scaling, then standard scaling\n",
    "num_pipeline = Pipeline([\n",
    "    ('impute', SimpleImputer(strategy='median')),\n",
    "    ('robust', RobustScaler()),\n",
    "    ('scaler', StandardScaler())\n",
    "])\n",
    "\n",
    "# Categorical pipeline: impute missing values, one-hot encode with drop='first'\n",
    "cat_pipeline = Pipeline([\n",
    "    ('impute', SimpleImputer(strategy='most_frequent')),\n",
    "    ('ohe', OneHotEncoder(drop='first', sparse=False))\n",
    "])\n",
    "\n",
    "# Combine pipelines into a ColumnTransformer\n",
    "preprocessor = ColumnTransformer([\n",
    "    ('num_pipe', num_pipeline, updated_num),\n",
    "    ('cat_pipe', cat_pipeline, updated_cat)\n",
    "])"
   ]
  },
  {
   "cell_type": "code",
   "execution_count": 73,
   "metadata": {},
   "outputs": [],
   "source": [
    "# Split the data into training and testing sets\n",
    "X_train, X_test, y_train, y_test = train_test_split(X, y, test_size=0.2, random_state=42)"
   ]
  },
  {
   "cell_type": "code",
   "execution_count": 74,
   "metadata": {},
   "outputs": [
    {
     "data": {
      "text/plain": [
       "(1176, 21)"
      ]
     },
     "execution_count": 74,
     "metadata": {},
     "output_type": "execute_result"
    }
   ],
   "source": [
    "X_train.shape"
   ]
  },
  {
   "cell_type": "code",
   "execution_count": 75,
   "metadata": {},
   "outputs": [],
   "source": [
    "#Preprocess the data\n",
    "\n",
    "X_train_preprocessed = preprocessor.fit_transform(X_train)\n",
    "X_test_preprocessed = preprocessor.transform(X_test)"
   ]
  },
  {
   "cell_type": "code",
   "execution_count": 76,
   "metadata": {},
   "outputs": [],
   "source": [
    "# Get the input shape for the ANN (number of features after preprocessing)\n",
    "input_shape = X_train_preprocessed.shape[1]"
   ]
  },
  {
   "cell_type": "code",
   "execution_count": 77,
   "metadata": {},
   "outputs": [
    {
     "data": {
      "text/plain": [
       "35"
      ]
     },
     "execution_count": 77,
     "metadata": {},
     "output_type": "execute_result"
    }
   ],
   "source": [
    "input_shape"
   ]
  },
  {
   "cell_type": "code",
   "execution_count": 78,
   "metadata": {},
   "outputs": [],
   "source": [
    "# Build the ANN model\n",
    "model = Sequential([\n",
    "    Dense(64,activation='relu',input_shape=(input_shape,)),\n",
    "    Dropout(0.2),\n",
    "    Dense(32,activation='relu'),\n",
    "    Dropout(0.2),\n",
    "    Dense(1,activation='sigmoid')\n",
    "\n",
    "])"
   ]
  },
  {
   "cell_type": "code",
   "execution_count": 79,
   "metadata": {},
   "outputs": [
    {
     "name": "stdout",
     "output_type": "stream",
     "text": [
      "Model: \"sequential_3\"\n",
      "_________________________________________________________________\n",
      "Layer (type)                 Output Shape              Param #   \n",
      "=================================================================\n",
      "dense_9 (Dense)              (None, 64)                2304      \n",
      "_________________________________________________________________\n",
      "dropout_6 (Dropout)          (None, 64)                0         \n",
      "_________________________________________________________________\n",
      "dense_10 (Dense)             (None, 32)                2080      \n",
      "_________________________________________________________________\n",
      "dropout_7 (Dropout)          (None, 32)                0         \n",
      "_________________________________________________________________\n",
      "dense_11 (Dense)             (None, 1)                 33        \n",
      "=================================================================\n",
      "Total params: 4,417\n",
      "Trainable params: 4,417\n",
      "Non-trainable params: 0\n",
      "_________________________________________________________________\n"
     ]
    }
   ],
   "source": [
    "model.summary()"
   ]
  },
  {
   "cell_type": "code",
   "execution_count": 80,
   "metadata": {},
   "outputs": [],
   "source": [
    "#compile the model\n",
    "\n",
    "model.compile(optimizer='adam',loss='binary_crossentropy',metrics=['accuracy'])"
   ]
  },
  {
   "cell_type": "code",
   "execution_count": 81,
   "metadata": {},
   "outputs": [],
   "source": [
    "# Define early stopping to prevent overfitting\n",
    "early_stopping = EarlyStopping(monitor='val_loss',patience=5,restore_best_weights=True)"
   ]
  },
  {
   "cell_type": "code",
   "execution_count": 82,
   "metadata": {},
   "outputs": [
    {
     "name": "stdout",
     "output_type": "stream",
     "text": [
      "Epoch 1/100\n"
     ]
    },
    {
     "name": "stdout",
     "output_type": "stream",
     "text": [
      "30/30 [==============================] - 1s 5ms/step - loss: 0.5294 - accuracy: 0.7851 - val_loss: 0.5052 - val_accuracy: 0.7966\n",
      "Epoch 2/100\n",
      "30/30 [==============================] - 0s 2ms/step - loss: 0.4407 - accuracy: 0.8372 - val_loss: 0.4587 - val_accuracy: 0.7966\n",
      "Epoch 3/100\n",
      "30/30 [==============================] - 0s 2ms/step - loss: 0.4110 - accuracy: 0.8394 - val_loss: 0.4468 - val_accuracy: 0.8008\n",
      "Epoch 4/100\n",
      "30/30 [==============================] - 0s 2ms/step - loss: 0.4054 - accuracy: 0.8457 - val_loss: 0.4420 - val_accuracy: 0.8093\n",
      "Epoch 5/100\n",
      "30/30 [==============================] - 0s 2ms/step - loss: 0.3710 - accuracy: 0.8574 - val_loss: 0.4314 - val_accuracy: 0.8347\n",
      "Epoch 6/100\n",
      "30/30 [==============================] - 0s 2ms/step - loss: 0.3627 - accuracy: 0.8479 - val_loss: 0.4240 - val_accuracy: 0.8475\n",
      "Epoch 7/100\n",
      "30/30 [==============================] - 0s 2ms/step - loss: 0.3425 - accuracy: 0.8638 - val_loss: 0.4282 - val_accuracy: 0.8517\n",
      "Epoch 8/100\n",
      "30/30 [==============================] - 0s 2ms/step - loss: 0.3389 - accuracy: 0.8596 - val_loss: 0.4236 - val_accuracy: 0.8602\n",
      "Epoch 9/100\n",
      "30/30 [==============================] - 0s 2ms/step - loss: 0.3221 - accuracy: 0.8723 - val_loss: 0.4240 - val_accuracy: 0.8517\n",
      "Epoch 10/100\n",
      "30/30 [==============================] - 0s 2ms/step - loss: 0.3138 - accuracy: 0.8755 - val_loss: 0.4239 - val_accuracy: 0.8517\n",
      "Epoch 11/100\n",
      "30/30 [==============================] - 0s 2ms/step - loss: 0.3149 - accuracy: 0.8755 - val_loss: 0.4248 - val_accuracy: 0.8432\n",
      "Epoch 12/100\n",
      "30/30 [==============================] - 0s 2ms/step - loss: 0.3062 - accuracy: 0.8787 - val_loss: 0.4280 - val_accuracy: 0.8475\n",
      "Epoch 13/100\n",
      "30/30 [==============================] - 0s 3ms/step - loss: 0.3108 - accuracy: 0.8777 - val_loss: 0.4154 - val_accuracy: 0.8432\n",
      "Epoch 14/100\n",
      "30/30 [==============================] - 0s 3ms/step - loss: 0.3008 - accuracy: 0.8809 - val_loss: 0.4338 - val_accuracy: 0.8432\n",
      "Epoch 15/100\n",
      "30/30 [==============================] - 0s 2ms/step - loss: 0.2869 - accuracy: 0.8798 - val_loss: 0.4301 - val_accuracy: 0.8390\n",
      "Epoch 16/100\n",
      "30/30 [==============================] - 0s 2ms/step - loss: 0.2835 - accuracy: 0.8936 - val_loss: 0.4352 - val_accuracy: 0.8390\n",
      "Epoch 17/100\n",
      "30/30 [==============================] - 0s 3ms/step - loss: 0.2808 - accuracy: 0.8957 - val_loss: 0.4302 - val_accuracy: 0.8390\n",
      "Epoch 18/100\n",
      "30/30 [==============================] - 0s 3ms/step - loss: 0.2645 - accuracy: 0.8926 - val_loss: 0.4347 - val_accuracy: 0.8475\n"
     ]
    }
   ],
   "source": [
    "#Train the model\n",
    "history = model.fit(\n",
    "    X_train_preprocessed,y_train,\n",
    "    epochs=100,\n",
    "    batch_size=32,\n",
    "    validation_split=0.2,\n",
    "    callbacks=[early_stopping],\n",
    "    verbose=1\n",
    ")"
   ]
  },
  {
   "cell_type": "code",
   "execution_count": 83,
   "metadata": {},
   "outputs": [],
   "source": [
    "#Evaluate the model on the test set\n",
    "\n",
    "y_pred_proba = model.predict(X_test_preprocessed)\n",
    "y_pred = (y_pred_proba > 0.5).astype(int)"
   ]
  },
  {
   "cell_type": "code",
   "execution_count": 84,
   "metadata": {},
   "outputs": [],
   "source": [
    "# Calculate and print evaluation metrics\n",
    "accuracy = accuracy_score(y_test, y_pred)\n",
    "conf_matrix = confusion_matrix(y_test, y_pred)\n",
    "clf_report = classification_report(y_test, y_pred)"
   ]
  },
  {
   "cell_type": "code",
   "execution_count": 85,
   "metadata": {},
   "outputs": [
    {
     "name": "stdout",
     "output_type": "stream",
     "text": [
      "\n",
      "=== ANN Model Evaluation ===\n",
      "Accuracy: 0.8946\n",
      "Confusion Matrix:\n",
      "[[249   6]\n",
      " [ 25  14]]\n",
      "Classification Report:\n",
      "              precision    recall  f1-score   support\n",
      "\n",
      "           0       0.91      0.98      0.94       255\n",
      "           1       0.70      0.36      0.47        39\n",
      "\n",
      "    accuracy                           0.89       294\n",
      "   macro avg       0.80      0.67      0.71       294\n",
      "weighted avg       0.88      0.89      0.88       294\n",
      "\n"
     ]
    }
   ],
   "source": [
    "print(\"\\n=== ANN Model Evaluation ===\")\n",
    "print(f\"Accuracy: {accuracy:.4f}\")\n",
    "print(\"Confusion Matrix:\")\n",
    "print(conf_matrix)\n",
    "print(\"Classification Report:\")\n",
    "print(clf_report)"
   ]
  },
  {
   "cell_type": "code",
   "execution_count": 86,
   "metadata": {},
   "outputs": [
    {
     "name": "stdout",
     "output_type": "stream",
     "text": [
      "\n",
      "Model saved as 'ann_model.h5' and preprocessing pipeline saved as 'preprocess_pipeline.pkl'\n"
     ]
    }
   ],
   "source": [
    "# Save the model and preprocessing pipeline\n",
    "model.save('ann_model.h5')\n",
    "joblib.dump(preprocessor, 'preprocess_pipeline.pkl')\n",
    "print(\"\\nModel saved as 'ann_model.h5' and preprocessing pipeline saved as 'preprocess_pipeline.pkl'\")"
   ]
  },
  {
   "cell_type": "code",
   "execution_count": 87,
   "metadata": {},
   "outputs": [
    {
     "data": {
      "image/png": "[encoded data removed]",
      "text/plain": [
       "<Figure size 864x288 with 2 Axes>"
      ]
     },
     "metadata": {
      "needs_background": "light"
     },
     "output_type": "display_data"
    }
   ],
   "source": [
    "# Visualize training history\n",
    "plt.figure(figsize=(12, 4))\n",
    "\n",
    "# Plot accuracy\n",
    "plt.subplot(1, 2, 1)\n",
    "plt.plot(history.history['accuracy'], label='Training Accuracy')\n",
    "plt.plot(history.history['val_accuracy'], label='Validation Accuracy')\n",
    "plt.title('Model Accuracy')\n",
    "plt.xlabel('Epoch')\n",
    "plt.ylabel('Accuracy')\n",
    "plt.legend()\n",
    "\n",
    "# Plot loss\n",
    "plt.subplot(1, 2, 2)\n",
    "plt.plot(history.history['loss'], label='Training Loss')\n",
    "plt.plot(history.history['val_loss'], label='Validation Loss')\n",
    "plt.title('Model Loss')\n",
    "plt.xlabel('Epoch')\n",
    "plt.ylabel('Loss')\n",
    "plt.legend()\n",
    "\n",
    "plt.tight_layout()\n",
    "plt.show()"
   ]
  },
  {
   "cell_type": "markdown",
   "metadata": {},
   "source": [
    "## Prediction"
   ]
  },
  {
   "cell_type": "code",
   "execution_count": 90,
   "metadata": {},
   "outputs": [
    {
     "name": "stdout",
     "output_type": "stream",
     "text": [
      "\n",
      "=== Predictions for New Employees ===\n",
      "Employee 1: Predicted Attrition = No\n",
      "Employee 2: Predicted Attrition = No\n",
      "Employee 3: Predicted Attrition = No\n",
      "Employee 4: Predicted Attrition = No\n",
      "Employee 5: Predicted Attrition = No\n",
      "\n",
      "Predictions saved to 'new_predictions.csv'\n"
     ]
    }
   ],
   "source": [
    "import pandas as pd\n",
    "import joblib\n",
    "import tensorflow as tf\n",
    "import numpy as np\n",
    "\n",
    "# Define new data with the specified column order\n",
    "new_data = {\n",
    "    'Age': [33, 50, 28, 39, None],\n",
    "    'DailyRate': [950, 1400, 1150, 800, 1300],\n",
    "    'DistanceFromHome': [8, 15, 2, 20, 6],\n",
    "    'EnvironmentSatisfaction': [3, 1, 4, 2, 3],\n",
    "    'JobInvolvement': [2, 3, 4, 1, 3],\n",
    "    'JobLevel': [1, 5, 2, 3, 2],\n",
    "    'JobSatisfaction': [4, 2, 3, 1, 4],\n",
    "    'MonthlyIncome': [3200, 11000, 4800, 7500, 4100],\n",
    "    'StockOptionLevel': [0, 2, 1, 3, 1],\n",
    "    'TotalWorkingYears': [5, 25, 3, 12, 7],\n",
    "    'TrainingTimesLastYear': [2, 3, 1, 4, 2],\n",
    "    'WorkLifeBalance': [2, 3, 3, 4, 1],\n",
    "    'YearsAtCompany': [3, 20, 2, 8, 5],\n",
    "    'YearsInCurrentRole': [2, 15, 1, 5, 3],\n",
    "    'YearsWithCurrManager': [1, 10, 1, 4, 2],\n",
    "    'BusinessTravel': ['Travel_Frequently', 'Travel_Rarely', np.nan, 'Non-Travel', 'Travel_Rarely'],\n",
    "    'Department': ['Research & Development', 'Sales', 'Sales', 'Human Resources', 'Research & Development'],\n",
    "    'EducationField': ['Technical Degree', 'Marketing', 'Life Sciences', 'Human Resources', 'Medical'],\n",
    "    'JobRole': ['Sales Executive', 'Research Scientist', 'Human Resources', 'Manager', 'Laboratory Technician'],\n",
    "    'MaritalStatus': ['Married', 'Divorced', 'Single', 'Married', 'Single'],\n",
    "    'OverTime': ['No', 'Yes', 'No', 'Yes', 'No']\n",
    "}\n",
    "\n",
    "# Create a DataFrame from the dictionary\n",
    "new_df = pd.DataFrame(new_data)\n",
    "\n",
    "# Load the preprocessing pipeline\n",
    "preprocessor = joblib.load('preprocess_pipeline.pkl')\n",
    "\n",
    "# Preprocess the new data\n",
    "new_data_preprocessed = preprocessor.transform(new_df)\n",
    "\n",
    "# Load the trained model\n",
    "model = tf.keras.models.load_model('ann_model.h5')\n",
    "\n",
    "# Make predictions\n",
    "y_pred_proba = model.predict(new_data_preprocessed)\n",
    "y_pred = (y_pred_proba > 0.5).astype(int).flatten()  # Convert probabilities to binary (0 or 1)\n",
    "\n",
    "# Map predictions to 'No' or 'Yes'\n",
    "attrition_labels = ['No', 'Yes']\n",
    "predicted_attrition = [attrition_labels[pred] for pred in y_pred]\n",
    "\n",
    "# Print the predictions\n",
    "print(\"\\n=== Predictions for New Employees ===\")\n",
    "for i, pred in enumerate(predicted_attrition):\n",
    "    print(f\"Employee {i+1}: Predicted Attrition = {pred}\")\n",
    "\n",
    "# Optional: Save predictions to a CSV file\n",
    "new_df_with_predictions = new_df.copy()\n",
    "new_df_with_predictions['Predicted_Attrition'] = predicted_attrition\n",
    "new_df_with_predictions.to_csv('new_predictions.csv', index=False)\n",
    "print(\"\\nPredictions saved to 'new_predictions.csv'\")"
   ]
  }
 ],
 "metadata": {
  "kernelspec": {
   "display_name": "venv",
   "language": "python",
   "name": "python3"
  },
  "language_info": {
   "codemirror_mode": {
    "name": "ipython",
    "version": 3
   },
   "file_extension": ".py",
   "mimetype": "text/x-python",
   "name": "python",
   "nbconvert_exporter": "python",
   "pygments_lexer": "ipython3",
   "version": "3.6.9"
  }
 },
 "nbformat": 4,
 "nbformat_minor": 2
}
