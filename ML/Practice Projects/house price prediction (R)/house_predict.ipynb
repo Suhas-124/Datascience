{
 "cells": [
  {
   "cell_type": "code",
   "execution_count": 16,
   "metadata": {},
   "outputs": [
    {
     "name": "stdout",
     "output_type": "stream",
     "text": [
      "251329.05\n"
     ]
    }
   ],
   "source": [
    "import numpy as np\n",
    "import pandas as pd\n",
    "import joblib\n",
    "\n",
    "model = joblib.load('xgb.pkl')\n",
    "\n",
    "test_data = {\n",
    "    \"longitude\": [-117.15],  # Riverside County\n",
    "    \"latitude\": [None],\n",
    "    \"median_income\": [6],  # $60k/month\n",
    "    \"population\": [None],  # Medium density\n",
    "    \"ocean_proximity\": [\"<1H OCEAN\"]\n",
    "}\n",
    "\n",
    "\n",
    "new_df = pd.DataFrame(test_data)\n",
    "\n",
    "columns = ['longitude', 'latitude', 'housing_median_age', 'total_rooms','total_bedrooms', 'population', 'households', 'median_income','ocean_proximity']\n",
    "\n",
    "new_df = pd.DataFrame(test_data,columns=columns)\n",
    "\n",
    "prediction = model.predict(new_df)\n",
    "\n",
    "print(prediction[0])"
   ]
  },
  {
   "cell_type": "code",
   "execution_count": null,
   "metadata": {},
   "outputs": [],
   "source": []
  }
 ],
 "metadata": {
  "kernelspec": {
   "display_name": "venv",
   "language": "python",
   "name": "python3"
  },
  "language_info": {
   "codemirror_mode": {
    "name": "ipython",
    "version": 3
   },
   "file_extension": ".py",
   "mimetype": "text/x-python",
   "name": "python",
   "nbconvert_exporter": "python",
   "pygments_lexer": "ipython3",
   "version": "3.6.9"
  }
 },
 "nbformat": 4,
 "nbformat_minor": 2
}
