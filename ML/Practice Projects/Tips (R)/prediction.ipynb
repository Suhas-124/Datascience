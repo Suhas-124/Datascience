{
 "cells": [
  {
   "cell_type": "code",
   "execution_count": 22,
   "metadata": {},
   "outputs": [
    {
     "name": "stdout",
     "output_type": "stream",
     "text": [
      "Predicted Tip is :3.100234113312366\n"
     ]
    }
   ],
   "source": [
    "import joblib\n",
    "import pandas as pd\n",
    "\n",
    "model_path = '/home/suhas/Desktop/office/Data Science/Notes/Data Analysis/2024-Nov/ML/Practice Projects/Tips/svm.pkl'\n",
    "piepline = joblib.load(model_path)\n",
    "\n",
    "raw_data = {\n",
    "    \"total_bill\": 28.15,\n",
    "    \"sex\": \"Male\",\n",
    "    \"smoker\": 'Yes',\n",
    "    \"day\": 'Sat',\n",
    "    'time': 'Dinner',\n",
    "    \"size\": 5\n",
    "}\n",
    "\n",
    "new_data = pd.DataFrame([raw_data])\n",
    "\n",
    "column_order = ['total_bill', 'sex', 'smoker', 'day', 'time', 'size']\n",
    "new_data = new_data[column_order]\n",
    "\n",
    "predictions = piepline.predict(new_data)\n",
    "\n",
    "print(f\"Predicted Tip is :{predictions[0]}\")"
   ]
  }
 ],
 "metadata": {
  "kernelspec": {
   "display_name": "Python 3",
   "language": "python",
   "name": "python3"
  },
  "language_info": {
   "codemirror_mode": {
    "name": "ipython",
    "version": 3
   },
   "file_extension": ".py",
   "mimetype": "text/x-python",
   "name": "python",
   "nbconvert_exporter": "python",
   "pygments_lexer": "ipython3",
   "version": "3.6.9"
  }
 },
 "nbformat": 4,
 "nbformat_minor": 2
}
