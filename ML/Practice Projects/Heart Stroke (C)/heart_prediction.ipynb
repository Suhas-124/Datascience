{
 "cells": [
  {
   "cell_type": "code",
   "execution_count": 27,
   "metadata": {},
   "outputs": [
    {
     "name": "stdout",
     "output_type": "stream",
     "text": [
      "Predicted result:0\n"
     ]
    }
   ],
   "source": [
    "import numpy as np\n",
    "import pandas as pd\n",
    "import joblib\n",
    "from sklearn import set_config\n",
    "\n",
    "set_config(display='diagram')\n",
    "\n",
    "piepline = joblib.load('lr.pkl')\n",
    "\n",
    "\n",
    "raw_data = {\n",
    "    \"gender\": \"Male\",\n",
    "    \"age\": 24,\n",
    "    \"hypertension\": 0,\n",
    "    \"heart_disease\": 0,\n",
    "    \"ever_married\": \"No\",\n",
    "    \"work_type\": \"Private\",\n",
    "    \"Residence_type\": \"Urban\",\n",
    "    \"avg_glucose_level\": 91,\n",
    "    \"bmi\": 26,\n",
    "    \"smoking_status\": \"never smoked\"\n",
    "}\n",
    "\n",
    "new_data = pd.DataFrame([raw_data])\n",
    "\n",
    "column_order = ['gender', 'age', 'hypertension', 'heart_disease', 'ever_married', 'work_type', 'Residence_type', 'avg_glucose_level', 'bmi', 'smoking_status']\n",
    "\n",
    "new_data = new_data[column_order]\n",
    "\n",
    "predictions = piepline.predict(new_data)\n",
    "\n",
    "print(f\"Predicted result:{predictions[0]}\")"
   ]
  },
  {
   "cell_type": "code",
   "execution_count": 19,
   "metadata": {},
   "outputs": [
    {
     "data": {
      "text/html": [
       "<style>#sk-de90cf2c-73c7-4838-8258-deb489dcad8c {color: black;background-color: white;}#sk-de90cf2c-73c7-4838-8258-deb489dcad8c pre{padding: 0;}#sk-de90cf2c-73c7-4838-8258-deb489dcad8c div.sk-toggleable {background-color: white;}#sk-de90cf2c-73c7-4838-8258-deb489dcad8c label.sk-toggleable__label {cursor: pointer;display: block;width: 100%;margin-bottom: 0;padding: 0.2em 0.3em;box-sizing: border-box;text-align: center;}#sk-de90cf2c-73c7-4838-8258-deb489dcad8c div.sk-toggleable__content {max-height: 0;max-width: 0;overflow: hidden;text-align: left;background-color: #f0f8ff;}#sk-de90cf2c-73c7-4838-8258-deb489dcad8c div.sk-toggleable__content pre {margin: 0.2em;color: black;border-radius: 0.25em;background-color: #f0f8ff;}#sk-de90cf2c-73c7-4838-8258-deb489dcad8c input.sk-toggleable__control:checked~div.sk-toggleable__content {max-height: 200px;max-width: 100%;overflow: auto;}#sk-de90cf2c-73c7-4838-8258-deb489dcad8c div.sk-estimator input.sk-toggleable__control:checked~label.sk-toggleable__label {background-color: #d4ebff;}#sk-de90cf2c-73c7-4838-8258-deb489dcad8c div.sk-label input.sk-toggleable__control:checked~label.sk-toggleable__label {background-color: #d4ebff;}#sk-de90cf2c-73c7-4838-8258-deb489dcad8c input.sk-hidden--visually {border: 0;clip: rect(1px 1px 1px 1px);clip: rect(1px, 1px, 1px, 1px);height: 1px;margin: -1px;overflow: hidden;padding: 0;position: absolute;width: 1px;}#sk-de90cf2c-73c7-4838-8258-deb489dcad8c div.sk-estimator {font-family: monospace;background-color: #f0f8ff;margin: 0.25em 0.25em;border: 1px dotted black;border-radius: 0.25em;box-sizing: border-box;}#sk-de90cf2c-73c7-4838-8258-deb489dcad8c div.sk-estimator:hover {background-color: #d4ebff;}#sk-de90cf2c-73c7-4838-8258-deb489dcad8c div.sk-parallel-item::after {content: \"\";width: 100%;border-bottom: 1px solid gray;flex-grow: 1;}#sk-de90cf2c-73c7-4838-8258-deb489dcad8c div.sk-label:hover label.sk-toggleable__label {background-color: #d4ebff;}#sk-de90cf2c-73c7-4838-8258-deb489dcad8c div.sk-serial::before {content: \"\";position: absolute;border-left: 1px solid gray;box-sizing: border-box;top: 2em;bottom: 0;left: 50%;}#sk-de90cf2c-73c7-4838-8258-deb489dcad8c div.sk-serial {display: flex;flex-direction: column;align-items: center;background-color: white;}#sk-de90cf2c-73c7-4838-8258-deb489dcad8c div.sk-item {z-index: 1;}#sk-de90cf2c-73c7-4838-8258-deb489dcad8c div.sk-parallel {display: flex;align-items: stretch;justify-content: center;background-color: white;}#sk-de90cf2c-73c7-4838-8258-deb489dcad8c div.sk-parallel-item {display: flex;flex-direction: column;position: relative;background-color: white;}#sk-de90cf2c-73c7-4838-8258-deb489dcad8c div.sk-parallel-item:first-child::after {align-self: flex-end;width: 50%;}#sk-de90cf2c-73c7-4838-8258-deb489dcad8c div.sk-parallel-item:last-child::after {align-self: flex-start;width: 50%;}#sk-de90cf2c-73c7-4838-8258-deb489dcad8c div.sk-parallel-item:only-child::after {width: 0;}#sk-de90cf2c-73c7-4838-8258-deb489dcad8c div.sk-dashed-wrapped {border: 1px dashed gray;margin: 0.2em;box-sizing: border-box;padding-bottom: 0.1em;background-color: white;position: relative;}#sk-de90cf2c-73c7-4838-8258-deb489dcad8c div.sk-label label {font-family: monospace;font-weight: bold;background-color: white;display: inline-block;line-height: 1.2em;}#sk-de90cf2c-73c7-4838-8258-deb489dcad8c div.sk-label-container {position: relative;z-index: 2;text-align: center;}#sk-de90cf2c-73c7-4838-8258-deb489dcad8c div.sk-container {display: inline-block;position: relative;}</style><div id=\"sk-de90cf2c-73c7-4838-8258-deb489dcad8c\" class\"sk-top-container\"><div class=\"sk-container\"><div class=\"sk-item sk-dashed-wrapped\"><div class=\"sk-label-container\"><div class=\"sk-label sk-toggleable\"><input class=\"sk-toggleable__control sk-hidden--visually\" id=\"306a5cc4-9422-4c48-b648-4e530daa2eec\" type=\"checkbox\" ><label class=\"sk-toggleable__label\" for=\"306a5cc4-9422-4c48-b648-4e530daa2eec\">Pipeline</label><div class=\"sk-toggleable__content\"><pre>Pipeline(steps=[('preprocess',\n",
       "                 Pipeline(steps=[('preprocess',\n",
       "                                  ColumnTransformer(remainder='passthrough',\n",
       "                                                    transformers=[('outlier',\n",
       "                                                                   RobustScaler(),\n",
       "                                                                   ['avg_glucose_level',\n",
       "                                                                    'bmi']),\n",
       "                                                                  ('ohe_columns',\n",
       "                                                                   OneHotEncoder(handle_unknown='ignore',\n",
       "                                                                                 sparse=False),\n",
       "                                                                   ['gender',\n",
       "                                                                    'ever_married',\n",
       "                                                                    'work_type',\n",
       "                                                                    'Residence_type',\n",
       "                                                                    'smoking_status']),\n",
       "                                                                  ('scaler',\n",
       "                                                                   StandardScaler(),\n",
       "                                                                   ['age',\n",
       "                                                                    'avg_glucose_level',\n",
       "                                                                    'bmi'])]))])),\n",
       "                ('algo', LogisticRegression(class_weight='balanced'))])</pre></div></div></div><div class=\"sk-serial\"><div class=\"sk-item\"><div class=\"sk-label-container\"><div class=\"sk-label sk-toggleable\"><input class=\"sk-toggleable__control sk-hidden--visually\" id=\"aef1164e-95fd-4a47-825e-a7b69152ef7e\" type=\"checkbox\" ><label class=\"sk-toggleable__label\" for=\"aef1164e-95fd-4a47-825e-a7b69152ef7e\">preprocess: Pipeline</label><div class=\"sk-toggleable__content\"><pre>Pipeline(steps=[('preprocess',\n",
       "                 ColumnTransformer(remainder='passthrough',\n",
       "                                   transformers=[('outlier', RobustScaler(),\n",
       "                                                  ['avg_glucose_level', 'bmi']),\n",
       "                                                 ('ohe_columns',\n",
       "                                                  OneHotEncoder(handle_unknown='ignore',\n",
       "                                                                sparse=False),\n",
       "                                                  ['gender', 'ever_married',\n",
       "                                                   'work_type',\n",
       "                                                   'Residence_type',\n",
       "                                                   'smoking_status']),\n",
       "                                                 ('scaler', StandardScaler(),\n",
       "                                                  ['age', 'avg_glucose_level',\n",
       "                                                   'bmi'])]))])</pre></div></div></div><div class=\"sk-serial\"><div class=\"sk-item sk-dashed-wrapped\"><div class=\"sk-label-container\"><div class=\"sk-label sk-toggleable\"><input class=\"sk-toggleable__control sk-hidden--visually\" id=\"0498d818-777c-4484-9752-a758ce1ac6f5\" type=\"checkbox\" ><label class=\"sk-toggleable__label\" for=\"0498d818-777c-4484-9752-a758ce1ac6f5\">preprocess: ColumnTransformer</label><div class=\"sk-toggleable__content\"><pre>ColumnTransformer(remainder='passthrough',\n",
       "                  transformers=[('outlier', RobustScaler(),\n",
       "                                 ['avg_glucose_level', 'bmi']),\n",
       "                                ('ohe_columns',\n",
       "                                 OneHotEncoder(handle_unknown='ignore',\n",
       "                                               sparse=False),\n",
       "                                 ['gender', 'ever_married', 'work_type',\n",
       "                                  'Residence_type', 'smoking_status']),\n",
       "                                ('scaler', StandardScaler(),\n",
       "                                 ['age', 'avg_glucose_level', 'bmi'])])</pre></div></div></div><div class=\"sk-parallel\"><div class=\"sk-parallel-item\"><div class=\"sk-item\"><div class=\"sk-label-container\"><div class=\"sk-label sk-toggleable\"><input class=\"sk-toggleable__control sk-hidden--visually\" id=\"0d34ac51-cba7-433f-b349-70371271d8d1\" type=\"checkbox\" ><label class=\"sk-toggleable__label\" for=\"0d34ac51-cba7-433f-b349-70371271d8d1\">outlier</label><div class=\"sk-toggleable__content\"><pre>['avg_glucose_level', 'bmi']</pre></div></div></div><div class=\"sk-serial\"><div class=\"sk-item\"><div class=\"sk-estimator sk-toggleable\"><input class=\"sk-toggleable__control sk-hidden--visually\" id=\"945580bd-4282-486d-9dfc-10b531100f19\" type=\"checkbox\" ><label class=\"sk-toggleable__label\" for=\"945580bd-4282-486d-9dfc-10b531100f19\">RobustScaler</label><div class=\"sk-toggleable__content\"><pre>RobustScaler()</pre></div></div></div></div></div></div><div class=\"sk-parallel-item\"><div class=\"sk-item\"><div class=\"sk-label-container\"><div class=\"sk-label sk-toggleable\"><input class=\"sk-toggleable__control sk-hidden--visually\" id=\"aa3142fe-a506-4c17-8113-73eb34e05fab\" type=\"checkbox\" ><label class=\"sk-toggleable__label\" for=\"aa3142fe-a506-4c17-8113-73eb34e05fab\">ohe_columns</label><div class=\"sk-toggleable__content\"><pre>['gender', 'ever_married', 'work_type', 'Residence_type', 'smoking_status']</pre></div></div></div><div class=\"sk-serial\"><div class=\"sk-item\"><div class=\"sk-estimator sk-toggleable\"><input class=\"sk-toggleable__control sk-hidden--visually\" id=\"22d64d7d-62e9-4305-9b8a-e3bcfe0c8228\" type=\"checkbox\" ><label class=\"sk-toggleable__label\" for=\"22d64d7d-62e9-4305-9b8a-e3bcfe0c8228\">OneHotEncoder</label><div class=\"sk-toggleable__content\"><pre>OneHotEncoder(handle_unknown='ignore', sparse=False)</pre></div></div></div></div></div></div><div class=\"sk-parallel-item\"><div class=\"sk-item\"><div class=\"sk-label-container\"><div class=\"sk-label sk-toggleable\"><input class=\"sk-toggleable__control sk-hidden--visually\" id=\"7d06e103-ea01-4258-b320-e0b2d6560b07\" type=\"checkbox\" ><label class=\"sk-toggleable__label\" for=\"7d06e103-ea01-4258-b320-e0b2d6560b07\">scaler</label><div class=\"sk-toggleable__content\"><pre>['age', 'avg_glucose_level', 'bmi']</pre></div></div></div><div class=\"sk-serial\"><div class=\"sk-item\"><div class=\"sk-estimator sk-toggleable\"><input class=\"sk-toggleable__control sk-hidden--visually\" id=\"72f87dfc-8727-4895-8326-01c67b97bb75\" type=\"checkbox\" ><label class=\"sk-toggleable__label\" for=\"72f87dfc-8727-4895-8326-01c67b97bb75\">StandardScaler</label><div class=\"sk-toggleable__content\"><pre>StandardScaler()</pre></div></div></div></div></div></div><div class=\"sk-parallel-item\"><div class=\"sk-item\"><div class=\"sk-label-container\"><div class=\"sk-label sk-toggleable\"><input class=\"sk-toggleable__control sk-hidden--visually\" id=\"4ebc7382-b14d-4abd-bcea-b874d51d53c4\" type=\"checkbox\" ><label class=\"sk-toggleable__label\" for=\"4ebc7382-b14d-4abd-bcea-b874d51d53c4\">remainder</label><div class=\"sk-toggleable__content\"><pre>['hypertension', 'heart_disease']</pre></div></div></div><div class=\"sk-serial\"><div class=\"sk-item\"><div class=\"sk-estimator sk-toggleable\"><input class=\"sk-toggleable__control sk-hidden--visually\" id=\"77cacfd8-2c6e-49d3-9cd1-4d2ab16ceb24\" type=\"checkbox\" ><label class=\"sk-toggleable__label\" for=\"77cacfd8-2c6e-49d3-9cd1-4d2ab16ceb24\">passthrough</label><div class=\"sk-toggleable__content\"><pre>passthrough</pre></div></div></div></div></div></div></div></div></div></div><div class=\"sk-item\"><div class=\"sk-estimator sk-toggleable\"><input class=\"sk-toggleable__control sk-hidden--visually\" id=\"b360c6b5-050b-4b7b-a793-0738957cd217\" type=\"checkbox\" ><label class=\"sk-toggleable__label\" for=\"b360c6b5-050b-4b7b-a793-0738957cd217\">LogisticRegression</label><div class=\"sk-toggleable__content\"><pre>LogisticRegression(class_weight='balanced')</pre></div></div></div></div></div></div></div>"
      ],
      "text/plain": [
       "Pipeline(steps=[('preprocess',\n",
       "                 Pipeline(steps=[('preprocess',\n",
       "                                  ColumnTransformer(remainder='passthrough',\n",
       "                                                    transformers=[('outlier',\n",
       "                                                                   RobustScaler(),\n",
       "                                                                   ['avg_glucose_level',\n",
       "                                                                    'bmi']),\n",
       "                                                                  ('ohe_columns',\n",
       "                                                                   OneHotEncoder(handle_unknown='ignore',\n",
       "                                                                                 sparse=False),\n",
       "                                                                   ['gender',\n",
       "                                                                    'ever_married',\n",
       "                                                                    'work_type',\n",
       "                                                                    'Residence_type',\n",
       "                                                                    'smoking_status']),\n",
       "                                                                  ('scaler',\n",
       "                                                                   StandardScaler(),\n",
       "                                                                   ['age',\n",
       "                                                                    'avg_glucose_level',\n",
       "                                                                    'bmi'])]))])),\n",
       "                ('algo', LogisticRegression(class_weight='balanced'))])"
      ]
     },
     "execution_count": 19,
     "metadata": {},
     "output_type": "execute_result"
    }
   ],
   "source": [
    "piepline"
   ]
  },
  {
   "cell_type": "code",
   "execution_count": null,
   "metadata": {},
   "outputs": [],
   "source": []
  }
 ],
 "metadata": {
  "kernelspec": {
   "display_name": "Python 3",
   "language": "python",
   "name": "python3"
  },
  "language_info": {
   "codemirror_mode": {
    "name": "ipython",
    "version": 3
   },
   "file_extension": ".py",
   "mimetype": "text/x-python",
   "name": "python",
   "nbconvert_exporter": "python",
   "pygments_lexer": "ipython3",
   "version": "3.6.9"
  }
 },
 "nbformat": 4,
 "nbformat_minor": 2
}
