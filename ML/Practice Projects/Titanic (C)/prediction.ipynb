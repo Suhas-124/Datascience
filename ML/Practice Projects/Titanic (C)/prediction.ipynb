{
 "cells": [
  {
   "cell_type": "code",
   "execution_count": null,
   "metadata": {},
   "outputs": [
    {
     "name": "stdout",
     "output_type": "stream",
     "text": [
      "Predicted Species:Not Survived\n"
     ]
    }
   ],
   "source": [
    "import numpy as np\n",
    "import pandas as pd\n",
    "import joblib\n",
    "\n",
    "model_path = '/home/suhas/Desktop/office/Data Science/Notes/Data Analysis/2024-Nov/svm.pkl'\n",
    "pipeline = joblib.load(model_path)\n",
    "\n",
    "raw_data = {\n",
    "    'pclass': 3,\n",
    "    'sex': 'male',\n",
    "    'age': 35,\n",
    "    'sibsp': 0,\n",
    "    'parch': 0,\n",
    "    'fare': 8.35,\n",
    "    'class': 'Third',\n",
    "    'embark_town': 'Queenstown',\n",
    "    'alone': True\n",
    "}\n",
    "\n",
    "new_data = pd.DataFrame([raw_data])\n",
    "\n",
    "column_order = ['pclass', 'sex', 'age', 'sibsp', 'parch', 'fare', 'class', 'embark_town', 'alone']\n",
    "new_data = new_data[column_order]\n",
    "\n",
    "predictions = pipeline.predict(new_data)\n",
    "\n",
    "label_mapping = {0 : 'Not Survived',1: 'Survived'}\n",
    "\n",
    "predicted_pecies = label_mapping[predictions[0]]\n",
    "\n",
    "print(f\"Predicted Species:{predicted_pecies}\")\n",
    "\n"
   ]
  },
  {
   "cell_type": "code",
   "execution_count": null,
   "metadata": {},
   "outputs": [],
   "source": []
  }
 ],
 "metadata": {
  "language_info": {
   "name": "python"
  }
 },
 "nbformat": 4,
 "nbformat_minor": 2
}
