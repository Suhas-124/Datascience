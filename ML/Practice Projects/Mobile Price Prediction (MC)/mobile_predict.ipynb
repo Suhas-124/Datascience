{
 "cells": [
  {
   "cell_type": "code",
   "execution_count": 19,
   "metadata": {},
   "outputs": [
    {
     "name": "stdout",
     "output_type": "stream",
     "text": [
      "class:3 - Range:Very High Price\n"
     ]
    }
   ],
   "source": [
    "import joblib\n",
    "import numpy as np\n",
    "import pandas as pd\n",
    "\n",
    "model = joblib.load('lr.pkl')\n",
    "\n",
    "\n",
    "test_data = {\n",
    "    \"battery_power\": [4500],  # Large battery\n",
    "    \"int_memory\": [256],      # Flagship storage\n",
    "    \"mobile_wt\": [220],       # Heavy phone\n",
    "    \"n_cores\": [8],           # High-performance CPU\n",
    "    \"px_height\": [1440],      # Quad HD resolution\n",
    "    \"px_width\": [2560],       # Quad HD width\n",
    "    \"ram\": [8192]  \n",
    "\n",
    "}\n",
    "\n",
    "\n",
    "raw_data = pd.DataFrame(test_data)\n",
    "\n",
    "\n",
    "columns = ['battery_power', 'int_memory', 'mobile_wt', 'n_cores', 'px_height', 'px_width', 'ram']\n",
    "\n",
    "raw_data = pd.DataFrame(test_data,columns=columns)\n",
    "\n",
    "prediction = model.predict(raw_data)\n",
    "\n",
    "raw_col = {0:'low price',1: 'medium range',2:'high price',3:'Very High Price'}\n",
    "\n",
    "print(f\"class:{prediction[0]} - Range:{raw_col[prediction[0]]}\")"
   ]
  }
 ],
 "metadata": {
  "kernelspec": {
   "display_name": "venv",
   "language": "python",
   "name": "python3"
  },
  "language_info": {
   "codemirror_mode": {
    "name": "ipython",
    "version": 3
   },
   "file_extension": ".py",
   "mimetype": "text/x-python",
   "name": "python",
   "nbconvert_exporter": "python",
   "pygments_lexer": "ipython3",
   "version": "3.6.9"
  }
 },
 "nbformat": 4,
 "nbformat_minor": 2
}
