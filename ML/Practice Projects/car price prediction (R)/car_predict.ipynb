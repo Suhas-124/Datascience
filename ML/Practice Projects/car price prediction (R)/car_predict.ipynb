{
 "cells": [
  {
   "cell_type": "code",
   "execution_count": 1,
   "metadata": {},
   "outputs": [],
   "source": [
    "import numpy as np\n",
    "import pandas as pd\n",
    "import joblib"
   ]
  },
  {
   "cell_type": "code",
   "execution_count": 2,
   "metadata": {},
   "outputs": [
    {
     "name": "stdout",
     "output_type": "stream",
     "text": [
      "327076.44\n"
     ]
    },
    {
     "name": "stderr",
     "output_type": "stream",
     "text": [
      "/home/suhas/.local/lib/python3.6/site-packages/pkg_resources/__init__.py:119: PkgResourcesDeprecationWarning: 0.18ubuntu0.18.04.1 is an invalid version and will not be supported in a future release\n",
      "  PkgResourcesDeprecationWarning,\n"
     ]
    }
   ],
   "source": [
    "model = joblib.load(\"xgb.pkl\")\n",
    "\n",
    "data = {\n",
    "    'brand': ['Toyota'],\n",
    "    'km_driven': [85000],\n",
    "    'fuel': ['Petrol'],\n",
    "    'owner': ['First Owner']\n",
    "}\n",
    "\n",
    "columns = ['brand', 'km_driven', 'fuel', 'owner']\n",
    "\n",
    "df = pd.DataFrame(data,columns=columns)\n",
    "\n",
    "predict = model.predict(df)\n",
    "\n",
    "predict_log = np.expm1(predict)\n",
    "\n",
    "print(predict_log[0])\n"
   ]
  },
  {
   "cell_type": "code",
   "execution_count": null,
   "metadata": {},
   "outputs": [],
   "source": []
  }
 ],
 "metadata": {
  "kernelspec": {
   "display_name": "Python 3",
   "language": "python",
   "name": "python3"
  },
  "language_info": {
   "codemirror_mode": {
    "name": "ipython",
    "version": 3
   },
   "file_extension": ".py",
   "mimetype": "text/x-python",
   "name": "python",
   "nbconvert_exporter": "python",
   "pygments_lexer": "ipython3",
   "version": "3.6.9"
  }
 },
 "nbformat": 4,
 "nbformat_minor": 2
}
