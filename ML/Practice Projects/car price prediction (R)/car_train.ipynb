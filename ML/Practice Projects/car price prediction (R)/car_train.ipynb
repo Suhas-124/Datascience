{
 "cells": [
  {
   "cell_type": "code",
   "execution_count": 23,
   "metadata": {},
   "outputs": [],
   "source": [
    "import numpy as np\n",
    "import pandas as pd\n",
    "import matplotlib.pyplot as plt\n",
    "import seaborn as sns"
   ]
  },
  {
   "cell_type": "code",
   "execution_count": 24,
   "metadata": {},
   "outputs": [],
   "source": [
    "df = pd.read_csv('/home/suhas/Desktop/office/Data Science/Notes/Data Analysis/2024-Nov/Data/cars.csv')"
   ]
  },
  {
   "cell_type": "code",
   "execution_count": 25,
   "metadata": {},
   "outputs": [
    {
     "data": {
      "text/html": [
       "<div>\n",
       "<style scoped>\n",
       "    .dataframe tbody tr th:only-of-type {\n",
       "        vertical-align: middle;\n",
       "    }\n",
       "\n",
       "    .dataframe tbody tr th {\n",
       "        vertical-align: top;\n",
       "    }\n",
       "\n",
       "    .dataframe thead th {\n",
       "        text-align: right;\n",
       "    }\n",
       "</style>\n",
       "<table border=\"1\" class=\"dataframe\">\n",
       "  <thead>\n",
       "    <tr style=\"text-align: right;\">\n",
       "      <th></th>\n",
       "      <th>brand</th>\n",
       "      <th>km_driven</th>\n",
       "      <th>fuel</th>\n",
       "      <th>owner</th>\n",
       "      <th>selling_price</th>\n",
       "    </tr>\n",
       "  </thead>\n",
       "  <tbody>\n",
       "    <tr>\n",
       "      <th>0</th>\n",
       "      <td>Maruti</td>\n",
       "      <td>145500</td>\n",
       "      <td>Diesel</td>\n",
       "      <td>First Owner</td>\n",
       "      <td>450000</td>\n",
       "    </tr>\n",
       "    <tr>\n",
       "      <th>1</th>\n",
       "      <td>Skoda</td>\n",
       "      <td>120000</td>\n",
       "      <td>Diesel</td>\n",
       "      <td>Second Owner</td>\n",
       "      <td>370000</td>\n",
       "    </tr>\n",
       "    <tr>\n",
       "      <th>2</th>\n",
       "      <td>Honda</td>\n",
       "      <td>140000</td>\n",
       "      <td>Petrol</td>\n",
       "      <td>Third Owner</td>\n",
       "      <td>158000</td>\n",
       "    </tr>\n",
       "    <tr>\n",
       "      <th>3</th>\n",
       "      <td>Hyundai</td>\n",
       "      <td>127000</td>\n",
       "      <td>Diesel</td>\n",
       "      <td>First Owner</td>\n",
       "      <td>225000</td>\n",
       "    </tr>\n",
       "    <tr>\n",
       "      <th>4</th>\n",
       "      <td>Maruti</td>\n",
       "      <td>120000</td>\n",
       "      <td>Petrol</td>\n",
       "      <td>First Owner</td>\n",
       "      <td>130000</td>\n",
       "    </tr>\n",
       "  </tbody>\n",
       "</table>\n",
       "</div>"
      ],
      "text/plain": [
       "     brand  km_driven    fuel         owner  selling_price\n",
       "0   Maruti     145500  Diesel   First Owner         450000\n",
       "1    Skoda     120000  Diesel  Second Owner         370000\n",
       "2    Honda     140000  Petrol   Third Owner         158000\n",
       "3  Hyundai     127000  Diesel   First Owner         225000\n",
       "4   Maruti     120000  Petrol   First Owner         130000"
      ]
     },
     "execution_count": 25,
     "metadata": {},
     "output_type": "execute_result"
    }
   ],
   "source": [
    "df.head()"
   ]
  },
  {
   "cell_type": "code",
   "execution_count": 26,
   "metadata": {},
   "outputs": [
    {
     "data": {
      "text/plain": [
       "(8128, 5)"
      ]
     },
     "execution_count": 26,
     "metadata": {},
     "output_type": "execute_result"
    }
   ],
   "source": [
    "df.shape"
   ]
  },
  {
   "cell_type": "code",
   "execution_count": 27,
   "metadata": {},
   "outputs": [
    {
     "name": "stdout",
     "output_type": "stream",
     "text": [
      "<class 'pandas.core.frame.DataFrame'>\n",
      "RangeIndex: 8128 entries, 0 to 8127\n",
      "Data columns (total 5 columns):\n",
      " #   Column         Non-Null Count  Dtype \n",
      "---  ------         --------------  ----- \n",
      " 0   brand          8128 non-null   object\n",
      " 1   km_driven      8128 non-null   int64 \n",
      " 2   fuel           8128 non-null   object\n",
      " 3   owner          8128 non-null   object\n",
      " 4   selling_price  8128 non-null   int64 \n",
      "dtypes: int64(2), object(3)\n",
      "memory usage: 317.6+ KB\n"
     ]
    }
   ],
   "source": [
    "df.info()"
   ]
  },
  {
   "cell_type": "code",
   "execution_count": 28,
   "metadata": {},
   "outputs": [
    {
     "data": {
      "text/plain": [
       "brand            0\n",
       "km_driven        0\n",
       "fuel             0\n",
       "owner            0\n",
       "selling_price    0\n",
       "dtype: int64"
      ]
     },
     "execution_count": 28,
     "metadata": {},
     "output_type": "execute_result"
    }
   ],
   "source": [
    "df.isnull().sum()"
   ]
  },
  {
   "cell_type": "code",
   "execution_count": 29,
   "metadata": {},
   "outputs": [],
   "source": [
    "# List of brands to remove\n",
    "brands_to_remove = ['Opel', 'Peugeot', 'Ashok']\n",
    "\n",
    "# Keep only the rows where 'brand' is NOT in the list\n",
    "df = df[~df['brand'].isin(brands_to_remove)]\n"
   ]
  },
  {
   "cell_type": "code",
   "execution_count": 30,
   "metadata": {},
   "outputs": [],
   "source": [
    "from sklearn.model_selection import train_test_split,cross_val_score\n",
    "from sklearn.preprocessing import LabelEncoder,OneHotEncoder\n",
    "\n",
    "X = df.drop(columns='selling_price')\n",
    "y = df['selling_price']"
   ]
  },
  {
   "cell_type": "code",
   "execution_count": 31,
   "metadata": {},
   "outputs": [
    {
     "data": {
      "text/html": [
       "<div>\n",
       "<style scoped>\n",
       "    .dataframe tbody tr th:only-of-type {\n",
       "        vertical-align: middle;\n",
       "    }\n",
       "\n",
       "    .dataframe tbody tr th {\n",
       "        vertical-align: top;\n",
       "    }\n",
       "\n",
       "    .dataframe thead th {\n",
       "        text-align: right;\n",
       "    }\n",
       "</style>\n",
       "<table border=\"1\" class=\"dataframe\">\n",
       "  <thead>\n",
       "    <tr style=\"text-align: right;\">\n",
       "      <th></th>\n",
       "      <th>brand</th>\n",
       "      <th>km_driven</th>\n",
       "      <th>fuel</th>\n",
       "      <th>owner</th>\n",
       "    </tr>\n",
       "  </thead>\n",
       "  <tbody>\n",
       "    <tr>\n",
       "      <th>0</th>\n",
       "      <td>Maruti</td>\n",
       "      <td>145500</td>\n",
       "      <td>Diesel</td>\n",
       "      <td>First Owner</td>\n",
       "    </tr>\n",
       "    <tr>\n",
       "      <th>1</th>\n",
       "      <td>Skoda</td>\n",
       "      <td>120000</td>\n",
       "      <td>Diesel</td>\n",
       "      <td>Second Owner</td>\n",
       "    </tr>\n",
       "    <tr>\n",
       "      <th>2</th>\n",
       "      <td>Honda</td>\n",
       "      <td>140000</td>\n",
       "      <td>Petrol</td>\n",
       "      <td>Third Owner</td>\n",
       "    </tr>\n",
       "    <tr>\n",
       "      <th>3</th>\n",
       "      <td>Hyundai</td>\n",
       "      <td>127000</td>\n",
       "      <td>Diesel</td>\n",
       "      <td>First Owner</td>\n",
       "    </tr>\n",
       "    <tr>\n",
       "      <th>4</th>\n",
       "      <td>Maruti</td>\n",
       "      <td>120000</td>\n",
       "      <td>Petrol</td>\n",
       "      <td>First Owner</td>\n",
       "    </tr>\n",
       "    <tr>\n",
       "      <th>...</th>\n",
       "      <td>...</td>\n",
       "      <td>...</td>\n",
       "      <td>...</td>\n",
       "      <td>...</td>\n",
       "    </tr>\n",
       "    <tr>\n",
       "      <th>8123</th>\n",
       "      <td>Hyundai</td>\n",
       "      <td>110000</td>\n",
       "      <td>Petrol</td>\n",
       "      <td>First Owner</td>\n",
       "    </tr>\n",
       "    <tr>\n",
       "      <th>8124</th>\n",
       "      <td>Hyundai</td>\n",
       "      <td>119000</td>\n",
       "      <td>Diesel</td>\n",
       "      <td>Fourth &amp; Above Owner</td>\n",
       "    </tr>\n",
       "    <tr>\n",
       "      <th>8125</th>\n",
       "      <td>Maruti</td>\n",
       "      <td>120000</td>\n",
       "      <td>Diesel</td>\n",
       "      <td>First Owner</td>\n",
       "    </tr>\n",
       "    <tr>\n",
       "      <th>8126</th>\n",
       "      <td>Tata</td>\n",
       "      <td>25000</td>\n",
       "      <td>Diesel</td>\n",
       "      <td>First Owner</td>\n",
       "    </tr>\n",
       "    <tr>\n",
       "      <th>8127</th>\n",
       "      <td>Tata</td>\n",
       "      <td>25000</td>\n",
       "      <td>Diesel</td>\n",
       "      <td>First Owner</td>\n",
       "    </tr>\n",
       "  </tbody>\n",
       "</table>\n",
       "<p>8125 rows × 4 columns</p>\n",
       "</div>"
      ],
      "text/plain": [
       "        brand  km_driven    fuel                 owner\n",
       "0      Maruti     145500  Diesel           First Owner\n",
       "1       Skoda     120000  Diesel          Second Owner\n",
       "2       Honda     140000  Petrol           Third Owner\n",
       "3     Hyundai     127000  Diesel           First Owner\n",
       "4      Maruti     120000  Petrol           First Owner\n",
       "...       ...        ...     ...                   ...\n",
       "8123  Hyundai     110000  Petrol           First Owner\n",
       "8124  Hyundai     119000  Diesel  Fourth & Above Owner\n",
       "8125   Maruti     120000  Diesel           First Owner\n",
       "8126     Tata      25000  Diesel           First Owner\n",
       "8127     Tata      25000  Diesel           First Owner\n",
       "\n",
       "[8125 rows x 4 columns]"
      ]
     },
     "execution_count": 31,
     "metadata": {},
     "output_type": "execute_result"
    }
   ],
   "source": [
    "X"
   ]
  },
  {
   "cell_type": "code",
   "execution_count": 32,
   "metadata": {},
   "outputs": [
    {
     "data": {
      "text/plain": [
       "0       450000\n",
       "1       370000\n",
       "2       158000\n",
       "3       225000\n",
       "4       130000\n",
       "         ...  \n",
       "8123    320000\n",
       "8124    135000\n",
       "8125    382000\n",
       "8126    290000\n",
       "8127    290000\n",
       "Name: selling_price, Length: 8125, dtype: int64"
      ]
     },
     "execution_count": 32,
     "metadata": {},
     "output_type": "execute_result"
    }
   ],
   "source": [
    "y"
   ]
  },
  {
   "cell_type": "code",
   "execution_count": 33,
   "metadata": {},
   "outputs": [],
   "source": [
    "from sklearn.preprocessing import FunctionTransformer\n",
    "\n",
    "label = FunctionTransformer(np.log1p)\n",
    "y = label.fit_transform(y)"
   ]
  },
  {
   "cell_type": "code",
   "execution_count": 34,
   "metadata": {},
   "outputs": [
    {
     "data": {
      "text/plain": [
       "0       13.017005\n",
       "1       12.821261\n",
       "2       11.970357\n",
       "3       12.323860\n",
       "4       11.775297\n",
       "          ...    \n",
       "8123    12.676079\n",
       "8124    11.813037\n",
       "8125    12.853179\n",
       "8126    12.577640\n",
       "8127    12.577640\n",
       "Name: selling_price, Length: 8125, dtype: float64"
      ]
     },
     "execution_count": 34,
     "metadata": {},
     "output_type": "execute_result"
    }
   ],
   "source": [
    "y"
   ]
  },
  {
   "cell_type": "code",
   "execution_count": 35,
   "metadata": {},
   "outputs": [],
   "source": [
    "num_column = ['km_driven']\n",
    "cat_column = ['brand', 'fuel', 'owner']"
   ]
  },
  {
   "cell_type": "code",
   "execution_count": 36,
   "metadata": {},
   "outputs": [
    {
     "data": {
      "image/png": "[encoded data removed]",
      "text/plain": [
       "<Figure size 432x288 with 1 Axes>"
      ]
     },
     "metadata": {
      "needs_background": "light"
     },
     "output_type": "display_data"
    },
    {
     "name": "stdout",
     "output_type": "stream",
     "text": [
      "--------------------------------------------------\n"
     ]
    },
    {
     "data": {
      "image/png": "[encoded data removed]",
      "text/plain": [
       "<Figure size 432x288 with 1 Axes>"
      ]
     },
     "metadata": {
      "needs_background": "light"
     },
     "output_type": "display_data"
    },
    {
     "name": "stdout",
     "output_type": "stream",
     "text": [
      "--------------------------------------------------\n"
     ]
    },
    {
     "data": {
      "image/png": "[encoded data removed]",
      "text/plain": [
       "<Figure size 432x288 with 1 Axes>"
      ]
     },
     "metadata": {
      "needs_background": "light"
     },
     "output_type": "display_data"
    },
    {
     "data": {
      "image/png": "[encoded data removed]",
      "text/plain": [
       "<Figure size 432x288 with 1 Axes>"
      ]
     },
     "metadata": {
      "needs_background": "light"
     },
     "output_type": "display_data"
    },
    {
     "data": {
      "image/png": "[encoded data removed]",
      "text/plain": [
       "<Figure size 432x288 with 1 Axes>"
      ]
     },
     "metadata": {
      "needs_background": "light"
     },
     "output_type": "display_data"
    },
    {
     "name": "stdout",
     "output_type": "stream",
     "text": [
      "--------------------------------------------------\n"
     ]
    },
    {
     "data": {
      "text/plain": [
       "<AxesSubplot:xlabel='selling_price', ylabel='Count'>"
      ]
     },
     "execution_count": 36,
     "metadata": {},
     "output_type": "execute_result"
    },
    {
     "data": {
      "image/png": "[encoded data removed]",
      "text/plain": [
       "<Figure size 432x288 with 1 Axes>"
      ]
     },
     "metadata": {
      "needs_background": "light"
     },
     "output_type": "display_data"
    }
   ],
   "source": [
    "for col in num_column:\n",
    "    sns.histplot(data=X,x=col,kde=True)\n",
    "    plt.title(f\"Hist Plot for {col}\")\n",
    "    plt.show()\n",
    "\n",
    "print('-'*50)\n",
    "\n",
    "for col in num_column:\n",
    "    sns.boxplot(data=X,x=col)\n",
    "    plt.title(f\"box plot for {col}\")\n",
    "    plt.show()\n",
    "\n",
    "print('-'*50)\n",
    "\n",
    "for col in cat_column:\n",
    "    sns.countplot(data=X,x=col)\n",
    "    plt.title(f\"Box Plot for {col}\")\n",
    "    plt.show()\n",
    "\n",
    "print('-'*50)\n",
    "\n",
    "sns.histplot(x=df['selling_price'],kde=True)\n",
    "sns.boxplot(x=df['selling_price'])"
   ]
  },
  {
   "cell_type": "markdown",
   "metadata": {},
   "source": [
    "## Feature Selection"
   ]
  },
  {
   "cell_type": "code",
   "execution_count": 37,
   "metadata": {},
   "outputs": [
    {
     "name": "stdout",
     "output_type": "stream",
     "text": [
      "km_driven:-0.355,p_value:0.000\n",
      "dict_keys(['km_driven'])\n"
     ]
    }
   ],
   "source": [
    "# For numerical columns\n",
    "from scipy.stats import spearmanr\n",
    "\n",
    "significant_num_cols = {}\n",
    "for col in num_column:\n",
    "    corr,p_value = spearmanr(X[col],y)\n",
    "\n",
    "    if p_value < 0.05:\n",
    "        significant_num_cols[col] = {\n",
    "        'corr':corr,\n",
    "        'p_value': p_value\n",
    "    }\n",
    "        \n",
    "    print(f\"{col}:{corr:.3f},p_value:{p_value:.3f}\")\n",
    "\n",
    "print(significant_num_cols.keys())\n"
   ]
  },
  {
   "cell_type": "code",
   "execution_count": 38,
   "metadata": {},
   "outputs": [
    {
     "name": "stdout",
     "output_type": "stream",
     "text": [
      "brand:2244.910,p_value:0.000\n",
      "fuel:938.949,p_value:0.000\n",
      "owner:1422.522,p_value:0.000\n",
      "dict_keys(['brand', 'fuel', 'owner'])\n"
     ]
    }
   ],
   "source": [
    "# For categorical columns\n",
    "from scipy.stats import kruskal\n",
    "\n",
    "significant_cat_columns = {}\n",
    "\n",
    "for col in cat_column:\n",
    "    groups = [y[X[col]==cat] for cat in X[col].unique()]\n",
    "    stat,p_value = kruskal(*groups)\n",
    "\n",
    "    if p_value < 0.005:\n",
    "        significant_cat_columns[col] = {\n",
    "            'stat':stat,\n",
    "            'p_value':p_value\n",
    "        }\n",
    "    print(f\"{col}:{stat:.3f},p_value:{p_value:.3f}\")\n",
    "\n",
    "print(significant_cat_columns.keys())\n"
   ]
  },
  {
   "cell_type": "code",
   "execution_count": 39,
   "metadata": {},
   "outputs": [],
   "source": [
    "X_train,X_test,y_train,y_test = train_test_split(X,y,test_size=0.2,random_state=42)"
   ]
  },
  {
   "cell_type": "code",
   "execution_count": 40,
   "metadata": {},
   "outputs": [
    {
     "data": {
      "text/plain": [
       "(6500, 4)"
      ]
     },
     "execution_count": 40,
     "metadata": {},
     "output_type": "execute_result"
    }
   ],
   "source": [
    "X_train.shape"
   ]
  },
  {
   "cell_type": "code",
   "execution_count": 41,
   "metadata": {},
   "outputs": [
    {
     "data": {
      "text/plain": [
       "Index(['brand', 'km_driven', 'fuel', 'owner'], dtype='object')"
      ]
     },
     "execution_count": 41,
     "metadata": {},
     "output_type": "execute_result"
    }
   ],
   "source": [
    "X_train.columns"
   ]
  },
  {
   "cell_type": "code",
   "execution_count": 42,
   "metadata": {},
   "outputs": [],
   "source": [
    "from sklearn.preprocessing import RobustScaler,OneHotEncoder,StandardScaler\n",
    "from sklearn.compose import ColumnTransformer\n",
    "from sklearn.pipeline import Pipeline\n",
    "from sklearn.impute import SimpleImputer\n",
    "\n",
    "\n",
    "num_pipe = Pipeline([\n",
    "    ('impute',SimpleImputer(strategy='median')),\n",
    "    ('scalar',StandardScaler()),\n",
    "    \n",
    "])\n",
    "\n",
    "cat_pipe = Pipeline([\n",
    "    ('impute',SimpleImputer(strategy='most_frequent')),\n",
    "    ('ohe',OneHotEncoder(drop='first',sparse=False)),\n",
    "    \n",
    "])\n",
    "\n",
    "preprocess_cols = ColumnTransformer([\n",
    "    ('num_pre',num_pipe,num_column),\n",
    "    ('cat_pre',cat_pipe,cat_column)\n",
    "])\n"
   ]
  },
  {
   "cell_type": "code",
   "execution_count": 43,
   "metadata": {},
   "outputs": [
    {
     "name": "stdout",
     "output_type": "stream",
     "text": [
      "random_forest\n",
      "R2:0.6378471048055114\n",
      "MSE:0.25380968181243513\n",
      "MAE:0.36231968137615767\n",
      "CV score:[0.63142138 0.64115096 0.6374333  0.59537507 0.62489409]\n",
      "CV Mean:0.6260549601132416\n",
      "--------------------------------------------------\n",
      "adb\n",
      "R2:0.39480053067408327\n",
      "MSE:0.42414540041209414\n",
      "MAE:0.5219419673375316\n",
      "CV score:[0.38916272 0.38047088 0.42642006 0.40474    0.37904091]\n",
      "CV Mean:0.39596691430500786\n",
      "--------------------------------------------------\n",
      "gb\n",
      "R2:0.6698394228924092\n",
      "MSE:0.2313883228178673\n",
      "MAE:0.3690048556320362\n",
      "CV score:[0.66878985 0.65327867 0.67607885 0.64245389 0.66017015]\n",
      "CV Mean:0.6601542833454012\n",
      "--------------------------------------------------\n",
      "dt\n",
      "R2:0.5770032943592998\n",
      "MSE:0.2964511969694955\n",
      "MAE:0.3791173867161191\n",
      "CV score:[0.58984631 0.54376226 0.58589585 0.52004162 0.55527479]\n",
      "CV Mean:0.5589641652248749\n",
      "--------------------------------------------------\n",
      "svr\n",
      "R2:0.6873528211865808\n",
      "MSE:0.21911430787147015\n",
      "MAE:0.34873418258629313\n",
      "CV score:[0.67396331 0.6572796  0.68344719 0.64310131 0.67518467]\n",
      "CV Mean:0.6665952138527564\n",
      "--------------------------------------------------\n",
      "lr\n",
      "R2:0.6205085559962662\n",
      "MSE:0.26596115599573716\n",
      "MAE:0.4039830828010978\n",
      "CV score:[0.64140329 0.5988125  0.55124    0.58987045 0.62561858]\n",
      "CV Mean:0.6013889646379631\n",
      "--------------------------------------------------\n",
      "knn\n",
      "R2:0.640956148573144\n",
      "MSE:0.25163075291286086\n",
      "MAE:0.36492911004455375\n",
      "CV score:[0.62329366 0.63609868 0.64849366 0.59550809 0.63162296]\n",
      "CV Mean:0.6270034112704022\n",
      "--------------------------------------------------\n",
      "xgb\n",
      "R2:0.6899846546516594\n",
      "MSE:0.2172698249936067\n",
      "MAE:0.3410764788498507\n",
      "CV score:[0.68404184 0.67214062 0.68088443 0.64958968 0.6703318 ]\n",
      "CV Mean:0.671397672415998\n",
      "--------------------------------------------------\n"
     ]
    }
   ],
   "source": [
    "from sklearn.ensemble import RandomForestRegressor,AdaBoostRegressor,GradientBoostingRegressor\n",
    "from sklearn.tree import DecisionTreeRegressor\n",
    "from sklearn.svm import SVR\n",
    "from sklearn.linear_model import LinearRegression\n",
    "from sklearn.neighbors import KNeighborsRegressor\n",
    "import xgboost as xgb\n",
    "import joblib\n",
    "from sklearn.metrics import r2_score,mean_squared_error,mean_absolute_error\n",
    "\n",
    "algorithms = {\n",
    "    'random_forest': RandomForestRegressor(),\n",
    "    'adb': AdaBoostRegressor(),\n",
    "    'gb': GradientBoostingRegressor(),\n",
    "    'dt': DecisionTreeRegressor(),\n",
    "    'svr': SVR(),\n",
    "    'lr': LinearRegression(),\n",
    "    'knn': KNeighborsRegressor(),\n",
    "    'xgb': xgb.XGBRegressor()\n",
    "\n",
    "}\n",
    "\n",
    "\n",
    "for name,algo in algorithms.items():\n",
    "    model = Pipeline([\n",
    "        ('preprocess',preprocess_cols),\n",
    "        ('algo',algo)\n",
    "    ])\n",
    "\n",
    "    model.fit(X_train,y_train)\n",
    "\n",
    "    joblib.dump(model,f\"{name}.pkl\")\n",
    "\n",
    "    y_pred = model.predict(X_test)\n",
    "\n",
    "    r2 = r2_score(y_test,y_pred)\n",
    "    mse = mean_squared_error(y_test,y_pred)\n",
    "    mae = mean_absolute_error(y_test,y_pred)\n",
    "    cs_score = cross_val_score(model,X,y,scoring='r2',cv=5)\n",
    "    cv_mean = cs_score.mean()\n",
    "\n",
    "    print(f\"{name}\")\n",
    "    print(f\"R2:{r2}\")\n",
    "    print(f\"MSE:{mse}\")\n",
    "    print(f\"MAE:{mae}\")\n",
    "    print(f\"CV score:{cs_score}\")\n",
    "    print(f\"CV Mean:{cv_mean}\")\n",
    "    print('-'*50)\n",
    "\n",
    "    "
   ]
  }
 ],
 "metadata": {
  "kernelspec": {
   "display_name": "Python 3",
   "language": "python",
   "name": "python3"
  },
  "language_info": {
   "codemirror_mode": {
    "name": "ipython",
    "version": 3
   },
   "file_extension": ".py",
   "mimetype": "text/x-python",
   "name": "python",
   "nbconvert_exporter": "python",
   "pygments_lexer": "ipython3",
   "version": "3.6.9"
  }
 },
 "nbformat": 4,
 "nbformat_minor": 2
}
