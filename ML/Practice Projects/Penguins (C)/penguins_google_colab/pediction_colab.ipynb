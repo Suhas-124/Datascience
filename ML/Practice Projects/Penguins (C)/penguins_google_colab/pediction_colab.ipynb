{
  "nbformat": 4,
  "nbformat_minor": 0,
  "metadata": {
    "colab": {
      "provenance": []
    },
    "kernelspec": {
      "name": "python3",
      "display_name": "Python 3"
    },
    "language_info": {
      "name": "python"
    }
  },
  "cells": [
    {
      "cell_type": "code",
      "execution_count": null,
      "metadata": {
        "id": "de4WBNzQUV_5"
      },
      "outputs": [],
      "source": [
        "/content/Random Forest_penguin_classifier.pkl"
      ]
    },
    {
      "cell_type": "code",
      "source": [
        "import pandas as pd\n",
        "import numpy as np\n",
        "import joblib\n",
        "\n",
        "#Load the trained pieplin\n",
        "model_path = '/content/Random Forest_penguin_classifier.pkl'\n",
        "pipeline = joblib.load(model_path)\n",
        "\n",
        "\n",
        "# Define the raw data for prediction\n",
        "raw_data = {\n",
        "    'bill_length_mm': [41.4],\n",
        "    'bill_depth_mm': [19.7],\n",
        "    'flipper_length_mm': [188.0],\n",
        "    'body_mass_g': [4100.0],\n",
        "    'sex': ['Male'],\n",
        "    'island': ['Biscoe']\n",
        "}\n",
        "\n",
        "#convert the raw data into a dataframe\n",
        "new_data = pd.DataFrame(raw_data)\n",
        "\n",
        "#Ensure column order matches training data\n",
        "column_order = ['island', 'bill_length_mm', 'bill_depth_mm', 'flipper_length_mm', 'body_mass_g', 'sex']\n",
        "new_data = new_data[column_order]\n",
        "\n",
        "#Predict using the loaded pipeline\n",
        "predictions = pipeline.predict(new_data)\n",
        "\n",
        "#create a manual label to species name\n",
        "label_mapping = {0: 'Adelie', 1: 'Chinstrap', 2: 'Gentoo'}\n",
        "\n",
        "# Get the predicted species name using the label mapping\n",
        "predicted_species = label_mapping[predictions[0]]\n",
        "\n",
        "print(f\"Predicted Species:{predicted_species}\")"
      ],
      "metadata": {
        "colab": {
          "base_uri": "https://localhost:8080/"
        },
        "id": "o3e8HfZdUYlL",
        "outputId": "70acfd01-4f56-49d4-a95f-4ffb0c9da50d"
      },
      "execution_count": 2,
      "outputs": [
        {
          "output_type": "stream",
          "name": "stdout",
          "text": [
            "Predicted Species:Adelie\n"
          ]
        }
      ]
    }
  ]
}