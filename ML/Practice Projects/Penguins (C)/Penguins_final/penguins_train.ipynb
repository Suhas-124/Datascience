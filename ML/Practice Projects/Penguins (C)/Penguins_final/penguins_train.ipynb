{
 "cells": [
  {
   "cell_type": "code",
   "execution_count": 135,
   "metadata": {},
   "outputs": [],
   "source": [
    "import pandas as pd\n",
    "import numpy as np\n",
    "import seaborn as sns\n",
    "import matplotlib.pyplot as plt"
   ]
  },
  {
   "cell_type": "code",
   "execution_count": 136,
   "metadata": {},
   "outputs": [],
   "source": [
    "df = sns.load_dataset('penguins')"
   ]
  },
  {
   "cell_type": "code",
   "execution_count": 137,
   "metadata": {},
   "outputs": [
    {
     "data": {
      "text/html": [
       "<div>\n",
       "<style scoped>\n",
       "    .dataframe tbody tr th:only-of-type {\n",
       "        vertical-align: middle;\n",
       "    }\n",
       "\n",
       "    .dataframe tbody tr th {\n",
       "        vertical-align: top;\n",
       "    }\n",
       "\n",
       "    .dataframe thead th {\n",
       "        text-align: right;\n",
       "    }\n",
       "</style>\n",
       "<table border=\"1\" class=\"dataframe\">\n",
       "  <thead>\n",
       "    <tr style=\"text-align: right;\">\n",
       "      <th></th>\n",
       "      <th>species</th>\n",
       "      <th>island</th>\n",
       "      <th>bill_length_mm</th>\n",
       "      <th>bill_depth_mm</th>\n",
       "      <th>flipper_length_mm</th>\n",
       "      <th>body_mass_g</th>\n",
       "      <th>sex</th>\n",
       "    </tr>\n",
       "  </thead>\n",
       "  <tbody>\n",
       "    <tr>\n",
       "      <th>0</th>\n",
       "      <td>Adelie</td>\n",
       "      <td>Torgersen</td>\n",
       "      <td>39.1</td>\n",
       "      <td>18.7</td>\n",
       "      <td>181.0</td>\n",
       "      <td>3750.0</td>\n",
       "      <td>Male</td>\n",
       "    </tr>\n",
       "    <tr>\n",
       "      <th>1</th>\n",
       "      <td>Adelie</td>\n",
       "      <td>Torgersen</td>\n",
       "      <td>39.5</td>\n",
       "      <td>17.4</td>\n",
       "      <td>186.0</td>\n",
       "      <td>3800.0</td>\n",
       "      <td>Female</td>\n",
       "    </tr>\n",
       "    <tr>\n",
       "      <th>2</th>\n",
       "      <td>Adelie</td>\n",
       "      <td>Torgersen</td>\n",
       "      <td>40.3</td>\n",
       "      <td>18.0</td>\n",
       "      <td>195.0</td>\n",
       "      <td>3250.0</td>\n",
       "      <td>Female</td>\n",
       "    </tr>\n",
       "    <tr>\n",
       "      <th>3</th>\n",
       "      <td>Adelie</td>\n",
       "      <td>Torgersen</td>\n",
       "      <td>NaN</td>\n",
       "      <td>NaN</td>\n",
       "      <td>NaN</td>\n",
       "      <td>NaN</td>\n",
       "      <td>NaN</td>\n",
       "    </tr>\n",
       "    <tr>\n",
       "      <th>4</th>\n",
       "      <td>Adelie</td>\n",
       "      <td>Torgersen</td>\n",
       "      <td>36.7</td>\n",
       "      <td>19.3</td>\n",
       "      <td>193.0</td>\n",
       "      <td>3450.0</td>\n",
       "      <td>Female</td>\n",
       "    </tr>\n",
       "  </tbody>\n",
       "</table>\n",
       "</div>"
      ],
      "text/plain": [
       "  species     island  bill_length_mm  bill_depth_mm  flipper_length_mm  \\\n",
       "0  Adelie  Torgersen            39.1           18.7              181.0   \n",
       "1  Adelie  Torgersen            39.5           17.4              186.0   \n",
       "2  Adelie  Torgersen            40.3           18.0              195.0   \n",
       "3  Adelie  Torgersen             NaN            NaN                NaN   \n",
       "4  Adelie  Torgersen            36.7           19.3              193.0   \n",
       "\n",
       "   body_mass_g     sex  \n",
       "0       3750.0    Male  \n",
       "1       3800.0  Female  \n",
       "2       3250.0  Female  \n",
       "3          NaN     NaN  \n",
       "4       3450.0  Female  "
      ]
     },
     "execution_count": 137,
     "metadata": {},
     "output_type": "execute_result"
    }
   ],
   "source": [
    "df.head()"
   ]
  },
  {
   "cell_type": "code",
   "execution_count": 138,
   "metadata": {},
   "outputs": [
    {
     "data": {
      "text/plain": [
       "(344, 7)"
      ]
     },
     "execution_count": 138,
     "metadata": {},
     "output_type": "execute_result"
    }
   ],
   "source": [
    "df.shape"
   ]
  },
  {
   "cell_type": "code",
   "execution_count": 139,
   "metadata": {},
   "outputs": [
    {
     "data": {
      "text/plain": [
       "species               0\n",
       "island                0\n",
       "bill_length_mm        2\n",
       "bill_depth_mm         2\n",
       "flipper_length_mm     2\n",
       "body_mass_g           2\n",
       "sex                  11\n",
       "dtype: int64"
      ]
     },
     "execution_count": 139,
     "metadata": {},
     "output_type": "execute_result"
    }
   ],
   "source": [
    "df.isnull().sum()"
   ]
  },
  {
   "cell_type": "code",
   "execution_count": 140,
   "metadata": {},
   "outputs": [],
   "source": [
    "from sklearn.impute import SimpleImputer\n",
    "\n",
    "numerical_columns = ['bill_length_mm','bill_depth_mm','flipper_length_mm','body_mass_g']\n",
    "categrocal_columns = ['sex']\n",
    "\n",
    "num_impute = SimpleImputer(strategy='median')\n",
    "df[numerical_columns] = num_impute.fit_transform(df[numerical_columns])\n",
    "\n",
    "cat_impute = SimpleImputer(strategy='most_frequent')\n",
    "df[categrocal_columns] = cat_impute.fit_transform(df[categrocal_columns])"
   ]
  },
  {
   "cell_type": "code",
   "execution_count": 141,
   "metadata": {},
   "outputs": [
    {
     "data": {
      "text/plain": [
       "species              0\n",
       "island               0\n",
       "bill_length_mm       0\n",
       "bill_depth_mm        0\n",
       "flipper_length_mm    0\n",
       "body_mass_g          0\n",
       "sex                  0\n",
       "dtype: int64"
      ]
     },
     "execution_count": 141,
     "metadata": {},
     "output_type": "execute_result"
    }
   ],
   "source": [
    "df.isnull().sum()"
   ]
  },
  {
   "cell_type": "code",
   "execution_count": 142,
   "metadata": {},
   "outputs": [],
   "source": [
    "X = df.iloc[:,1:]\n",
    "y = df.iloc[:,0:1]"
   ]
  },
  {
   "cell_type": "code",
   "execution_count": 143,
   "metadata": {},
   "outputs": [
    {
     "data": {
      "text/html": [
       "<div>\n",
       "<style scoped>\n",
       "    .dataframe tbody tr th:only-of-type {\n",
       "        vertical-align: middle;\n",
       "    }\n",
       "\n",
       "    .dataframe tbody tr th {\n",
       "        vertical-align: top;\n",
       "    }\n",
       "\n",
       "    .dataframe thead th {\n",
       "        text-align: right;\n",
       "    }\n",
       "</style>\n",
       "<table border=\"1\" class=\"dataframe\">\n",
       "  <thead>\n",
       "    <tr style=\"text-align: right;\">\n",
       "      <th></th>\n",
       "      <th>species</th>\n",
       "    </tr>\n",
       "  </thead>\n",
       "  <tbody>\n",
       "    <tr>\n",
       "      <th>0</th>\n",
       "      <td>Adelie</td>\n",
       "    </tr>\n",
       "    <tr>\n",
       "      <th>1</th>\n",
       "      <td>Adelie</td>\n",
       "    </tr>\n",
       "    <tr>\n",
       "      <th>2</th>\n",
       "      <td>Adelie</td>\n",
       "    </tr>\n",
       "    <tr>\n",
       "      <th>3</th>\n",
       "      <td>Adelie</td>\n",
       "    </tr>\n",
       "    <tr>\n",
       "      <th>4</th>\n",
       "      <td>Adelie</td>\n",
       "    </tr>\n",
       "    <tr>\n",
       "      <th>...</th>\n",
       "      <td>...</td>\n",
       "    </tr>\n",
       "    <tr>\n",
       "      <th>339</th>\n",
       "      <td>Gentoo</td>\n",
       "    </tr>\n",
       "    <tr>\n",
       "      <th>340</th>\n",
       "      <td>Gentoo</td>\n",
       "    </tr>\n",
       "    <tr>\n",
       "      <th>341</th>\n",
       "      <td>Gentoo</td>\n",
       "    </tr>\n",
       "    <tr>\n",
       "      <th>342</th>\n",
       "      <td>Gentoo</td>\n",
       "    </tr>\n",
       "    <tr>\n",
       "      <th>343</th>\n",
       "      <td>Gentoo</td>\n",
       "    </tr>\n",
       "  </tbody>\n",
       "</table>\n",
       "<p>344 rows × 1 columns</p>\n",
       "</div>"
      ],
      "text/plain": [
       "    species\n",
       "0    Adelie\n",
       "1    Adelie\n",
       "2    Adelie\n",
       "3    Adelie\n",
       "4    Adelie\n",
       "..      ...\n",
       "339  Gentoo\n",
       "340  Gentoo\n",
       "341  Gentoo\n",
       "342  Gentoo\n",
       "343  Gentoo\n",
       "\n",
       "[344 rows x 1 columns]"
      ]
     },
     "execution_count": 143,
     "metadata": {},
     "output_type": "execute_result"
    }
   ],
   "source": [
    "y"
   ]
  },
  {
   "cell_type": "code",
   "execution_count": 144,
   "metadata": {},
   "outputs": [
    {
     "name": "stderr",
     "output_type": "stream",
     "text": [
      "/home/suhas/.local/lib/python3.6/site-packages/sklearn/utils/validation.py:63: DataConversionWarning: A column-vector y was passed when a 1d array was expected. Please change the shape of y to (n_samples, ), for example using ravel().\n",
      "  return f(*args, **kwargs)\n"
     ]
    }
   ],
   "source": [
    "from sklearn.preprocessing import LabelEncoder,OneHotEncoder,StandardScaler\n",
    "\n",
    "y_encode = LabelEncoder()\n",
    "y= y_encode.fit_transform(y)"
   ]
  },
  {
   "cell_type": "code",
   "execution_count": 145,
   "metadata": {},
   "outputs": [
    {
     "data": {
      "text/plain": [
       "array([0, 0, 0, 0, 0, 0, 0, 0, 0, 0, 0, 0, 0, 0, 0, 0, 0, 0, 0, 0, 0, 0,\n",
       "       0, 0, 0, 0, 0, 0, 0, 0, 0, 0, 0, 0, 0, 0, 0, 0, 0, 0, 0, 0, 0, 0,\n",
       "       0, 0, 0, 0, 0, 0, 0, 0, 0, 0, 0, 0, 0, 0, 0, 0, 0, 0, 0, 0, 0, 0,\n",
       "       0, 0, 0, 0, 0, 0, 0, 0, 0, 0, 0, 0, 0, 0, 0, 0, 0, 0, 0, 0, 0, 0,\n",
       "       0, 0, 0, 0, 0, 0, 0, 0, 0, 0, 0, 0, 0, 0, 0, 0, 0, 0, 0, 0, 0, 0,\n",
       "       0, 0, 0, 0, 0, 0, 0, 0, 0, 0, 0, 0, 0, 0, 0, 0, 0, 0, 0, 0, 0, 0,\n",
       "       0, 0, 0, 0, 0, 0, 0, 0, 0, 0, 0, 0, 0, 0, 0, 0, 0, 0, 0, 0, 1, 1,\n",
       "       1, 1, 1, 1, 1, 1, 1, 1, 1, 1, 1, 1, 1, 1, 1, 1, 1, 1, 1, 1, 1, 1,\n",
       "       1, 1, 1, 1, 1, 1, 1, 1, 1, 1, 1, 1, 1, 1, 1, 1, 1, 1, 1, 1, 1, 1,\n",
       "       1, 1, 1, 1, 1, 1, 1, 1, 1, 1, 1, 1, 1, 1, 1, 1, 1, 1, 1, 1, 1, 1,\n",
       "       2, 2, 2, 2, 2, 2, 2, 2, 2, 2, 2, 2, 2, 2, 2, 2, 2, 2, 2, 2, 2, 2,\n",
       "       2, 2, 2, 2, 2, 2, 2, 2, 2, 2, 2, 2, 2, 2, 2, 2, 2, 2, 2, 2, 2, 2,\n",
       "       2, 2, 2, 2, 2, 2, 2, 2, 2, 2, 2, 2, 2, 2, 2, 2, 2, 2, 2, 2, 2, 2,\n",
       "       2, 2, 2, 2, 2, 2, 2, 2, 2, 2, 2, 2, 2, 2, 2, 2, 2, 2, 2, 2, 2, 2,\n",
       "       2, 2, 2, 2, 2, 2, 2, 2, 2, 2, 2, 2, 2, 2, 2, 2, 2, 2, 2, 2, 2, 2,\n",
       "       2, 2, 2, 2, 2, 2, 2, 2, 2, 2, 2, 2, 2, 2])"
      ]
     },
     "execution_count": 145,
     "metadata": {},
     "output_type": "execute_result"
    }
   ],
   "source": [
    "y"
   ]
  },
  {
   "cell_type": "code",
   "execution_count": 146,
   "metadata": {},
   "outputs": [
    {
     "name": "stdout",
     "output_type": "stream",
     "text": [
      "['Adelie' 'Chinstrap' 'Gentoo']\n"
     ]
    }
   ],
   "source": [
    "class_labels = y_encode.classes_\n",
    "\n",
    "print(class_labels)"
   ]
  },
  {
   "cell_type": "code",
   "execution_count": 147,
   "metadata": {},
   "outputs": [
    {
     "name": "stdout",
     "output_type": "stream",
     "text": [
      "0:Adelie\n",
      "1:Chinstrap\n",
      "2:Gentoo\n"
     ]
    }
   ],
   "source": [
    "for i,label in enumerate(class_labels):\n",
    "    print(f\"{i}:{label}\")"
   ]
  },
  {
   "cell_type": "code",
   "execution_count": 148,
   "metadata": {},
   "outputs": [],
   "source": [
    "from sklearn.model_selection import train_test_split,cross_val_score\n",
    "\n",
    "X_train,X_test,y_train,y_test = train_test_split(X,y,test_size=0.2,random_state=42)"
   ]
  },
  {
   "cell_type": "code",
   "execution_count": 149,
   "metadata": {},
   "outputs": [
    {
     "data": {
      "text/html": [
       "<div>\n",
       "<style scoped>\n",
       "    .dataframe tbody tr th:only-of-type {\n",
       "        vertical-align: middle;\n",
       "    }\n",
       "\n",
       "    .dataframe tbody tr th {\n",
       "        vertical-align: top;\n",
       "    }\n",
       "\n",
       "    .dataframe thead th {\n",
       "        text-align: right;\n",
       "    }\n",
       "</style>\n",
       "<table border=\"1\" class=\"dataframe\">\n",
       "  <thead>\n",
       "    <tr style=\"text-align: right;\">\n",
       "      <th></th>\n",
       "      <th>island</th>\n",
       "      <th>bill_length_mm</th>\n",
       "      <th>bill_depth_mm</th>\n",
       "      <th>flipper_length_mm</th>\n",
       "      <th>body_mass_g</th>\n",
       "      <th>sex</th>\n",
       "    </tr>\n",
       "  </thead>\n",
       "  <tbody>\n",
       "    <tr>\n",
       "      <th>66</th>\n",
       "      <td>Biscoe</td>\n",
       "      <td>35.5</td>\n",
       "      <td>16.2</td>\n",
       "      <td>195.0</td>\n",
       "      <td>3350.0</td>\n",
       "      <td>Female</td>\n",
       "    </tr>\n",
       "    <tr>\n",
       "      <th>229</th>\n",
       "      <td>Biscoe</td>\n",
       "      <td>46.8</td>\n",
       "      <td>15.4</td>\n",
       "      <td>215.0</td>\n",
       "      <td>5150.0</td>\n",
       "      <td>Male</td>\n",
       "    </tr>\n",
       "    <tr>\n",
       "      <th>7</th>\n",
       "      <td>Torgersen</td>\n",
       "      <td>39.2</td>\n",
       "      <td>19.6</td>\n",
       "      <td>195.0</td>\n",
       "      <td>4675.0</td>\n",
       "      <td>Male</td>\n",
       "    </tr>\n",
       "    <tr>\n",
       "      <th>140</th>\n",
       "      <td>Dream</td>\n",
       "      <td>40.2</td>\n",
       "      <td>17.1</td>\n",
       "      <td>193.0</td>\n",
       "      <td>3400.0</td>\n",
       "      <td>Female</td>\n",
       "    </tr>\n",
       "    <tr>\n",
       "      <th>323</th>\n",
       "      <td>Biscoe</td>\n",
       "      <td>49.1</td>\n",
       "      <td>15.0</td>\n",
       "      <td>228.0</td>\n",
       "      <td>5500.0</td>\n",
       "      <td>Male</td>\n",
       "    </tr>\n",
       "  </tbody>\n",
       "</table>\n",
       "</div>"
      ],
      "text/plain": [
       "        island  bill_length_mm  bill_depth_mm  flipper_length_mm  body_mass_g  \\\n",
       "66      Biscoe            35.5           16.2              195.0       3350.0   \n",
       "229     Biscoe            46.8           15.4              215.0       5150.0   \n",
       "7    Torgersen            39.2           19.6              195.0       4675.0   \n",
       "140      Dream            40.2           17.1              193.0       3400.0   \n",
       "323     Biscoe            49.1           15.0              228.0       5500.0   \n",
       "\n",
       "        sex  \n",
       "66   Female  \n",
       "229    Male  \n",
       "7      Male  \n",
       "140  Female  \n",
       "323    Male  "
      ]
     },
     "execution_count": 149,
     "metadata": {},
     "output_type": "execute_result"
    }
   ],
   "source": [
    "X_train.head()"
   ]
  },
  {
   "cell_type": "code",
   "execution_count": 150,
   "metadata": {},
   "outputs": [],
   "source": [
    "from sklearn.compose import ColumnTransformer\n",
    "\n",
    "# Define Preprocessing steps\n",
    "ohe_encode = OneHotEncoder(drop='first',sparse=False)\n",
    "\n",
    "# Define transformation for categorical and numerical columns\n",
    "column_tranformation = ColumnTransformer(\n",
    "    transformers= [\n",
    "        ('island',ohe_encode,['island']),\n",
    "        ('sex',ohe_encode,['sex'])\n",
    "    ],remainder='passthrough'\n",
    ")"
   ]
  },
  {
   "cell_type": "code",
   "execution_count": 151,
   "metadata": {},
   "outputs": [],
   "source": [
    "# Preprocess piepline (imputation,ohe-hot encoding,scaling)\n",
    "from sklearn.pipeline import Pipeline\n",
    "\n",
    "\n",
    "\n",
    "pipeline_preprocessor = Pipeline(\n",
    "    steps= [\n",
    "        ('column_tranformation',column_tranformation),\n",
    "        ('scaler',StandardScaler())\n",
    "    ]\n",
    ")"
   ]
  },
  {
   "cell_type": "code",
   "execution_count": 152,
   "metadata": {},
   "outputs": [
    {
     "name": "stdout",
     "output_type": "stream",
     "text": [
      "random_forest\n",
      "Accuracy for random_forest: 1.0\n",
      "Classification Report for random_forest: \n",
      "              precision    recall  f1-score   support\n",
      "\n",
      "           0       1.00      1.00      1.00        32\n",
      "           1       1.00      1.00      1.00        16\n",
      "           2       1.00      1.00      1.00        21\n",
      "\n",
      "    accuracy                           1.00        69\n",
      "   macro avg       1.00      1.00      1.00        69\n",
      "weighted avg       1.00      1.00      1.00        69\n",
      "\n",
      "Confusion Matrix for random_forest: \n",
      "[[32  0  0]\n",
      " [ 0 16  0]\n",
      " [ 0  0 21]]\n",
      "Cross Validation for random_forest: [0.98181818 0.96363636 0.96363636 1.         0.98181818]\n",
      "Cross Validation  Mean for random_forest: 0.9781818181818182\n",
      "--------------------------------------------------\n",
      "decision_tree\n",
      "Accuracy for decision_tree: 0.9710144927536232\n",
      "Classification Report for decision_tree: \n",
      "              precision    recall  f1-score   support\n",
      "\n",
      "           0       0.97      0.97      0.97        32\n",
      "           1       1.00      1.00      1.00        16\n",
      "           2       0.95      0.95      0.95        21\n",
      "\n",
      "    accuracy                           0.97        69\n",
      "   macro avg       0.97      0.97      0.97        69\n",
      "weighted avg       0.97      0.97      0.97        69\n",
      "\n",
      "Confusion Matrix for decision_tree: \n",
      "[[31  0  1]\n",
      " [ 0 16  0]\n",
      " [ 1  0 20]]\n",
      "Cross Validation for decision_tree: [0.94545455 0.92727273 0.92727273 1.         0.98181818]\n",
      "Cross Validation  Mean for decision_tree: 0.9563636363636363\n",
      "--------------------------------------------------\n",
      "xgboost\n",
      "Accuracy for xgboost: 0.9855072463768116\n",
      "Classification Report for xgboost: \n",
      "              precision    recall  f1-score   support\n",
      "\n",
      "           0       1.00      0.97      0.98        32\n",
      "           1       1.00      1.00      1.00        16\n",
      "           2       0.95      1.00      0.98        21\n",
      "\n",
      "    accuracy                           0.99        69\n",
      "   macro avg       0.98      0.99      0.99        69\n",
      "weighted avg       0.99      0.99      0.99        69\n",
      "\n",
      "Confusion Matrix for xgboost: \n",
      "[[31  0  1]\n",
      " [ 0 16  0]\n",
      " [ 0  0 21]]\n",
      "Cross Validation for xgboost: [0.98181818 0.96363636 0.96363636 1.         0.98181818]\n",
      "Cross Validation  Mean for xgboost: 0.9781818181818182\n",
      "--------------------------------------------------\n",
      "svm\n",
      "Accuracy for svm: 1.0\n",
      "Classification Report for svm: \n",
      "              precision    recall  f1-score   support\n",
      "\n",
      "           0       1.00      1.00      1.00        32\n",
      "           1       1.00      1.00      1.00        16\n",
      "           2       1.00      1.00      1.00        21\n",
      "\n",
      "    accuracy                           1.00        69\n",
      "   macro avg       1.00      1.00      1.00        69\n",
      "weighted avg       1.00      1.00      1.00        69\n",
      "\n",
      "Confusion Matrix for svm: \n",
      "[[32  0  0]\n",
      " [ 0 16  0]\n",
      " [ 0  0 21]]\n",
      "Cross Validation for svm: [1.         0.96363636 1.         1.         1.        ]\n",
      "Cross Validation  Mean for svm: 0.9927272727272728\n",
      "--------------------------------------------------\n",
      "logistic_regression\n",
      "Accuracy for logistic_regression: 1.0\n",
      "Classification Report for logistic_regression: \n",
      "              precision    recall  f1-score   support\n",
      "\n",
      "           0       1.00      1.00      1.00        32\n",
      "           1       1.00      1.00      1.00        16\n",
      "           2       1.00      1.00      1.00        21\n",
      "\n",
      "    accuracy                           1.00        69\n",
      "   macro avg       1.00      1.00      1.00        69\n",
      "weighted avg       1.00      1.00      1.00        69\n",
      "\n",
      "Confusion Matrix for logistic_regression: \n",
      "[[32  0  0]\n",
      " [ 0 16  0]\n",
      " [ 0  0 21]]\n",
      "Cross Validation for logistic_regression: [0.98181818 0.96363636 1.         1.         1.        ]\n",
      "Cross Validation  Mean for logistic_regression: 0.989090909090909\n",
      "--------------------------------------------------\n"
     ]
    }
   ],
   "source": [
    "# Define algorithms for categorical and numerical columns\n",
    "from sklearn.ensemble import RandomForestClassifier\n",
    "from sklearn.tree import DecisionTreeClassifier\n",
    "from sklearn.svm import SVC\n",
    "import xgboost as xgb\n",
    "from sklearn.metrics import accuracy_score,classification_report,confusion_matrix\n",
    "import joblib\n",
    "from sklearn.linear_model import LogisticRegression\n",
    "\n",
    "\n",
    "algorithms_test = {\n",
    "    \"random_forest\": RandomForestClassifier(),\n",
    "    \"decision_tree\": DecisionTreeClassifier(),\n",
    "    \"xgboost\": xgb.XGBClassifier(use_label_encoder=False,eval_metric='mlogloss'),\n",
    "    \"svm\": SVC(class_weight='balanced'),\n",
    "    \"logistic_regression\": LogisticRegression()\n",
    "\n",
    "}\n",
    "\n",
    "results= {}\n",
    "piepline_info = {}\n",
    "\n",
    "#Train and evaluate the each algorithm\n",
    "for name,algo in algorithms_test.items():\n",
    "    #Create a pipeline to apply preprocessor(column transform) for each algorithm\n",
    "    fit_pipepline = Pipeline(\n",
    "        steps= [\n",
    "            ('preprocess_columns',pipeline_preprocessor),\n",
    "            (\"alogrithms\",algo)\n",
    "        ]\n",
    "    )\n",
    "\n",
    "    # Train the each algorthim\n",
    "    fit_pipepline.fit(X_train,y_train)\n",
    "\n",
    "    #save the trained algorithms in .pkl file\n",
    "    joblib.dump(fit_pipepline,f\"{name}.pkl\")\n",
    "    piepline_info[name] = fit_pipepline\n",
    "\n",
    "    # Make the predictions on the test data\n",
    "    y_pred = fit_pipepline.predict(X_test)\n",
    "\n",
    "    # calculate and store the results\n",
    "    accuracy = accuracy_score(y_test,y_pred)\n",
    "    clf_report = classification_report(y_test,y_pred)\n",
    "    cf_matrix = confusion_matrix(y_test,y_pred)\n",
    "    cv = cross_val_score(fit_pipepline,X_train,y_train,scoring='accuracy',cv=5)\n",
    "    cv_mean = cv.mean()\n",
    "\n",
    "    results[name] = {\n",
    "        \"accuracy\": accuracy,\n",
    "        \"clf_report\": clf_report,\n",
    "        'cf_matrix': cf_matrix,\n",
    "        'cv': cv,\n",
    "        'cv_mean': cv_mean\n",
    "    }\n",
    "\n",
    "    print(f\"{name}\")\n",
    "    print(f\"Accuracy for {name}: {accuracy}\")\n",
    "    print(f\"Classification Report for {name}: \\n{clf_report}\")\n",
    "    print(f\"Confusion Matrix for {name}: \\n{cf_matrix}\")\n",
    "    print(f\"Cross Validation for {name}: {cv}\")\n",
    "    print(f\"Cross Validation  Mean for {name}: {cv_mean}\")\n",
    "    print('-'*50)\n"
   ]
  },
  {
   "cell_type": "code",
   "execution_count": null,
   "metadata": {},
   "outputs": [],
   "source": []
  }
 ],
 "metadata": {
  "kernelspec": {
   "display_name": "Python 3",
   "language": "python",
   "name": "python3"
  },
  "language_info": {
   "codemirror_mode": {
    "name": "ipython",
    "version": 3
   },
   "file_extension": ".py",
   "mimetype": "text/x-python",
   "name": "python",
   "nbconvert_exporter": "python",
   "pygments_lexer": "ipython3",
   "version": "3.6.9"
  }
 },
 "nbformat": 4,
 "nbformat_minor": 2
}
