{
 "cells": [
  {
   "cell_type": "code",
   "execution_count": 9,
   "metadata": {},
   "outputs": [],
   "source": [
    "import pandas as pd\n",
    "import numpy as np\n",
    "import joblib"
   ]
  },
  {
   "cell_type": "code",
   "execution_count": 10,
   "metadata": {},
   "outputs": [
    {
     "name": "stdout",
     "output_type": "stream",
     "text": [
      "Predicted Species:Adelie\n"
     ]
    }
   ],
   "source": [
    "import pandas as pd\n",
    "import numpy as np\n",
    "import joblib\n",
    "#Load the trained pieplin\n",
    "model_path = '/home/suhas/Desktop/office/Data Science/Notes/Data Analysis/2024-Nov/ML/Practice Projects/Penguins/random_forest.pkl'\n",
    "pipeline = joblib.load(model_path)\n",
    "\n",
    "\n",
    "# Define the raw data for prediction\n",
    "raw_data = {\n",
    "    'bill_length_mm': [41.4],\n",
    "    'bill_depth_mm': [19.7],\n",
    "    'flipper_length_mm': [188.0],\n",
    "    'body_mass_g': [4100.0],\n",
    "    'sex': ['Male'],\n",
    "    'island': ['Biscoe']\n",
    "}\n",
    "\n",
    "#convert the raw data into a dataframe\n",
    "new_data = pd.DataFrame(raw_data)\n",
    "\n",
    "#Ensure column order matches training data\n",
    "column_order = ['island', 'bill_length_mm', 'bill_depth_mm', 'flipper_length_mm', 'body_mass_g', 'sex']\n",
    "new_data = new_data[column_order]\n",
    "\n",
    "#Predict using the loaded pipeline\n",
    "predictions = pipeline.predict(new_data)\n",
    "\n",
    "#create a manual label to species name\n",
    "label_mapping = {0: 'Adelie', 1: 'Chinstrap', 2: 'Gentoo'}\n",
    "\n",
    "# Get the predicted species name using the label mapping\n",
    "predicted_species = label_mapping[predictions[0]]\n",
    "\n",
    "print(f\"Predicted Species:{predicted_species}\")"
   ]
  }
 ],
 "metadata": {
  "kernelspec": {
   "display_name": "Python 3",
   "language": "python",
   "name": "python3"
  },
  "language_info": {
   "codemirror_mode": {
    "name": "ipython",
    "version": 3
   },
   "file_extension": ".py",
   "mimetype": "text/x-python",
   "name": "python",
   "nbconvert_exporter": "python",
   "pygments_lexer": "ipython3",
   "version": "3.6.9"
  }
 },
 "nbformat": 4,
 "nbformat_minor": 2
}
