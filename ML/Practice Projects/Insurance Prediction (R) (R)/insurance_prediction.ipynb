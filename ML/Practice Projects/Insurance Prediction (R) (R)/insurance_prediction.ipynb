{
 "cells": [
  {
   "cell_type": "code",
   "execution_count": 6,
   "metadata": {},
   "outputs": [
    {
     "name": "stdout",
     "output_type": "stream",
     "text": [
      "prediction amount Rs. 24527.445\n"
     ]
    }
   ],
   "source": [
    "import numpy as np\n",
    "import pandas as pd\n",
    "import joblib\n",
    "\n",
    "model = joblib.load('gbs.pkl')\n",
    "\n",
    "raw_data = {\n",
    "    \"age\": [52],\n",
    "    \"sex\": ['female'],\n",
    "    \"bmi\" : [28],\n",
    "    \"children\": [1],\n",
    "    \"smoker\": [\"yes\"],\n",
    "    \"region\": [\"southeast\"]\n",
    "}\n",
    "\n",
    "\n",
    "new_df = pd.DataFrame(raw_data)\n",
    "\n",
    "columns = ['age', 'sex', 'bmi', 'children', 'smoker', 'region']\n",
    "\n",
    "new_df = pd.DataFrame(new_df,columns=columns)\n",
    "\n",
    "log_prediction = model.predict(new_df)\n",
    "\n",
    "prediction = np.expm1(log_prediction)\n",
    "\n",
    "print(f\"prediction amount Rs. {prediction[0]:.3f}\")"
   ]
  },
  {
   "cell_type": "code",
   "execution_count": null,
   "metadata": {},
   "outputs": [],
   "source": []
  }
 ],
 "metadata": {
  "kernelspec": {
   "display_name": "venv",
   "language": "python",
   "name": "python3"
  },
  "language_info": {
   "codemirror_mode": {
    "name": "ipython",
    "version": 3
   },
   "file_extension": ".py",
   "mimetype": "text/x-python",
   "name": "python",
   "nbconvert_exporter": "python",
   "pygments_lexer": "ipython3",
   "version": "3.6.9"
  }
 },
 "nbformat": 4,
 "nbformat_minor": 2
}
