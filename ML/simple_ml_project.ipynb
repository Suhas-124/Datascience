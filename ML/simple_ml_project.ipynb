{
 "cells": [
  {
   "cell_type": "markdown",
   "metadata": {},
   "source": [
    "# Steps\n",
    "\n",
    "## 1. Preporcess + EDA + Feature Selection\n",
    "## 2. Extract Input and Ouput Columns\n",
    "## 3. Scale the Values\n",
    "## 4. Train the test split\n",
    "## 5. Train the model\n",
    "## 6. Evaluate the model/ model selection\n",
    "## 7. Deploy the model"
   ]
  },
  {
   "cell_type": "code",
   "execution_count": 135,
   "metadata": {},
   "outputs": [],
   "source": [
    "import numpy as np\n",
    "import pandas as pd"
   ]
  },
  {
   "cell_type": "code",
   "execution_count": 136,
   "metadata": {},
   "outputs": [],
   "source": [
    "df = pd.read_csv('/home/suhas/Desktop/office/Data Science/Notes/Data Analysis/Data/placement.csv')"
   ]
  },
  {
   "cell_type": "code",
   "execution_count": 137,
   "metadata": {},
   "outputs": [
    {
     "data": {
      "text/html": [
       "<div>\n",
       "<style scoped>\n",
       "    .dataframe tbody tr th:only-of-type {\n",
       "        vertical-align: middle;\n",
       "    }\n",
       "\n",
       "    .dataframe tbody tr th {\n",
       "        vertical-align: top;\n",
       "    }\n",
       "\n",
       "    .dataframe thead th {\n",
       "        text-align: right;\n",
       "    }\n",
       "</style>\n",
       "<table border=\"1\" class=\"dataframe\">\n",
       "  <thead>\n",
       "    <tr style=\"text-align: right;\">\n",
       "      <th></th>\n",
       "      <th>cgpa</th>\n",
       "      <th>placement_exam_marks</th>\n",
       "      <th>placed</th>\n",
       "    </tr>\n",
       "  </thead>\n",
       "  <tbody>\n",
       "    <tr>\n",
       "      <th>0</th>\n",
       "      <td>7.19</td>\n",
       "      <td>26.0</td>\n",
       "      <td>1</td>\n",
       "    </tr>\n",
       "    <tr>\n",
       "      <th>1</th>\n",
       "      <td>7.46</td>\n",
       "      <td>38.0</td>\n",
       "      <td>1</td>\n",
       "    </tr>\n",
       "    <tr>\n",
       "      <th>2</th>\n",
       "      <td>7.54</td>\n",
       "      <td>40.0</td>\n",
       "      <td>1</td>\n",
       "    </tr>\n",
       "    <tr>\n",
       "      <th>3</th>\n",
       "      <td>6.42</td>\n",
       "      <td>8.0</td>\n",
       "      <td>1</td>\n",
       "    </tr>\n",
       "    <tr>\n",
       "      <th>4</th>\n",
       "      <td>7.23</td>\n",
       "      <td>17.0</td>\n",
       "      <td>0</td>\n",
       "    </tr>\n",
       "    <tr>\n",
       "      <th>...</th>\n",
       "      <td>...</td>\n",
       "      <td>...</td>\n",
       "      <td>...</td>\n",
       "    </tr>\n",
       "    <tr>\n",
       "      <th>995</th>\n",
       "      <td>8.87</td>\n",
       "      <td>44.0</td>\n",
       "      <td>1</td>\n",
       "    </tr>\n",
       "    <tr>\n",
       "      <th>996</th>\n",
       "      <td>9.12</td>\n",
       "      <td>65.0</td>\n",
       "      <td>1</td>\n",
       "    </tr>\n",
       "    <tr>\n",
       "      <th>997</th>\n",
       "      <td>4.89</td>\n",
       "      <td>34.0</td>\n",
       "      <td>0</td>\n",
       "    </tr>\n",
       "    <tr>\n",
       "      <th>998</th>\n",
       "      <td>8.62</td>\n",
       "      <td>46.0</td>\n",
       "      <td>1</td>\n",
       "    </tr>\n",
       "    <tr>\n",
       "      <th>999</th>\n",
       "      <td>4.90</td>\n",
       "      <td>10.0</td>\n",
       "      <td>1</td>\n",
       "    </tr>\n",
       "  </tbody>\n",
       "</table>\n",
       "<p>1000 rows × 3 columns</p>\n",
       "</div>"
      ],
      "text/plain": [
       "     cgpa  placement_exam_marks  placed\n",
       "0    7.19                  26.0       1\n",
       "1    7.46                  38.0       1\n",
       "2    7.54                  40.0       1\n",
       "3    6.42                   8.0       1\n",
       "4    7.23                  17.0       0\n",
       "..    ...                   ...     ...\n",
       "995  8.87                  44.0       1\n",
       "996  9.12                  65.0       1\n",
       "997  4.89                  34.0       0\n",
       "998  8.62                  46.0       1\n",
       "999  4.90                  10.0       1\n",
       "\n",
       "[1000 rows x 3 columns]"
      ]
     },
     "execution_count": 137,
     "metadata": {},
     "output_type": "execute_result"
    }
   ],
   "source": [
    "df"
   ]
  },
  {
   "cell_type": "code",
   "execution_count": 138,
   "metadata": {},
   "outputs": [
    {
     "name": "stdout",
     "output_type": "stream",
     "text": [
      "<class 'pandas.core.frame.DataFrame'>\n",
      "RangeIndex: 1000 entries, 0 to 999\n",
      "Data columns (total 3 columns):\n",
      " #   Column                Non-Null Count  Dtype  \n",
      "---  ------                --------------  -----  \n",
      " 0   cgpa                  1000 non-null   float64\n",
      " 1   placement_exam_marks  1000 non-null   float64\n",
      " 2   placed                1000 non-null   int64  \n",
      "dtypes: float64(2), int64(1)\n",
      "memory usage: 23.6 KB\n"
     ]
    }
   ],
   "source": [
    "df.info()"
   ]
  },
  {
   "cell_type": "markdown",
   "metadata": {},
   "source": [
    "## EDA"
   ]
  },
  {
   "cell_type": "code",
   "execution_count": 139,
   "metadata": {},
   "outputs": [
    {
     "data": {
      "text/plain": [
       "<matplotlib.collections.PathCollection at 0x7f2c576bfc88>"
      ]
     },
     "execution_count": 139,
     "metadata": {},
     "output_type": "execute_result"
    },
    {
     "data": {
      "image/png": "[encoded data removed]",
      "text/plain": [
       "<Figure size 432x288 with 1 Axes>"
      ]
     },
     "metadata": {
      "needs_background": "light"
     },
     "output_type": "display_data"
    }
   ],
   "source": [
    "import matplotlib.pyplot as plt\n",
    "\n",
    "plt.scatter(df['cgpa'],df['placement_exam_marks'],c=df['placed'])"
   ]
  },
  {
   "cell_type": "markdown",
   "metadata": {},
   "source": [
    "## Extract Input and Output columns"
   ]
  },
  {
   "cell_type": "code",
   "execution_count": 140,
   "metadata": {},
   "outputs": [],
   "source": [
    "X = df.iloc[:,0:2]"
   ]
  },
  {
   "cell_type": "code",
   "execution_count": 141,
   "metadata": {},
   "outputs": [],
   "source": [
    "y = df.iloc[:,-1:]"
   ]
  },
  {
   "cell_type": "code",
   "execution_count": 142,
   "metadata": {},
   "outputs": [
    {
     "data": {
      "text/html": [
       "<div>\n",
       "<style scoped>\n",
       "    .dataframe tbody tr th:only-of-type {\n",
       "        vertical-align: middle;\n",
       "    }\n",
       "\n",
       "    .dataframe tbody tr th {\n",
       "        vertical-align: top;\n",
       "    }\n",
       "\n",
       "    .dataframe thead th {\n",
       "        text-align: right;\n",
       "    }\n",
       "</style>\n",
       "<table border=\"1\" class=\"dataframe\">\n",
       "  <thead>\n",
       "    <tr style=\"text-align: right;\">\n",
       "      <th></th>\n",
       "      <th>cgpa</th>\n",
       "      <th>placement_exam_marks</th>\n",
       "    </tr>\n",
       "  </thead>\n",
       "  <tbody>\n",
       "    <tr>\n",
       "      <th>0</th>\n",
       "      <td>7.19</td>\n",
       "      <td>26.0</td>\n",
       "    </tr>\n",
       "    <tr>\n",
       "      <th>1</th>\n",
       "      <td>7.46</td>\n",
       "      <td>38.0</td>\n",
       "    </tr>\n",
       "    <tr>\n",
       "      <th>2</th>\n",
       "      <td>7.54</td>\n",
       "      <td>40.0</td>\n",
       "    </tr>\n",
       "    <tr>\n",
       "      <th>3</th>\n",
       "      <td>6.42</td>\n",
       "      <td>8.0</td>\n",
       "    </tr>\n",
       "    <tr>\n",
       "      <th>4</th>\n",
       "      <td>7.23</td>\n",
       "      <td>17.0</td>\n",
       "    </tr>\n",
       "    <tr>\n",
       "      <th>...</th>\n",
       "      <td>...</td>\n",
       "      <td>...</td>\n",
       "    </tr>\n",
       "    <tr>\n",
       "      <th>995</th>\n",
       "      <td>8.87</td>\n",
       "      <td>44.0</td>\n",
       "    </tr>\n",
       "    <tr>\n",
       "      <th>996</th>\n",
       "      <td>9.12</td>\n",
       "      <td>65.0</td>\n",
       "    </tr>\n",
       "    <tr>\n",
       "      <th>997</th>\n",
       "      <td>4.89</td>\n",
       "      <td>34.0</td>\n",
       "    </tr>\n",
       "    <tr>\n",
       "      <th>998</th>\n",
       "      <td>8.62</td>\n",
       "      <td>46.0</td>\n",
       "    </tr>\n",
       "    <tr>\n",
       "      <th>999</th>\n",
       "      <td>4.90</td>\n",
       "      <td>10.0</td>\n",
       "    </tr>\n",
       "  </tbody>\n",
       "</table>\n",
       "<p>1000 rows × 2 columns</p>\n",
       "</div>"
      ],
      "text/plain": [
       "     cgpa  placement_exam_marks\n",
       "0    7.19                  26.0\n",
       "1    7.46                  38.0\n",
       "2    7.54                  40.0\n",
       "3    6.42                   8.0\n",
       "4    7.23                  17.0\n",
       "..    ...                   ...\n",
       "995  8.87                  44.0\n",
       "996  9.12                  65.0\n",
       "997  4.89                  34.0\n",
       "998  8.62                  46.0\n",
       "999  4.90                  10.0\n",
       "\n",
       "[1000 rows x 2 columns]"
      ]
     },
     "execution_count": 142,
     "metadata": {},
     "output_type": "execute_result"
    }
   ],
   "source": [
    "X"
   ]
  },
  {
   "cell_type": "code",
   "execution_count": 143,
   "metadata": {},
   "outputs": [
    {
     "data": {
      "text/html": [
       "<div>\n",
       "<style scoped>\n",
       "    .dataframe tbody tr th:only-of-type {\n",
       "        vertical-align: middle;\n",
       "    }\n",
       "\n",
       "    .dataframe tbody tr th {\n",
       "        vertical-align: top;\n",
       "    }\n",
       "\n",
       "    .dataframe thead th {\n",
       "        text-align: right;\n",
       "    }\n",
       "</style>\n",
       "<table border=\"1\" class=\"dataframe\">\n",
       "  <thead>\n",
       "    <tr style=\"text-align: right;\">\n",
       "      <th></th>\n",
       "      <th>placed</th>\n",
       "    </tr>\n",
       "  </thead>\n",
       "  <tbody>\n",
       "    <tr>\n",
       "      <th>0</th>\n",
       "      <td>1</td>\n",
       "    </tr>\n",
       "    <tr>\n",
       "      <th>1</th>\n",
       "      <td>1</td>\n",
       "    </tr>\n",
       "    <tr>\n",
       "      <th>2</th>\n",
       "      <td>1</td>\n",
       "    </tr>\n",
       "    <tr>\n",
       "      <th>3</th>\n",
       "      <td>1</td>\n",
       "    </tr>\n",
       "    <tr>\n",
       "      <th>4</th>\n",
       "      <td>0</td>\n",
       "    </tr>\n",
       "    <tr>\n",
       "      <th>...</th>\n",
       "      <td>...</td>\n",
       "    </tr>\n",
       "    <tr>\n",
       "      <th>995</th>\n",
       "      <td>1</td>\n",
       "    </tr>\n",
       "    <tr>\n",
       "      <th>996</th>\n",
       "      <td>1</td>\n",
       "    </tr>\n",
       "    <tr>\n",
       "      <th>997</th>\n",
       "      <td>0</td>\n",
       "    </tr>\n",
       "    <tr>\n",
       "      <th>998</th>\n",
       "      <td>1</td>\n",
       "    </tr>\n",
       "    <tr>\n",
       "      <th>999</th>\n",
       "      <td>1</td>\n",
       "    </tr>\n",
       "  </tbody>\n",
       "</table>\n",
       "<p>1000 rows × 1 columns</p>\n",
       "</div>"
      ],
      "text/plain": [
       "     placed\n",
       "0         1\n",
       "1         1\n",
       "2         1\n",
       "3         1\n",
       "4         0\n",
       "..      ...\n",
       "995       1\n",
       "996       1\n",
       "997       0\n",
       "998       1\n",
       "999       1\n",
       "\n",
       "[1000 rows x 1 columns]"
      ]
     },
     "execution_count": 143,
     "metadata": {},
     "output_type": "execute_result"
    }
   ],
   "source": [
    "y"
   ]
  },
  {
   "cell_type": "markdown",
   "metadata": {},
   "source": [
    "## Train / Test Split"
   ]
  },
  {
   "cell_type": "code",
   "execution_count": 144,
   "metadata": {},
   "outputs": [],
   "source": [
    "y = y.to_numpy().ravel()"
   ]
  },
  {
   "cell_type": "code",
   "execution_count": 145,
   "metadata": {},
   "outputs": [
    {
     "data": {
      "text/plain": [
       "array([1, 1, 1, 1, 0, 1, 0, 1, 0, 1, 1, 1, 1, 0, 0, 0, 0, 1, 0, 0, 0, 1,\n",
       "       1, 0, 0, 1, 1, 0, 0, 1, 0, 0, 1, 0, 0, 0, 1, 1, 1, 0, 1, 0, 1, 0,\n",
       "       0, 1, 0, 0, 0, 1, 1, 1, 1, 1, 1, 0, 1, 0, 0, 1, 1, 0, 0, 0, 1, 1,\n",
       "       1, 1, 0, 0, 1, 1, 0, 1, 1, 1, 0, 1, 0, 1, 1, 1, 0, 1, 1, 0, 1, 1,\n",
       "       0, 0, 1, 1, 0, 0, 1, 1, 1, 1, 0, 0, 0, 1, 1, 1, 1, 1, 0, 0, 0, 1,\n",
       "       0, 0, 0, 0, 1, 0, 0, 1, 0, 0, 1, 0, 0, 0, 0, 1, 0, 1, 0, 1, 0, 1,\n",
       "       0, 1, 0, 0, 0, 0, 1, 1, 1, 0, 1, 1, 0, 0, 1, 0, 1, 0, 0, 1, 0, 1,\n",
       "       1, 0, 0, 1, 0, 0, 1, 1, 0, 1, 1, 0, 0, 1, 1, 1, 0, 1, 1, 0, 1, 1,\n",
       "       1, 1, 0, 1, 0, 0, 0, 1, 0, 0, 1, 1, 1, 0, 0, 0, 0, 0, 0, 0, 1, 0,\n",
       "       1, 1, 0, 0, 1, 0, 1, 1, 0, 0, 1, 0, 1, 0, 0, 1, 1, 0, 1, 0, 0, 0,\n",
       "       1, 1, 0, 1, 0, 1, 1, 0, 0, 0, 1, 0, 0, 0, 0, 1, 1, 1, 0, 1, 0, 0,\n",
       "       0, 0, 0, 0, 0, 0, 0, 0, 1, 0, 1, 0, 0, 0, 1, 0, 1, 0, 1, 1, 1, 1,\n",
       "       1, 0, 1, 0, 0, 0, 1, 1, 1, 0, 1, 0, 0, 1, 1, 1, 0, 1, 1, 0, 1, 1,\n",
       "       1, 1, 0, 1, 0, 1, 0, 1, 0, 0, 0, 1, 0, 1, 1, 1, 0, 0, 1, 1, 0, 1,\n",
       "       1, 1, 0, 1, 1, 1, 1, 0, 1, 0, 0, 0, 1, 0, 1, 0, 0, 0, 0, 0, 1, 0,\n",
       "       1, 1, 0, 1, 1, 1, 1, 0, 1, 1, 0, 1, 0, 1, 1, 1, 0, 1, 1, 0, 0, 0,\n",
       "       1, 1, 1, 1, 1, 1, 0, 0, 0, 1, 1, 0, 1, 0, 0, 0, 0, 1, 1, 0, 0, 0,\n",
       "       0, 0, 0, 1, 1, 0, 1, 0, 0, 1, 0, 0, 0, 1, 0, 1, 1, 1, 0, 0, 1, 0,\n",
       "       1, 0, 0, 1, 1, 0, 1, 0, 1, 1, 1, 1, 1, 0, 1, 0, 1, 1, 1, 1, 1, 0,\n",
       "       0, 0, 0, 0, 0, 0, 0, 0, 0, 1, 0, 0, 1, 0, 1, 1, 0, 0, 0, 0, 0, 1,\n",
       "       0, 1, 1, 0, 1, 0, 1, 1, 0, 0, 1, 0, 1, 1, 0, 0, 1, 0, 0, 1, 1, 0,\n",
       "       1, 1, 1, 0, 0, 0, 0, 1, 0, 0, 1, 0, 1, 0, 0, 0, 1, 0, 0, 0, 0, 0,\n",
       "       0, 1, 1, 0, 0, 0, 0, 1, 1, 0, 0, 1, 1, 1, 0, 0, 1, 0, 1, 1, 0, 1,\n",
       "       1, 1, 1, 0, 1, 0, 1, 0, 0, 0, 0, 1, 0, 1, 1, 1, 1, 0, 0, 0, 0, 0,\n",
       "       1, 0, 1, 1, 0, 0, 1, 0, 1, 1, 0, 0, 0, 1, 0, 0, 1, 1, 1, 0, 1, 1,\n",
       "       1, 1, 0, 0, 1, 0, 1, 0, 0, 1, 0, 0, 0, 1, 1, 1, 0, 1, 0, 0, 0, 1,\n",
       "       1, 1, 0, 0, 1, 1, 0, 0, 1, 0, 1, 0, 1, 1, 0, 1, 0, 0, 1, 0, 1, 0,\n",
       "       0, 1, 1, 0, 1, 0, 1, 1, 0, 1, 1, 0, 0, 1, 1, 0, 1, 1, 1, 1, 0, 0,\n",
       "       1, 0, 0, 0, 1, 1, 1, 1, 1, 1, 1, 1, 0, 1, 1, 0, 0, 1, 0, 0, 1, 0,\n",
       "       1, 1, 1, 0, 1, 0, 1, 0, 1, 1, 0, 1, 0, 1, 1, 0, 0, 0, 1, 0, 0, 0,\n",
       "       1, 0, 1, 1, 0, 0, 1, 0, 0, 1, 1, 0, 0, 0, 1, 0, 1, 0, 1, 0, 0, 1,\n",
       "       1, 0, 0, 1, 1, 0, 0, 0, 0, 0, 0, 1, 0, 1, 0, 1, 0, 0, 1, 1, 0, 0,\n",
       "       1, 1, 1, 1, 0, 1, 1, 1, 1, 0, 1, 1, 1, 0, 1, 0, 0, 0, 0, 1, 0, 0,\n",
       "       0, 0, 0, 1, 1, 0, 1, 0, 1, 1, 1, 1, 1, 0, 1, 0, 0, 1, 0, 1, 1, 0,\n",
       "       0, 1, 1, 1, 0, 0, 0, 0, 1, 0, 0, 1, 1, 0, 1, 1, 1, 0, 0, 0, 1, 1,\n",
       "       1, 1, 0, 0, 0, 0, 0, 0, 0, 0, 0, 1, 0, 1, 0, 1, 1, 0, 0, 0, 0, 1,\n",
       "       0, 0, 1, 1, 0, 1, 0, 1, 0, 0, 0, 1, 0, 0, 0, 1, 0, 1, 1, 0, 0, 1,\n",
       "       1, 0, 1, 0, 0, 0, 0, 0, 1, 0, 1, 0, 0, 0, 1, 0, 0, 1, 0, 1, 1, 1,\n",
       "       1, 0, 0, 1, 1, 1, 1, 0, 1, 0, 0, 1, 1, 1, 1, 0, 1, 0, 1, 1, 1, 1,\n",
       "       0, 0, 0, 0, 1, 1, 0, 0, 0, 0, 0, 1, 1, 0, 0, 1, 0, 1, 0, 0, 0, 0,\n",
       "       0, 0, 1, 1, 1, 1, 1, 1, 1, 0, 0, 1, 1, 1, 0, 1, 0, 1, 1, 1, 1, 1,\n",
       "       1, 1, 0, 0, 1, 1, 1, 1, 1, 1, 1, 1, 0, 0, 1, 0, 0, 0, 1, 1, 1, 0,\n",
       "       1, 1, 0, 1, 0, 0, 1, 0, 0, 0, 0, 1, 0, 0, 0, 0, 0, 0, 0, 0, 1, 1,\n",
       "       0, 0, 0, 0, 1, 1, 1, 0, 1, 1, 0, 1, 0, 1, 1, 0, 1, 0, 1, 1, 1, 0,\n",
       "       0, 0, 1, 1, 0, 1, 0, 1, 0, 0, 0, 1, 0, 0, 0, 1, 1, 0, 1, 0, 1, 0,\n",
       "       1, 0, 0, 1, 0, 1, 1, 0, 1, 1])"
      ]
     },
     "execution_count": 145,
     "metadata": {},
     "output_type": "execute_result"
    }
   ],
   "source": [
    "y"
   ]
  },
  {
   "cell_type": "code",
   "execution_count": 146,
   "metadata": {},
   "outputs": [],
   "source": [
    "from sklearn.model_selection import train_test_split\n",
    "\n",
    "X_train,X_test,y_train,y_test=train_test_split(X,y,test_size=0.1)\n"
   ]
  },
  {
   "cell_type": "markdown",
   "metadata": {},
   "source": [
    "## Scale the values"
   ]
  },
  {
   "cell_type": "code",
   "execution_count": 147,
   "metadata": {},
   "outputs": [],
   "source": [
    "from sklearn.preprocessing import StandardScaler\n",
    "\n",
    "scaler = StandardScaler()"
   ]
  },
  {
   "cell_type": "code",
   "execution_count": 148,
   "metadata": {},
   "outputs": [],
   "source": [
    "X_train = scaler.fit_transform(X_train)\n",
    "X_test = scaler.fit_transform(X_test)"
   ]
  },
  {
   "cell_type": "code",
   "execution_count": 149,
   "metadata": {},
   "outputs": [
    {
     "data": {
      "text/plain": [
       "array([[ 0.01800938,  1.63084942],\n",
       "       [-0.11416958, -0.94196518],\n",
       "       [-0.32896038, -0.41690098],\n",
       "       ...,\n",
       "       [-2.44382372, -1.51953581],\n",
       "       [ 1.33979897,  1.78836868],\n",
       "       [ 1.62067925, -0.7319395 ]])"
      ]
     },
     "execution_count": 149,
     "metadata": {},
     "output_type": "execute_result"
    }
   ],
   "source": [
    "X_train"
   ]
  },
  {
   "cell_type": "code",
   "execution_count": 150,
   "metadata": {},
   "outputs": [
    {
     "data": {
      "text/plain": [
       "array([[ 3.12851819e-01, -8.05354533e-01],\n",
       "       [ 1.98828377e-01,  6.17149452e-02],\n",
       "       [-8.98647253e-01, -1.36639949e+00],\n",
       "       [ 1.95193880e+00, -1.16238314e+00],\n",
       "       [-7.19772978e-02, -3.97321838e-01],\n",
       "       [-7.27612090e-01, -9.58366794e-01],\n",
       "       [-4.14047624e-01, -1.57041584e+00],\n",
       "       [ 7.26186796e-01, -6.52342272e-01],\n",
       "       [-1.36899395e+00,  1.28581303e+00],\n",
       "       [ 7.83198518e-01, -1.41740358e+00],\n",
       "       [-1.34048809e+00,  1.59183755e+00],\n",
       "       [-7.98876741e-01, -4.02932287e-02],\n",
       "       [-2.08164046e+00,  1.38782121e+00],\n",
       "       [-2.43012461e-01,  1.03079260e+00],\n",
       "       [ 2.77932140e-02, -1.31539540e+00],\n",
       "       [-8.70141392e-01,  5.71755815e-01],\n",
       "       [-2.85771252e-01, -5.50334098e-01],\n",
       "       [ 3.12851819e-01, -4.48325924e-01],\n",
       "       [ 3.69863540e-01, -4.02932287e-02],\n",
       "       [-7.56117950e-01, -9.58366794e-01],\n",
       "       [-1.15520000e+00, -9.12973157e-02],\n",
       "       [-2.71518321e-01, -1.06037497e+00],\n",
       "       [ 7.97451448e-01,  2.65731293e-01],\n",
       "       [ 2.70093028e-01,  7.24768076e-01],\n",
       "       [ 1.58136261e+00, -1.51941175e+00],\n",
       "       [ 8.54463169e-01, -1.06037497e+00],\n",
       "       [ 1.83791536e+00, -4.48325924e-01],\n",
       "       [-1.19795879e+00,  1.28581303e+00],\n",
       "       [-2.43796372e+00,  4.18743554e-01],\n",
       "       [-1.22646465e+00, -9.07362707e-01],\n",
       "       [-1.25497051e+00,  1.12719032e-01],\n",
       "       [-1.86000740e-01, -5.50334098e-01],\n",
       "       [-4.28300554e-01, -1.11137906e+00],\n",
       "       [-1.08393535e+00,  2.65731293e-01],\n",
       "       [-1.06968242e+00, -3.97321838e-01],\n",
       "       [-8.27382601e-01, -1.11137906e+00],\n",
       "       [-1.21221172e+00, -8.05354533e-01],\n",
       "       [-1.76807600e+00,  7.75772163e-01],\n",
       "       [-3.14277112e-01, -4.99330011e-01],\n",
       "       [ 7.97451448e-01, -1.11137906e+00],\n",
       "       [ 1.41816656e-01,  6.73763989e-01],\n",
       "       [ 3.55610610e-01, -4.02932287e-02],\n",
       "       [-1.43241949e-01, -4.02932287e-02],\n",
       "       [ 1.52435089e+00,  3.16735380e-01],\n",
       "       [ 4.98139912e-01, -1.06037497e+00],\n",
       "       [-6.13588647e-01, -2.95313664e-01],\n",
       "       [-7.12646513e-04,  2.10187842e+00],\n",
       "       [-1.16945293e+00,  6.73763989e-01],\n",
       "       [-1.57494879e-01, -7.54350446e-01],\n",
       "       [ 7.05520048e-02,  3.67739467e-01],\n",
       "       [-3.71288833e-01, -4.99330011e-01],\n",
       "       [ 8.97221960e-01, -1.00937088e+00],\n",
       "       [-5.70829857e-01, -7.54350446e-01],\n",
       "       [ 6.12163354e-01,  2.20388660e+00],\n",
       "       [-5.13818136e-01,  8.77780337e-01],\n",
       "       [-5.56576926e-01,  6.17149452e-02],\n",
       "       [ 1.32480987e+00, -9.07362707e-01],\n",
       "       [ 1.75239777e+00,  1.08179668e+00],\n",
       "       [ 1.22503936e+00, -4.48325924e-01],\n",
       "       [ 3.98369401e-01,  1.03079260e+00],\n",
       "       [-9.98417764e-01,  1.18380486e+00],\n",
       "       [ 1.16802763e+00, -1.00937088e+00],\n",
       "       [-1.52577618e+00, -1.21338723e+00],\n",
       "       [ 1.41816656e-01, -2.95313664e-01],\n",
       "       [ 4.26875261e-01,  1.12719032e-01],\n",
       "       [-1.19795879e+00,  2.81593564e+00],\n",
       "       [-1.28989019e-01,  1.84685799e+00],\n",
       "       [-6.56347438e-01, -1.93305490e-01],\n",
       "       [ 1.13952177e+00, -9.12973157e-02],\n",
       "       [-8.62302280e-02, -1.26439132e+00],\n",
       "       [ 2.69309117e+00,  4.69747641e-01],\n",
       "       [ 1.78090364e+00, -3.46317751e-01],\n",
       "       [-2.92185070e-02, -8.05354533e-01],\n",
       "       [-2.57265391e-01,  1.12719032e-01],\n",
       "       [-6.13588647e-01,  1.38782121e+00],\n",
       "       [ 1.06825712e+00, -5.50334098e-01],\n",
       "       [-5.99335717e-01, -8.05354533e-01],\n",
       "       [ 3.04941443e+00,  1.54083347e+00],\n",
       "       [-1.04117656e+00,  1.28581303e+00],\n",
       "       [ 4.69634052e-01, -7.03346359e-01],\n",
       "       [ 6.26416285e-01, -4.48325924e-01],\n",
       "       [ 6.83428006e-01,  1.63723119e-01],\n",
       "       [ 3.12851819e-01,  1.79585390e+00],\n",
       "       [ 1.32480987e+00,  7.75772163e-01],\n",
       "       [ 5.26645773e-01,  1.08179668e+00],\n",
       "       [-1.09818828e+00,  1.99987025e+00],\n",
       "       [ 4.55381122e-01,  1.07108583e-02],\n",
       "       [ 2.84345959e-01,  7.75772163e-01],\n",
       "       [-2.85771252e-01, -1.26439132e+00],\n",
       "       [ 2.06596224e+00, -4.99330011e-01],\n",
       "       [-2.85771252e-01, -1.41740358e+00],\n",
       "       [-4.34714373e-02, -1.11137906e+00],\n",
       "       [-5.28071066e-01,  9.79788511e-01],\n",
       "       [-7.98876741e-01,  4.18743554e-01],\n",
       "       [-6.42094508e-01, -8.05354533e-01],\n",
       "       [ 1.84575447e-01,  1.64284164e+00],\n",
       "       [ 9.90578653e-02, -9.58366794e-01],\n",
       "       [-1.28989019e-01,  9.28784424e-01],\n",
       "       [ 6.69175075e-01,  5.71755815e-01],\n",
       "       [ 5.40898703e-01,  8.77780337e-01]])"
      ]
     },
     "execution_count": 150,
     "metadata": {},
     "output_type": "execute_result"
    }
   ],
   "source": [
    "X_test"
   ]
  },
  {
   "cell_type": "markdown",
   "metadata": {},
   "source": [
    "## Train the Model"
   ]
  },
  {
   "cell_type": "code",
   "execution_count": null,
   "metadata": {},
   "outputs": [],
   "source": [
    "from sklearn.linear_model import LogisticRegression,LinearRegression"
   ]
  },
  {
   "cell_type": "code",
   "execution_count": 152,
   "metadata": {},
   "outputs": [],
   "source": [
    "clf = LogisticRegression()"
   ]
  },
  {
   "cell_type": "code",
   "execution_count": 153,
   "metadata": {},
   "outputs": [
    {
     "data": {
      "text/plain": [
       "LogisticRegression()"
      ]
     },
     "execution_count": 153,
     "metadata": {},
     "output_type": "execute_result"
    }
   ],
   "source": [
    "# model training\n",
    "clf.fit(X_train,y_train)"
   ]
  },
  {
   "cell_type": "code",
   "execution_count": 154,
   "metadata": {},
   "outputs": [],
   "source": [
    "y_pred = clf.predict(X_test)"
   ]
  },
  {
   "cell_type": "code",
   "execution_count": 155,
   "metadata": {},
   "outputs": [
    {
     "data": {
      "text/plain": [
       "array([1, 1, 1, 0, 0, 0, 1, 0, 0, 0, 0, 0, 0, 1, 0, 1, 1, 1, 1, 0, 1, 0,\n",
       "       1, 1, 1, 1, 0, 1, 0, 0, 1, 1, 0, 1, 0, 0, 0, 0, 0, 0, 1, 0, 0, 0,\n",
       "       1, 0, 0, 0, 0, 1, 1, 1, 0, 0, 0, 0, 0, 0, 0, 1, 1, 1, 1, 0, 0, 1,\n",
       "       0, 0, 0, 1, 1, 1, 1, 0, 0, 0, 1, 1, 0, 1, 1, 1, 1, 0, 0, 1, 0, 1,\n",
       "       1, 1, 1, 0, 1, 1, 0, 0, 0, 1, 1, 1])"
      ]
     },
     "execution_count": 155,
     "metadata": {},
     "output_type": "execute_result"
    }
   ],
   "source": [
    "y_test"
   ]
  },
  {
   "cell_type": "markdown",
   "metadata": {},
   "source": [
    "## Evaluate the model"
   ]
  },
  {
   "cell_type": "code",
   "execution_count": 156,
   "metadata": {},
   "outputs": [],
   "source": [
    "from sklearn.metrics import accuracy_score"
   ]
  },
  {
   "cell_type": "code",
   "execution_count": 157,
   "metadata": {},
   "outputs": [
    {
     "data": {
      "text/plain": [
       "0.55"
      ]
     },
     "execution_count": 157,
     "metadata": {},
     "output_type": "execute_result"
    }
   ],
   "source": [
    "accuracy_score(y_test,y_pred)"
   ]
  },
  {
   "cell_type": "code",
   "execution_count": 158,
   "metadata": {},
   "outputs": [],
   "source": [
    "from mlxtend.plotting import plot_decision_regions"
   ]
  },
  {
   "cell_type": "code",
   "execution_count": 159,
   "metadata": {},
   "outputs": [
    {
     "data": {
      "text/plain": [
       "<AxesSubplot:>"
      ]
     },
     "execution_count": 159,
     "metadata": {},
     "output_type": "execute_result"
    },
    {
     "data": {
      "image/png": "[encoded data removed]",
      "text/plain": [
       "<Figure size 432x288 with 1 Axes>"
      ]
     },
     "metadata": {
      "needs_background": "light"
     },
     "output_type": "display_data"
    }
   ],
   "source": [
    "plot_decision_regions(X_train,y_train,clf=clf,legend=2)"
   ]
  },
  {
   "cell_type": "markdown",
   "metadata": {},
   "source": [
    "## Multiple models at one go"
   ]
  },
  {
   "cell_type": "code",
   "execution_count": null,
   "metadata": {},
   "outputs": [],
   "source": [
    "from sklearn.ensemble import RandomForestClassifier\n",
    "from sklearn.tree import DecisionTreeClassifier\n",
    "from sklearn.svm import SVC\n",
    "from sklearn.metrics import accuracy_score, classification_report, confusion_matrix\n",
    "from sklearn.model_selection import cross_val_score\n",
    "import xgboost as xgb\n",
    "\n",
    "classifiers = {\n",
    "    \"Random Forest\": RandomForestClassifier(),\n",
    "    \"Decision Tree\": DecisionTreeClassifier(),\n",
    "    \"SVC\": SVC(class_weight='balanced'),\n",
    "    \"XGB\": xgb.XGBClassifier(\n",
    "        n_estimators = 100,\n",
    "        learning_rate = 0.1,\n",
    "        use_label_encoder=False,\n",
    "        eval_metric = 'mlogloss' # for multiclass classification tasks\n",
    "    )\n",
    "}\n",
    "\n",
    "results = {}\n",
    "\n",
    "for name, model in classifiers.items():\n",
    "    # Train the model\n",
    "    model.fit(X_train, y_train)\n",
    "    y_pred = model.predict(X_test)\n",
    "\n",
    "    # Calculate the test set accuracy\n",
    "    accuracy = accuracy_score(y_test, y_pred)\n",
    "\n",
    "    # Perform cross-validation score\n",
    "    cv_scores = cross_val_score(model, X, y, scoring='accuracy', cv=5)\n",
    "    cv_mean = cv_scores.mean()\n",
    "\n",
    "    # Classification report\n",
    "    cv_report = classification_report(y_test, y_pred)\n",
    "\n",
    "    # Confusion matrix\n",
    "    con_matrix = confusion_matrix(y_test, y_pred)\n",
    "\n",
    "    # Store results\n",
    "    results[name] = {\n",
    "        \"Test Accuracy\": accuracy,\n",
    "        \"CV Mean Accuracy\": cv_mean,\n",
    "        \"CV Scores\": cv_scores,\n",
    "        \"Classification Report\": cv_report,\n",
    "        \"Confusion Matrix\": con_matrix\n",
    "    }\n",
    "\n",
    "# Display results\n",
    "for name, metrics in results.items():\n",
    "    print(f\"{name}\")\n",
    "    print(f\"Accuracy: {metrics['Test Accuracy']:.2f}\")\n",
    "    print(f\"Cross-Validation Score Mean: {metrics['CV Mean Accuracy']:.2f}\")\n",
    "    print(f\"Cross-Validation Scores: {metrics['CV Scores']}\")\n",
    "    print(f\"Classification Report:\\n{metrics['Classification Report']}\")\n",
    "    print(f\"Confusion Matrix:\\n{metrics['Confusion Matrix']}\")\n",
    "    print('-'*50)\n"
   ]
  },
  {
   "cell_type": "markdown",
   "metadata": {},
   "source": [
    "## Using Pipelines"
   ]
  },
  {
   "cell_type": "code",
   "execution_count": null,
   "metadata": {},
   "outputs": [],
   "source": [
    "import pandas as pd\n",
    "import numpy as np\n",
    "import seaborn as sns\n",
    "import matplotlib.pyplot as plt\n",
    "import joblib\n",
    "from sklearn.pipeline import Pipeline\n",
    "from sklearn.compose import ColumnTransformer\n",
    "from sklearn.impute import SimpleImputer\n",
    "from sklearn.preprocessing import LabelEncoder, StandardScaler, OneHotEncoder\n",
    "from sklearn.model_selection import train_test_split\n",
    "from sklearn.ensemble import RandomForestClassifier\n",
    "from sklearn.tree import DecisionTreeClassifier\n",
    "from sklearn.svm import SVC\n",
    "from sklearn.linear_model import LogisticRegression\n",
    "import xgboost as xgb\n",
    "from sklearn.metrics import accuracy_score, classification_report, confusion_matrix\n",
    "\n",
    "# Load the dataset\n",
    "df = sns.load_dataset('penguins')\n",
    "\n",
    "# Check for missing values\n",
    "print(\"Missing values in the dataset:\")\n",
    "print(df.isnull().sum())\n",
    "\n",
    "# Impute missing values\n",
    "numerical_columns = ['bill_length_mm', 'bill_depth_mm', 'flipper_length_mm', 'body_mass_g']\n",
    "categorical_columns = ['sex', 'island']\n",
    "\n",
    "num_impute = SimpleImputer(strategy='median')\n",
    "df[numerical_columns] = num_impute.fit_transform(df[numerical_columns])\n",
    "\n",
    "cat_impute = SimpleImputer(strategy='most_frequent')\n",
    "df[categorical_columns] = cat_impute.fit_transform(df[categorical_columns])\n",
    "\n",
    "# Check again for missing values\n",
    "print(\"Missing values after imputation:\")\n",
    "print(df.isnull().sum())\n",
    "\n",
    "# Separate features and target variable\n",
    "X = df.drop(columns='species')\n",
    "y = df['species']\n",
    "\n",
    "# Encode the target variable\n",
    "y_encode = LabelEncoder()\n",
    "y = y_encode.fit_transform(y)\n",
    "\n",
    "# Split data into training and testing sets\n",
    "X_train, X_test, y_train, y_test = train_test_split(X, y, test_size=0.2, random_state=42)\n",
    "\n",
    "# Define preprocessing steps\n",
    "ohe_encoded = OneHotEncoder(drop='first', sparse=False)\n",
    "\n",
    "# ColumnTransformer for categorical and numerical columns\n",
    "column_trans = ColumnTransformer(\n",
    "    transformers=[\n",
    "        ('island', ohe_encoded, ['island']),\n",
    "        ('sex', ohe_encoded, ['sex'])\n",
    "    ], remainder='passthrough'\n",
    ")\n",
    "\n",
    "# Preprocessing pipeline (imputation, one-hot encoding, scaling)\n",
    "preprocessor = Pipeline(steps=[\n",
    "    ('preprocessing', column_trans),\n",
    "    ('scaler', StandardScaler())\n",
    "])\n",
    "\n",
    "# Define classifiers\n",
    "classifiers = {\n",
    "    \"Random Forest\": RandomForestClassifier(),\n",
    "    \"Decision Tree\": DecisionTreeClassifier(),\n",
    "    \"SVM\": SVC(),\n",
    "    \"Logistic Regression\": LogisticRegression(),\n",
    "    \"XGBoost\": xgb.XGBClassifier(use_label_encoder=False, eval_metric='mlogloss')\n",
    "}\n",
    "\n",
    "# Dictionary to store results\n",
    "results = {}\n",
    "pipelines = {}  # To store trained pipelines for predictions\n",
    "\n",
    "# Train and evaluate classifiers\n",
    "for name, clf in classifiers.items():\n",
    "    print(f\"\\nTraining with {name}...\")\n",
    "    \n",
    "    # Create a pipeline for each classifier\n",
    "    pipeline = Pipeline(steps=[\n",
    "        ('preprocessor', preprocessor),\n",
    "        ('classifier', clf)\n",
    "    ])\n",
    "    \n",
    "    # Train the pipeline\n",
    "    pipeline.fit(X_train, y_train)\n",
    "    \n",
    "    # Save the trained pipeline for this classifier\n",
    "    joblib.dump(pipeline, f'{name}_penguin_classifier.pkl')\n",
    "    pipelines[name] = pipeline  # Store pipeline for predictions\n",
    "    \n",
    "    # Make predictions on the test set\n",
    "    y_pred = pipeline.predict(X_test)\n",
    "    \n",
    "    # Calculate and store performance metrics\n",
    "    accuracy = accuracy_score(y_test, y_pred)\n",
    "    classification_rep = classification_report(y_test, y_pred)\n",
    "    cfm = confusion_matrix(y_test, y_pred)\n",
    "    cv = cross_val_score(pipeline,X_train,y_train,scoring='accuracy',cv=5)\n",
    "    cv_mean = cv.mean()\n",
    "    results[name] = {\n",
    "        \"accuracy\": accuracy,\n",
    "        \"classification_report\": classification_rep,\n",
    "        \"confusion_matrix\": cfm\n",
    "    }\n",
    "    \n",
    "    # Print results\n",
    "    print(f\"Accuracy for {name}: {accuracy}\")\n",
    "    print(f\"Classification Report for {name}:\\n{classification_rep}\")\n",
    "    print(f\"Confusion Matrix for {name}:\\n{cfm}\")\n",
    "    \n",
    "\n",
    "# Summary of results for all classifiers\n",
    "print(\"\\nSummary of results for all classifiers:\")\n",
    "for name, metrics in results.items():\n",
    "    print(f\"\\n{name} Classifier:\")\n",
    "    print(f\"Accuracy: {metrics['accuracy']}\")\n",
    "    print(f\"Classification Report:\\n{metrics['classification_report']}\")\n",
    "    print(f\"Confusion Matrix:\\n{metrics['confusion_matrix']}\")\n",
    "\n",
    "# Separate Section for Predictions\n",
    "# Raw input data\n",
    "raw_data = {\n",
    "    'bill_length_mm': [44.1],\n",
    "    'bill_depth_mm': [17.4],\n",
    "    'flipper_length_mm': [192.0],\n",
    "    'body_mass_g': [3400.0],\n",
    "    'sex': ['Female'],\n",
    "    'island': ['Torgersen']\n",
    "}\n",
    "raw_df = pd.DataFrame(raw_data)\n",
    "\n",
    "# Ensure the input columns match the training data columns\n",
    "expected_columns = X.columns.tolist()\n",
    "raw_df = raw_df[expected_columns]\n",
    "\n",
    "# Impute missing values (if necessary)\n",
    "raw_df[numerical_columns] = num_impute.transform(raw_df[numerical_columns])\n",
    "raw_df[categorical_columns] = cat_impute.transform(raw_df[categorical_columns])\n",
    "\n",
    "# Make predictions using each classifier\n",
    "print(\"\\nPredictions for raw input data:\")\n",
    "for name, pipeline in pipelines.items():\n",
    "    y_pred_raw = pipeline.predict(raw_df)\n",
    "    predicted_class = y_encode.inverse_transform(y_pred_raw)\n",
    "    print(f\"Prediction using {name}: {predicted_class[0]}\")\n"
   ]
  },
  {
   "cell_type": "markdown",
   "metadata": {},
   "source": []
  }
 ],
 "metadata": {
  "kernelspec": {
   "display_name": "Python 3",
   "language": "python",
   "name": "python3"
  },
  "language_info": {
   "codemirror_mode": {
    "name": "ipython",
    "version": 3
   },
   "file_extension": ".py",
   "mimetype": "text/x-python",
   "name": "python",
   "nbconvert_exporter": "python",
   "pygments_lexer": "ipython3",
   "version": "3.6.9"
  }
 },
 "nbformat": 4,
 "nbformat_minor": 2
}
