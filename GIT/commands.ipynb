{
 "cells": [
  {
   "cell_type": "markdown",
   "id": "43ba3b89",
   "metadata": {},
   "source": [
    "## Git setup"
   ]
  },
  {
   "cell_type": "code",
   "execution_count": null,
   "id": "02348075",
   "metadata": {},
   "outputs": [],
   "source": [
    "git config user.name \"Suhas\"\n",
    "git config user.email \"suhaspanja@gmail.com\"\n",
    "git config --list"
   ]
  },
  {
   "cell_type": "markdown",
   "id": "591183cd",
   "metadata": {},
   "source": [
    "## Git commits"
   ]
  },
  {
   "cell_type": "code",
   "execution_count": null,
   "id": "19f75475",
   "metadata": {},
   "outputs": [],
   "source": [
    "git init\n",
    "git add .\n",
    "git commit -m \"Initial commit with all data analysis notes and folders\""
   ]
  },
  {
   "cell_type": "markdown",
   "id": "59b0e79b",
   "metadata": {},
   "source": [
    "## Git Logs"
   ]
  },
  {
   "cell_type": "code",
   "execution_count": null,
   "id": "e42f99cb",
   "metadata": {},
   "outputs": [],
   "source": [
    "git log\n",
    "git log --oneline\n",
    "git log --stat\n",
    "git log -p\n"
   ]
  },
  {
   "cell_type": "markdown",
   "id": "9fde8bf7",
   "metadata": {},
   "source": [
    "## Git Branch and Merging"
   ]
  },
  {
   "cell_type": "code",
   "execution_count": null,
   "id": "2eb8570e",
   "metadata": {},
   "outputs": [],
   "source": [
    "git branch rocky           # To create a new branch\n",
    "git branch gabber a663856     # Create Branch from specific commit\n",
    "git checkout -b rocky # To create and switch to new branch\n",
    "\n",
    "git log --oneline --all\n",
    "git log --oneline --all --graph\n",
    "\n",
    "git merge gabber  # To merge a branch\n",
    "\n",
    "git branch -d gabber  # To delete a branch\n",
    "\n"
   ]
  },
  {
   "cell_type": "markdown",
   "id": "e8ceac22",
   "metadata": {},
   "source": [
    "## Remote Repo"
   ]
  },
  {
   "cell_type": "code",
   "execution_count": null,
   "id": "d361ea1d",
   "metadata": {},
   "outputs": [],
   "source": [
    "git remote add origin https://github.com/suhas/project.git\n",
    "git remote -v\n",
    "git push origin main\n",
    "git pull origin main\n",
    "git clone https://github.com/suhas/project.git\n",
    "git remote remove origin\n",
    "git remote add origin <new-url>\n"
   ]
  }
 ],
 "metadata": {
  "kernelspec": {
   "display_name": "Python 3",
   "language": "python",
   "name": "python3"
  },
  "language_info": {
   "codemirror_mode": {
    "name": "ipython",
    "version": 3
   },
   "file_extension": ".py",
   "mimetype": "text/x-python",
   "name": "python",
   "nbconvert_exporter": "python",
   "pygments_lexer": "ipython3",
   "version": "3.6.9"
  }
 },
 "nbformat": 4,
 "nbformat_minor": 5
}
